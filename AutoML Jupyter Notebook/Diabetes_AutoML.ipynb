{
  "cells": [
    {
      "cell_type": "markdown",
      "metadata": {
        "id": "view-in-github",
        "colab_type": "text"
      },
      "source": [
        "<a href=\"https://colab.research.google.com/github/Jushef/Azure-AutoML/blob/main/AutoML%20Jupyter%20Notebook/Diabetes_AutoML.ipynb\" target=\"_parent\"><img src=\"https://colab.research.google.com/assets/colab-badge.svg\" alt=\"Open In Colab\"/></a>"
      ]
    },
    {
      "cell_type": "code",
      "execution_count": null,
      "id": "82ffbad3",
      "metadata": {
        "id": "82ffbad3"
      },
      "outputs": [],
      "source": [
        "# Cargar librerías Azure\n",
        "from azureml.core import Workspace, Dataset, Datastore, Experiment\n",
        "from azureml.core.compute import ComputeTarget\n",
        "from azureml.train.automl import AutoMLConfig\n",
        "from azureml.train.automl.run import AutoMLRun\n",
        "from azureml.widgets import RunDetails\n",
        "\n",
        "# Cargar Bibliotecas No-Azure\n",
        "import pandas as pd\n",
        "import numpy as np"
      ]
    },
    {
      "cell_type": "code",
      "execution_count": null,
      "id": "dd67f0ce",
      "metadata": {
        "id": "dd67f0ce",
        "outputId": "d682ef79-2321-44f5-dfd6-7bb1c48c10e0"
      },
      "outputs": [
        {
          "name": "stdout",
          "output_type": "stream",
          "text": [
            "You are currently using version 1.37.0 of the Azure ML SDK\n"
          ]
        }
      ],
      "source": [
        "# Compruebe la versión base de AzureMl\n",
        "import azureml.core\n",
        "print(\"You are currently using version \" + azureml.core.VERSION + \" of the Azure ML SDK\")"
      ]
    },
    {
      "cell_type": "code",
      "execution_count": null,
      "id": "73091784",
      "metadata": {
        "id": "73091784"
      },
      "outputs": [],
      "source": [
        "# Recupere su espacio de trabajo por nombre rellenando los valores en minúsculas entre comillas dobles\n",
        "ws = Workspace.from_config()"
      ]
    },
    {
      "cell_type": "code",
      "execution_count": null,
      "id": "db41e8ba",
      "metadata": {
        "id": "db41e8ba"
      },
      "outputs": [],
      "source": [
        "# Recuperar el objetivo informático para ejecutar AutoML de forma remota\n",
        "compute_name = 'automl-compute'\n",
        "compute_target = ComputeTarget(ws, compute_name)"
      ]
    },
    {
      "cell_type": "code",
      "execution_count": null,
      "id": "496c8f79",
      "metadata": {
        "id": "496c8f79"
      },
      "outputs": [],
      "source": [
        "# Recupere su Datastore por nombre rellenando los valores en minúsculas entre comillas dobles\n",
        "datastore = Datastore.get_default(ws)\n",
        "my_datastore_name = 'workspaceblobstore'\n",
        "my_datastore = Datastore.get(ws, my_datastore_name)"
      ]
    },
    {
      "cell_type": "code",
      "execution_count": null,
      "id": "1ea92387",
      "metadata": {
        "id": "1ea92387"
      },
      "outputs": [],
      "source": [
        "# Si ya ha creado el conjunto de datos de la diabetes, recupérelo\n",
        "dataset_name = \"Diabetes Sample\"\n",
        "dataset = Dataset.get_by_name(ws, dataset_name, version='latest')"
      ]
    },
    {
      "cell_type": "code",
      "execution_count": null,
      "id": "c76073c9",
      "metadata": {
        "id": "c76073c9"
      },
      "outputs": [],
      "source": [
        "# Si aún no ha hecho el conjunto de datos de la diabetes, regístrelo\n",
        "\n",
        "# importar el conjunto de datos abiertos sobre la diabetes\n",
        "from azureml.opendatasets import Diabetes\n",
        "\n",
        "# Recuperar el conjunto de datos sobre la diabetes\n",
        "diabetes = Diabetes.get_tabular_dataset()\n",
        "\n",
        "# Registrar el conjunto de datos\n",
        "# Establezca el nombre del conjunto de datos, la descripción y las etiquetas como desee\n",
        "data_registered = diabetes.register(workspace=ws,\n",
        "                                              name='Diabetes Sample', \n",
        "                                              description='Sample Diabetes Data from Azure Open Datasets', \n",
        "                                              tags= {'fileType': 'Tabular', \"project\" : \"Diabetes\"}, \n",
        "                                              create_new_version=True)"
      ]
    },
    {
      "cell_type": "code",
      "execution_count": null,
      "id": "2da23059",
      "metadata": {
        "id": "2da23059",
        "outputId": "572af8dc-e00f-46b8-bf0e-3386391b34ea"
      },
      "outputs": [
        {
          "data": {
            "text/html": [
              "<div>\n",
              "<style scoped>\n",
              "    .dataframe tbody tr th:only-of-type {\n",
              "        vertical-align: middle;\n",
              "    }\n",
              "\n",
              "    .dataframe tbody tr th {\n",
              "        vertical-align: top;\n",
              "    }\n",
              "\n",
              "    .dataframe thead th {\n",
              "        text-align: right;\n",
              "    }\n",
              "</style>\n",
              "<table border=\"1\" class=\"dataframe\">\n",
              "  <thead>\n",
              "    <tr style=\"text-align: right;\">\n",
              "      <th></th>\n",
              "      <th>AGE</th>\n",
              "      <th>SEX</th>\n",
              "      <th>BMI</th>\n",
              "      <th>BP</th>\n",
              "      <th>S1</th>\n",
              "      <th>S2</th>\n",
              "      <th>S3</th>\n",
              "      <th>S4</th>\n",
              "      <th>S5</th>\n",
              "      <th>S6</th>\n",
              "      <th>Y</th>\n",
              "    </tr>\n",
              "  </thead>\n",
              "  <tbody>\n",
              "    <tr>\n",
              "      <th>0</th>\n",
              "      <td>59</td>\n",
              "      <td>2</td>\n",
              "      <td>32.1</td>\n",
              "      <td>101.0</td>\n",
              "      <td>157</td>\n",
              "      <td>93.2</td>\n",
              "      <td>38.0</td>\n",
              "      <td>4.00</td>\n",
              "      <td>4.8598</td>\n",
              "      <td>87</td>\n",
              "      <td>151</td>\n",
              "    </tr>\n",
              "    <tr>\n",
              "      <th>1</th>\n",
              "      <td>48</td>\n",
              "      <td>1</td>\n",
              "      <td>21.6</td>\n",
              "      <td>87.0</td>\n",
              "      <td>183</td>\n",
              "      <td>103.2</td>\n",
              "      <td>70.0</td>\n",
              "      <td>3.00</td>\n",
              "      <td>3.8918</td>\n",
              "      <td>69</td>\n",
              "      <td>75</td>\n",
              "    </tr>\n",
              "    <tr>\n",
              "      <th>2</th>\n",
              "      <td>72</td>\n",
              "      <td>2</td>\n",
              "      <td>30.5</td>\n",
              "      <td>93.0</td>\n",
              "      <td>156</td>\n",
              "      <td>93.6</td>\n",
              "      <td>41.0</td>\n",
              "      <td>4.00</td>\n",
              "      <td>4.6728</td>\n",
              "      <td>85</td>\n",
              "      <td>141</td>\n",
              "    </tr>\n",
              "    <tr>\n",
              "      <th>3</th>\n",
              "      <td>24</td>\n",
              "      <td>1</td>\n",
              "      <td>25.3</td>\n",
              "      <td>84.0</td>\n",
              "      <td>198</td>\n",
              "      <td>131.4</td>\n",
              "      <td>40.0</td>\n",
              "      <td>5.00</td>\n",
              "      <td>4.8903</td>\n",
              "      <td>89</td>\n",
              "      <td>206</td>\n",
              "    </tr>\n",
              "    <tr>\n",
              "      <th>4</th>\n",
              "      <td>50</td>\n",
              "      <td>1</td>\n",
              "      <td>23.0</td>\n",
              "      <td>101.0</td>\n",
              "      <td>192</td>\n",
              "      <td>125.4</td>\n",
              "      <td>52.0</td>\n",
              "      <td>4.00</td>\n",
              "      <td>4.2905</td>\n",
              "      <td>80</td>\n",
              "      <td>135</td>\n",
              "    </tr>\n",
              "    <tr>\n",
              "      <th>5</th>\n",
              "      <td>23</td>\n",
              "      <td>1</td>\n",
              "      <td>22.6</td>\n",
              "      <td>89.0</td>\n",
              "      <td>139</td>\n",
              "      <td>64.8</td>\n",
              "      <td>61.0</td>\n",
              "      <td>2.00</td>\n",
              "      <td>4.1897</td>\n",
              "      <td>68</td>\n",
              "      <td>97</td>\n",
              "    </tr>\n",
              "    <tr>\n",
              "      <th>6</th>\n",
              "      <td>36</td>\n",
              "      <td>2</td>\n",
              "      <td>22.0</td>\n",
              "      <td>90.0</td>\n",
              "      <td>160</td>\n",
              "      <td>99.6</td>\n",
              "      <td>50.0</td>\n",
              "      <td>3.00</td>\n",
              "      <td>3.9512</td>\n",
              "      <td>82</td>\n",
              "      <td>138</td>\n",
              "    </tr>\n",
              "    <tr>\n",
              "      <th>7</th>\n",
              "      <td>66</td>\n",
              "      <td>2</td>\n",
              "      <td>26.2</td>\n",
              "      <td>114.0</td>\n",
              "      <td>255</td>\n",
              "      <td>185.0</td>\n",
              "      <td>56.0</td>\n",
              "      <td>4.55</td>\n",
              "      <td>4.2485</td>\n",
              "      <td>92</td>\n",
              "      <td>63</td>\n",
              "    </tr>\n",
              "    <tr>\n",
              "      <th>8</th>\n",
              "      <td>60</td>\n",
              "      <td>2</td>\n",
              "      <td>32.1</td>\n",
              "      <td>83.0</td>\n",
              "      <td>179</td>\n",
              "      <td>119.4</td>\n",
              "      <td>42.0</td>\n",
              "      <td>4.00</td>\n",
              "      <td>4.4773</td>\n",
              "      <td>94</td>\n",
              "      <td>110</td>\n",
              "    </tr>\n",
              "    <tr>\n",
              "      <th>9</th>\n",
              "      <td>29</td>\n",
              "      <td>1</td>\n",
              "      <td>30.0</td>\n",
              "      <td>85.0</td>\n",
              "      <td>180</td>\n",
              "      <td>93.4</td>\n",
              "      <td>43.0</td>\n",
              "      <td>4.00</td>\n",
              "      <td>5.3845</td>\n",
              "      <td>88</td>\n",
              "      <td>310</td>\n",
              "    </tr>\n",
              "  </tbody>\n",
              "</table>\n",
              "</div>"
            ],
            "text/plain": [
              "   AGE  SEX   BMI     BP   S1     S2    S3    S4      S5  S6    Y\n",
              "0   59    2  32.1  101.0  157   93.2  38.0  4.00  4.8598  87  151\n",
              "1   48    1  21.6   87.0  183  103.2  70.0  3.00  3.8918  69   75\n",
              "2   72    2  30.5   93.0  156   93.6  41.0  4.00  4.6728  85  141\n",
              "3   24    1  25.3   84.0  198  131.4  40.0  5.00  4.8903  89  206\n",
              "4   50    1  23.0  101.0  192  125.4  52.0  4.00  4.2905  80  135\n",
              "5   23    1  22.6   89.0  139   64.8  61.0  2.00  4.1897  68   97\n",
              "6   36    2  22.0   90.0  160   99.6  50.0  3.00  3.9512  82  138\n",
              "7   66    2  26.2  114.0  255  185.0  56.0  4.55  4.2485  92   63\n",
              "8   60    2  32.1   83.0  179  119.4  42.0  4.00  4.4773  94  110\n",
              "9   29    1  30.0   85.0  180   93.4  43.0  4.00  5.3845  88  310"
            ]
          },
          "execution_count": 9,
          "metadata": {},
          "output_type": "execute_result"
        }
      ],
      "source": [
        "# Vea su conjunto de datos convirtiéndolo en pandas\n",
        "dataset.take(10).to_pandas_dataframe()"
      ]
    },
    {
      "cell_type": "code",
      "execution_count": null,
      "id": "8cbeb924",
      "metadata": {
        "id": "8cbeb924"
      },
      "outputs": [],
      "source": [
        "# Convierta su conjunto de datos en un marco de datos de Pandas\n",
        "dfRaw = dataset.to_pandas_dataframe()\n",
        "\n",
        "# Eliminar las columnas de edad y sexo\n",
        "df = dfRaw.drop(['AGE','SEX'], axis=1)"
      ]
    },
    {
      "cell_type": "code",
      "execution_count": null,
      "id": "3b7ccbec",
      "metadata": {
        "id": "3b7ccbec",
        "outputId": "4f4f614b-d5d0-4c2c-8613-3a91b16c2898"
      },
      "outputs": [
        {
          "name": "stdout",
          "output_type": "stream",
          "text": [
            "Validating arguments.\n",
            "Arguments validated.\n",
            "Successfully obtained datastore reference and path.\n",
            "Uploading file to managed-dataset/5423c6ab-d1b2-4310-abb7-5546cd676b78/\n",
            "Successfully uploaded file to datastore.\n",
            "Creating and registering a new dataset.\n",
            "Successfully created and registered a new dataset.\n"
          ]
        },
        {
          "data": {
            "text/plain": [
              "{\n",
              "  \"source\": [\n",
              "    \"('workspaceblobstore', 'managed-dataset/5423c6ab-d1b2-4310-abb7-5546cd676b78/')\"\n",
              "  ],\n",
              "  \"definition\": [\n",
              "    \"GetDatastoreFiles\",\n",
              "    \"ReadParquetFile\",\n",
              "    \"DropColumns\"\n",
              "  ],\n",
              "  \"registration\": {\n",
              "    \"id\": \"f47ae117-ab82-48bf-833d-634c85097c30\",\n",
              "    \"name\": \"Diabetes Sample Age/Sex Dropped\",\n",
              "    \"version\": 1,\n",
              "    \"workspace\": \"Workspace.create(name='automl-example-workspace', subscription_id='0aad4149-65b5-42c8-9b25-ce17f2fed264', resource_group='auto-ml-example-resource-group')\"\n",
              "  }\n",
              "}"
            ]
          },
          "execution_count": 11,
          "metadata": {},
          "output_type": "execute_result"
        }
      ],
      "source": [
        "# Registre un nuevo conjunto de datos utilizando el marco de datos con las columnas Edad y Sexo eliminadas\n",
        "Dataset.Tabular.register_pandas_dataframe(df, datastore,\n",
        "                                          \"Diabetes Sample Age/Sex Dropped\")"
      ]
    },
    {
      "cell_type": "code",
      "execution_count": null,
      "id": "e30e08b2",
      "metadata": {
        "id": "e30e08b2"
      },
      "outputs": [],
      "source": [
        "# Cree un nombre para su Experimento de Regresión de Diabetes AutoML\n",
        "experiment_name = 'Diabetes-Sample-Regression'\n",
        "\n",
        "# Establezca el experimento en su espacio de trabajo\n",
        "exp = Experiment(workspace=ws, name=experiment_name)"
      ]
    },
    {
      "cell_type": "code",
      "execution_count": null,
      "id": "bfac4bef",
      "metadata": {
        "id": "bfac4bef"
      },
      "outputs": [],
      "source": [
        "# Establezca las variables para su ejecución de AutoML\n",
        "target_column = 'Y'\n",
        "task = 'regression'\n",
        "primary_metric = 'normalized_root_mean_squared_error'\n",
        "featurization = 'auto'"
      ]
    },
    {
      "cell_type": "code",
      "execution_count": null,
      "id": "b661f142",
      "metadata": {
        "id": "b661f142"
      },
      "outputs": [],
      "source": [
        "# Establezca su configuración AutoML\n",
        "config = AutoMLConfig(task=task,\n",
        "                     primary_metric=primary_metric,\n",
        "                     featurization=featurization,\n",
        "                     compute_target=compute_target,\n",
        "                     training_data=dataset,\n",
        "                     label_column_name=target_column,\n",
        "                     experiment_timeout_minutes=15,\n",
        "                     enable_early_stopping=True,\n",
        "                     n_cross_validations=5,\n",
        "                     model_explainability=True)"
      ]
    },
    {
      "cell_type": "code",
      "execution_count": null,
      "id": "71915919",
      "metadata": {
        "id": "71915919",
        "outputId": "5771fe68-4aaa-42b3-c84d-bb74e5a32d1a",
        "colab": {
          "referenced_widgets": [
            "ba9d8652851640fc85e547f7bfb3eb2a"
          ]
        }
      },
      "outputs": [
        {
          "name": "stdout",
          "output_type": "stream",
          "text": [
            "Submitting remote run.\n",
            "No run_configuration provided, running on automl-compute with default configuration\n",
            "Running on remote compute: automl-compute\n"
          ]
        },
        {
          "data": {
            "text/html": [
              "<table style=\"width:100%\"><tr><th>Experiment</th><th>Id</th><th>Type</th><th>Status</th><th>Details Page</th><th>Docs Page</th></tr><tr><td>Diabetes-Sample-Regression</td><td>AutoML_c37a892e-9db6-4141-bedf-6a4f88439f65</td><td>automl</td><td>NotStarted</td><td><a href=\"https://ml.azure.com/runs/AutoML_c37a892e-9db6-4141-bedf-6a4f88439f65?wsid=/subscriptions/0aad4149-65b5-42c8-9b25-ce17f2fed264/resourcegroups/auto-ml-example-resource-group/workspaces/automl-example-workspace&amp;tid=4ae54b05-b77e-4224-aef1-8661422e0816\" target=\"_blank\" rel=\"noopener\">Link to Azure Machine Learning studio</a></td><td><a href=\"https://docs.microsoft.com/en-us/python/api/overview/azure/ml/intro?view=azure-ml-py\" target=\"_blank\" rel=\"noopener\">Link to Documentation</a></td></tr></table>"
            ],
            "text/plain": [
              "<IPython.core.display.HTML object>"
            ]
          },
          "metadata": {},
          "output_type": "display_data"
        },
        {
          "name": "stdout",
          "output_type": "stream",
          "text": [
            "\n",
            "Current status: FeaturesGeneration. Generating features for the dataset.\n",
            "Current status: ModelSelection. Beginning model selection.\n",
            "\n",
            "********************************************************************************************\n",
            "DATA GUARDRAILS: \n",
            "\n",
            "TYPE:         Missing feature values imputation\n",
            "STATUS:       PASSED\n",
            "DESCRIPTION:  No feature missing values were detected in the training data.\n",
            "              Learn more about missing value imputation: https://aka.ms/AutomatedMLFeaturization\n",
            "\n",
            "********************************************************************************************\n",
            "\n",
            "TYPE:         High cardinality feature detection\n",
            "STATUS:       PASSED\n",
            "DESCRIPTION:  Your inputs were analyzed, and no high cardinality features were detected.\n",
            "              Learn more about high cardinality feature handling: https://aka.ms/AutomatedMLFeaturization\n",
            "\n",
            "********************************************************************************************\n",
            "\n",
            "********************************************************************************************\n",
            "ITER: The iteration being evaluated.\n",
            "PIPELINE: A summary description of the pipeline being evaluated.\n",
            "DURATION: Time taken for the current iteration.\n",
            "METRIC: The result of computing score on the fitted pipeline.\n",
            "BEST: The best observed score thus far.\n",
            "********************************************************************************************\n",
            "\n",
            " ITER   PIPELINE                                       DURATION            METRIC      BEST\n",
            "    0   MaxAbsScaler LightGBM                          0:00:08             0.1809    0.1809\n",
            "    1   MaxAbsScaler XGBoostRegressor                  0:00:08             0.1808    0.1808\n",
            "    2   MaxAbsScaler ElasticNet                        0:00:08             0.1714    0.1714\n",
            "    3   RobustScaler ElasticNet                        0:00:07             0.1708    0.1708\n",
            "    4   MinMaxScaler ElasticNet                        0:00:08             0.1709    0.1708\n",
            "    5   StandardScalerWrapper ElasticNet               0:00:08             0.1708    0.1708\n",
            "    6   MinMaxScaler RandomForest                      0:00:08             0.1768    0.1708\n",
            "    7   MaxAbsScaler ElasticNet                        0:00:07             0.1712    0.1708\n",
            "    8   StandardScalerWrapper ElasticNet               0:00:07             0.1708    0.1708\n",
            "    9   MaxAbsScaler ElasticNet                        0:00:08             0.1708    0.1708\n",
            "   10   StandardScalerWrapper ElasticNet               0:00:08             0.1708    0.1708\n",
            "   11   MinMaxScaler ExtremeRandomTrees                0:00:08             0.1733    0.1708\n",
            "   12   MinMaxScaler RandomForest                      0:00:08             0.1910    0.1708\n",
            "   13   MinMaxScaler ExtremeRandomTrees                0:00:08             0.1754    0.1708\n",
            "   14   MinMaxScaler ExtremeRandomTrees                0:00:08             0.1767    0.1708\n",
            "   15   MaxAbsScaler ExtremeRandomTrees                0:00:07             0.1786    0.1708\n",
            "   16   MinMaxScaler DecisionTree                      0:00:08             0.1925    0.1708\n",
            "   17   RobustScaler ExtremeRandomTrees                0:00:08             0.1758    0.1708\n",
            "   18   RobustScaler DecisionTree                      0:00:08             0.2089    0.1708\n",
            "   19   MaxAbsScaler ExtremeRandomTrees                0:00:11             0.1730    0.1708\n",
            "   20   MinMaxScaler RandomForest                      0:00:43             0.1752    0.1708\n",
            "   21   StandardScalerWrapper ExtremeRandomTrees       0:01:49             0.1784    0.1708\n",
            "   22   MinMaxScaler LightGBM                          0:01:56             0.1712    0.1708\n",
            "   23   StandardScalerWrapper ExtremeRandomTrees       0:02:02             0.1793    0.1708\n",
            "   24   StandardScalerWrapper RandomForest             0:01:57             0.1775    0.1708\n",
            "   25    VotingEnsemble                                0:02:07             0.1676    0.1676\n",
            "   26    StackEnsemble                                 0:02:08             0.1687    0.1676\n"
          ]
        },
        {
          "data": {
            "application/vnd.jupyter.widget-view+json": {
              "model_id": "ba9d8652851640fc85e547f7bfb3eb2a",
              "version_major": 2,
              "version_minor": 0
            },
            "text/plain": [
              "_AutoMLWidget(widget_settings={'childWidgetDisplay': 'popup', 'send_telemetry': False, 'log_level': 'INFO', 's…"
            ]
          },
          "metadata": {},
          "output_type": "display_data"
        },
        {
          "data": {
            "application/aml.mini.widget.v1": "{\"status\": \"Completed\", \"workbench_run_details_uri\": \"https://ml.azure.com/runs/AutoML_c37a892e-9db6-4141-bedf-6a4f88439f65?wsid=/subscriptions/0aad4149-65b5-42c8-9b25-ce17f2fed264/resourcegroups/auto-ml-example-resource-group/workspaces/automl-example-workspace&tid=4ae54b05-b77e-4224-aef1-8661422e0816\", \"run_id\": \"AutoML_c37a892e-9db6-4141-bedf-6a4f88439f65\", \"run_properties\": {\"run_id\": \"AutoML_c37a892e-9db6-4141-bedf-6a4f88439f65\", \"created_utc\": \"2022-02-02T20:23:53.446229Z\", \"properties\": {\"num_iterations\": \"1000\", \"training_type\": \"TrainFull\", \"acquisition_function\": \"EI\", \"primary_metric\": \"normalized_root_mean_squared_error\", \"train_split\": \"0\", \"acquisition_parameter\": \"0\", \"num_cross_validation\": \"5\", \"target\": \"automl-compute\", \"AMLSettingsJsonString\": \"{\\\"path\\\":null,\\\"name\\\":\\\"Diabetes-Sample-Regression\\\",\\\"subscription_id\\\":\\\"0aad4149-65b5-42c8-9b25-ce17f2fed264\\\",\\\"resource_group\\\":\\\"auto-ml-example-resource-group\\\",\\\"workspace_name\\\":\\\"automl-example-workspace\\\",\\\"region\\\":\\\"eastus2\\\",\\\"compute_target\\\":\\\"automl-compute\\\",\\\"spark_service\\\":null,\\\"azure_service\\\":\\\"remote\\\",\\\"many_models\\\":false,\\\"pipeline_fetch_max_batch_size\\\":1,\\\"enable_batch_run\\\":true,\\\"enable_run_restructure\\\":false,\\\"start_auxiliary_runs_before_parent_complete\\\":false,\\\"enable_code_generation\\\":false,\\\"iterations\\\":1000,\\\"primary_metric\\\":\\\"normalized_root_mean_squared_error\\\",\\\"task_type\\\":\\\"regression\\\",\\\"positive_label\\\":null,\\\"data_script\\\":null,\\\"test_size\\\":0.0,\\\"test_include_predictions_only\\\":false,\\\"validation_size\\\":0.0,\\\"n_cross_validations\\\":5,\\\"y_min\\\":null,\\\"y_max\\\":null,\\\"num_classes\\\":null,\\\"featurization\\\":\\\"auto\\\",\\\"_ignore_package_version_incompatibilities\\\":false,\\\"is_timeseries\\\":false,\\\"max_cores_per_iteration\\\":1,\\\"max_concurrent_iterations\\\":1,\\\"iteration_timeout_minutes\\\":null,\\\"mem_in_mb\\\":null,\\\"enforce_time_on_windows\\\":false,\\\"experiment_timeout_minutes\\\":15,\\\"experiment_exit_score\\\":null,\\\"whitelist_models\\\":null,\\\"blacklist_algos\\\":[\\\"TensorFlowDNN\\\",\\\"TensorFlowLinearRegressor\\\"],\\\"supported_models\\\":[\\\"RandomForest\\\",\\\"ExtremeRandomTrees\\\",\\\"LightGBM\\\",\\\"GradientBoosting\\\",\\\"KNN\\\",\\\"DecisionTree\\\",\\\"XGBoostRegressor\\\",\\\"ElasticNet\\\",\\\"FastLinearRegressor\\\",\\\"TensorFlowDNN\\\",\\\"LassoLars\\\",\\\"TensorFlowLinearRegressor\\\",\\\"OnlineGradientDescentRegressor\\\",\\\"SGD\\\"],\\\"private_models\\\":[\\\"TabnetRegressor\\\"],\\\"auto_blacklist\\\":true,\\\"blacklist_samples_reached\\\":false,\\\"exclude_nan_labels\\\":true,\\\"verbosity\\\":20,\\\"_debug_log\\\":\\\"azureml_automl.log\\\",\\\"show_warnings\\\":false,\\\"model_explainability\\\":true,\\\"service_url\\\":null,\\\"sdk_url\\\":null,\\\"sdk_packages\\\":null,\\\"enable_onnx_compatible_models\\\":false,\\\"enable_split_onnx_featurizer_estimator_models\\\":false,\\\"vm_type\\\":\\\"STANDARD_DS11_V2\\\",\\\"telemetry_verbosity\\\":20,\\\"send_telemetry\\\":true,\\\"enable_dnn\\\":false,\\\"scenario\\\":\\\"SDK-1.13.0\\\",\\\"environment_label\\\":null,\\\"save_mlflow\\\":false,\\\"enable_categorical_indicators\\\":false,\\\"force_text_dnn\\\":false,\\\"enable_feature_sweeping\\\":true,\\\"enable_early_stopping\\\":true,\\\"early_stopping_n_iters\\\":10,\\\"arguments\\\":null,\\\"dataset_id\\\":null,\\\"hyperdrive_config\\\":null,\\\"validation_dataset_id\\\":null,\\\"run_source\\\":null,\\\"metrics\\\":null,\\\"enable_metric_confidence\\\":false,\\\"enable_ensembling\\\":true,\\\"enable_stack_ensembling\\\":true,\\\"ensemble_iterations\\\":15,\\\"enable_tf\\\":false,\\\"enable_subsampling\\\":null,\\\"subsample_seed\\\":null,\\\"enable_nimbusml\\\":false,\\\"enable_streaming\\\":false,\\\"force_streaming\\\":false,\\\"track_child_runs\\\":true,\\\"allowed_private_models\\\":[],\\\"label_column_name\\\":\\\"Y\\\",\\\"weight_column_name\\\":null,\\\"cv_split_column_names\\\":null,\\\"enable_local_managed\\\":false,\\\"_local_managed_run_id\\\":null,\\\"cost_mode\\\":1,\\\"lag_length\\\":0,\\\"metric_operation\\\":\\\"minimize\\\",\\\"preprocess\\\":true}\", \"DataPrepJsonString\": \"{\\\\\\\"training_data\\\\\\\": {\\\\\\\"datasetId\\\\\\\": \\\\\\\"a3caa7ae-de2e-4405-bfb7-b077f1357489\\\\\\\"}, \\\\\\\"datasets\\\\\\\": 0}\", \"EnableSubsampling\": null, \"runTemplate\": \"AutoML\", \"azureml.runsource\": \"automl\", \"display_task_type\": \"regression\", \"dependencies_versions\": \"{\\\"azureml-widgets\\\": \\\"1.37.0\\\", \\\"azureml-train\\\": \\\"1.37.0\\\", \\\"azureml-train-restclients-hyperdrive\\\": \\\"1.37.0\\\", \\\"azureml-train-core\\\": \\\"1.37.0\\\", \\\"azureml-train-automl-client\\\": \\\"1.37.0\\\", \\\"azureml-tensorboard\\\": \\\"1.37.0\\\", \\\"azureml-telemetry\\\": \\\"1.37.0\\\", \\\"azureml-sdk\\\": \\\"1.37.0\\\", \\\"azureml-responsibleai\\\": \\\"1.37.0\\\", \\\"azureml-pipeline\\\": \\\"1.37.0\\\", \\\"azureml-pipeline-steps\\\": \\\"1.37.0\\\", \\\"azureml-pipeline-core\\\": \\\"1.37.0\\\", \\\"azureml-opendatasets\\\": \\\"1.37.0\\\", \\\"azureml-mlflow\\\": \\\"1.37.0\\\", \\\"azureml-interpret\\\": \\\"1.37.0\\\", \\\"azureml-inference-server-http\\\": \\\"0.4.2\\\", \\\"azureml-explain-model\\\": \\\"1.37.0\\\", \\\"azureml-defaults\\\": \\\"1.37.0\\\", \\\"azureml-dataset-runtime\\\": \\\"1.37.0\\\", \\\"azureml-dataprep\\\": \\\"2.25.0\\\", \\\"azureml-dataprep-rslex\\\": \\\"2.1.0\\\", \\\"azureml-dataprep-native\\\": \\\"38.0.0\\\", \\\"azureml-datadrift\\\": \\\"1.37.0\\\", \\\"azureml-core\\\": \\\"1.37.0\\\", \\\"azureml-contrib-services\\\": \\\"1.37.0\\\", \\\"azureml-contrib-server\\\": \\\"1.37.0\\\", \\\"azureml-contrib-reinforcementlearning\\\": \\\"1.37.0\\\", \\\"azureml-contrib-pipeline-steps\\\": \\\"1.37.0\\\", \\\"azureml-contrib-notebook\\\": \\\"1.37.0\\\", \\\"azureml-contrib-fairness\\\": \\\"1.37.0\\\", \\\"azureml-contrib-dataset\\\": \\\"1.37.0\\\", \\\"azureml-cli-common\\\": \\\"1.37.0\\\", \\\"azureml-automl-core\\\": \\\"1.37.0\\\", \\\"azureml-accel-models\\\": \\\"1.37.0\\\"}\", \"_aml_system_scenario_identification\": \"Remote.Parent\", \"ClientType\": \"SDK\", \"environment_cpu_name\": \"AzureML-AutoML\", \"environment_cpu_label\": \"prod\", \"environment_gpu_name\": \"AzureML-AutoML-GPU\", \"environment_gpu_label\": \"prod\", \"root_attribution\": \"automl\", \"attribution\": \"AutoML\", \"Orchestrator\": \"AutoML\", \"CancelUri\": \"https://eastus2.api.azureml.ms/jasmine/v1.0/subscriptions/0aad4149-65b5-42c8-9b25-ce17f2fed264/resourceGroups/auto-ml-example-resource-group/providers/Microsoft.MachineLearningServices/workspaces/automl-example-workspace/experimentids/be14eaae-0a89-4bbb-8f53-695714af9cb2/cancel/AutoML_c37a892e-9db6-4141-bedf-6a4f88439f65\", \"ClientSdkVersion\": \"1.38.0\", \"snapshotId\": \"00000000-0000-0000-0000-000000000000\", \"SetupRunId\": \"AutoML_c37a892e-9db6-4141-bedf-6a4f88439f65_setup\", \"SetupRunContainerId\": \"dcid.AutoML_c37a892e-9db6-4141-bedf-6a4f88439f65_setup\", \"FeaturizationRunJsonPath\": \"featurizer_container.json\", \"FeaturizationRunId\": \"AutoML_c37a892e-9db6-4141-bedf-6a4f88439f65_featurize\", \"ProblemInfoJsonString\": \"{\\\"dataset_num_categorical\\\": 0, \\\"is_sparse\\\": false, \\\"subsampling\\\": false, \\\"has_extra_col\\\": true, \\\"dataset_classes\\\": 214, \\\"dataset_features\\\": 10, \\\"dataset_samples\\\": 442, \\\"single_frequency_class_detected\\\": false}\", \"ModelExplainRunId\": \"AutoML_c37a892e-9db6-4141-bedf-6a4f88439f65_ModelExplain\"}, \"tags\": {\"model_explain_run\": \"best_run\", \"_aml_system_azureml.automlComponent\": \"AutoML\", \"pipeline_id\": \"\", \"score\": \"\", \"predicted_cost\": \"\", \"fit_time\": \"\", \"training_percent\": \"\", \"iteration\": \"\", \"run_preprocessor\": \"\", \"run_algorithm\": \"\", \"_aml_system_azureml.automl_early_exit_message\": \"Experiment timeout reached, hence experiment stopped. Current experiment timeout: 0 hour(s) 15 minute(s)\", \"automl_best_child_run_id\": \"AutoML_c37a892e-9db6-4141-bedf-6a4f88439f65_25\", \"model_explain_best_run_child_id\": \"AutoML_c37a892e-9db6-4141-bedf-6a4f88439f65_25\"}, \"end_time_utc\": \"2022-02-02T20:51:51.209697Z\", \"status\": \"Completed\", \"log_files\": {}, \"log_groups\": [], \"run_duration\": \"0:27:57\", \"run_number\": \"1643833433\", \"run_queued_details\": {\"status\": \"Completed\", \"details\": null}}, \"child_runs\": [{\"run_id\": \"AutoML_c37a892e-9db6-4141-bedf-6a4f88439f65_setup\", \"run_number\": 1643833446, \"metric\": null, \"status\": \"Completed\", \"run_type\": \"azureml.scriptrun\", \"training_percent\": null, \"start_time\": \"2022-02-02T20:28:12.09673Z\", \"end_time\": \"2022-02-02T20:29:13.684269Z\", \"created_time\": \"2022-02-02T20:24:06.060365Z\", \"created_time_dt\": \"2022-02-02T20:24:06.060365Z\", \"duration\": \"0:05:07\", \"iteration\": null, \"goal\": null, \"run_name\": \"Completed\", \"run_properties\": null}, {\"run_id\": \"AutoML_c37a892e-9db6-4141-bedf-6a4f88439f65_featurize\", \"run_number\": 1643833754, \"metric\": null, \"status\": \"Completed\", \"run_type\": \"automl.featurization\", \"training_percent\": null, \"start_time\": \"2022-02-02T20:29:14.367172Z\", \"end_time\": \"2022-02-02T20:30:54.774455Z\", \"created_time\": \"2022-02-02T20:29:14.042921Z\", \"created_time_dt\": \"2022-02-02T20:29:14.042921Z\", \"duration\": \"0:01:40\", \"iteration\": null, \"goal\": null, \"run_name\": \"Completed\", \"run_properties\": null}, {\"run_id\": \"AutoML_c37a892e-9db6-4141-bedf-6a4f88439f65_0\", \"run_number\": 1643833857, \"metric\": null, \"status\": \"Completed\", \"run_type\": null, \"training_percent\": \"100\", \"start_time\": \"2022-02-02T20:32:28.10133Z\", \"end_time\": \"2022-02-02T20:32:36.421797Z\", \"created_time\": \"2022-02-02T20:30:57.569685Z\", \"created_time_dt\": \"2022-02-02T20:30:57.569685Z\", \"duration\": \"0:01:38\", \"iteration\": \"0\", \"goal\": \"normalized_root_mean_squared_error_min\", \"run_name\": \"MaxAbsScaler, LightGBM\", \"run_properties\": \"copy=True\", \"primary_metric\": 0.18089714, \"best_metric\": 0.18089714}, {\"run_id\": \"AutoML_c37a892e-9db6-4141-bedf-6a4f88439f65_1\", \"run_number\": 1643833858, \"metric\": null, \"status\": \"Completed\", \"run_type\": null, \"training_percent\": \"100\", \"start_time\": \"2022-02-02T20:32:36.580131Z\", \"end_time\": \"2022-02-02T20:32:44.769475Z\", \"created_time\": \"2022-02-02T20:30:58.163728Z\", \"created_time_dt\": \"2022-02-02T20:30:58.163728Z\", \"duration\": \"0:01:46\", \"iteration\": \"1\", \"goal\": \"normalized_root_mean_squared_error_min\", \"run_name\": \"MaxAbsScaler, XGBoostRegressor\", \"run_properties\": \"copy=True\", \"primary_metric\": 0.18077157, \"best_metric\": 0.18077157}, {\"run_id\": \"AutoML_c37a892e-9db6-4141-bedf-6a4f88439f65_3\", \"run_number\": 1643833859, \"metric\": null, \"status\": \"Completed\", \"run_type\": null, \"training_percent\": \"100\", \"start_time\": \"2022-02-02T20:32:52.899581Z\", \"end_time\": \"2022-02-02T20:33:00.390082Z\", \"created_time\": \"2022-02-02T20:30:59.082412Z\", \"created_time_dt\": \"2022-02-02T20:30:59.082412Z\", \"duration\": \"0:02:01\", \"iteration\": \"3\", \"goal\": \"normalized_root_mean_squared_error_min\", \"run_name\": \"RobustScaler, ElasticNet\", \"run_properties\": \"copy=True, quantile_range=[10, 90], with_centering=True,\\n             with_scaling=False\", \"primary_metric\": 0.17078285, \"best_metric\": 0.17078285}, {\"run_id\": \"AutoML_c37a892e-9db6-4141-bedf-6a4f88439f65_6\", \"run_number\": 1643833860, \"metric\": null, \"status\": \"Completed\", \"run_type\": null, \"training_percent\": \"100\", \"start_time\": \"2022-02-02T20:33:16.306866Z\", \"end_time\": \"2022-02-02T20:33:24.278913Z\", \"created_time\": \"2022-02-02T20:31:00.49723Z\", \"created_time_dt\": \"2022-02-02T20:31:00.49723Z\", \"duration\": \"0:02:23\", \"iteration\": \"6\", \"goal\": \"normalized_root_mean_squared_error_min\", \"run_name\": \"MinMaxScaler, RandomForest\", \"run_properties\": \"copy=True, feature_range=(0, 1\", \"primary_metric\": 0.17677426, \"best_metric\": 0.17078285}, {\"run_id\": \"AutoML_c37a892e-9db6-4141-bedf-6a4f88439f65_7\", \"run_number\": 1643833861, \"metric\": null, \"status\": \"Completed\", \"run_type\": null, \"training_percent\": \"100\", \"start_time\": \"2022-02-02T20:33:24.494579Z\", \"end_time\": \"2022-02-02T20:33:31.638105Z\", \"created_time\": \"2022-02-02T20:31:01.015308Z\", \"created_time_dt\": \"2022-02-02T20:31:01.015308Z\", \"duration\": \"0:02:30\", \"iteration\": \"7\", \"goal\": \"normalized_root_mean_squared_error_min\", \"run_name\": \"MaxAbsScaler, ElasticNet\", \"run_properties\": \"copy=True\", \"primary_metric\": 0.17120522, \"best_metric\": 0.17078285}, {\"run_id\": \"AutoML_c37a892e-9db6-4141-bedf-6a4f88439f65_10\", \"run_number\": 1643833862, \"metric\": null, \"status\": \"Completed\", \"run_type\": null, \"training_percent\": \"100\", \"start_time\": \"2022-02-02T20:33:46.947799Z\", \"end_time\": \"2022-02-02T20:33:54.551294Z\", \"created_time\": \"2022-02-02T20:31:02.341182Z\", \"created_time_dt\": \"2022-02-02T20:31:02.341182Z\", \"duration\": \"0:02:52\", \"iteration\": \"10\", \"goal\": \"normalized_root_mean_squared_error_min\", \"run_name\": \"StandardScalerWrapper, ElasticNet\", \"run_properties\": \"\\n    copy=True,\\n    with_mean=True,\\n    with_std=False\\n\", \"primary_metric\": 0.17076159, \"best_metric\": 0.17076159}, {\"run_id\": \"AutoML_c37a892e-9db6-4141-bedf-6a4f88439f65_12\", \"run_number\": 1643833863, \"metric\": null, \"status\": \"Completed\", \"run_type\": null, \"training_percent\": \"100\", \"start_time\": \"2022-02-02T20:34:02.647049Z\", \"end_time\": \"2022-02-02T20:34:10.495089Z\", \"created_time\": \"2022-02-02T20:31:03.402193Z\", \"created_time_dt\": \"2022-02-02T20:31:03.402193Z\", \"duration\": \"0:03:07\", \"iteration\": \"12\", \"goal\": \"normalized_root_mean_squared_error_min\", \"run_name\": \"MinMaxScaler, RandomForest\", \"run_properties\": \"copy=True, feature_range=(0, 1\", \"primary_metric\": 0.19096666, \"best_metric\": 0.17076159}, {\"run_id\": \"AutoML_c37a892e-9db6-4141-bedf-6a4f88439f65_14\", \"run_number\": 1643833864, \"metric\": null, \"status\": \"Completed\", \"run_type\": null, \"training_percent\": \"100\", \"start_time\": \"2022-02-02T20:34:19.092215Z\", \"end_time\": \"2022-02-02T20:34:26.653365Z\", \"created_time\": \"2022-02-02T20:31:04.315754Z\", \"created_time_dt\": \"2022-02-02T20:31:04.315754Z\", \"duration\": \"0:03:22\", \"iteration\": \"14\", \"goal\": \"normalized_root_mean_squared_error_min\", \"run_name\": \"MinMaxScaler, ExtremeRandomTrees\", \"run_properties\": \"copy=True, feature_range=(0, 1\", \"primary_metric\": 0.17666694, \"best_metric\": 0.17076159}, {\"run_id\": \"AutoML_c37a892e-9db6-4141-bedf-6a4f88439f65_16\", \"run_number\": 1643833865, \"metric\": null, \"status\": \"Completed\", \"run_type\": null, \"training_percent\": \"100\", \"start_time\": \"2022-02-02T20:34:34.748087Z\", \"end_time\": \"2022-02-02T20:34:42.622161Z\", \"created_time\": \"2022-02-02T20:31:05.292154Z\", \"created_time_dt\": \"2022-02-02T20:31:05.292154Z\", \"duration\": \"0:03:37\", \"iteration\": \"16\", \"goal\": \"normalized_root_mean_squared_error_min\", \"run_name\": \"MinMaxScaler, DecisionTree\", \"run_properties\": \"copy=True, feature_range=(0, 1\", \"primary_metric\": 0.1924979, \"best_metric\": 0.17076159}, {\"run_id\": \"AutoML_c37a892e-9db6-4141-bedf-6a4f88439f65_18\", \"run_number\": 1643833866, \"metric\": null, \"status\": \"Completed\", \"run_type\": null, \"training_percent\": \"100\", \"start_time\": \"2022-02-02T20:34:50.831162Z\", \"end_time\": \"2022-02-02T20:34:58.932114Z\", \"created_time\": \"2022-02-02T20:31:06.32759Z\", \"created_time_dt\": \"2022-02-02T20:31:06.32759Z\", \"duration\": \"0:03:52\", \"iteration\": \"18\", \"goal\": \"normalized_root_mean_squared_error_min\", \"run_name\": \"RobustScaler, DecisionTree\", \"run_properties\": \"copy=True, quantile_range=[10, 90], with_centering=False,\\n             with_scaling=False\", \"primary_metric\": 0.20888946, \"best_metric\": 0.17076159}, {\"run_id\": \"AutoML_c37a892e-9db6-4141-bedf-6a4f88439f65_worker_0\", \"run_number\": 1643833867, \"metric\": null, \"status\": \"Completed\", \"run_type\": \"azureml.scriptrun\", \"training_percent\": null, \"start_time\": \"2022-02-02T20:34:14.937432Z\", \"end_time\": \"2022-02-02T20:35:15.988072Z\", \"created_time\": \"2022-02-02T20:31:07.063314Z\", \"created_time_dt\": \"2022-02-02T20:31:07.063314Z\", \"duration\": \"0:04:08\", \"iteration\": null, \"goal\": null, \"run_name\": \"Completed\", \"run_properties\": null}, {\"run_id\": \"AutoML_c37a892e-9db6-4141-bedf-6a4f88439f65_20\", \"run_number\": 1643834336, \"metric\": null, \"status\": \"Completed\", \"run_type\": \"azureml.scriptrun\", \"training_percent\": \"100\", \"start_time\": \"2022-02-02T20:38:56.877083Z\", \"end_time\": \"2022-02-02T20:39:39.429363Z\", \"created_time\": \"2022-02-02T20:38:56.877083Z\", \"created_time_dt\": \"2022-02-02T20:38:56.877083Z\", \"duration\": \"0:00:42\", \"iteration\": \"20\", \"goal\": \"normalized_root_mean_squared_error_min\", \"run_name\": \"MinMaxScaler, RandomForest\", \"run_properties\": \"copy=True, feature_range=(0, 1\", \"primary_metric\": 0.17519059, \"best_metric\": 0.17076159}, {\"run_id\": \"AutoML_c37a892e-9db6-4141-bedf-6a4f88439f65_21\", \"run_number\": 1643834381, \"metric\": null, \"status\": \"Completed\", \"run_type\": \"azureml.scriptrun\", \"training_percent\": \"100\", \"start_time\": \"2022-02-02T20:39:41.608297Z\", \"end_time\": \"2022-02-02T20:41:30.533301Z\", \"created_time\": \"2022-02-02T20:39:41.608297Z\", \"created_time_dt\": \"2022-02-02T20:39:41.608297Z\", \"duration\": \"0:01:48\", \"iteration\": \"21\", \"goal\": \"normalized_root_mean_squared_error_min\", \"run_name\": \"StandardScalerWrapper, ExtremeRandomTrees\", \"run_properties\": \"\\n    copy=True,\\n    with_mean=True,\\n    with_std=False\\n\", \"primary_metric\": 0.17841125, \"best_metric\": 0.17076159}, {\"run_id\": \"AutoML_c37a892e-9db6-4141-bedf-6a4f88439f65_22\", \"run_number\": 1643834492, \"metric\": null, \"status\": \"Completed\", \"run_type\": \"azureml.scriptrun\", \"training_percent\": \"100\", \"start_time\": \"2022-02-02T20:41:32.364238Z\", \"end_time\": \"2022-02-02T20:43:28.360196Z\", \"created_time\": \"2022-02-02T20:41:32.364238Z\", \"created_time_dt\": \"2022-02-02T20:41:32.364238Z\", \"duration\": \"0:01:55\", \"iteration\": \"22\", \"goal\": \"normalized_root_mean_squared_error_min\", \"run_name\": \"MinMaxScaler, LightGBM\", \"run_properties\": \"copy=True, feature_range=(0, 1\", \"primary_metric\": 0.17121133, \"best_metric\": 0.17076159}, {\"run_id\": \"AutoML_c37a892e-9db6-4141-bedf-6a4f88439f65_23\", \"run_number\": 1643834613, \"metric\": null, \"status\": \"Completed\", \"run_type\": \"azureml.scriptrun\", \"training_percent\": \"100\", \"start_time\": \"2022-02-02T20:43:33.138931Z\", \"end_time\": \"2022-02-02T20:45:35.366004Z\", \"created_time\": \"2022-02-02T20:43:33.138931Z\", \"created_time_dt\": \"2022-02-02T20:43:33.138931Z\", \"duration\": \"0:02:02\", \"iteration\": \"23\", \"goal\": \"normalized_root_mean_squared_error_min\", \"run_name\": \"StandardScalerWrapper, ExtremeRandomTrees\", \"run_properties\": \"\\n    copy=True,\\n    with_mean=True,\\n    with_std=True\\n\", \"primary_metric\": 0.17925673, \"best_metric\": 0.17076159}, {\"run_id\": \"AutoML_c37a892e-9db6-4141-bedf-6a4f88439f65_24\", \"run_number\": 1643834737, \"metric\": null, \"status\": \"Completed\", \"run_type\": \"azureml.scriptrun\", \"training_percent\": \"100\", \"start_time\": \"2022-02-02T20:45:36.992671Z\", \"end_time\": \"2022-02-02T20:47:33.614976Z\", \"created_time\": \"2022-02-02T20:45:36.992671Z\", \"created_time_dt\": \"2022-02-02T20:45:36.992671Z\", \"duration\": \"0:01:56\", \"iteration\": \"24\", \"goal\": \"normalized_root_mean_squared_error_min\", \"run_name\": \"StandardScalerWrapper, RandomForest\", \"run_properties\": \"\\n    copy=True,\\n    with_mean=True,\\n    with_std=False\\n\", \"primary_metric\": 0.17754126, \"best_metric\": 0.17076159}, {\"run_id\": \"AutoML_c37a892e-9db6-4141-bedf-6a4f88439f65_25\", \"run_number\": 1643834854, \"metric\": null, \"status\": \"Completed\", \"run_type\": \"azureml.scriptrun\", \"training_percent\": \"100\", \"start_time\": \"2022-02-02T20:47:34.622717Z\", \"end_time\": \"2022-02-02T20:49:41.323036Z\", \"created_time\": \"2022-02-02T20:47:34.622717Z\", \"created_time_dt\": \"2022-02-02T20:47:34.622717Z\", \"duration\": \"0:02:06\", \"iteration\": \"25\", \"goal\": \"normalized_root_mean_squared_error_min\", \"run_name\": \"VotingEnsemble\", \"run_properties\": \"\\n    estimators=[('8', Pipeline(\\n        memory=None,\\n        steps=[('standardscalerwrapper', StandardScalerWrapper(\\n            copy=True,\\n            with_mean=True,\\n            with_std=False\\n        \", \"primary_metric\": 0.16760614, \"best_metric\": 0.16760614}, {\"run_id\": \"AutoML_c37a892e-9db6-4141-bedf-6a4f88439f65_26\", \"run_number\": 1643834982, \"metric\": null, \"status\": \"Completed\", \"run_type\": \"azureml.scriptrun\", \"training_percent\": \"100\", \"start_time\": \"2022-02-02T20:49:42.092247Z\", \"end_time\": \"2022-02-02T20:51:49.735826Z\", \"created_time\": \"2022-02-02T20:49:42.092247Z\", \"created_time_dt\": \"2022-02-02T20:49:42.092247Z\", \"duration\": \"0:02:07\", \"iteration\": \"26\", \"goal\": \"normalized_root_mean_squared_error_min\", \"run_name\": \"StackEnsemble\", \"run_properties\": \"\\n    base_learners=[('8', Pipeline(\\n        memory=None,\\n        steps=[('standardscalerwrapper', StandardScalerWrapper(\\n            copy=True,\\n            with_mean=True,\\n            with_std=False\\n        \", \"primary_metric\": 0.16871255, \"best_metric\": 0.16760614}], \"children_metrics\": {\"categories\": [0], \"series\": {\"r2_score\": [{\"categories\": [\"0\", \"1\", \"3\", \"6\", \"7\", \"10\", \"12\", \"14\", \"16\", \"18\", \"20\", \"21\", \"22\", \"23\", \"24\", \"25\", \"26\"], \"mode\": \"markers\", \"name\": \"r2_score\", \"stepped\": false, \"type\": \"scatter\", \"data\": [0.41958358672308294, 0.42282383696892306, 0.48303675427803994, 0.4493589213194654, 0.4805500501088683, 0.48314705839562233, 0.35121552217839325, 0.45051936277462784, 0.3374895966282993, 0.22782645044878663, 0.45679599504941726, 0.43984773677031663, 0.4836352598553028, 0.43790578498910104, 0.4452472709050631, 0.5035818873988058, 0.4967039348226049]}, {\"categories\": [\"0\", \"1\", \"3\", \"6\", \"7\", \"10\", \"12\", \"14\", \"16\", \"18\", \"20\", \"21\", \"22\", \"23\", \"24\", \"25\", \"26\"], \"mode\": \"lines\", \"name\": \"r2_score_max\", \"stepped\": true, \"type\": \"scatter\", \"data\": [0.41958358672308294, 0.42282383696892306, 0.48303675427803994, 0.48303675427803994, 0.48303675427803994, 0.48314705839562233, 0.48314705839562233, 0.48314705839562233, 0.48314705839562233, 0.48314705839562233, 0.48314705839562233, 0.48314705839562233, 0.4836352598553028, 0.4836352598553028, 0.4836352598553028, 0.5035818873988058, 0.5035818873988058]}], \"mean_absolute_percentage_error\": [{\"categories\": [\"0\", \"1\", \"3\", \"6\", \"7\", \"10\", \"12\", \"14\", \"16\", \"18\", \"20\", \"21\", \"22\", \"23\", \"24\", \"25\", \"26\"], \"mode\": \"markers\", \"name\": \"mean_absolute_percentage_error\", \"stepped\": false, \"type\": \"scatter\", \"data\": [40.32670970841225, 40.4401971525351, 39.68003454417405, 41.66737044210118, 39.69709327667813, 39.67973068906943, 43.54599522442123, 42.445025824963885, 43.501340901734864, 46.13324677692013, 40.6308069432118, 42.28837503279821, 40.00774123451025, 41.73673844812778, 41.63212913610254, 39.014896712080414, 38.90935504952862]}, {\"categories\": [\"0\", \"1\", \"3\", \"6\", \"7\", \"10\", \"12\", \"14\", \"16\", \"18\", \"20\", \"21\", \"22\", \"23\", \"24\", \"25\", \"26\"], \"mode\": \"lines\", \"name\": \"mean_absolute_percentage_error_min\", \"stepped\": true, \"type\": \"scatter\", \"data\": [40.32670970841225, 40.32670970841225, 39.68003454417405, 39.68003454417405, 39.68003454417405, 39.67973068906943, 39.67973068906943, 39.67973068906943, 39.67973068906943, 39.67973068906943, 39.67973068906943, 39.67973068906943, 39.67973068906943, 39.67973068906943, 39.67973068906943, 39.014896712080414, 38.90935504952862]}], \"mean_absolute_error\": [{\"categories\": [\"0\", \"1\", \"3\", \"6\", \"7\", \"10\", \"12\", \"14\", \"16\", \"18\", \"20\", \"21\", \"22\", \"23\", \"24\", \"25\", \"26\"], \"mode\": \"markers\", \"name\": \"mean_absolute_error\", \"stepped\": false, \"type\": \"scatter\", \"data\": [45.84489346978315, 46.48532669985015, 44.35481821042063, 46.139432671822554, 44.43241088057402, 44.348517031981984, 49.4075255362615, 46.81381460390855, 49.84732366320229, 53.9097815398261, 45.63106947870919, 46.589994819192825, 44.474306503442094, 47.15457373623921, 47.02720938487926, 43.517956882151054, 43.64710697532596]}, {\"categories\": [\"0\", \"1\", \"3\", \"6\", \"7\", \"10\", \"12\", \"14\", \"16\", \"18\", \"20\", \"21\", \"22\", \"23\", \"24\", \"25\", \"26\"], \"mode\": \"lines\", \"name\": \"mean_absolute_error_min\", \"stepped\": true, \"type\": \"scatter\", \"data\": [45.84489346978315, 45.84489346978315, 44.35481821042063, 44.35481821042063, 44.35481821042063, 44.348517031981984, 44.348517031981984, 44.348517031981984, 44.348517031981984, 44.348517031981984, 44.348517031981984, 44.348517031981984, 44.348517031981984, 44.348517031981984, 44.348517031981984, 43.517956882151054, 43.517956882151054]}], \"root_mean_squared_error\": [{\"categories\": [\"0\", \"1\", \"3\", \"6\", \"7\", \"10\", \"12\", \"14\", \"16\", \"18\", \"20\", \"21\", \"22\", \"23\", \"24\", \"25\", \"26\"], \"mode\": \"markers\", \"name\": \"root_mean_squared_error\", \"stepped\": false, \"type\": \"scatter\", \"data\": [58.06798152117166, 58.027673219562715, 54.821294847773615, 56.744536726294726, 54.956874136566434, 54.81447109139284, 61.30029777643385, 56.710087692719696, 61.79182497598115, 67.05351677561724, 56.236180940204065, 57.27001175424732, 54.95883739783428, 57.54141020944964, 56.99074601858695, 53.801569870733076, 54.15672845669302]}, {\"categories\": [\"0\", \"1\", \"3\", \"6\", \"7\", \"10\", \"12\", \"14\", \"16\", \"18\", \"20\", \"21\", \"22\", \"23\", \"24\", \"25\", \"26\"], \"mode\": \"lines\", \"name\": \"root_mean_squared_error_min\", \"stepped\": true, \"type\": \"scatter\", \"data\": [58.06798152117166, 58.027673219562715, 54.821294847773615, 54.821294847773615, 54.821294847773615, 54.81447109139284, 54.81447109139284, 54.81447109139284, 54.81447109139284, 54.81447109139284, 54.81447109139284, 54.81447109139284, 54.81447109139284, 54.81447109139284, 54.81447109139284, 53.801569870733076, 53.801569870733076]}], \"normalized_root_mean_squared_error\": [{\"categories\": [\"0\", \"1\", \"3\", \"6\", \"7\", \"10\", \"12\", \"14\", \"16\", \"18\", \"20\", \"21\", \"22\", \"23\", \"24\", \"25\", \"26\"], \"mode\": \"markers\", \"name\": \"normalized_root_mean_squared_error\", \"stepped\": false, \"type\": \"scatter\", \"data\": [0.18089713869523882, 0.18077156766218913, 0.17078284999306423, 0.1767742577143138, 0.17120521537871164, 0.1707615921850244, 0.1909666597396693, 0.17666693985270934, 0.19249789712143658, 0.2088894603601783, 0.17519059482929614, 0.17841125157086396, 0.17121133145742767, 0.1792567296244537, 0.17754126485541102, 0.16760613666895038, 0.16871254970932406]}, {\"categories\": [\"0\", \"1\", \"3\", \"6\", \"7\", \"10\", \"12\", \"14\", \"16\", \"18\", \"20\", \"21\", \"22\", \"23\", \"24\", \"25\", \"26\"], \"mode\": \"lines\", \"name\": \"normalized_root_mean_squared_error_min\", \"stepped\": true, \"type\": \"scatter\", \"data\": [0.18089713869523882, 0.18077156766218913, 0.17078284999306423, 0.17078284999306423, 0.17078284999306423, 0.1707615921850244, 0.1707615921850244, 0.1707615921850244, 0.1707615921850244, 0.1707615921850244, 0.1707615921850244, 0.1707615921850244, 0.1707615921850244, 0.1707615921850244, 0.1707615921850244, 0.16760613666895038, 0.16760613666895038]}], \"normalized_median_absolute_error\": [{\"categories\": [\"0\", \"1\", \"3\", \"6\", \"7\", \"10\", \"12\", \"14\", \"16\", \"18\", \"20\", \"21\", \"22\", \"23\", \"24\", \"25\", \"26\"], \"mode\": \"markers\", \"name\": \"normalized_median_absolute_error\", \"stepped\": false, \"type\": \"scatter\", \"data\": [0.12248865091865682, 0.12491087868948962, 0.11982164714999921, 0.12091567522128269, 0.12170345401718019, 0.11972375539323825, 0.12558670820353063, 0.13063104962233205, 0.1326696875295006, 0.14231135340948425, 0.12829320677157446, 0.1283007430570204, 0.1226968543467533, 0.12818048882479888, 0.1317740744934295, 0.11936257271176073, 0.11976815950195682]}, {\"categories\": [\"0\", \"1\", \"3\", \"6\", \"7\", \"10\", \"12\", \"14\", \"16\", \"18\", \"20\", \"21\", \"22\", \"23\", \"24\", \"25\", \"26\"], \"mode\": \"lines\", \"name\": \"normalized_median_absolute_error_min\", \"stepped\": true, \"type\": \"scatter\", \"data\": [0.12248865091865682, 0.12248865091865682, 0.11982164714999921, 0.11982164714999921, 0.11982164714999921, 0.11972375539323825, 0.11972375539323825, 0.11972375539323825, 0.11972375539323825, 0.11972375539323825, 0.11972375539323825, 0.11972375539323825, 0.11972375539323825, 0.11972375539323825, 0.11972375539323825, 0.11936257271176073, 0.11936257271176073]}], \"median_absolute_error\": [{\"categories\": [\"0\", \"1\", \"3\", \"6\", \"7\", \"10\", \"12\", \"14\", \"16\", \"18\", \"20\", \"21\", \"22\", \"23\", \"24\", \"25\", \"26\"], \"mode\": \"markers\", \"name\": \"median_absolute_error\", \"stepped\": false, \"type\": \"scatter\", \"data\": [39.31885694488884, 40.09639205932617, 38.462748735149745, 38.81393174603174, 39.06680873951484, 38.43132548122948, 40.31333333333334, 41.932566928768594, 42.58696969696969, 45.68194444444444, 41.182119373675405, 41.18453852130355, 39.38569024530781, 41.14593691276045, 42.29947791239086, 38.3153858404752, 38.445579200128144]}, {\"categories\": [\"0\", \"1\", \"3\", \"6\", \"7\", \"10\", \"12\", \"14\", \"16\", \"18\", \"20\", \"21\", \"22\", \"23\", \"24\", \"25\", \"26\"], \"mode\": \"lines\", \"name\": \"median_absolute_error_min\", \"stepped\": true, \"type\": \"scatter\", \"data\": [39.31885694488884, 39.31885694488884, 38.462748735149745, 38.462748735149745, 38.462748735149745, 38.43132548122948, 38.43132548122948, 38.43132548122948, 38.43132548122948, 38.43132548122948, 38.43132548122948, 38.43132548122948, 38.43132548122948, 38.43132548122948, 38.43132548122948, 38.3153858404752, 38.3153858404752]}], \"explained_variance\": [{\"categories\": [\"0\", \"1\", \"3\", \"6\", \"7\", \"10\", \"12\", \"14\", \"16\", \"18\", \"20\", \"21\", \"22\", \"23\", \"24\", \"25\", \"26\"], \"mode\": \"markers\", \"name\": \"explained_variance\", \"stepped\": false, \"type\": \"scatter\", \"data\": [0.4206896515828067, 0.42446156679132263, 0.483183721622646, 0.4514840808547997, 0.4807135009102753, 0.483293085719962, 0.3553091138328812, 0.45126995716562524, 0.33992523123120105, 0.2346342040205557, 0.4590196557425067, 0.4401954275087025, 0.48454236943779466, 0.439104163363924, 0.4479513197641617, 0.5039589356077898, 0.4973284887482913]}, {\"categories\": [\"0\", \"1\", \"3\", \"6\", \"7\", \"10\", \"12\", \"14\", \"16\", \"18\", \"20\", \"21\", \"22\", \"23\", \"24\", \"25\", \"26\"], \"mode\": \"lines\", \"name\": \"explained_variance_max\", \"stepped\": true, \"type\": \"scatter\", \"data\": [0.4206896515828067, 0.42446156679132263, 0.483183721622646, 0.483183721622646, 0.483183721622646, 0.483293085719962, 0.483293085719962, 0.483293085719962, 0.483293085719962, 0.483293085719962, 0.483293085719962, 0.483293085719962, 0.48454236943779466, 0.48454236943779466, 0.48454236943779466, 0.5039589356077898, 0.5039589356077898]}], \"spearman_correlation\": [{\"categories\": [\"0\", \"1\", \"3\", \"6\", \"7\", \"10\", \"12\", \"14\", \"16\", \"18\", \"20\", \"21\", \"22\", \"23\", \"24\", \"25\", \"26\"], \"mode\": \"markers\", \"name\": \"spearman_correlation\", \"stepped\": false, \"type\": \"scatter\", \"data\": [0.6519369270589044, 0.6472272614229815, 0.681777115367822, 0.6562671159684481, 0.6794461862677208, 0.6820147111927104, 0.5925866463388021, 0.6717602072185627, 0.5862607176587513, 0.5332259375837152, 0.6642105368447562, 0.6504458974513254, 0.67869402496158, 0.6588572048934368, 0.656868334843004, 0.6939511448889432, 0.6900473627956718]}, {\"categories\": [\"0\", \"1\", \"3\", \"6\", \"7\", \"10\", \"12\", \"14\", \"16\", \"18\", \"20\", \"21\", \"22\", \"23\", \"24\", \"25\", \"26\"], \"mode\": \"lines\", \"name\": \"spearman_correlation_max\", \"stepped\": true, \"type\": \"scatter\", \"data\": [0.6519369270589044, 0.6519369270589044, 0.681777115367822, 0.681777115367822, 0.681777115367822, 0.6820147111927104, 0.6820147111927104, 0.6820147111927104, 0.6820147111927104, 0.6820147111927104, 0.6820147111927104, 0.6820147111927104, 0.6820147111927104, 0.6820147111927104, 0.6820147111927104, 0.6939511448889432, 0.6939511448889432]}], \"normalized_mean_absolute_error\": [{\"categories\": [\"0\", \"1\", \"3\", \"6\", \"7\", \"10\", \"12\", \"14\", \"16\", \"18\", \"20\", \"21\", \"22\", \"23\", \"24\", \"25\", \"26\"], \"mode\": \"markers\", \"name\": \"normalized_mean_absolute_error\", \"stepped\": false, \"type\": \"scatter\", \"data\": [0.14281898277191013, 0.14481410186869204, 0.13817700377078082, 0.14373655037950955, 0.13841872548465428, 0.13815737393140806, 0.15391752503508255, 0.14583742867261232, 0.15528761265795105, 0.16794324467235544, 0.1421528644196548, 0.14514017077630165, 0.13854924144374486, 0.14689898360199133, 0.14650220992174223, 0.13556995913442696, 0.1359722958732896]}, {\"categories\": [\"0\", \"1\", \"3\", \"6\", \"7\", \"10\", \"12\", \"14\", \"16\", \"18\", \"20\", \"21\", \"22\", \"23\", \"24\", \"25\", \"26\"], \"mode\": \"lines\", \"name\": \"normalized_mean_absolute_error_min\", \"stepped\": true, \"type\": \"scatter\", \"data\": [0.14281898277191013, 0.14281898277191013, 0.13817700377078082, 0.13817700377078082, 0.13817700377078082, 0.13815737393140806, 0.13815737393140806, 0.13815737393140806, 0.13815737393140806, 0.13815737393140806, 0.13815737393140806, 0.13815737393140806, 0.13815737393140806, 0.13815737393140806, 0.13815737393140806, 0.13556995913442696, 0.13556995913442696]}], \"root_mean_squared_log_error\": [{\"categories\": [\"0\", \"1\", \"3\", \"6\", \"7\", \"10\", \"12\", \"14\", \"16\", \"18\", \"20\", \"21\", \"22\", \"23\", \"24\", \"25\", \"26\"], \"mode\": \"markers\", \"name\": \"root_mean_squared_log_error\", \"stepped\": false, \"type\": \"scatter\", \"data\": [0.435282060272144, 0.4300365665679178, 0.4229550616731025, 0.4312451953092201, 0.42115410366312966, 0.42316946239157655, 0.4616495572538333, 0.43186352599761146, 0.46525289315934504, 0.49582987646939386, 0.42616048572375187, 0.43605525734226214, 0.4181231969281467, 0.4297395739119085, 0.4296099539539499, 0.41111835873254854, 0.41238005609682354]}, {\"categories\": [\"0\", \"1\", \"3\", \"6\", \"7\", \"10\", \"12\", \"14\", \"16\", \"18\", \"20\", \"21\", \"22\", \"23\", \"24\", \"25\", \"26\"], \"mode\": \"lines\", \"name\": \"root_mean_squared_log_error_min\", \"stepped\": true, \"type\": \"scatter\", \"data\": [0.435282060272144, 0.4300365665679178, 0.4229550616731025, 0.4229550616731025, 0.42115410366312966, 0.42115410366312966, 0.42115410366312966, 0.42115410366312966, 0.42115410366312966, 0.42115410366312966, 0.42115410366312966, 0.42115410366312966, 0.4181231969281467, 0.4181231969281467, 0.4181231969281467, 0.41111835873254854, 0.41111835873254854]}], \"normalized_root_mean_squared_log_error\": [{\"categories\": [\"0\", \"1\", \"3\", \"6\", \"7\", \"10\", \"12\", \"14\", \"16\", \"18\", \"20\", \"21\", \"22\", \"23\", \"24\", \"25\", \"26\"], \"mode\": \"markers\", \"name\": \"normalized_root_mean_squared_log_error\", \"stepped\": false, \"type\": \"scatter\", \"data\": [0.16798290989168657, 0.1659585827330999, 0.16322570695618516, 0.1664250135637566, 0.1625306859692903, 0.16330844791856167, 0.17815858510048144, 0.1666636381196282, 0.17954917503278106, 0.19134936415364717, 0.16446273579015142, 0.16828130007500117, 0.16136100639960066, 0.1658439681070303, 0.16579394551316484, 0.15865771763396366, 0.1591446285682693]}, {\"categories\": [\"0\", \"1\", \"3\", \"6\", \"7\", \"10\", \"12\", \"14\", \"16\", \"18\", \"20\", \"21\", \"22\", \"23\", \"24\", \"25\", \"26\"], \"mode\": \"lines\", \"name\": \"normalized_root_mean_squared_log_error_min\", \"stepped\": true, \"type\": \"scatter\", \"data\": [0.16798290989168657, 0.1659585827330999, 0.16322570695618516, 0.16322570695618516, 0.1625306859692903, 0.1625306859692903, 0.1625306859692903, 0.1625306859692903, 0.1625306859692903, 0.1625306859692903, 0.1625306859692903, 0.1625306859692903, 0.16136100639960066, 0.16136100639960066, 0.16136100639960066, 0.15865771763396366, 0.15865771763396366]}]}, \"metricName\": null, \"primaryMetricName\": \"normalized_root_mean_squared_error\", \"showLegend\": false}, \"run_metrics\": [{\"name\": \"experiment_status\", \"run_id\": \"AutoML_c37a892e-9db6-4141-bedf-6a4f88439f65\", \"categories\": [0, 1, 2, 3, 4, 5, 6, 7, 8, 9, 10, 11, 12, 13], \"series\": [{\"data\": [\"DatasetEvaluation\", \"FeaturesGeneration\", \"DatasetFeaturization\", \"DatasetFeaturizationCompleted\", \"DatasetCrossValidationSplit\", \"ModelSelection\", \"BestRunExplainModel\", \"ModelExplanationDataSetSetup\", \"PickSurrogateModel\", \"EngineeredFeatureExplanations\", \"EngineeredFeatureExplanations\", \"RawFeaturesExplanations\", \"RawFeaturesExplanations\", \"BestRunExplainModel\"]}]}, {\"name\": \"experiment_status_description\", \"run_id\": \"AutoML_c37a892e-9db6-4141-bedf-6a4f88439f65\", \"categories\": [0, 1, 2, 3, 4, 5, 6, 7, 8, 9, 10, 11, 12, 13], \"series\": [{\"data\": [\"Gathering dataset statistics.\", \"Generating features for the dataset.\", \"Beginning to fit featurizers and featurize the dataset.\", \"Completed fit featurizers and featurizing the dataset.\", \"Generating individually featurized CV splits.\", \"Beginning model selection.\", \"Best run model explanations started\", \"Model explanations data setup completed\", \"Choosing LightGBM as the surrogate model for explanations\", \"Computation of engineered features started\", \"Computation of engineered features completed\", \"Computation of raw features started\", \"Computation of raw features completed\", \"Best run model explanations completed\"]}]}, {\"name\": \"spearman_correlation\", \"run_id\": \"AutoML_c37a892e-9db6-4141-bedf-6a4f88439f65\", \"categories\": [0], \"series\": [{\"data\": [0.6939511448889432]}]}, {\"name\": \"root_mean_squared_log_error\", \"run_id\": \"AutoML_c37a892e-9db6-4141-bedf-6a4f88439f65\", \"categories\": [0], \"series\": [{\"data\": [0.41111835873254854]}]}, {\"name\": \"normalized_mean_absolute_error\", \"run_id\": \"AutoML_c37a892e-9db6-4141-bedf-6a4f88439f65\", \"categories\": [0], \"series\": [{\"data\": [0.13556995913442696]}]}, {\"name\": \"root_mean_squared_error\", \"run_id\": \"AutoML_c37a892e-9db6-4141-bedf-6a4f88439f65\", \"categories\": [0], \"series\": [{\"data\": [53.801569870733076]}]}, {\"name\": \"explained_variance\", \"run_id\": \"AutoML_c37a892e-9db6-4141-bedf-6a4f88439f65\", \"categories\": [0], \"series\": [{\"data\": [0.5039589356077898]}]}, {\"name\": \"normalized_median_absolute_error\", \"run_id\": \"AutoML_c37a892e-9db6-4141-bedf-6a4f88439f65\", \"categories\": [0], \"series\": [{\"data\": [0.11936257271176073]}]}, {\"name\": \"mean_absolute_error\", \"run_id\": \"AutoML_c37a892e-9db6-4141-bedf-6a4f88439f65\", \"categories\": [0], \"series\": [{\"data\": [43.517956882151054]}]}, {\"name\": \"median_absolute_error\", \"run_id\": \"AutoML_c37a892e-9db6-4141-bedf-6a4f88439f65\", \"categories\": [0], \"series\": [{\"data\": [38.3153858404752]}]}, {\"name\": \"normalized_root_mean_squared_log_error\", \"run_id\": \"AutoML_c37a892e-9db6-4141-bedf-6a4f88439f65\", \"categories\": [0], \"series\": [{\"data\": [0.15865771763396366]}]}, {\"name\": \"normalized_root_mean_squared_error\", \"run_id\": \"AutoML_c37a892e-9db6-4141-bedf-6a4f88439f65\", \"categories\": [0], \"series\": [{\"data\": [0.16760613666895038]}]}, {\"name\": \"r2_score\", \"run_id\": \"AutoML_c37a892e-9db6-4141-bedf-6a4f88439f65\", \"categories\": [0], \"series\": [{\"data\": [0.5035818873988058]}]}, {\"name\": \"mean_absolute_percentage_error\", \"run_id\": \"AutoML_c37a892e-9db6-4141-bedf-6a4f88439f65\", \"categories\": [0], \"series\": [{\"data\": [39.014896712080414]}]}], \"run_logs\": \"\\nRun is completed.\", \"graph\": {}, \"widget_settings\": {\"childWidgetDisplay\": \"popup\", \"send_telemetry\": false, \"log_level\": \"INFO\", \"sdk_version\": \"1.37.0\"}, \"loading\": false}"
          },
          "metadata": {},
          "output_type": "display_data"
        }
      ],
      "source": [
        "# Entrene su modelo de regresión de diabetes AutoML\n",
        "AutoML_run = exp.submit(config, show_output = True)\n",
        "RunDetails(AutoML_run).show()"
      ]
    },
    {
      "cell_type": "code",
      "execution_count": null,
      "id": "867606b0",
      "metadata": {
        "id": "867606b0",
        "outputId": "d1ee1632-8dea-4be2-9aa6-76d7d44a0607"
      },
      "outputs": [
        {
          "data": {
            "text/plain": [
              "Model(workspace=Workspace.create(name='automl-example-workspace', subscription_id='0aad4149-65b5-42c8-9b25-ce17f2fed264', resource_group='auto-ml-example-resource-group'), name=Diabetes-AllData-Regression-AutoML, id=Diabetes-AllData-Regression-AutoML:1, version=1, tags={'project': 'Diabetes', 'creator': 'your name'}, properties={})"
            ]
          },
          "execution_count": 18,
          "metadata": {},
          "output_type": "execute_result"
        }
      ],
      "source": [
        "# Registre su modelo AutoML entrenado en su espacio de trabajo AMLS\n",
        "description = 'Best AutoML Regression Run using Diabetes Sample Data. This model requires the Age and Sex Columns.' \n",
        "tags = {'project' : \"Diabetes\", \"creator\" : \"your name\"} \n",
        "model_name = 'Diabetes-AllData-Regression-AutoML' \n",
        "\n",
        "AutoML_run.register_model(model_name=model_name,description=description,tags=tags)"
      ]
    },
    {
      "cell_type": "code",
      "execution_count": null,
      "id": "d215302b",
      "metadata": {
        "id": "d215302b",
        "outputId": "3e7daf2c-a76e-4637-dcbc-2e0b7324a02f"
      },
      "outputs": [
        {
          "data": {
            "text/plain": [
              "Model(workspace=Workspace.create(name='automl-example-workspace', subscription_id='0aad4149-65b5-42c8-9b25-ce17f2fed264', resource_group='auto-ml-example-resource-group'), name=Diabetes-AllData-Regression-AutoML-R2, id=Diabetes-AllData-Regression-AutoML-R2:1, version=1, tags={'project': 'Diabetes', 'creator': 'your name', 'metric': 'R2'}, properties={})"
            ]
          },
          "execution_count": 19,
          "metadata": {},
          "output_type": "execute_result"
        }
      ],
      "source": [
        "# Registre su modelo AutoML entrenado en su espacio de trabajo AMLS utilizando la puntuación R2 en lugar del error medio cuadrático normalizado\n",
        "description = 'Best AutoML Regression Run using Diabetes Sample Data. This model requires the Age and Sex Columns.' \n",
        "tags = {'project' : \"Diabetes\", \"creator\" : \"your name\", \"metric\" : \"R2\"} \n",
        "model_name = 'Diabetes-AllData-Regression-AutoML-R2' \n",
        "AutoML_run.register_model(model_name=model_name, description=description, tags=tags, metric = 'r2_score')"
      ]
    }
  ],
  "metadata": {
    "kernelspec": {
      "display_name": "Python 3.8 - AzureML",
      "language": "python",
      "name": "python38-azureml"
    },
    "language_info": {
      "codemirror_mode": {
        "name": "ipython",
        "version": 3
      },
      "file_extension": ".py",
      "mimetype": "text/x-python",
      "name": "python",
      "nbconvert_exporter": "python",
      "pygments_lexer": "ipython3",
      "version": "3.8.1"
    },
    "colab": {
      "name": "Diabetes AutoML.ipynb",
      "provenance": [],
      "include_colab_link": true
    }
  },
  "nbformat": 4,
  "nbformat_minor": 5
}