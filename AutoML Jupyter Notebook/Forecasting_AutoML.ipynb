{
  "cells": [
    {
      "cell_type": "markdown",
      "metadata": {
        "id": "view-in-github",
        "colab_type": "text"
      },
      "source": [
        "<a href=\"https://colab.research.google.com/github/Jushef/Azure-AutoML/blob/main/AutoML%20Jupyter%20Notebook/Forecasting_AutoML.ipynb\" target=\"_parent\"><img src=\"https://colab.research.google.com/assets/colab-badge.svg\" alt=\"Open In Colab\"/></a>"
      ]
    },
    {
      "cell_type": "code",
      "execution_count": null,
      "id": "855f637e",
      "metadata": {
        "id": "855f637e"
      },
      "outputs": [],
      "source": [
        "# Load in Azure Packages\n",
        "from azureml.core import Workspace, Dataset, Datastore\n",
        "from azureml.core import Experiment\n",
        "from azureml.core.compute import ComputeTarget\n",
        "from azureml.train.automl import AutoMLConfig\n",
        "from azureml.train.automl.run import AutoMLRun\n",
        "from azureml.widgets import RunDetails\n",
        "from azureml.opendatasets import OjSalesSimulated\n",
        "from azureml.automl.core.forecasting_parameters import ForecastingParameters"
      ]
    },
    {
      "cell_type": "code",
      "execution_count": null,
      "id": "65041094",
      "metadata": {
        "id": "65041094"
      },
      "outputs": [],
      "source": [
        "# Load in non-Azure Packages\n",
        "import pandas as pd\n",
        "import numpy as np\n",
        "import os\n",
        "from pathlib import Path"
      ]
    },
    {
      "cell_type": "code",
      "execution_count": null,
      "id": "8d5310ea",
      "metadata": {
        "id": "8d5310ea"
      },
      "outputs": [],
      "source": [
        "# Connect to your AMLS Workspace\n",
        "ws = Workspace.from_config()"
      ]
    },
    {
      "cell_type": "code",
      "execution_count": null,
      "id": "4a5398ca",
      "metadata": {
        "id": "4a5398ca"
      },
      "outputs": [],
      "source": [
        "# Set your Compute Cluster\n",
        "compute_name = 'automl-compute'\n",
        "compute_target = ComputeTarget(ws, compute_name)"
      ]
    },
    {
      "cell_type": "code",
      "execution_count": null,
      "id": "88ee61eb",
      "metadata": {
        "id": "88ee61eb"
      },
      "outputs": [],
      "source": [
        "# Set your Datastore\n",
        "datastore = Datastore.get_default(ws)\n",
        "my_datastore_name = 'workspaceblobstore'\n",
        "my_datastore = Datastore.get(ws, my_datastore_name)"
      ]
    },
    {
      "cell_type": "code",
      "execution_count": null,
      "id": "62ffe209",
      "metadata": {
        "id": "62ffe209"
      },
      "outputs": [],
      "source": [
        "# Retrieve the OJ Sales Data Set\n",
        "oj_sales_files = OjSalesSimulated.get_file_dataset()\n",
        "oj_sales = oj_sales_files.take(10)"
      ]
    },
    {
      "cell_type": "code",
      "execution_count": null,
      "id": "4fa4c4b0",
      "metadata": {
        "id": "4fa4c4b0"
      },
      "outputs": [],
      "source": [
        "# Create a folder called OJ_Sales\n",
        "folder_name = \"OJ_Sales\"\n",
        "os.makedirs(folder_name, exist_ok=True)"
      ]
    },
    {
      "cell_type": "code",
      "execution_count": null,
      "id": "abe3ada9",
      "metadata": {
        "id": "abe3ada9",
        "outputId": "72f75ba1-9bcf-41c3-8371-d430b1836a2f"
      },
      "outputs": [
        {
          "data": {
            "text/plain": [
              "['/mnt/batch/tasks/shared/LS_root/mounts/clusters/inv07021-automl/code/OJ_Sales/https%3A/%2Fazureopendatastorage.azurefd.net/ojsales-simulatedcontainer/oj_sales_data/Store1000_dominicks.csv',\n",
              " '/mnt/batch/tasks/shared/LS_root/mounts/clusters/inv07021-automl/code/OJ_Sales/https%3A/%2Fazureopendatastorage.azurefd.net/ojsales-simulatedcontainer/oj_sales_data/Store1000_minute.maid.csv',\n",
              " '/mnt/batch/tasks/shared/LS_root/mounts/clusters/inv07021-automl/code/OJ_Sales/https%3A/%2Fazureopendatastorage.azurefd.net/ojsales-simulatedcontainer/oj_sales_data/Store1000_tropicana.csv',\n",
              " '/mnt/batch/tasks/shared/LS_root/mounts/clusters/inv07021-automl/code/OJ_Sales/https%3A/%2Fazureopendatastorage.azurefd.net/ojsales-simulatedcontainer/oj_sales_data/Store1001_dominicks.csv',\n",
              " '/mnt/batch/tasks/shared/LS_root/mounts/clusters/inv07021-automl/code/OJ_Sales/https%3A/%2Fazureopendatastorage.azurefd.net/ojsales-simulatedcontainer/oj_sales_data/Store1001_minute.maid.csv',\n",
              " '/mnt/batch/tasks/shared/LS_root/mounts/clusters/inv07021-automl/code/OJ_Sales/https%3A/%2Fazureopendatastorage.azurefd.net/ojsales-simulatedcontainer/oj_sales_data/Store1001_tropicana.csv',\n",
              " '/mnt/batch/tasks/shared/LS_root/mounts/clusters/inv07021-automl/code/OJ_Sales/https%3A/%2Fazureopendatastorage.azurefd.net/ojsales-simulatedcontainer/oj_sales_data/Store1002_dominicks.csv',\n",
              " '/mnt/batch/tasks/shared/LS_root/mounts/clusters/inv07021-automl/code/OJ_Sales/https%3A/%2Fazureopendatastorage.azurefd.net/ojsales-simulatedcontainer/oj_sales_data/Store1002_minute.maid.csv',\n",
              " '/mnt/batch/tasks/shared/LS_root/mounts/clusters/inv07021-automl/code/OJ_Sales/https%3A/%2Fazureopendatastorage.azurefd.net/ojsales-simulatedcontainer/oj_sales_data/Store1002_tropicana.csv',\n",
              " '/mnt/batch/tasks/shared/LS_root/mounts/clusters/inv07021-automl/code/OJ_Sales/https%3A/%2Fazureopendatastorage.azurefd.net/ojsales-simulatedcontainer/oj_sales_data/Store1003_dominicks.csv']"
            ]
          },
          "execution_count": 8,
          "metadata": {},
          "output_type": "execute_result"
        }
      ],
      "source": [
        "# Download the OJ Sales Files to your OJ_Sales folder\n",
        "oj_sales.download(folder_name, overwrite=True)"
      ]
    },
    {
      "cell_type": "code",
      "execution_count": null,
      "id": "90e765e5",
      "metadata": {
        "id": "90e765e5"
      },
      "outputs": [],
      "source": [
        "# Create a single Pandas dataframe out of your OJ Files\n",
        "OJ_file_path = Path('OJ_Sales').rglob('*.csv')\n",
        "OJ_files = [x for x in OJ_file_path]\n",
        "df = pd.concat((pd.read_csv(f) for f in OJ_files))"
      ]
    },
    {
      "cell_type": "code",
      "execution_count": null,
      "id": "6842d0ef",
      "metadata": {
        "id": "6842d0ef",
        "outputId": "8b224f13-47d1-4e25-f58a-8b9aaa8f352e"
      },
      "outputs": [
        {
          "data": {
            "text/html": [
              "<div>\n",
              "<style scoped>\n",
              "    .dataframe tbody tr th:only-of-type {\n",
              "        vertical-align: middle;\n",
              "    }\n",
              "\n",
              "    .dataframe tbody tr th {\n",
              "        vertical-align: top;\n",
              "    }\n",
              "\n",
              "    .dataframe thead th {\n",
              "        text-align: right;\n",
              "    }\n",
              "</style>\n",
              "<table border=\"1\" class=\"dataframe\">\n",
              "  <thead>\n",
              "    <tr style=\"text-align: right;\">\n",
              "      <th></th>\n",
              "      <th>WeekStarting</th>\n",
              "      <th>Store</th>\n",
              "      <th>Brand</th>\n",
              "      <th>Quantity</th>\n",
              "      <th>Advert</th>\n",
              "      <th>Price</th>\n",
              "      <th>Revenue</th>\n",
              "    </tr>\n",
              "  </thead>\n",
              "  <tbody>\n",
              "    <tr>\n",
              "      <th>0</th>\n",
              "      <td>1990-06-14</td>\n",
              "      <td>1000</td>\n",
              "      <td>dominicks</td>\n",
              "      <td>12003</td>\n",
              "      <td>1</td>\n",
              "      <td>2.59</td>\n",
              "      <td>31087.77</td>\n",
              "    </tr>\n",
              "    <tr>\n",
              "      <th>1</th>\n",
              "      <td>1990-06-21</td>\n",
              "      <td>1000</td>\n",
              "      <td>dominicks</td>\n",
              "      <td>10239</td>\n",
              "      <td>1</td>\n",
              "      <td>2.39</td>\n",
              "      <td>24471.21</td>\n",
              "    </tr>\n",
              "    <tr>\n",
              "      <th>2</th>\n",
              "      <td>1990-06-28</td>\n",
              "      <td>1000</td>\n",
              "      <td>dominicks</td>\n",
              "      <td>17917</td>\n",
              "      <td>1</td>\n",
              "      <td>2.48</td>\n",
              "      <td>44434.16</td>\n",
              "    </tr>\n",
              "    <tr>\n",
              "      <th>3</th>\n",
              "      <td>1990-07-05</td>\n",
              "      <td>1000</td>\n",
              "      <td>dominicks</td>\n",
              "      <td>14218</td>\n",
              "      <td>1</td>\n",
              "      <td>2.33</td>\n",
              "      <td>33127.94</td>\n",
              "    </tr>\n",
              "    <tr>\n",
              "      <th>4</th>\n",
              "      <td>1990-07-12</td>\n",
              "      <td>1000</td>\n",
              "      <td>dominicks</td>\n",
              "      <td>15925</td>\n",
              "      <td>1</td>\n",
              "      <td>2.01</td>\n",
              "      <td>32009.25</td>\n",
              "    </tr>\n",
              "    <tr>\n",
              "      <th>5</th>\n",
              "      <td>1990-07-19</td>\n",
              "      <td>1000</td>\n",
              "      <td>dominicks</td>\n",
              "      <td>17850</td>\n",
              "      <td>1</td>\n",
              "      <td>2.17</td>\n",
              "      <td>38734.50</td>\n",
              "    </tr>\n",
              "    <tr>\n",
              "      <th>6</th>\n",
              "      <td>1990-07-26</td>\n",
              "      <td>1000</td>\n",
              "      <td>dominicks</td>\n",
              "      <td>10576</td>\n",
              "      <td>1</td>\n",
              "      <td>1.97</td>\n",
              "      <td>20834.72</td>\n",
              "    </tr>\n",
              "    <tr>\n",
              "      <th>7</th>\n",
              "      <td>1990-08-02</td>\n",
              "      <td>1000</td>\n",
              "      <td>dominicks</td>\n",
              "      <td>9912</td>\n",
              "      <td>1</td>\n",
              "      <td>2.26</td>\n",
              "      <td>22401.12</td>\n",
              "    </tr>\n",
              "    <tr>\n",
              "      <th>8</th>\n",
              "      <td>1990-08-09</td>\n",
              "      <td>1000</td>\n",
              "      <td>dominicks</td>\n",
              "      <td>9571</td>\n",
              "      <td>1</td>\n",
              "      <td>2.11</td>\n",
              "      <td>20194.81</td>\n",
              "    </tr>\n",
              "    <tr>\n",
              "      <th>9</th>\n",
              "      <td>1990-08-16</td>\n",
              "      <td>1000</td>\n",
              "      <td>dominicks</td>\n",
              "      <td>15748</td>\n",
              "      <td>1</td>\n",
              "      <td>2.42</td>\n",
              "      <td>38110.16</td>\n",
              "    </tr>\n",
              "  </tbody>\n",
              "</table>\n",
              "</div>"
            ],
            "text/plain": [
              "  WeekStarting  Store      Brand  Quantity  Advert  Price   Revenue\n",
              "0   1990-06-14   1000  dominicks     12003       1   2.59  31087.77\n",
              "1   1990-06-21   1000  dominicks     10239       1   2.39  24471.21\n",
              "2   1990-06-28   1000  dominicks     17917       1   2.48  44434.16\n",
              "3   1990-07-05   1000  dominicks     14218       1   2.33  33127.94\n",
              "4   1990-07-12   1000  dominicks     15925       1   2.01  32009.25\n",
              "5   1990-07-19   1000  dominicks     17850       1   2.17  38734.50\n",
              "6   1990-07-26   1000  dominicks     10576       1   1.97  20834.72\n",
              "7   1990-08-02   1000  dominicks      9912       1   2.26  22401.12\n",
              "8   1990-08-09   1000  dominicks      9571       1   2.11  20194.81\n",
              "9   1990-08-16   1000  dominicks     15748       1   2.42  38110.16"
            ]
          },
          "execution_count": 10,
          "metadata": {},
          "output_type": "execute_result"
        }
      ],
      "source": [
        "# View your Pandas dataframe\n",
        "df.head(10)"
      ]
    },
    {
      "cell_type": "code",
      "execution_count": null,
      "id": "fde690da",
      "metadata": {
        "id": "fde690da",
        "outputId": "f82f612c-ede9-49d6-9946-5714f33b51b3"
      },
      "outputs": [
        {
          "name": "stdout",
          "output_type": "stream",
          "text": [
            "Validating arguments.\n",
            "Arguments validated.\n",
            "Successfully obtained datastore reference and path.\n",
            "Uploading file to managed-dataset/3419f424-572b-452c-943b-07248823e9e2/\n",
            "Successfully uploaded file to datastore.\n",
            "Creating and registering a new dataset.\n",
            "Successfully created and registered a new dataset.\n"
          ]
        },
        {
          "data": {
            "text/plain": [
              "{\n",
              "  \"source\": [\n",
              "    \"('workspaceblobstore', 'managed-dataset/3419f424-572b-452c-943b-07248823e9e2/')\"\n",
              "  ],\n",
              "  \"definition\": [\n",
              "    \"GetDatastoreFiles\",\n",
              "    \"ReadParquetFile\",\n",
              "    \"DropColumns\"\n",
              "  ],\n",
              "  \"registration\": {\n",
              "    \"id\": \"c7f3262f-e3f6-4b23-a21f-7922deb9bd0f\",\n",
              "    \"name\": \"OJ Sales Sample\",\n",
              "    \"version\": 1,\n",
              "    \"workspace\": \"Workspace.create(name='automl-example-workspace', subscription_id='0aad4149-65b5-42c8-9b25-ce17f2fed264', resource_group='auto-ml-example-resource-group')\"\n",
              "  }\n",
              "}"
            ]
          },
          "execution_count": 11,
          "metadata": {},
          "output_type": "execute_result"
        }
      ],
      "source": [
        "# Register OJ Sales as a dataset\n",
        "Dataset.Tabular.register_pandas_dataframe(df, datastore,\n",
        "                            \"OJ Sales Sample\")"
      ]
    },
    {
      "cell_type": "code",
      "execution_count": null,
      "id": "5a1e7f2a",
      "metadata": {
        "id": "5a1e7f2a"
      },
      "outputs": [],
      "source": [
        "# Set your experiment that will be used to train your AutoML Model\n",
        "experiment_name = 'OJ-Sales-Forecasting'\n",
        "exp = Experiment(workspace=ws, name=experiment_name)"
      ]
    },
    {
      "cell_type": "code",
      "execution_count": null,
      "id": "263db422",
      "metadata": {
        "id": "263db422"
      },
      "outputs": [],
      "source": [
        "# Retrieve your OJ Sales Sample dataset\n",
        "dataset_name = \"OJ Sales Sample\"\n",
        "dataset = Dataset.get_by_name(ws, dataset_name, version='latest')"
      ]
    },
    {
      "cell_type": "code",
      "execution_count": null,
      "id": "1dc2536c",
      "metadata": {
        "id": "1dc2536c"
      },
      "outputs": [],
      "source": [
        "# Set your target column\n",
        "target_column = 'Quantity'"
      ]
    },
    {
      "cell_type": "code",
      "execution_count": null,
      "id": "c9ca9418",
      "metadata": {
        "id": "c9ca9418"
      },
      "outputs": [],
      "source": [
        "# Set your task to forecasting\n",
        "task = 'forecasting'"
      ]
    },
    {
      "cell_type": "code",
      "execution_count": null,
      "id": "cb6bacc9",
      "metadata": {
        "id": "cb6bacc9"
      },
      "outputs": [],
      "source": [
        "# Set the metric you will use to score your model\n",
        "primary_metric = 'normalized_root_mean_squared_error'"
      ]
    },
    {
      "cell_type": "code",
      "execution_count": null,
      "id": "7cb5dea2",
      "metadata": {
        "id": "7cb5dea2"
      },
      "outputs": [],
      "source": [
        "# Set featurization to auto\n",
        "featurization = 'auto'"
      ]
    },
    {
      "cell_type": "code",
      "execution_count": null,
      "id": "37940ae6",
      "metadata": {
        "id": "37940ae6"
      },
      "outputs": [],
      "source": [
        "# Set forecasting parameters\n",
        "params=ForecastingParameters.from_parameters_dict( {'country_or_region_for_holidays':'US',\\\n",
        "                                                    'drop_columns_names':'Revenue',\\\n",
        "                                                    'forecast_horizon': 6,\\\n",
        "                                                    'target_rolling_window_size': 'auto',\\\n",
        "                                                    'target_lags': 'auto',\\\n",
        "                                                    'feature_lags': 'auto',\\\n",
        "                                                    'seasonality': 'auto',\\\n",
        "                                                    'short_series_handling': True,\\\n",
        "                                                    'use_stl': 'season_trend',\\\n",
        "                                                    'time_column_name':'WeekStarting',\\\n",
        "                                                    'time_series_id_column_names':['Store','Brand'],\\\n",
        "                                                    'short_series_handling_configuration': 'auto'},\\\n",
        "                                                    validate_params=True)"
      ]
    },
    {
      "cell_type": "code",
      "execution_count": null,
      "id": "2939f8d4",
      "metadata": {
        "id": "2939f8d4"
      },
      "outputs": [],
      "source": [
        "# Set AutoML configuration\n",
        "config = AutoMLConfig(task=task,\n",
        "                     primary_metric=primary_metric,\n",
        "                     featurization=featurization,\n",
        "                     compute_target=compute_target,\n",
        "                     training_data=dataset,\n",
        "                     label_column_name=target_column,\n",
        "                     experiment_timeout_minutes=15,\n",
        "                     enable_early_stopping=True,\n",
        "                     n_cross_validations=3,\n",
        "                     model_explainability=True,\n",
        "                     enable_stack_ensemble=False,\n",
        "                     enable_voting_ensemble=True,\n",
        "                     forecasting_parameters=params)"
      ]
    },
    {
      "cell_type": "code",
      "execution_count": null,
      "id": "3098398a",
      "metadata": {
        "scrolled": false,
        "id": "3098398a",
        "outputId": "baca6d9a-899f-4da2-c826-6d3945bf2eb8",
        "colab": {
          "referenced_widgets": [
            "de50e18ec6e34e9eade3a0666d7f3cae"
          ]
        }
      },
      "outputs": [
        {
          "name": "stdout",
          "output_type": "stream",
          "text": [
            "Submitting remote run.\n",
            "No run_configuration provided, running on automl-compute with default configuration\n",
            "Running on remote compute: automl-compute\n"
          ]
        },
        {
          "data": {
            "text/html": [
              "<table style=\"width:100%\"><tr><th>Experiment</th><th>Id</th><th>Type</th><th>Status</th><th>Details Page</th><th>Docs Page</th></tr><tr><td>OJ-Sales-Forecasting</td><td>AutoML_6a2a167f-2ea6-445c-8db7-bb7833cfe72d</td><td>automl</td><td>NotStarted</td><td><a href=\"https://ml.azure.com/runs/AutoML_6a2a167f-2ea6-445c-8db7-bb7833cfe72d?wsid=/subscriptions/0aad4149-65b5-42c8-9b25-ce17f2fed264/resourcegroups/auto-ml-example-resource-group/workspaces/automl-example-workspace&amp;tid=4ae54b05-b77e-4224-aef1-8661422e0816\" target=\"_blank\" rel=\"noopener\">Link to Azure Machine Learning studio</a></td><td><a href=\"https://docs.microsoft.com/en-us/python/api/overview/azure/ml/intro?view=azure-ml-py\" target=\"_blank\" rel=\"noopener\">Link to Documentation</a></td></tr></table>"
            ],
            "text/plain": [
              "<IPython.core.display.HTML object>"
            ]
          },
          "metadata": {},
          "output_type": "display_data"
        },
        {
          "name": "stdout",
          "output_type": "stream",
          "text": [
            "\n",
            "Current status: DatasetFeaturizationCompleted. Completed featurizing the CV split.\n",
            "Current status: ModelSelection. Beginning model selection.\n",
            "Heuristic parameters: Target_Lag = '[0]', Target_Rolling_Window = '0'.\n",
            "\n",
            "\n",
            "********************************************************************************************\n",
            "DATA GUARDRAILS: \n",
            "\n",
            "TYPE:         Time Series ID detection\n",
            "STATUS:       PASSED\n",
            "DESCRIPTION:  The data set was analyzed, and no duplicate time index were detected.\n",
            "              Learn more about time-series forecasting configurations: https://aka.ms/AutomatedMLForecastingConfiguration\n",
            "\n",
            "********************************************************************************************\n",
            "\n",
            "TYPE:         Frequency detection\n",
            "STATUS:       PASSED\n",
            "DESCRIPTION:  The time series was analyzed, all data points are aligned with detected frequency.\n",
            "              \n",
            "\n",
            "********************************************************************************************\n",
            "\n",
            "TYPE:         Missing feature values imputation\n",
            "STATUS:       PASSED\n",
            "DESCRIPTION:  No feature missing values were detected in the training data.\n",
            "              Learn more about missing value imputation: https://aka.ms/AutomatedMLFeaturization\n",
            "\n",
            "********************************************************************************************\n",
            "\n",
            "TYPE:         Memory Issues Detection\n",
            "STATUS:       PASSED\n",
            "DESCRIPTION:  The selected horizon, lag and rolling window values were analyzed, and no potential memory issues were detected.\n",
            "              Learn more about time-series forecasting configurations: https://aka.ms/AutomatedMLForecastingConfiguration\n",
            "\n",
            "********************************************************************************************\n",
            "\n",
            "TYPE:         Short series handling\n",
            "STATUS:       PASSED\n",
            "DESCRIPTION:  Automated ML detected enough data points for each series in the input data to continue with training.\n",
            "              \n",
            "\n",
            "********************************************************************************************\n",
            "\n",
            "********************************************************************************************\n",
            "ITER: The iteration being evaluated.\n",
            "PIPELINE: A summary description of the pipeline being evaluated.\n",
            "DURATION: Time taken for the current iteration.\n",
            "METRIC: The result of computing score on the fitted pipeline.\n",
            "BEST: The best observed score thus far.\n",
            "********************************************************************************************\n",
            "\n",
            " ITER   PIPELINE                                       DURATION            METRIC      BEST\n",
            "    0    Naive                                         0:00:13             0.3749    0.3749\n",
            "    1    SeasonalNaive                                 0:00:09             0.3663    0.3663\n",
            "    2    Average                                       0:00:10             0.2646    0.2646\n",
            "    3    SeasonalAverage                               0:00:09             0.2861    0.2646\n",
            "    4    ExponentialSmoothing                          0:02:02             0.2653    0.2646\n",
            "    5    Arimax                                        0:01:41             0.0280    0.0280\n",
            "    6    ProphetModel                                  0:00:22             0.0359    0.0280\n",
            "    7   StandardScalerWrapper LightGBM                 0:00:09             0.0127    0.0127\n",
            "    8   StandardScalerWrapper XGBoostRegressor         0:00:09             0.0150    0.0127\n",
            "    9   MaxAbsScaler ElasticNet                        0:00:08             0.0248    0.0127\n",
            "   10   RobustScaler ElasticNet                        0:00:09             0.0241    0.0127\n",
            "   11   MinMaxScaler ElasticNet                        0:00:09             0.0242    0.0127\n",
            "   12   StandardScalerWrapper ElasticNet               0:00:09             0.0242    0.0127\n",
            "   13   MinMaxScaler RandomForest                      0:00:09             0.1016    0.0127\n",
            "   14   MaxAbsScaler ElasticNet                        0:00:08             0.0241    0.0127\n",
            "   15   StandardScalerWrapper ElasticNet               0:00:08             0.0242    0.0127\n",
            "   16   MaxAbsScaler ElasticNet                        0:00:09             0.0241    0.0127\n",
            "   17   StandardScalerWrapper ElasticNet               0:00:08             0.0242    0.0127\n",
            "   18   MinMaxScaler ExtremeRandomTrees                0:00:09             0.0421    0.0127\n",
            "   19   MinMaxScaler RandomForest                      0:00:09             0.0242    0.0127\n",
            "   20   MinMaxScaler ExtremeRandomTrees                0:00:39             0.0701    0.0127\n",
            "   21   MinMaxScaler ExtremeRandomTrees                0:01:53             0.1153    0.0127\n",
            "   22   MaxAbsScaler ExtremeRandomTrees                0:01:55             0.0221    0.0127\n",
            "   23    VotingEnsemble                                0:02:23             0.0101    0.0101\n"
          ]
        },
        {
          "data": {
            "application/vnd.jupyter.widget-view+json": {
              "model_id": "de50e18ec6e34e9eade3a0666d7f3cae",
              "version_major": 2,
              "version_minor": 0
            },
            "text/plain": [
              "_AutoMLWidget(widget_settings={'childWidgetDisplay': 'popup', 'send_telemetry': False, 'log_level': 'INFO', 's…"
            ]
          },
          "metadata": {},
          "output_type": "display_data"
        },
        {
          "data": {
            "application/aml.mini.widget.v1": "{\"status\": \"Completed\", \"workbench_run_details_uri\": \"https://ml.azure.com/runs/AutoML_6a2a167f-2ea6-445c-8db7-bb7833cfe72d?wsid=/subscriptions/0aad4149-65b5-42c8-9b25-ce17f2fed264/resourcegroups/auto-ml-example-resource-group/workspaces/automl-example-workspace&tid=4ae54b05-b77e-4224-aef1-8661422e0816\", \"run_id\": \"AutoML_6a2a167f-2ea6-445c-8db7-bb7833cfe72d\", \"run_properties\": {\"run_id\": \"AutoML_6a2a167f-2ea6-445c-8db7-bb7833cfe72d\", \"created_utc\": \"2022-02-07T18:06:25.083193Z\", \"properties\": {\"num_iterations\": \"1000\", \"training_type\": \"TrainFull\", \"acquisition_function\": \"EI\", \"primary_metric\": \"normalized_root_mean_squared_error\", \"train_split\": \"0\", \"acquisition_parameter\": \"0\", \"num_cross_validation\": \"3\", \"target\": \"automl-compute\", \"AMLSettingsJsonString\": \"{\\\"path\\\":null,\\\"name\\\":\\\"OJ-Sales-Forecasting\\\",\\\"subscription_id\\\":\\\"0aad4149-65b5-42c8-9b25-ce17f2fed264\\\",\\\"resource_group\\\":\\\"auto-ml-example-resource-group\\\",\\\"workspace_name\\\":\\\"automl-example-workspace\\\",\\\"region\\\":\\\"eastus2\\\",\\\"compute_target\\\":\\\"automl-compute\\\",\\\"spark_service\\\":null,\\\"azure_service\\\":\\\"remote\\\",\\\"many_models\\\":false,\\\"pipeline_fetch_max_batch_size\\\":1,\\\"enable_batch_run\\\":true,\\\"enable_run_restructure\\\":false,\\\"start_auxiliary_runs_before_parent_complete\\\":false,\\\"enable_code_generation\\\":false,\\\"iterations\\\":1000,\\\"primary_metric\\\":\\\"normalized_root_mean_squared_error\\\",\\\"task_type\\\":\\\"regression\\\",\\\"positive_label\\\":null,\\\"data_script\\\":null,\\\"test_size\\\":0.0,\\\"test_include_predictions_only\\\":false,\\\"validation_size\\\":0.0,\\\"n_cross_validations\\\":3,\\\"y_min\\\":null,\\\"y_max\\\":null,\\\"num_classes\\\":null,\\\"featurization\\\":\\\"auto\\\",\\\"_ignore_package_version_incompatibilities\\\":false,\\\"is_timeseries\\\":true,\\\"max_cores_per_iteration\\\":1,\\\"max_concurrent_iterations\\\":1,\\\"iteration_timeout_minutes\\\":null,\\\"mem_in_mb\\\":null,\\\"enforce_time_on_windows\\\":false,\\\"experiment_timeout_minutes\\\":15,\\\"experiment_exit_score\\\":null,\\\"whitelist_models\\\":null,\\\"blacklist_algos\\\":[\\\"TensorFlowDNN\\\",\\\"TensorFlowLinearRegressor\\\"],\\\"supported_models\\\":[\\\"SeasonalAverage\\\",\\\"ExponentialSmoothing\\\",\\\"XGBoostRegressor\\\",\\\"Naive\\\",\\\"LightGBM\\\",\\\"ElasticNet\\\",\\\"Average\\\",\\\"GradientBoosting\\\",\\\"Prophet\\\",\\\"AutoArima\\\",\\\"RandomForest\\\",\\\"ExtremeRandomTrees\\\",\\\"TensorFlowDNN\\\",\\\"KNN\\\",\\\"SeasonalNaive\\\",\\\"SGD\\\",\\\"TCNForecaster\\\",\\\"DecisionTree\\\",\\\"LassoLars\\\",\\\"Arimax\\\",\\\"TensorFlowLinearRegressor\\\"],\\\"private_models\\\":[\\\"TabnetRegressor\\\"],\\\"auto_blacklist\\\":true,\\\"blacklist_samples_reached\\\":false,\\\"exclude_nan_labels\\\":true,\\\"verbosity\\\":20,\\\"_debug_log\\\":\\\"azureml_automl.log\\\",\\\"show_warnings\\\":false,\\\"model_explainability\\\":true,\\\"service_url\\\":null,\\\"sdk_url\\\":null,\\\"sdk_packages\\\":null,\\\"enable_onnx_compatible_models\\\":false,\\\"enable_split_onnx_featurizer_estimator_models\\\":false,\\\"vm_type\\\":\\\"STANDARD_DS11_V2\\\",\\\"telemetry_verbosity\\\":20,\\\"send_telemetry\\\":true,\\\"enable_dnn\\\":false,\\\"scenario\\\":\\\"SDK-1.13.0\\\",\\\"environment_label\\\":null,\\\"save_mlflow\\\":false,\\\"enable_categorical_indicators\\\":false,\\\"force_text_dnn\\\":false,\\\"enable_feature_sweeping\\\":false,\\\"time_column_name\\\":\\\"WeekStarting\\\",\\\"grain_column_names\\\":[\\\"Store\\\",\\\"Brand\\\"],\\\"drop_column_names\\\":[],\\\"max_horizon\\\":6,\\\"dropna\\\":false,\\\"overwrite_columns\\\":true,\\\"transform_dictionary\\\":{\\\"min\\\":\\\"_automl_target_col\\\",\\\"max\\\":\\\"_automl_target_col\\\",\\\"mean\\\":\\\"_automl_target_col\\\"},\\\"window_size\\\":\\\"auto\\\",\\\"country_or_region\\\":\\\"US\\\",\\\"lags\\\":{\\\"_automl_target_col\\\":[\\\"auto\\\"]},\\\"feature_lags\\\":\\\"auto\\\",\\\"seasonality\\\":\\\"auto\\\",\\\"use_stl\\\":\\\"season_trend\\\",\\\"short_series_handling\\\":true,\\\"freq\\\":null,\\\"short_series_handling_configuration\\\":\\\"auto\\\",\\\"target_aggregation_function\\\":null,\\\"cv_step_size\\\":null,\\\"enable_early_stopping\\\":true,\\\"early_stopping_n_iters\\\":10,\\\"arguments\\\":null,\\\"dataset_id\\\":null,\\\"hyperdrive_config\\\":null,\\\"validation_dataset_id\\\":null,\\\"run_source\\\":null,\\\"metrics\\\":null,\\\"enable_metric_confidence\\\":false,\\\"enable_ensembling\\\":true,\\\"enable_stack_ensembling\\\":false,\\\"ensemble_iterations\\\":15,\\\"enable_tf\\\":false,\\\"enable_subsampling\\\":false,\\\"subsample_seed\\\":null,\\\"enable_nimbusml\\\":false,\\\"enable_streaming\\\":false,\\\"force_streaming\\\":false,\\\"track_child_runs\\\":true,\\\"allowed_private_models\\\":[],\\\"label_column_name\\\":\\\"Quantity\\\",\\\"weight_column_name\\\":null,\\\"cv_split_column_names\\\":null,\\\"enable_local_managed\\\":false,\\\"_local_managed_run_id\\\":null,\\\"cost_mode\\\":1,\\\"lag_length\\\":0,\\\"metric_operation\\\":\\\"minimize\\\",\\\"preprocess\\\":true}\", \"DataPrepJsonString\": \"{\\\\\\\"training_data\\\\\\\": {\\\\\\\"datasetId\\\\\\\": \\\\\\\"c7f3262f-e3f6-4b23-a21f-7922deb9bd0f\\\\\\\"}, \\\\\\\"datasets\\\\\\\": 0}\", \"EnableSubsampling\": \"False\", \"runTemplate\": \"AutoML\", \"azureml.runsource\": \"automl\", \"display_task_type\": \"forecasting\", \"dependencies_versions\": \"{\\\"azureml-widgets\\\": \\\"1.37.0\\\", \\\"azureml-train\\\": \\\"1.37.0\\\", \\\"azureml-train-restclients-hyperdrive\\\": \\\"1.37.0\\\", \\\"azureml-train-core\\\": \\\"1.37.0\\\", \\\"azureml-train-automl-client\\\": \\\"1.37.0\\\", \\\"azureml-tensorboard\\\": \\\"1.37.0\\\", \\\"azureml-telemetry\\\": \\\"1.37.0\\\", \\\"azureml-sdk\\\": \\\"1.37.0\\\", \\\"azureml-responsibleai\\\": \\\"1.37.0\\\", \\\"azureml-pipeline\\\": \\\"1.37.0\\\", \\\"azureml-pipeline-steps\\\": \\\"1.37.0\\\", \\\"azureml-pipeline-core\\\": \\\"1.37.0\\\", \\\"azureml-opendatasets\\\": \\\"1.37.0\\\", \\\"azureml-mlflow\\\": \\\"1.37.0\\\", \\\"azureml-interpret\\\": \\\"1.37.0\\\", \\\"azureml-inference-server-http\\\": \\\"0.4.2\\\", \\\"azureml-explain-model\\\": \\\"1.37.0\\\", \\\"azureml-defaults\\\": \\\"1.37.0\\\", \\\"azureml-dataset-runtime\\\": \\\"1.37.0\\\", \\\"azureml-dataprep\\\": \\\"2.25.0\\\", \\\"azureml-dataprep-rslex\\\": \\\"2.1.0\\\", \\\"azureml-dataprep-native\\\": \\\"38.0.0\\\", \\\"azureml-datadrift\\\": \\\"1.37.0\\\", \\\"azureml-core\\\": \\\"1.37.0\\\", \\\"azureml-contrib-services\\\": \\\"1.37.0\\\", \\\"azureml-contrib-server\\\": \\\"1.37.0\\\", \\\"azureml-contrib-reinforcementlearning\\\": \\\"1.37.0\\\", \\\"azureml-contrib-pipeline-steps\\\": \\\"1.37.0\\\", \\\"azureml-contrib-notebook\\\": \\\"1.37.0\\\", \\\"azureml-contrib-fairness\\\": \\\"1.37.0\\\", \\\"azureml-contrib-dataset\\\": \\\"1.37.0\\\", \\\"azureml-cli-common\\\": \\\"1.37.0\\\", \\\"azureml-automl-core\\\": \\\"1.37.0\\\", \\\"azureml-accel-models\\\": \\\"1.37.0\\\"}\", \"_aml_system_scenario_identification\": \"Remote.Parent\", \"ClientType\": \"SDK\", \"environment_cpu_name\": \"AzureML-AutoML\", \"environment_cpu_label\": \"py36\", \"environment_gpu_name\": \"AzureML-AutoML-GPU\", \"environment_gpu_label\": \"py36\", \"root_attribution\": \"automl\", \"attribution\": \"AutoML\", \"Orchestrator\": \"AutoML\", \"CancelUri\": \"https://eastus2.api.azureml.ms/jasmine/v1.0/subscriptions/0aad4149-65b5-42c8-9b25-ce17f2fed264/resourceGroups/auto-ml-example-resource-group/providers/Microsoft.MachineLearningServices/workspaces/automl-example-workspace/experimentids/7715318d-71e6-436e-9785-52ed73d1b4b3/cancel/AutoML_6a2a167f-2ea6-445c-8db7-bb7833cfe72d\", \"ClientSdkVersion\": \"1.38.0\", \"snapshotId\": \"00000000-0000-0000-0000-000000000000\", \"SetupRunId\": \"AutoML_6a2a167f-2ea6-445c-8db7-bb7833cfe72d_setup\", \"SetupRunContainerId\": \"dcid.AutoML_6a2a167f-2ea6-445c-8db7-bb7833cfe72d_setup\", \"forecasting_target_lags\": \"[0]\", \"forecasting_target_rolling_window_size\": \"0\", \"forecasting_max_horizon\": \"6\", \"forecasting_freq\": \"W-THU\", \"ProblemInfoJsonString\": \"{\\\"dataset_num_categorical\\\": 0, \\\"is_sparse\\\": false, \\\"subsampling\\\": false, \\\"has_extra_col\\\": true, \\\"dataset_classes\\\": 1140, \\\"dataset_features\\\": 17, \\\"dataset_samples\\\": 1210, \\\"single_frequency_class_detected\\\": false, \\\"series_column_count\\\": 2, \\\"series_count\\\": 10, \\\"series_len_min\\\": 121, \\\"series_len_max\\\": 121, \\\"series_len_avg\\\": 121.0, \\\"series_len_perc_25\\\": 121.0, \\\"series_len_perc_50\\\": 121.0, \\\"series_len_perc_75\\\": 121.0}\", \"ModelExplainRunId\": \"AutoML_6a2a167f-2ea6-445c-8db7-bb7833cfe72d_ModelExplain\"}, \"tags\": {\"model_explain_run\": \"best_run\", \"_aml_system_azureml.automlComponent\": \"AutoML\", \"auto\": \"Heuristic parameters: Target_Lag = '[0]', Target_Rolling_Window = '0'.\\n\", \"pipeline_id\": \"\", \"score\": \"\", \"predicted_cost\": \"\", \"fit_time\": \"\", \"training_percent\": \"\", \"iteration\": \"\", \"run_preprocessor\": \"\", \"run_algorithm\": \"\", \"_aml_system_azureml.automl_early_exit_message\": \"Experiment timeout reached, hence experiment stopped. Current experiment timeout: 0 hour(s) 15 minute(s)\", \"automl_best_child_run_id\": \"AutoML_6a2a167f-2ea6-445c-8db7-bb7833cfe72d_23\", \"model_explain_best_run_child_id\": \"AutoML_6a2a167f-2ea6-445c-8db7-bb7833cfe72d_23\"}, \"end_time_utc\": \"2022-02-07T18:28:22.760723Z\", \"status\": \"Completed\", \"log_files\": {}, \"log_groups\": [], \"run_duration\": \"0:21:57\", \"run_number\": \"1644257185\", \"run_queued_details\": {\"status\": \"Completed\", \"details\": null}}, \"child_runs\": [{\"run_id\": \"AutoML_6a2a167f-2ea6-445c-8db7-bb7833cfe72d_setup\", \"run_number\": 1644257198, \"metric\": null, \"status\": \"Completed\", \"run_type\": \"azureml.scriptrun\", \"training_percent\": null, \"start_time\": \"2022-02-07T18:08:49.04287Z\", \"end_time\": \"2022-02-07T18:10:50.703622Z\", \"created_time\": \"2022-02-07T18:06:38.420752Z\", \"created_time_dt\": \"2022-02-07T18:06:38.420752Z\", \"duration\": \"0:04:12\", \"iteration\": null, \"goal\": null, \"run_name\": \"Completed\", \"run_properties\": null}, {\"run_id\": \"AutoML_6a2a167f-2ea6-445c-8db7-bb7833cfe72d_0\", \"run_number\": 1644257452, \"metric\": null, \"status\": \"Completed\", \"run_type\": null, \"training_percent\": \"100\", \"start_time\": \"2022-02-07T18:13:05.006763Z\", \"end_time\": \"2022-02-07T18:13:17.54659Z\", \"created_time\": \"2022-02-07T18:10:52.195412Z\", \"created_time_dt\": \"2022-02-07T18:10:52.195412Z\", \"duration\": \"0:02:25\", \"iteration\": \"0\", \"goal\": \"normalized_root_mean_squared_error_min\", \"run_name\": \"Naive\", \"run_properties\": \"\\n    timeseries_param_dict={'time_column_name': 'WeekStarting', 'grain_column_names': ['Store', 'Brand'], 'drop_column_names': [], 'overwrite_columns': True, 'dropna': False, 'transform_dictionary': {'min': '_automl_target_col', 'max': '_automl_target_col', 'mean': '_automl_target_col'}, 'max_horizon': 6, 'origin_time_colname': 'origin', 'country_or_region': 'US', 'n_cross_validations': 3, 'short_series_handling': True, 'max_cores_per_iteration': 1, 'feature_lags': 'auto', 'target_aggregation_function': None, 'cv_step_size': None, 'window_size': 'auto', 'lags': {'_automl_target_col': ['auto']}, 'seasonality': 4, 'use_stl': 'season_trend', 'freq': 'W-THU', 'short_series_handling_configuration': 'auto', 'target_lags': [0], 'target_rolling_window_size': 0, 'arimax_raw_columns': ['Price', 'Store', 'WeekStarting', 'Revenue', 'Brand', 'Advert']}\\n\", \"primary_metric\": 0.37489283, \"best_metric\": 0.37489283}, {\"run_id\": \"AutoML_6a2a167f-2ea6-445c-8db7-bb7833cfe72d_2\", \"run_number\": 1644257453, \"metric\": null, \"status\": \"Completed\", \"run_type\": null, \"training_percent\": \"100\", \"start_time\": \"2022-02-07T18:13:26.997637Z\", \"end_time\": \"2022-02-07T18:13:36.545961Z\", \"created_time\": \"2022-02-07T18:10:53.247865Z\", \"created_time_dt\": \"2022-02-07T18:10:53.247865Z\", \"duration\": \"0:02:43\", \"iteration\": \"2\", \"goal\": \"normalized_root_mean_squared_error_min\", \"run_name\": \"Average\", \"run_properties\": \"\\n    timeseries_param_dict={'time_column_name': 'WeekStarting', 'grain_column_names': ['Store', 'Brand'], 'drop_column_names': [], 'overwrite_columns': True, 'dropna': False, 'transform_dictionary': {'min': '_automl_target_col', 'max': '_automl_target_col', 'mean': '_automl_target_col'}, 'max_horizon': 6, 'origin_time_colname': 'origin', 'country_or_region': 'US', 'n_cross_validations': 3, 'short_series_handling': True, 'max_cores_per_iteration': 1, 'feature_lags': 'auto', 'target_aggregation_function': None, 'cv_step_size': None, 'window_size': 'auto', 'lags': {'_automl_target_col': ['auto']}, 'seasonality': 4, 'use_stl': 'season_trend', 'freq': 'W-THU', 'short_series_handling_configuration': 'auto', 'target_lags': [0], 'target_rolling_window_size': 0, 'arimax_raw_columns': ['Price', 'Store', 'WeekStarting', 'Revenue', 'Brand', 'Advert']}\\n\", \"primary_metric\": 0.26459933, \"best_metric\": 0.26459933}, {\"run_id\": \"AutoML_6a2a167f-2ea6-445c-8db7-bb7833cfe72d_4\", \"run_number\": 1644257454, \"metric\": null, \"status\": \"Completed\", \"run_type\": null, \"training_percent\": \"100\", \"start_time\": \"2022-02-07T18:13:46.418521Z\", \"end_time\": \"2022-02-07T18:15:48.904113Z\", \"created_time\": \"2022-02-07T18:10:54.119967Z\", \"created_time_dt\": \"2022-02-07T18:10:54.119967Z\", \"duration\": \"0:04:54\", \"iteration\": \"4\", \"goal\": \"normalized_root_mean_squared_error_min\", \"run_name\": \"ExponentialSmoothing\", \"run_properties\": \"\\n    timeseries_param_dict={'time_column_name': 'WeekStarting', 'grain_column_names': ['Store', 'Brand'], 'drop_column_names': [], 'overwrite_columns': True, 'dropna': False, 'transform_dictionary': {'min': '_automl_target_col', 'max': '_automl_target_col', 'mean': '_automl_target_col'}, 'max_horizon': 6, 'origin_time_colname': 'origin', 'country_or_region': 'US', 'n_cross_validations': 3, 'short_series_handling': True, 'max_cores_per_iteration': 1, 'feature_lags': 'auto', 'target_aggregation_function': None, 'cv_step_size': None, 'window_size': 'auto', 'lags': {'_automl_target_col': ['auto']}, 'seasonality': 4, 'use_stl': 'season_trend', 'freq': 'W-THU', 'short_series_handling_configuration': 'auto', 'target_lags': [0], 'target_rolling_window_size': 0, 'arimax_raw_columns': ['Price', 'Store', 'WeekStarting', 'Revenue', 'Brand', 'Advert']}\\n\", \"primary_metric\": 0.26530928, \"best_metric\": 0.26459933}, {\"run_id\": \"AutoML_6a2a167f-2ea6-445c-8db7-bb7833cfe72d_7\", \"run_number\": 1644257455, \"metric\": null, \"status\": \"Completed\", \"run_type\": null, \"training_percent\": \"100\", \"start_time\": \"2022-02-07T18:17:52.602108Z\", \"end_time\": \"2022-02-07T18:18:01.542144Z\", \"created_time\": \"2022-02-07T18:10:55.362611Z\", \"created_time_dt\": \"2022-02-07T18:10:55.362611Z\", \"duration\": \"0:07:06\", \"iteration\": \"7\", \"goal\": \"normalized_root_mean_squared_error_min\", \"run_name\": \"StandardScalerWrapper, LightGBM\", \"run_properties\": \"\\n    copy=True,\\n    with_mean=False,\\n    with_std=False\\n\", \"primary_metric\": 0.01271158, \"best_metric\": 0.01271158}, {\"run_id\": \"AutoML_6a2a167f-2ea6-445c-8db7-bb7833cfe72d_9\", \"run_number\": 1644257456, \"metric\": null, \"status\": \"Completed\", \"run_type\": null, \"training_percent\": \"100\", \"start_time\": \"2022-02-07T18:18:10.682383Z\", \"end_time\": \"2022-02-07T18:18:19.071447Z\", \"created_time\": \"2022-02-07T18:10:56.327046Z\", \"created_time_dt\": \"2022-02-07T18:10:56.327046Z\", \"duration\": \"0:07:22\", \"iteration\": \"9\", \"goal\": \"normalized_root_mean_squared_error_min\", \"run_name\": \"MaxAbsScaler, ElasticNet\", \"run_properties\": \"copy=True\", \"primary_metric\": 0.02484696, \"best_metric\": 0.01271158}, {\"run_id\": \"AutoML_6a2a167f-2ea6-445c-8db7-bb7833cfe72d_11\", \"run_number\": 1644257457, \"metric\": null, \"status\": \"Completed\", \"run_type\": null, \"training_percent\": \"100\", \"start_time\": \"2022-02-07T18:18:27.943609Z\", \"end_time\": \"2022-02-07T18:18:36.493939Z\", \"created_time\": \"2022-02-07T18:10:57.191535Z\", \"created_time_dt\": \"2022-02-07T18:10:57.191535Z\", \"duration\": \"0:07:39\", \"iteration\": \"11\", \"goal\": \"normalized_root_mean_squared_error_min\", \"run_name\": \"MinMaxScaler, ElasticNet\", \"run_properties\": \"copy=True, feature_range=(0, 1\", \"primary_metric\": 0.02421073, \"best_metric\": 0.01271158}, {\"run_id\": \"AutoML_6a2a167f-2ea6-445c-8db7-bb7833cfe72d_13\", \"run_number\": 1644257458, \"metric\": null, \"status\": \"Completed\", \"run_type\": null, \"training_percent\": \"100\", \"start_time\": \"2022-02-07T18:18:45.345407Z\", \"end_time\": \"2022-02-07T18:18:54.08633Z\", \"created_time\": \"2022-02-07T18:10:58.16596Z\", \"created_time_dt\": \"2022-02-07T18:10:58.16596Z\", \"duration\": \"0:07:55\", \"iteration\": \"13\", \"goal\": \"normalized_root_mean_squared_error_min\", \"run_name\": \"MinMaxScaler, RandomForest\", \"run_properties\": \"copy=True, feature_range=(0, 1\", \"primary_metric\": 0.10158982, \"best_metric\": 0.01271158}, {\"run_id\": \"AutoML_6a2a167f-2ea6-445c-8db7-bb7833cfe72d_15\", \"run_number\": 1644257459, \"metric\": null, \"status\": \"Completed\", \"run_type\": null, \"training_percent\": \"100\", \"start_time\": \"2022-02-07T18:19:02.653989Z\", \"end_time\": \"2022-02-07T18:19:10.767281Z\", \"created_time\": \"2022-02-07T18:10:59.138746Z\", \"created_time_dt\": \"2022-02-07T18:10:59.138746Z\", \"duration\": \"0:08:11\", \"iteration\": \"15\", \"goal\": \"normalized_root_mean_squared_error_min\", \"run_name\": \"StandardScalerWrapper, ElasticNet\", \"run_properties\": \"\\n    copy=True,\\n    with_mean=True,\\n    with_std=False\\n\", \"primary_metric\": 0.02422176, \"best_metric\": 0.01271158}, {\"run_id\": \"AutoML_6a2a167f-2ea6-445c-8db7-bb7833cfe72d_18\", \"run_number\": 1644257460, \"metric\": null, \"status\": \"Completed\", \"run_type\": null, \"training_percent\": \"100\", \"start_time\": \"2022-02-07T18:19:28.075957Z\", \"end_time\": \"2022-02-07T18:19:36.769487Z\", \"created_time\": \"2022-02-07T18:11:00.427703Z\", \"created_time_dt\": \"2022-02-07T18:11:00.427703Z\", \"duration\": \"0:08:36\", \"iteration\": \"18\", \"goal\": \"normalized_root_mean_squared_error_min\", \"run_name\": \"MinMaxScaler, ExtremeRandomTrees\", \"run_properties\": \"copy=True, feature_range=(0, 1\", \"primary_metric\": 0.04214132, \"best_metric\": 0.01271158}, {\"run_id\": \"AutoML_6a2a167f-2ea6-445c-8db7-bb7833cfe72d_worker_0\", \"run_number\": 1644257461, \"metric\": null, \"status\": \"Completed\", \"run_type\": \"azureml.scriptrun\", \"training_percent\": null, \"start_time\": \"2022-02-07T18:14:50.772913Z\", \"end_time\": \"2022-02-07T18:19:51.471427Z\", \"created_time\": \"2022-02-07T18:11:01.077497Z\", \"created_time_dt\": \"2022-02-07T18:11:01.077497Z\", \"duration\": \"0:08:50\", \"iteration\": null, \"goal\": null, \"run_name\": \"Completed\", \"run_properties\": null}, {\"run_id\": \"AutoML_6a2a167f-2ea6-445c-8db7-bb7833cfe72d_20\", \"run_number\": 1644258087, \"metric\": null, \"status\": \"Completed\", \"run_type\": \"azureml.scriptrun\", \"training_percent\": \"100\", \"start_time\": \"2022-02-07T18:21:27.71659Z\", \"end_time\": \"2022-02-07T18:22:07.021819Z\", \"created_time\": \"2022-02-07T18:21:27.71659Z\", \"created_time_dt\": \"2022-02-07T18:21:27.71659Z\", \"duration\": \"0:00:39\", \"iteration\": \"20\", \"goal\": \"normalized_root_mean_squared_error_min\", \"run_name\": \"MinMaxScaler, ExtremeRandomTrees\", \"run_properties\": \"copy=True, feature_range=(0, 1\", \"primary_metric\": 0.07011405, \"best_metric\": 0.01271158}, {\"run_id\": \"AutoML_6a2a167f-2ea6-445c-8db7-bb7833cfe72d_21\", \"run_number\": 1644258128, \"metric\": null, \"status\": \"Completed\", \"run_type\": \"azureml.scriptrun\", \"training_percent\": \"100\", \"start_time\": \"2022-02-07T18:22:08.223858Z\", \"end_time\": \"2022-02-07T18:24:01.576108Z\", \"created_time\": \"2022-02-07T18:22:08.223858Z\", \"created_time_dt\": \"2022-02-07T18:22:08.223858Z\", \"duration\": \"0:01:53\", \"iteration\": \"21\", \"goal\": \"normalized_root_mean_squared_error_min\", \"run_name\": \"MinMaxScaler, ExtremeRandomTrees\", \"run_properties\": \"copy=True, feature_range=(0, 1\", \"primary_metric\": 0.11531379, \"best_metric\": 0.01271158}, {\"run_id\": \"AutoML_6a2a167f-2ea6-445c-8db7-bb7833cfe72d_22\", \"run_number\": 1644258242, \"metric\": null, \"status\": \"Completed\", \"run_type\": \"azureml.scriptrun\", \"training_percent\": \"100\", \"start_time\": \"2022-02-07T18:24:02.855104Z\", \"end_time\": \"2022-02-07T18:25:57.661512Z\", \"created_time\": \"2022-02-07T18:24:02.855104Z\", \"created_time_dt\": \"2022-02-07T18:24:02.855104Z\", \"duration\": \"0:01:54\", \"iteration\": \"22\", \"goal\": \"normalized_root_mean_squared_error_min\", \"run_name\": \"MaxAbsScaler, ExtremeRandomTrees\", \"run_properties\": \"copy=True\", \"primary_metric\": 0.02212501, \"best_metric\": 0.01271158}, {\"run_id\": \"AutoML_6a2a167f-2ea6-445c-8db7-bb7833cfe72d_23\", \"run_number\": 1644258358, \"metric\": null, \"status\": \"Completed\", \"run_type\": \"azureml.scriptrun\", \"training_percent\": \"100\", \"start_time\": \"2022-02-07T18:25:58.471587Z\", \"end_time\": \"2022-02-07T18:28:21.615748Z\", \"created_time\": \"2022-02-07T18:25:58.471587Z\", \"created_time_dt\": \"2022-02-07T18:25:58.471587Z\", \"duration\": \"0:02:23\", \"iteration\": \"23\", \"goal\": \"normalized_root_mean_squared_error_min\", \"run_name\": \"VotingEnsemble\", \"run_properties\": \"\\n    estimators=[('7', Pipeline(\\n        memory=None,\\n        steps=[('standardscalerwrapper', StandardScalerWrapper(\\n            copy=True,\\n            with_mean=False,\\n            with_std=False\\n        \", \"primary_metric\": 0.01010066, \"best_metric\": 0.01010066}], \"children_metrics\": {\"categories\": [0], \"series\": {\"median_absolute_error\": [{\"categories\": [\"0\", \"2\", \"4\", \"7\", \"9\", \"11\", \"13\", \"15\", \"18\", \"20\", \"21\", \"22\", \"23\"], \"mode\": \"markers\", \"name\": \"median_absolute_error\", \"stepped\": false, \"type\": \"scatter\", \"data\": [3086.0, 2221.56595136681, 2248.6648270827004, 90.68576995499764, 143.797780821889, 135.75939286231764, 825.1020855348366, 137.64962244295293, 336.1683523635235, 558.3312268739732, 1000.4706400538665, 173.19944444444323, 70.24131319011333]}, {\"categories\": [\"0\", \"2\", \"4\", \"7\", \"9\", \"11\", \"13\", \"15\", \"18\", \"20\", \"21\", \"22\", \"23\"], \"mode\": \"lines\", \"name\": \"median_absolute_error_min\", \"stepped\": true, \"type\": \"scatter\", \"data\": [3086.0, 2221.56595136681, 2221.56595136681, 90.68576995499764, 90.68576995499764, 90.68576995499764, 90.68576995499764, 90.68576995499764, 90.68576995499764, 90.68576995499764, 90.68576995499764, 90.68576995499764, 70.24131319011333]}], \"root_mean_squared_error\": [{\"categories\": [\"0\", \"2\", \"4\", \"7\", \"9\", \"11\", \"13\", \"15\", \"18\", \"20\", \"21\", \"22\", \"23\"], \"mode\": \"markers\", \"name\": \"root_mean_squared_error\", \"stepped\": false, \"type\": \"scatter\", \"data\": [4254.479860213057, 2921.7210166998434, 2928.818668747282, 143.9813012912165, 299.47644982786136, 292.81337223537804, 1120.1369790528752, 293.2472323117965, 468.0554075193863, 776.7386583467127, 1276.0472428702703, 247.10419773470593, 114.47454933579047]}, {\"categories\": [\"0\", \"2\", \"4\", \"7\", \"9\", \"11\", \"13\", \"15\", \"18\", \"20\", \"21\", \"22\", \"23\"], \"mode\": \"lines\", \"name\": \"root_mean_squared_error_min\", \"stepped\": true, \"type\": \"scatter\", \"data\": [4254.479860213057, 2921.7210166998434, 2921.7210166998434, 143.9813012912165, 143.9813012912165, 143.9813012912165, 143.9813012912165, 143.9813012912165, 143.9813012912165, 143.9813012912165, 143.9813012912165, 143.9813012912165, 114.47454933579047]}], \"spearman_correlation\": [{\"categories\": [\"0\", \"2\", \"4\", \"7\", \"9\", \"11\", \"13\", \"15\", \"18\", \"20\", \"21\", \"22\", \"23\"], \"mode\": \"markers\", \"name\": \"spearman_correlation\", \"stepped\": false, \"type\": \"scatter\", \"data\": [0.06410888911603904, 0.11548443527412951, 0.12453107096209781, 0.9974113121361498, 0.9958275268990239, 0.9963276704588031, 0.9376444582280227, 0.9963461941227837, 0.9871028644363502, 0.9810733434842068, 0.9497775590165881, 0.9937065561785065, 0.9982170906185869]}, {\"categories\": [\"0\", \"2\", \"4\", \"7\", \"9\", \"11\", \"13\", \"15\", \"18\", \"20\", \"21\", \"22\", \"23\"], \"mode\": \"lines\", \"name\": \"spearman_correlation_max\", \"stepped\": true, \"type\": \"scatter\", \"data\": [0.06410888911603904, 0.11548443527412951, 0.12453107096209781, 0.9974113121361498, 0.9974113121361498, 0.9974113121361498, 0.9974113121361498, 0.9974113121361498, 0.9974113121361498, 0.9974113121361498, 0.9974113121361498, 0.9974113121361498, 0.9982170906185869]}], \"r2_score\": [{\"categories\": [\"0\", \"2\", \"4\", \"7\", \"9\", \"11\", \"13\", \"15\", \"18\", \"20\", \"21\", \"22\", \"23\"], \"mode\": \"markers\", \"name\": \"r2_score\", \"stepped\": false, \"type\": \"scatter\", \"data\": [-0.9841388354872015, -0.007136356263701386, -0.01201940994323684, 0.997553420060345, 0.9894145072135346, 0.9898928140309726, 0.8512525027715587, 0.9898636007501261, 0.973884333731187, 0.9285481180167254, 0.8067883305558299, 0.9927701548371822, 0.9984420035643843]}, {\"categories\": [\"0\", \"2\", \"4\", \"7\", \"9\", \"11\", \"13\", \"15\", \"18\", \"20\", \"21\", \"22\", \"23\"], \"mode\": \"lines\", \"name\": \"r2_score_max\", \"stepped\": true, \"type\": \"scatter\", \"data\": [-0.9841388354872015, -0.007136356263701386, -0.007136356263701386, 0.997553420060345, 0.997553420060345, 0.997553420060345, 0.997553420060345, 0.997553420060345, 0.997553420060345, 0.997553420060345, 0.997553420060345, 0.997553420060345, 0.9984420035643843]}], \"normalized_root_mean_squared_error\": [{\"categories\": [\"0\", \"2\", \"4\", \"7\", \"9\", \"11\", \"13\", \"15\", \"18\", \"20\", \"21\", \"22\", \"23\"], \"mode\": \"markers\", \"name\": \"normalized_root_mean_squared_error\", \"stepped\": false, \"type\": \"scatter\", \"data\": [0.37489282911353355, 0.2645993284135286, 0.2653092801022344, 0.012711579545480446, 0.02484695636263702, 0.024210727816908483, 0.10158982382592825, 0.024221762808970797, 0.04214131536411191, 0.07011405455297226, 0.11531378947258465, 0.022125009687375824, 0.010100664093061316]}, {\"categories\": [\"0\", \"2\", \"4\", \"7\", \"9\", \"11\", \"13\", \"15\", \"18\", \"20\", \"21\", \"22\", \"23\"], \"mode\": \"lines\", \"name\": \"normalized_root_mean_squared_error_min\", \"stepped\": true, \"type\": \"scatter\", \"data\": [0.37489282911353355, 0.2645993284135286, 0.2645993284135286, 0.012711579545480446, 0.012711579545480446, 0.012711579545480446, 0.012711579545480446, 0.012711579545480446, 0.012711579545480446, 0.012711579545480446, 0.012711579545480446, 0.012711579545480446, 0.010100664093061316]}], \"explained_variance\": [{\"categories\": [\"0\", \"2\", \"4\", \"7\", \"9\", \"11\", \"13\", \"15\", \"18\", \"20\", \"21\", \"22\", \"23\"], \"mode\": \"markers\", \"name\": \"explained_variance\", \"stepped\": false, \"type\": \"scatter\", \"data\": [-1.0636274983726104, 0.011888994432423639, 0.008338893851002135, 0.9975703569875822, 0.9894546195809112, 0.9899490061929046, 0.8575840966099845, 0.9899178494013281, 0.9746335863302421, 0.9301983993234731, 0.8108483840959119, 0.9929837369845882, 0.9984774417294006]}, {\"categories\": [\"0\", \"2\", \"4\", \"7\", \"9\", \"11\", \"13\", \"15\", \"18\", \"20\", \"21\", \"22\", \"23\"], \"mode\": \"lines\", \"name\": \"explained_variance_max\", \"stepped\": true, \"type\": \"scatter\", \"data\": [-1.0636274983726104, 0.011888994432423639, 0.011888994432423639, 0.9975703569875822, 0.9975703569875822, 0.9975703569875822, 0.9975703569875822, 0.9975703569875822, 0.9975703569875822, 0.9975703569875822, 0.9975703569875822, 0.9975703569875822, 0.9984774417294006]}], \"mean_absolute_error\": [{\"categories\": [\"0\", \"2\", \"4\", \"7\", \"9\", \"11\", \"13\", \"15\", \"18\", \"20\", \"21\", \"22\", \"23\"], \"mode\": \"markers\", \"name\": \"mean_absolute_error\", \"stepped\": false, \"type\": \"scatter\", \"data\": [3451.7444444444445, 2447.6763279848974, 2458.1148344344933, 112.23185368803007, 212.95734785919475, 205.67669384928044, 939.1435700123666, 204.62274794201963, 383.4870471742004, 644.8116796630069, 1102.3028273967686, 197.74265476190484, 87.92603049305903]}, {\"categories\": [\"0\", \"2\", \"4\", \"7\", \"9\", \"11\", \"13\", \"15\", \"18\", \"20\", \"21\", \"22\", \"23\"], \"mode\": \"lines\", \"name\": \"mean_absolute_error_min\", \"stepped\": true, \"type\": \"scatter\", \"data\": [3451.7444444444445, 2447.6763279848974, 2447.6763279848974, 112.23185368803007, 112.23185368803007, 112.23185368803007, 112.23185368803007, 112.23185368803007, 112.23185368803007, 112.23185368803007, 112.23185368803007, 112.23185368803007, 87.92603049305903]}], \"mean_absolute_percentage_error\": [{\"categories\": [\"0\", \"2\", \"4\", \"7\", \"9\", \"11\", \"13\", \"15\", \"18\", \"20\", \"21\", \"22\", \"23\"], \"mode\": \"markers\", \"name\": \"mean_absolute_percentage_error\", \"stepped\": false, \"type\": \"scatter\", \"data\": [26.163290242121743, 18.825593700629792, 18.92116083693473, 0.7849876560852551, 1.5420515847129204, 1.5564917521885218, 7.0732955130882305, 1.5549826010828502, 2.8395799463829294, 4.806398862927607, 8.265042436241169, 1.4497679976908806, 0.6234330911174225]}, {\"categories\": [\"0\", \"2\", \"4\", \"7\", \"9\", \"11\", \"13\", \"15\", \"18\", \"20\", \"21\", \"22\", \"23\"], \"mode\": \"lines\", \"name\": \"mean_absolute_percentage_error_min\", \"stepped\": true, \"type\": \"scatter\", \"data\": [26.163290242121743, 18.825593700629792, 18.825593700629792, 0.7849876560852551, 0.7849876560852551, 0.7849876560852551, 0.7849876560852551, 0.7849876560852551, 0.7849876560852551, 0.7849876560852551, 0.7849876560852551, 0.7849876560852551, 0.6234330911174225]}], \"root_mean_squared_log_error\": [{\"categories\": [\"0\", \"2\", \"4\", \"7\", \"9\", \"11\", \"13\", \"15\", \"18\", \"20\", \"21\", \"22\", \"23\"], \"mode\": \"markers\", \"name\": \"root_mean_squared_log_error\", \"stepped\": false, \"type\": \"scatter\", \"data\": [0.3129642008928257, 0.2150814932213353, 0.21564970612188114, 0.010172945433815065, 0.022496664432340222, 0.023663124858921265, 0.08460405912670792, 0.023833547919921743, 0.03527515389173092, 0.06001734077320706, 0.09674115624205122, 0.01849514071222916, 0.008262085676792564]}, {\"categories\": [\"0\", \"2\", \"4\", \"7\", \"9\", \"11\", \"13\", \"15\", \"18\", \"20\", \"21\", \"22\", \"23\"], \"mode\": \"lines\", \"name\": \"root_mean_squared_log_error_min\", \"stepped\": true, \"type\": \"scatter\", \"data\": [0.3129642008928257, 0.2150814932213353, 0.2150814932213353, 0.010172945433815065, 0.010172945433815065, 0.010172945433815065, 0.010172945433815065, 0.010172945433815065, 0.010172945433815065, 0.010172945433815065, 0.010172945433815065, 0.010172945433815065, 0.008262085676792564]}], \"normalized_mean_absolute_error\": [{\"categories\": [\"0\", \"2\", \"4\", \"7\", \"9\", \"11\", \"13\", \"15\", \"18\", \"20\", \"21\", \"22\", \"23\"], \"mode\": \"markers\", \"name\": \"normalized_mean_absolute_error\", \"stepped\": false, \"type\": \"scatter\", \"data\": [0.31911188503384963, 0.22605142292895022, 0.22703118608111614, 0.010377287383803073, 0.019638852933481804, 0.018969470288123732, 0.08671208014354935, 0.018871771223092044, 0.03541533863976248, 0.059553447202078835, 0.10180582272161913, 0.01825579667145774, 0.008121392107559836]}, {\"categories\": [\"0\", \"2\", \"4\", \"7\", \"9\", \"11\", \"13\", \"15\", \"18\", \"20\", \"21\", \"22\", \"23\"], \"mode\": \"lines\", \"name\": \"normalized_mean_absolute_error_min\", \"stepped\": true, \"type\": \"scatter\", \"data\": [0.31911188503384963, 0.22605142292895022, 0.22605142292895022, 0.010377287383803073, 0.010377287383803073, 0.010377287383803073, 0.010377287383803073, 0.010377287383803073, 0.010377287383803073, 0.010377287383803073, 0.010377287383803073, 0.010377287383803073, 0.008121392107559836]}], \"normalized_median_absolute_error\": [{\"categories\": [\"0\", \"2\", \"4\", \"7\", \"9\", \"11\", \"13\", \"15\", \"18\", \"20\", \"21\", \"22\", \"23\"], \"mode\": \"markers\", \"name\": \"normalized_median_absolute_error\", \"stepped\": false, \"type\": \"scatter\", \"data\": [0.30159285965047206, 0.22842502454574307, 0.2301587621663658, 0.008739531661813663, 0.016538555524708256, 0.016465104325308136, 0.07878497658779547, 0.016254702225962914, 0.03140691084035638, 0.05574974561248145, 0.09377414312716725, 0.016474706293197652, 0.0067582803697993216]}, {\"categories\": [\"0\", \"2\", \"4\", \"7\", \"9\", \"11\", \"13\", \"15\", \"18\", \"20\", \"21\", \"22\", \"23\"], \"mode\": \"lines\", \"name\": \"normalized_median_absolute_error_min\", \"stepped\": true, \"type\": \"scatter\", \"data\": [0.30159285965047206, 0.22842502454574307, 0.22842502454574307, 0.008739531661813663, 0.008739531661813663, 0.008739531661813663, 0.008739531661813663, 0.008739531661813663, 0.008739531661813663, 0.008739531661813663, 0.008739531661813663, 0.008739531661813663, 0.0067582803697993216]}], \"normalized_root_mean_squared_log_error\": [{\"categories\": [\"0\", \"2\", \"4\", \"7\", \"9\", \"11\", \"13\", \"15\", \"18\", \"20\", \"21\", \"22\", \"23\"], \"mode\": \"markers\", \"name\": \"normalized_root_mean_squared_log_error\", \"stepped\": false, \"type\": \"scatter\", \"data\": [0.37761278109268526, 0.2675575825840692, 0.2683483934589695, 0.012161962088025632, 0.0253861224337162, 0.026576883113845998, 0.10541318025787699, 0.026762949387311302, 0.04377937596070638, 0.0738298041314534, 0.1198197502649563, 0.022780731303361057, 0.009806269543270359]}, {\"categories\": [\"0\", \"2\", \"4\", \"7\", \"9\", \"11\", \"13\", \"15\", \"18\", \"20\", \"21\", \"22\", \"23\"], \"mode\": \"lines\", \"name\": \"normalized_root_mean_squared_log_error_min\", \"stepped\": true, \"type\": \"scatter\", \"data\": [0.37761278109268526, 0.2675575825840692, 0.2675575825840692, 0.012161962088025632, 0.012161962088025632, 0.012161962088025632, 0.012161962088025632, 0.012161962088025632, 0.012161962088025632, 0.012161962088025632, 0.012161962088025632, 0.012161962088025632, 0.009806269543270359]}]}, \"metricName\": null, \"primaryMetricName\": \"normalized_root_mean_squared_error\", \"showLegend\": false}, \"run_metrics\": [{\"name\": \"experiment_status\", \"run_id\": \"AutoML_6a2a167f-2ea6-445c-8db7-bb7833cfe72d\", \"categories\": [0, 1, 2, 3, 4, 5, 6, 7, 8, 9, 10, 11, 12, 13, 14, 15, 16, 17], \"series\": [{\"data\": [\"DatasetFeaturization\", \"DatasetFeaturizationCompleted\", \"DatasetCrossValidationSplit\", \"DatasetFeaturization\", \"DatasetFeaturizationCompleted\", \"DatasetFeaturization\", \"DatasetFeaturizationCompleted\", \"DatasetFeaturization\", \"DatasetFeaturizationCompleted\", \"ModelSelection\", \"BestRunExplainModel\", \"ModelExplanationDataSetSetup\", \"PickSurrogateModel\", \"EngineeredFeatureExplanations\", \"EngineeredFeatureExplanations\", \"RawFeaturesExplanations\", \"RawFeaturesExplanations\", \"BestRunExplainModel\"]}]}, {\"name\": \"experiment_status_description\", \"run_id\": \"AutoML_6a2a167f-2ea6-445c-8db7-bb7833cfe72d\", \"categories\": [0, 1, 2, 3, 4, 5, 6, 7, 8, 9, 10, 11, 12, 13, 14, 15, 16, 17], \"series\": [{\"data\": [\"Beginning to featurize the dataset.\", \"Completed featurizing the dataset.\", \"Generating individually featurized CV splits.\", \"Beginning to featurize the CV split.\", \"Completed featurizing the CV split.\", \"Beginning to featurize the CV split.\", \"Completed featurizing the CV split.\", \"Beginning to featurize the CV split.\", \"Completed featurizing the CV split.\", \"Beginning model selection.\", \"Best run model explanations started\", \"Model explanations data setup completed\", \"Choosing LightGBM as the surrogate model for explanations\", \"Computation of engineered features started\", \"Computation of engineered features completed\", \"Computation of raw features started\", \"Computation of raw features completed\", \"Best run model explanations completed\"]}]}, {\"name\": \"spearman_correlation\", \"run_id\": \"AutoML_6a2a167f-2ea6-445c-8db7-bb7833cfe72d\", \"categories\": [0], \"series\": [{\"data\": [0.9982170906185869]}]}, {\"name\": \"normalized_median_absolute_error\", \"run_id\": \"AutoML_6a2a167f-2ea6-445c-8db7-bb7833cfe72d\", \"categories\": [0], \"series\": [{\"data\": [0.0067582803697993216]}]}, {\"name\": \"r2_score\", \"run_id\": \"AutoML_6a2a167f-2ea6-445c-8db7-bb7833cfe72d\", \"categories\": [0], \"series\": [{\"data\": [0.9984420035643843]}]}, {\"name\": \"normalized_root_mean_squared_log_error\", \"run_id\": \"AutoML_6a2a167f-2ea6-445c-8db7-bb7833cfe72d\", \"categories\": [0], \"series\": [{\"data\": [0.009806269543270359]}]}, {\"name\": \"root_mean_squared_error\", \"run_id\": \"AutoML_6a2a167f-2ea6-445c-8db7-bb7833cfe72d\", \"categories\": [0], \"series\": [{\"data\": [114.47454933579047]}]}, {\"name\": \"normalized_mean_absolute_error\", \"run_id\": \"AutoML_6a2a167f-2ea6-445c-8db7-bb7833cfe72d\", \"categories\": [0], \"series\": [{\"data\": [0.008121392107559836]}]}, {\"name\": \"median_absolute_error\", \"run_id\": \"AutoML_6a2a167f-2ea6-445c-8db7-bb7833cfe72d\", \"categories\": [0], \"series\": [{\"data\": [70.24131319011333]}]}, {\"name\": \"explained_variance\", \"run_id\": \"AutoML_6a2a167f-2ea6-445c-8db7-bb7833cfe72d\", \"categories\": [0], \"series\": [{\"data\": [0.9984774417294006]}]}, {\"name\": \"mean_absolute_error\", \"run_id\": \"AutoML_6a2a167f-2ea6-445c-8db7-bb7833cfe72d\", \"categories\": [0], \"series\": [{\"data\": [87.92603049305903]}]}, {\"name\": \"normalized_root_mean_squared_error\", \"run_id\": \"AutoML_6a2a167f-2ea6-445c-8db7-bb7833cfe72d\", \"categories\": [0], \"series\": [{\"data\": [0.010100664093061316]}]}, {\"name\": \"mean_absolute_percentage_error\", \"run_id\": \"AutoML_6a2a167f-2ea6-445c-8db7-bb7833cfe72d\", \"categories\": [0], \"series\": [{\"data\": [0.6234330911174225]}]}, {\"name\": \"root_mean_squared_log_error\", \"run_id\": \"AutoML_6a2a167f-2ea6-445c-8db7-bb7833cfe72d\", \"categories\": [0], \"series\": [{\"data\": [0.008262085676792564]}]}], \"run_logs\": \"\\nRun is completed.\", \"graph\": {}, \"widget_settings\": {\"childWidgetDisplay\": \"popup\", \"send_telemetry\": false, \"log_level\": \"INFO\", \"sdk_version\": \"1.37.0\"}, \"loading\": false}"
          },
          "metadata": {},
          "output_type": "display_data"
        }
      ],
      "source": [
        "# Train your AutoML model to forecast OJ Sales\n",
        "AutoML_run = exp.submit(config, show_output = True)\n",
        "RunDetails(AutoML_run).show()"
      ]
    },
    {
      "cell_type": "code",
      "execution_count": null,
      "id": "df2b029b",
      "metadata": {
        "id": "df2b029b"
      },
      "outputs": [],
      "source": [
        "# Set forecasting parameters to train ARIMA and Prophet Models\n",
        "params2=ForecastingParameters.from_parameters_dict({'country_or_region_for_holidays':None,\\\n",
        "                                                    'drop_columns_names':['Revenue','Price','Advert'],\\\n",
        "                                                    'forecast_horizon': 6,\\\n",
        "                                                    'target_rolling_window_size': None,\\\n",
        "                                                    'target_lags': None,\\\n",
        "                                                    'feature_lags': None,\\\n",
        "                                                    'seasonality': 'auto',\\\n",
        "                                                    'short_series_handling': True,\\\n",
        "                                                    'use_stl': 'season_trend',\\\n",
        "                                                    'time_column_name':'WeekStarting',\\\n",
        "                                                    'time_series_id_column_names':['Store','Brand'],\n",
        "                                                    'short_series_handling_configuration': 'auto'},\\\n",
        "                                                    validate_params=True)"
      ]
    },
    {
      "cell_type": "code",
      "execution_count": null,
      "id": "3345d2cc",
      "metadata": {
        "id": "3345d2cc"
      },
      "outputs": [],
      "source": [
        "# Set AutoML configuration passing in new forecasting parameters\n",
        "config2=AutoMLConfig(task=task,\n",
        "                     primary_metric=primary_metric,\n",
        "                     featurization=featurization,\n",
        "                     compute_target=compute_target,\n",
        "                     training_data=dataset,\n",
        "                     label_column_name=target_column,\n",
        "                     experiment_timeout_minutes=15,\n",
        "                     enable_early_stopping=True,\n",
        "                     n_cross_validations=3,\n",
        "                     model_explainability=True,\n",
        "                     enable_stack_ensemble=False,\n",
        "                     enable_voting_ensemble=True,\n",
        "                     forecasting_parameters=params2)"
      ]
    },
    {
      "cell_type": "code",
      "execution_count": null,
      "id": "d647915f",
      "metadata": {
        "scrolled": false,
        "id": "d647915f",
        "outputId": "3b430eb7-6726-4c70-967e-daf84893250e",
        "colab": {
          "referenced_widgets": [
            "0a69b04f1649460db81d699773baf722"
          ]
        }
      },
      "outputs": [
        {
          "name": "stdout",
          "output_type": "stream",
          "text": [
            "Submitting remote run.\n",
            "No run_configuration provided, running on automl-compute with default configuration\n",
            "Running on remote compute: automl-compute\n"
          ]
        },
        {
          "data": {
            "text/html": [
              "<table style=\"width:100%\"><tr><th>Experiment</th><th>Id</th><th>Type</th><th>Status</th><th>Details Page</th><th>Docs Page</th></tr><tr><td>OJ-Sales-Forecasting</td><td>AutoML_acf40396-ac33-482f-a70c-ccdd015e4ccc</td><td>automl</td><td>NotStarted</td><td><a href=\"https://ml.azure.com/runs/AutoML_acf40396-ac33-482f-a70c-ccdd015e4ccc?wsid=/subscriptions/0aad4149-65b5-42c8-9b25-ce17f2fed264/resourcegroups/auto-ml-example-resource-group/workspaces/automl-example-workspace&amp;tid=4ae54b05-b77e-4224-aef1-8661422e0816\" target=\"_blank\" rel=\"noopener\">Link to Azure Machine Learning studio</a></td><td><a href=\"https://docs.microsoft.com/en-us/python/api/overview/azure/ml/intro?view=azure-ml-py\" target=\"_blank\" rel=\"noopener\">Link to Documentation</a></td></tr></table>"
            ],
            "text/plain": [
              "<IPython.core.display.HTML object>"
            ]
          },
          "metadata": {},
          "output_type": "display_data"
        },
        {
          "name": "stdout",
          "output_type": "stream",
          "text": [
            "\n",
            "Current status: DatasetFeaturization. Beginning to featurize the CV split.\n",
            "Current status: ModelSelection. Beginning model selection.\n",
            "\n",
            "********************************************************************************************\n",
            "DATA GUARDRAILS: \n",
            "\n",
            "TYPE:         Time Series ID detection\n",
            "STATUS:       PASSED\n",
            "DESCRIPTION:  The data set was analyzed, and no duplicate time index were detected.\n",
            "              Learn more about time-series forecasting configurations: https://aka.ms/AutomatedMLForecastingConfiguration\n",
            "\n",
            "********************************************************************************************\n",
            "\n",
            "TYPE:         Frequency detection\n",
            "STATUS:       PASSED\n",
            "DESCRIPTION:  The time series was analyzed, all data points are aligned with detected frequency.\n",
            "              \n",
            "\n",
            "********************************************************************************************\n",
            "\n",
            "TYPE:         Missing feature values imputation\n",
            "STATUS:       PASSED\n",
            "DESCRIPTION:  No feature missing values were detected in the training data.\n",
            "              Learn more about missing value imputation: https://aka.ms/AutomatedMLFeaturization\n",
            "\n",
            "********************************************************************************************\n",
            "\n",
            "TYPE:         Short series handling\n",
            "STATUS:       PASSED\n",
            "DESCRIPTION:  Automated ML detected enough data points for each series in the input data to continue with training.\n",
            "              \n",
            "\n",
            "********************************************************************************************\n",
            "\n",
            "********************************************************************************************\n",
            "ITER: The iteration being evaluated.\n",
            "PIPELINE: A summary description of the pipeline being evaluated.\n",
            "DURATION: Time taken for the current iteration.\n",
            "METRIC: The result of computing score on the fitted pipeline.\n",
            "BEST: The best observed score thus far.\n",
            "********************************************************************************************\n",
            "\n",
            " ITER   PIPELINE                                       DURATION            METRIC      BEST\n",
            "    0    Naive                                         0:00:13             0.3749    0.3749\n",
            "    1    SeasonalNaive                                 0:00:09             0.3663    0.3663\n",
            "    2    Average                                       0:00:06             0.2646    0.2646\n",
            "    3    SeasonalAverage                               0:00:07             0.2861    0.2646\n",
            "    4    ExponentialSmoothing                          0:02:02             0.2653    0.2646\n",
            "    5    Arimax                                        0:01:41             0.0280    0.0280\n",
            "    6    ProphetModel                                  0:00:22             0.0359    0.0280\n",
            "    7   StandardScalerWrapper LightGBM                 0:00:09             0.0127    0.0127\n",
            "    8   StandardScalerWrapper XGBoostRegressor         0:00:09             0.0150    0.0127\n",
            "    9   MaxAbsScaler ElasticNet                        0:00:09             0.0248    0.0127\n",
            "   10   RobustScaler ElasticNet                        0:00:08             0.0241    0.0127\n",
            "   11   MinMaxScaler ElasticNet                        0:00:08             0.0242    0.0127\n",
            "   12   StandardScalerWrapper ElasticNet               0:00:09             0.0242    0.0127\n",
            "   13   MinMaxScaler RandomForest                      0:00:09             0.0977    0.0127\n",
            "   14   MaxAbsScaler ElasticNet                        0:00:08             0.0241    0.0127\n",
            "   15   StandardScalerWrapper ElasticNet               0:00:09             0.0242    0.0127\n",
            "   16   MaxAbsScaler ElasticNet                        0:00:09             0.0241    0.0127\n",
            "   17   StandardScalerWrapper ElasticNet               0:00:08             0.0242    0.0127\n",
            "   18   MinMaxScaler ExtremeRandomTrees                0:00:08             0.0382    0.0127\n",
            "   19   MinMaxScaler RandomForest                      0:00:09             0.0257    0.0127\n",
            "   20   MinMaxScaler ExtremeRandomTrees                0:00:54             0.0662    0.0127\n",
            "   21   MinMaxScaler ExtremeRandomTrees                0:01:49             0.1266    0.0127\n",
            "   22   MaxAbsScaler ExtremeRandomTrees                0:02:09             0.0221    0.0127\n",
            "   23   MinMaxScaler DecisionTree                      0:01:50             0.0567    0.0127\n",
            "   24    VotingEnsemble                                0:02:28             0.0104    0.0104\n"
          ]
        },
        {
          "data": {
            "application/vnd.jupyter.widget-view+json": {
              "model_id": "0a69b04f1649460db81d699773baf722",
              "version_major": 2,
              "version_minor": 0
            },
            "text/plain": [
              "_AutoMLWidget(widget_settings={'childWidgetDisplay': 'popup', 'send_telemetry': False, 'log_level': 'INFO', 's…"
            ]
          },
          "metadata": {},
          "output_type": "display_data"
        },
        {
          "data": {
            "application/aml.mini.widget.v1": "{\"status\": \"Completed\", \"workbench_run_details_uri\": \"https://ml.azure.com/runs/AutoML_acf40396-ac33-482f-a70c-ccdd015e4ccc?wsid=/subscriptions/0aad4149-65b5-42c8-9b25-ce17f2fed264/resourcegroups/auto-ml-example-resource-group/workspaces/automl-example-workspace&tid=4ae54b05-b77e-4224-aef1-8661422e0816\", \"run_id\": \"AutoML_acf40396-ac33-482f-a70c-ccdd015e4ccc\", \"run_properties\": {\"run_id\": \"AutoML_acf40396-ac33-482f-a70c-ccdd015e4ccc\", \"created_utc\": \"2022-02-07T18:39:16.853111Z\", \"properties\": {\"num_iterations\": \"1000\", \"training_type\": \"TrainFull\", \"acquisition_function\": \"EI\", \"primary_metric\": \"normalized_root_mean_squared_error\", \"train_split\": \"0\", \"acquisition_parameter\": \"0\", \"num_cross_validation\": \"3\", \"target\": \"automl-compute\", \"AMLSettingsJsonString\": \"{\\\"path\\\":null,\\\"name\\\":\\\"OJ-Sales-Forecasting\\\",\\\"subscription_id\\\":\\\"0aad4149-65b5-42c8-9b25-ce17f2fed264\\\",\\\"resource_group\\\":\\\"auto-ml-example-resource-group\\\",\\\"workspace_name\\\":\\\"automl-example-workspace\\\",\\\"region\\\":\\\"eastus2\\\",\\\"compute_target\\\":\\\"automl-compute\\\",\\\"spark_service\\\":null,\\\"azure_service\\\":\\\"remote\\\",\\\"many_models\\\":false,\\\"pipeline_fetch_max_batch_size\\\":1,\\\"enable_batch_run\\\":true,\\\"enable_run_restructure\\\":false,\\\"start_auxiliary_runs_before_parent_complete\\\":false,\\\"enable_code_generation\\\":false,\\\"iterations\\\":1000,\\\"primary_metric\\\":\\\"normalized_root_mean_squared_error\\\",\\\"task_type\\\":\\\"regression\\\",\\\"positive_label\\\":null,\\\"data_script\\\":null,\\\"test_size\\\":0.0,\\\"test_include_predictions_only\\\":false,\\\"validation_size\\\":0.0,\\\"n_cross_validations\\\":3,\\\"y_min\\\":null,\\\"y_max\\\":null,\\\"num_classes\\\":null,\\\"featurization\\\":\\\"auto\\\",\\\"_ignore_package_version_incompatibilities\\\":false,\\\"is_timeseries\\\":true,\\\"max_cores_per_iteration\\\":1,\\\"max_concurrent_iterations\\\":1,\\\"iteration_timeout_minutes\\\":null,\\\"mem_in_mb\\\":null,\\\"enforce_time_on_windows\\\":false,\\\"experiment_timeout_minutes\\\":15,\\\"experiment_exit_score\\\":null,\\\"whitelist_models\\\":null,\\\"blacklist_algos\\\":[\\\"TensorFlowDNN\\\",\\\"TensorFlowLinearRegressor\\\"],\\\"supported_models\\\":[\\\"SeasonalAverage\\\",\\\"ExponentialSmoothing\\\",\\\"XGBoostRegressor\\\",\\\"Naive\\\",\\\"LightGBM\\\",\\\"ElasticNet\\\",\\\"Average\\\",\\\"GradientBoosting\\\",\\\"Prophet\\\",\\\"AutoArima\\\",\\\"RandomForest\\\",\\\"ExtremeRandomTrees\\\",\\\"TensorFlowDNN\\\",\\\"KNN\\\",\\\"SeasonalNaive\\\",\\\"SGD\\\",\\\"TCNForecaster\\\",\\\"DecisionTree\\\",\\\"LassoLars\\\",\\\"Arimax\\\",\\\"TensorFlowLinearRegressor\\\"],\\\"private_models\\\":[\\\"TabnetRegressor\\\"],\\\"auto_blacklist\\\":true,\\\"blacklist_samples_reached\\\":false,\\\"exclude_nan_labels\\\":true,\\\"verbosity\\\":20,\\\"_debug_log\\\":\\\"azureml_automl.log\\\",\\\"show_warnings\\\":false,\\\"model_explainability\\\":true,\\\"service_url\\\":null,\\\"sdk_url\\\":null,\\\"sdk_packages\\\":null,\\\"enable_onnx_compatible_models\\\":false,\\\"enable_split_onnx_featurizer_estimator_models\\\":false,\\\"vm_type\\\":\\\"STANDARD_DS11_V2\\\",\\\"telemetry_verbosity\\\":20,\\\"send_telemetry\\\":true,\\\"enable_dnn\\\":false,\\\"scenario\\\":\\\"SDK-1.13.0\\\",\\\"environment_label\\\":null,\\\"save_mlflow\\\":false,\\\"enable_categorical_indicators\\\":false,\\\"force_text_dnn\\\":false,\\\"enable_feature_sweeping\\\":false,\\\"time_column_name\\\":\\\"WeekStarting\\\",\\\"grain_column_names\\\":[\\\"Store\\\",\\\"Brand\\\"],\\\"drop_column_names\\\":[],\\\"max_horizon\\\":6,\\\"dropna\\\":false,\\\"overwrite_columns\\\":true,\\\"transform_dictionary\\\":{\\\"min\\\":\\\"_automl_target_col\\\",\\\"max\\\":\\\"_automl_target_col\\\",\\\"mean\\\":\\\"_automl_target_col\\\"},\\\"window_size\\\":null,\\\"country_or_region\\\":null,\\\"lags\\\":null,\\\"feature_lags\\\":null,\\\"seasonality\\\":\\\"auto\\\",\\\"use_stl\\\":\\\"season_trend\\\",\\\"short_series_handling\\\":true,\\\"freq\\\":null,\\\"short_series_handling_configuration\\\":\\\"auto\\\",\\\"target_aggregation_function\\\":null,\\\"cv_step_size\\\":null,\\\"enable_early_stopping\\\":true,\\\"early_stopping_n_iters\\\":10,\\\"arguments\\\":null,\\\"dataset_id\\\":null,\\\"hyperdrive_config\\\":null,\\\"validation_dataset_id\\\":null,\\\"run_source\\\":null,\\\"metrics\\\":null,\\\"enable_metric_confidence\\\":false,\\\"enable_ensembling\\\":true,\\\"enable_stack_ensembling\\\":false,\\\"ensemble_iterations\\\":15,\\\"enable_tf\\\":false,\\\"enable_subsampling\\\":false,\\\"subsample_seed\\\":null,\\\"enable_nimbusml\\\":false,\\\"enable_streaming\\\":false,\\\"force_streaming\\\":false,\\\"track_child_runs\\\":true,\\\"allowed_private_models\\\":[],\\\"label_column_name\\\":\\\"Quantity\\\",\\\"weight_column_name\\\":null,\\\"cv_split_column_names\\\":null,\\\"enable_local_managed\\\":false,\\\"_local_managed_run_id\\\":null,\\\"cost_mode\\\":1,\\\"lag_length\\\":0,\\\"metric_operation\\\":\\\"minimize\\\",\\\"preprocess\\\":true}\", \"DataPrepJsonString\": \"{\\\\\\\"training_data\\\\\\\": {\\\\\\\"datasetId\\\\\\\": \\\\\\\"c7f3262f-e3f6-4b23-a21f-7922deb9bd0f\\\\\\\"}, \\\\\\\"datasets\\\\\\\": 0}\", \"EnableSubsampling\": \"False\", \"runTemplate\": \"AutoML\", \"azureml.runsource\": \"automl\", \"display_task_type\": \"forecasting\", \"dependencies_versions\": \"{\\\"azureml-widgets\\\": \\\"1.37.0\\\", \\\"azureml-train\\\": \\\"1.37.0\\\", \\\"azureml-train-restclients-hyperdrive\\\": \\\"1.37.0\\\", \\\"azureml-train-core\\\": \\\"1.37.0\\\", \\\"azureml-train-automl-client\\\": \\\"1.37.0\\\", \\\"azureml-tensorboard\\\": \\\"1.37.0\\\", \\\"azureml-telemetry\\\": \\\"1.37.0\\\", \\\"azureml-sdk\\\": \\\"1.37.0\\\", \\\"azureml-responsibleai\\\": \\\"1.37.0\\\", \\\"azureml-pipeline\\\": \\\"1.37.0\\\", \\\"azureml-pipeline-steps\\\": \\\"1.37.0\\\", \\\"azureml-pipeline-core\\\": \\\"1.37.0\\\", \\\"azureml-opendatasets\\\": \\\"1.37.0\\\", \\\"azureml-mlflow\\\": \\\"1.37.0\\\", \\\"azureml-interpret\\\": \\\"1.37.0\\\", \\\"azureml-inference-server-http\\\": \\\"0.4.2\\\", \\\"azureml-explain-model\\\": \\\"1.37.0\\\", \\\"azureml-defaults\\\": \\\"1.37.0\\\", \\\"azureml-dataset-runtime\\\": \\\"1.37.0\\\", \\\"azureml-dataprep\\\": \\\"2.25.0\\\", \\\"azureml-dataprep-rslex\\\": \\\"2.1.0\\\", \\\"azureml-dataprep-native\\\": \\\"38.0.0\\\", \\\"azureml-datadrift\\\": \\\"1.37.0\\\", \\\"azureml-core\\\": \\\"1.37.0\\\", \\\"azureml-contrib-services\\\": \\\"1.37.0\\\", \\\"azureml-contrib-server\\\": \\\"1.37.0\\\", \\\"azureml-contrib-reinforcementlearning\\\": \\\"1.37.0\\\", \\\"azureml-contrib-pipeline-steps\\\": \\\"1.37.0\\\", \\\"azureml-contrib-notebook\\\": \\\"1.37.0\\\", \\\"azureml-contrib-fairness\\\": \\\"1.37.0\\\", \\\"azureml-contrib-dataset\\\": \\\"1.37.0\\\", \\\"azureml-cli-common\\\": \\\"1.37.0\\\", \\\"azureml-automl-core\\\": \\\"1.37.0\\\", \\\"azureml-accel-models\\\": \\\"1.37.0\\\"}\", \"_aml_system_scenario_identification\": \"Remote.Parent\", \"ClientType\": \"SDK\", \"environment_cpu_name\": \"AzureML-AutoML\", \"environment_cpu_label\": \"py36\", \"environment_gpu_name\": \"AzureML-AutoML-GPU\", \"environment_gpu_label\": \"py36\", \"root_attribution\": \"automl\", \"attribution\": \"AutoML\", \"Orchestrator\": \"AutoML\", \"CancelUri\": \"https://eastus2.api.azureml.ms/jasmine/v1.0/subscriptions/0aad4149-65b5-42c8-9b25-ce17f2fed264/resourceGroups/auto-ml-example-resource-group/providers/Microsoft.MachineLearningServices/workspaces/automl-example-workspace/experimentids/7715318d-71e6-436e-9785-52ed73d1b4b3/cancel/AutoML_acf40396-ac33-482f-a70c-ccdd015e4ccc\", \"ClientSdkVersion\": \"1.38.0\", \"snapshotId\": \"00000000-0000-0000-0000-000000000000\", \"SetupRunId\": \"AutoML_acf40396-ac33-482f-a70c-ccdd015e4ccc_setup\", \"SetupRunContainerId\": \"dcid.AutoML_acf40396-ac33-482f-a70c-ccdd015e4ccc_setup\", \"forecasting_target_lags\": \"[0]\", \"forecasting_target_rolling_window_size\": \"0\", \"forecasting_max_horizon\": \"6\", \"forecasting_freq\": \"W-THU\", \"ProblemInfoJsonString\": \"{\\\"dataset_num_categorical\\\": 0, \\\"is_sparse\\\": false, \\\"subsampling\\\": false, \\\"has_extra_col\\\": true, \\\"dataset_classes\\\": 1140, \\\"dataset_features\\\": 17, \\\"dataset_samples\\\": 1210, \\\"single_frequency_class_detected\\\": false, \\\"series_column_count\\\": 2, \\\"series_count\\\": 10, \\\"series_len_min\\\": 121, \\\"series_len_max\\\": 121, \\\"series_len_avg\\\": 121.0, \\\"series_len_perc_25\\\": 121.0, \\\"series_len_perc_50\\\": 121.0, \\\"series_len_perc_75\\\": 121.0}\", \"ModelExplainRunId\": \"AutoML_acf40396-ac33-482f-a70c-ccdd015e4ccc_ModelExplain\"}, \"tags\": {\"model_explain_run\": \"best_run\", \"_aml_system_azureml.automlComponent\": \"AutoML\", \"pipeline_id\": \"\", \"score\": \"\", \"predicted_cost\": \"\", \"fit_time\": \"\", \"training_percent\": \"\", \"iteration\": \"\", \"run_preprocessor\": \"\", \"run_algorithm\": \"\", \"_aml_system_azureml.automl_early_exit_message\": \"Experiment timeout reached, hence experiment stopped. Current experiment timeout: 0 hour(s) 15 minute(s)\", \"automl_best_child_run_id\": \"AutoML_acf40396-ac33-482f-a70c-ccdd015e4ccc_24\", \"model_explain_best_run_child_id\": \"AutoML_acf40396-ac33-482f-a70c-ccdd015e4ccc_24\"}, \"end_time_utc\": \"2022-02-07T18:58:35.28128Z\", \"status\": \"Completed\", \"log_files\": {}, \"log_groups\": [], \"run_duration\": \"0:19:18\", \"run_number\": \"1644259156\", \"run_queued_details\": {\"status\": \"Completed\", \"details\": null}}, \"child_runs\": [{\"run_id\": \"AutoML_acf40396-ac33-482f-a70c-ccdd015e4ccc_setup\", \"run_number\": 1644259169, \"metric\": null, \"status\": \"Completed\", \"run_type\": \"azureml.scriptrun\", \"training_percent\": null, \"start_time\": \"2022-02-07T18:39:29.278283Z\", \"end_time\": \"2022-02-07T18:40:28.388537Z\", \"created_time\": \"2022-02-07T18:39:29.278283Z\", \"created_time_dt\": \"2022-02-07T18:39:29.278283Z\", \"duration\": \"0:00:59\", \"iteration\": null, \"goal\": null, \"run_name\": \"Completed\", \"run_properties\": null}, {\"run_id\": \"AutoML_acf40396-ac33-482f-a70c-ccdd015e4ccc_0\", \"run_number\": 1644259229, \"metric\": null, \"status\": \"Completed\", \"run_type\": null, \"training_percent\": \"100\", \"start_time\": \"2022-02-07T18:41:52.042407Z\", \"end_time\": \"2022-02-07T18:42:05.334449Z\", \"created_time\": \"2022-02-07T18:40:29.95793Z\", \"created_time_dt\": \"2022-02-07T18:40:29.95793Z\", \"duration\": \"0:01:35\", \"iteration\": \"0\", \"goal\": \"normalized_root_mean_squared_error_min\", \"run_name\": \"Naive\", \"run_properties\": \"\\n    timeseries_param_dict={'time_column_name': 'WeekStarting', 'grain_column_names': ['Store', 'Brand'], 'drop_column_names': [], 'overwrite_columns': True, 'dropna': False, 'transform_dictionary': {'min': '_automl_target_col', 'max': '_automl_target_col', 'mean': '_automl_target_col'}, 'max_horizon': 6, 'origin_time_colname': 'origin', 'country_or_region': None, 'n_cross_validations': 3, 'short_series_handling': True, 'max_cores_per_iteration': 1, 'feature_lags': None, 'target_aggregation_function': None, 'cv_step_size': None, 'seasonality': 4, 'use_stl': 'season_trend', 'freq': 'W-THU', 'short_series_handling_configuration': 'auto', 'target_lags': [0], 'target_rolling_window_size': 0, 'arimax_raw_columns': ['Price', 'Brand', 'Store', 'Advert', 'WeekStarting', 'Revenue']}\\n\", \"primary_metric\": 0.37489283, \"best_metric\": 0.37489283}, {\"run_id\": \"AutoML_acf40396-ac33-482f-a70c-ccdd015e4ccc_1\", \"run_number\": 1644259230, \"metric\": null, \"status\": \"Completed\", \"run_type\": null, \"training_percent\": \"100\", \"start_time\": \"2022-02-07T18:42:05.53386Z\", \"end_time\": \"2022-02-07T18:42:15.002463Z\", \"created_time\": \"2022-02-07T18:40:30.988287Z\", \"created_time_dt\": \"2022-02-07T18:40:30.988287Z\", \"duration\": \"0:01:44\", \"iteration\": \"1\", \"goal\": \"normalized_root_mean_squared_error_min\", \"run_name\": \"SeasonalNaive\", \"run_properties\": \"\\n    timeseries_param_dict={'time_column_name': 'WeekStarting', 'grain_column_names': ['Store', 'Brand'], 'drop_column_names': [], 'overwrite_columns': True, 'dropna': False, 'transform_dictionary': {'min': '_automl_target_col', 'max': '_automl_target_col', 'mean': '_automl_target_col'}, 'max_horizon': 6, 'origin_time_colname': 'origin', 'country_or_region': None, 'n_cross_validations': 3, 'short_series_handling': True, 'max_cores_per_iteration': 1, 'feature_lags': None, 'target_aggregation_function': None, 'cv_step_size': None, 'seasonality': 4, 'use_stl': 'season_trend', 'freq': 'W-THU', 'short_series_handling_configuration': 'auto', 'target_lags': [0], 'target_rolling_window_size': 0, 'arimax_raw_columns': ['Price', 'Brand', 'Store', 'Advert', 'WeekStarting', 'Revenue']}\\n\", \"primary_metric\": 0.36630467, \"best_metric\": 0.36630467}, {\"run_id\": \"AutoML_acf40396-ac33-482f-a70c-ccdd015e4ccc_2\", \"run_number\": 1644259231, \"metric\": null, \"status\": \"Completed\", \"run_type\": null, \"training_percent\": \"100\", \"start_time\": \"2022-02-07T18:42:15.185748Z\", \"end_time\": \"2022-02-07T18:42:21.243742Z\", \"created_time\": \"2022-02-07T18:40:31.821603Z\", \"created_time_dt\": \"2022-02-07T18:40:31.821603Z\", \"duration\": \"0:01:49\", \"iteration\": \"2\", \"goal\": \"normalized_root_mean_squared_error_min\", \"run_name\": \"Average\", \"run_properties\": \"\\n    timeseries_param_dict={'time_column_name': 'WeekStarting', 'grain_column_names': ['Store', 'Brand'], 'drop_column_names': [], 'overwrite_columns': True, 'dropna': False, 'transform_dictionary': {'min': '_automl_target_col', 'max': '_automl_target_col', 'mean': '_automl_target_col'}, 'max_horizon': 6, 'origin_time_colname': 'origin', 'country_or_region': None, 'n_cross_validations': 3, 'short_series_handling': True, 'max_cores_per_iteration': 1, 'feature_lags': None, 'target_aggregation_function': None, 'cv_step_size': None, 'seasonality': 4, 'use_stl': 'season_trend', 'freq': 'W-THU', 'short_series_handling_configuration': 'auto', 'target_lags': [0], 'target_rolling_window_size': 0, 'arimax_raw_columns': ['Price', 'Brand', 'Store', 'Advert', 'WeekStarting', 'Revenue']}\\n\", \"primary_metric\": 0.26459933, \"best_metric\": 0.26459933}, {\"run_id\": \"AutoML_acf40396-ac33-482f-a70c-ccdd015e4ccc_3\", \"run_number\": 1644259232, \"metric\": null, \"status\": \"Completed\", \"run_type\": null, \"training_percent\": \"100\", \"start_time\": \"2022-02-07T18:42:21.444824Z\", \"end_time\": \"2022-02-07T18:42:28.658563Z\", \"created_time\": \"2022-02-07T18:40:32.329991Z\", \"created_time_dt\": \"2022-02-07T18:40:32.329991Z\", \"duration\": \"0:01:56\", \"iteration\": \"3\", \"goal\": \"normalized_root_mean_squared_error_min\", \"run_name\": \"SeasonalAverage\", \"run_properties\": \"\\n    timeseries_param_dict={'time_column_name': 'WeekStarting', 'grain_column_names': ['Store', 'Brand'], 'drop_column_names': [], 'overwrite_columns': True, 'dropna': False, 'transform_dictionary': {'min': '_automl_target_col', 'max': '_automl_target_col', 'mean': '_automl_target_col'}, 'max_horizon': 6, 'origin_time_colname': 'origin', 'country_or_region': None, 'n_cross_validations': 3, 'short_series_handling': True, 'max_cores_per_iteration': 1, 'feature_lags': None, 'target_aggregation_function': None, 'cv_step_size': None, 'seasonality': 4, 'use_stl': 'season_trend', 'freq': 'W-THU', 'short_series_handling_configuration': 'auto', 'target_lags': [0], 'target_rolling_window_size': 0, 'arimax_raw_columns': ['Price', 'Brand', 'Store', 'Advert', 'WeekStarting', 'Revenue']}\\n\", \"primary_metric\": 0.28606246, \"best_metric\": 0.26459933}, {\"run_id\": \"AutoML_acf40396-ac33-482f-a70c-ccdd015e4ccc_5\", \"run_number\": 1644259233, \"metric\": null, \"status\": \"Completed\", \"run_type\": null, \"training_percent\": \"100\", \"start_time\": \"2022-02-07T18:44:30.561641Z\", \"end_time\": \"2022-02-07T18:46:11.551135Z\", \"created_time\": \"2022-02-07T18:40:33.222911Z\", \"created_time_dt\": \"2022-02-07T18:40:33.222911Z\", \"duration\": \"0:05:38\", \"iteration\": \"5\", \"goal\": \"normalized_root_mean_squared_error_min\", \"run_name\": \"Arimax\", \"run_properties\": \"\\n    timeseries_param_dict={'time_column_name': 'WeekStarting', 'grain_column_names': ['Store', 'Brand'], 'drop_column_names': [], 'overwrite_columns': True, 'dropna': False, 'transform_dictionary': {'min': '_automl_target_col', 'max': '_automl_target_col', 'mean': '_automl_target_col'}, 'max_horizon': 6, 'origin_time_colname': 'origin', 'country_or_region': None, 'n_cross_validations': 3, 'short_series_handling': True, 'max_cores_per_iteration': 1, 'feature_lags': None, 'target_aggregation_function': None, 'cv_step_size': None, 'seasonality': 4, 'use_stl': 'season_trend', 'freq': 'W-THU', 'short_series_handling_configuration': 'auto', 'target_lags': [0], 'target_rolling_window_size': 0, 'arimax_raw_columns': ['Price', 'Brand', 'Store', 'Advert', 'WeekStarting', 'Revenue']}\\n\", \"primary_metric\": 0.02800926, \"best_metric\": 0.02800926}, {\"run_id\": \"AutoML_acf40396-ac33-482f-a70c-ccdd015e4ccc_7\", \"run_number\": 1644259234, \"metric\": null, \"status\": \"Completed\", \"run_type\": null, \"training_percent\": \"100\", \"start_time\": \"2022-02-07T18:46:33.992857Z\", \"end_time\": \"2022-02-07T18:46:42.771465Z\", \"created_time\": \"2022-02-07T18:40:34.063319Z\", \"created_time_dt\": \"2022-02-07T18:40:34.063319Z\", \"duration\": \"0:06:08\", \"iteration\": \"7\", \"goal\": \"normalized_root_mean_squared_error_min\", \"run_name\": \"StandardScalerWrapper, LightGBM\", \"run_properties\": \"\\n    copy=True,\\n    with_mean=False,\\n    with_std=False\\n\", \"primary_metric\": 0.01271158, \"best_metric\": 0.01271158}, {\"run_id\": \"AutoML_acf40396-ac33-482f-a70c-ccdd015e4ccc_10\", \"run_number\": 1644259235, \"metric\": null, \"status\": \"Completed\", \"run_type\": null, \"training_percent\": \"100\", \"start_time\": \"2022-02-07T18:47:00.642594Z\", \"end_time\": \"2022-02-07T18:47:08.959094Z\", \"created_time\": \"2022-02-07T18:40:35.280001Z\", \"created_time_dt\": \"2022-02-07T18:40:35.280001Z\", \"duration\": \"0:06:33\", \"iteration\": \"10\", \"goal\": \"normalized_root_mean_squared_error_min\", \"run_name\": \"RobustScaler, ElasticNet\", \"run_properties\": \"copy=True, quantile_range=[10, 90], with_centering=True,\\n             with_scaling=False\", \"primary_metric\": 0.02410541, \"best_metric\": 0.01271158}, {\"run_id\": \"AutoML_acf40396-ac33-482f-a70c-ccdd015e4ccc_12\", \"run_number\": 1644259236, \"metric\": null, \"status\": \"Completed\", \"run_type\": null, \"training_percent\": \"100\", \"start_time\": \"2022-02-07T18:47:17.728556Z\", \"end_time\": \"2022-02-07T18:47:26.300798Z\", \"created_time\": \"2022-02-07T18:40:36.067654Z\", \"created_time_dt\": \"2022-02-07T18:40:36.067654Z\", \"duration\": \"0:06:50\", \"iteration\": \"12\", \"goal\": \"normalized_root_mean_squared_error_min\", \"run_name\": \"StandardScalerWrapper, ElasticNet\", \"run_properties\": \"\\n    copy=True,\\n    with_mean=False,\\n    with_std=True\\n\", \"primary_metric\": 0.02421837, \"best_metric\": 0.01271158}, {\"run_id\": \"AutoML_acf40396-ac33-482f-a70c-ccdd015e4ccc_15\", \"run_number\": 1644259237, \"metric\": null, \"status\": \"Completed\", \"run_type\": null, \"training_percent\": \"100\", \"start_time\": \"2022-02-07T18:47:43.79643Z\", \"end_time\": \"2022-02-07T18:47:52.478843Z\", \"created_time\": \"2022-02-07T18:40:37.338895Z\", \"created_time_dt\": \"2022-02-07T18:40:37.338895Z\", \"duration\": \"0:07:15\", \"iteration\": \"15\", \"goal\": \"normalized_root_mean_squared_error_min\", \"run_name\": \"StandardScalerWrapper, ElasticNet\", \"run_properties\": \"\\n    copy=True,\\n    with_mean=True,\\n    with_std=False\\n\", \"primary_metric\": 0.02422176, \"best_metric\": 0.01271158}, {\"run_id\": \"AutoML_acf40396-ac33-482f-a70c-ccdd015e4ccc_17\", \"run_number\": 1644259238, \"metric\": null, \"status\": \"Completed\", \"run_type\": null, \"training_percent\": \"100\", \"start_time\": \"2022-02-07T18:48:01.481661Z\", \"end_time\": \"2022-02-07T18:48:09.734652Z\", \"created_time\": \"2022-02-07T18:40:38.078203Z\", \"created_time_dt\": \"2022-02-07T18:40:38.078203Z\", \"duration\": \"0:07:31\", \"iteration\": \"17\", \"goal\": \"normalized_root_mean_squared_error_min\", \"run_name\": \"StandardScalerWrapper, ElasticNet\", \"run_properties\": \"\\n    copy=True,\\n    with_mean=True,\\n    with_std=False\\n\", \"primary_metric\": 0.02416233, \"best_metric\": 0.01271158}, {\"run_id\": \"AutoML_acf40396-ac33-482f-a70c-ccdd015e4ccc_worker_0\", \"run_number\": 1644259239, \"metric\": null, \"status\": \"Completed\", \"run_type\": \"azureml.scriptrun\", \"training_percent\": null, \"start_time\": \"2022-02-07T18:43:38.968078Z\", \"end_time\": \"2022-02-07T18:48:33.384106Z\", \"created_time\": \"2022-02-07T18:40:39.096144Z\", \"created_time_dt\": \"2022-02-07T18:40:39.096144Z\", \"duration\": \"0:07:54\", \"iteration\": null, \"goal\": null, \"run_name\": \"Completed\", \"run_properties\": null}, {\"run_id\": \"AutoML_acf40396-ac33-482f-a70c-ccdd015e4ccc_20\", \"run_number\": 1644259759, \"metric\": null, \"status\": \"Completed\", \"run_type\": \"azureml.scriptrun\", \"training_percent\": \"100\", \"start_time\": \"2022-02-07T18:49:19.20149Z\", \"end_time\": \"2022-02-07T18:50:12.789433Z\", \"created_time\": \"2022-02-07T18:49:19.20149Z\", \"created_time_dt\": \"2022-02-07T18:49:19.20149Z\", \"duration\": \"0:00:53\", \"iteration\": \"20\", \"goal\": \"normalized_root_mean_squared_error_min\", \"run_name\": \"MinMaxScaler, ExtremeRandomTrees\", \"run_properties\": \"copy=True, feature_range=(0, 1\", \"primary_metric\": 0.06615209, \"best_metric\": 0.01271158}, {\"run_id\": \"AutoML_acf40396-ac33-482f-a70c-ccdd015e4ccc_21\", \"run_number\": 1644259814, \"metric\": null, \"status\": \"Completed\", \"run_type\": \"azureml.scriptrun\", \"training_percent\": \"100\", \"start_time\": \"2022-02-07T18:50:14.226599Z\", \"end_time\": \"2022-02-07T18:52:03.415646Z\", \"created_time\": \"2022-02-07T18:50:14.226599Z\", \"created_time_dt\": \"2022-02-07T18:50:14.226599Z\", \"duration\": \"0:01:49\", \"iteration\": \"21\", \"goal\": \"normalized_root_mean_squared_error_min\", \"run_name\": \"MinMaxScaler, ExtremeRandomTrees\", \"run_properties\": \"copy=True, feature_range=(0, 1\", \"primary_metric\": 0.12664724, \"best_metric\": 0.01271158}, {\"run_id\": \"AutoML_acf40396-ac33-482f-a70c-ccdd015e4ccc_22\", \"run_number\": 1644259924, \"metric\": null, \"status\": \"Completed\", \"run_type\": \"azureml.scriptrun\", \"training_percent\": \"100\", \"start_time\": \"2022-02-07T18:52:04.607993Z\", \"end_time\": \"2022-02-07T18:54:14.010297Z\", \"created_time\": \"2022-02-07T18:52:04.607993Z\", \"created_time_dt\": \"2022-02-07T18:52:04.607993Z\", \"duration\": \"0:02:09\", \"iteration\": \"22\", \"goal\": \"normalized_root_mean_squared_error_min\", \"run_name\": \"MaxAbsScaler, ExtremeRandomTrees\", \"run_properties\": \"copy=True\", \"primary_metric\": 0.02213249, \"best_metric\": 0.01271158}, {\"run_id\": \"AutoML_acf40396-ac33-482f-a70c-ccdd015e4ccc_23\", \"run_number\": 1644260055, \"metric\": null, \"status\": \"Completed\", \"run_type\": \"azureml.scriptrun\", \"training_percent\": \"100\", \"start_time\": \"2022-02-07T18:54:15.159187Z\", \"end_time\": \"2022-02-07T18:56:05.014566Z\", \"created_time\": \"2022-02-07T18:54:15.159187Z\", \"created_time_dt\": \"2022-02-07T18:54:15.159187Z\", \"duration\": \"0:01:49\", \"iteration\": \"23\", \"goal\": \"normalized_root_mean_squared_error_min\", \"run_name\": \"MinMaxScaler, DecisionTree\", \"run_properties\": \"copy=True, feature_range=(0, 1\", \"primary_metric\": 0.05667016, \"best_metric\": 0.01271158}, {\"run_id\": \"AutoML_acf40396-ac33-482f-a70c-ccdd015e4ccc_24\", \"run_number\": 1644260165, \"metric\": null, \"status\": \"Completed\", \"run_type\": \"azureml.scriptrun\", \"training_percent\": \"100\", \"start_time\": \"2022-02-07T18:56:05.711246Z\", \"end_time\": \"2022-02-07T18:58:33.879223Z\", \"created_time\": \"2022-02-07T18:56:05.711246Z\", \"created_time_dt\": \"2022-02-07T18:56:05.711246Z\", \"duration\": \"0:02:28\", \"iteration\": \"24\", \"goal\": \"normalized_root_mean_squared_error_min\", \"run_name\": \"VotingEnsemble\", \"run_properties\": \"\\n    estimators=[('7', Pipeline(\\n        memory=None,\\n        steps=[('standardscalerwrapper', StandardScalerWrapper(\\n            copy=True,\\n            with_mean=False,\\n            with_std=False\\n        \", \"primary_metric\": 0.01035929, \"best_metric\": 0.01035929}], \"children_metrics\": {\"categories\": [0], \"series\": {\"mean_absolute_percentage_error\": [{\"categories\": [\"0\", \"1\", \"2\", \"3\", \"5\", \"7\", \"10\", \"12\", \"15\", \"17\", \"20\", \"21\", \"22\", \"23\", \"24\"], \"mode\": \"markers\", \"name\": \"mean_absolute_percentage_error\", \"stepped\": false, \"type\": \"scatter\", \"data\": [26.163290242121743, 25.578365329579928, 18.825593700629792, 19.7814091087226, 1.9179115742735295, 0.7849876560852551, 1.5331233766154837, 1.5548908482158141, 1.5549826010828502, 1.5471939748234906, 4.509138327426006, 8.866887372503623, 1.4775576638430803, 3.7729528888356945, 0.6254206967242933]}, {\"categories\": [\"0\", \"1\", \"2\", \"3\", \"5\", \"7\", \"10\", \"12\", \"15\", \"17\", \"20\", \"21\", \"22\", \"23\", \"24\"], \"mode\": \"lines\", \"name\": \"mean_absolute_percentage_error_min\", \"stepped\": true, \"type\": \"scatter\", \"data\": [26.163290242121743, 25.578365329579928, 18.825593700629792, 18.825593700629792, 1.9179115742735295, 0.7849876560852551, 0.7849876560852551, 0.7849876560852551, 0.7849876560852551, 0.7849876560852551, 0.7849876560852551, 0.7849876560852551, 0.7849876560852551, 0.7849876560852551, 0.6254206967242933]}], \"spearman_correlation\": [{\"categories\": [\"0\", \"1\", \"2\", \"3\", \"5\", \"7\", \"10\", \"12\", \"15\", \"17\", \"20\", \"21\", \"22\", \"23\", \"24\"], \"mode\": \"markers\", \"name\": \"spearman_correlation\", \"stepped\": false, \"type\": \"scatter\", \"data\": [0.06410888911603904, 0.12046588910538834, 0.11548443527412951, 0.1166574549393291, 0.9932527306572526, 0.9974113121361498, 0.99637397794598, 0.9963461941227837, 0.9963461941227837, 0.9962535747734802, 0.9804898873146822, 0.949444069756845, 0.994132602766213, 0.974533744134901, 0.9983652807024828]}, {\"categories\": [\"0\", \"1\", \"2\", \"3\", \"5\", \"7\", \"10\", \"12\", \"15\", \"17\", \"20\", \"21\", \"22\", \"23\", \"24\"], \"mode\": \"lines\", \"name\": \"spearman_correlation_max\", \"stepped\": true, \"type\": \"scatter\", \"data\": [0.06410888911603904, 0.12046588910538834, 0.12046588910538834, 0.12046588910538834, 0.9932527306572526, 0.9974113121361498, 0.9974113121361498, 0.9974113121361498, 0.9974113121361498, 0.9974113121361498, 0.9974113121361498, 0.9974113121361498, 0.9974113121361498, 0.9974113121361498, 0.9983652807024828]}], \"root_mean_squared_error\": [{\"categories\": [\"0\", \"1\", \"2\", \"3\", \"5\", \"7\", \"10\", \"12\", \"15\", \"17\", \"20\", \"21\", \"22\", \"23\", \"24\"], \"mode\": \"markers\", \"name\": \"root_mean_squared_error\", \"stepped\": false, \"type\": \"scatter\", \"data\": [4254.479860213057, 4110.610739188898, 2921.7210166998434, 3150.8415873082517, 342.22713872783515, 143.9813012912165, 291.93296741946295, 293.2015918430105, 293.2472323117965, 292.59680473364364, 737.8859431814145, 1394.5766555206083, 249.63237128128972, 638.6898134977578, 116.73236698515286]}, {\"categories\": [\"0\", \"1\", \"2\", \"3\", \"5\", \"7\", \"10\", \"12\", \"15\", \"17\", \"20\", \"21\", \"22\", \"23\", \"24\"], \"mode\": \"lines\", \"name\": \"root_mean_squared_error_min\", \"stepped\": true, \"type\": \"scatter\", \"data\": [4254.479860213057, 4110.610739188898, 2921.7210166998434, 2921.7210166998434, 342.22713872783515, 143.9813012912165, 143.9813012912165, 143.9813012912165, 143.9813012912165, 143.9813012912165, 143.9813012912165, 143.9813012912165, 143.9813012912165, 143.9813012912165, 116.73236698515286]}], \"explained_variance\": [{\"categories\": [\"0\", \"1\", \"2\", \"3\", \"5\", \"7\", \"10\", \"12\", \"15\", \"17\", \"20\", \"21\", \"22\", \"23\", \"24\"], \"mode\": \"markers\", \"name\": \"explained_variance\", \"stepped\": false, \"type\": \"scatter\", \"data\": [-1.0636274983726104, -0.9944611827952273, 0.011888994432423639, -0.15924040402795758, 0.9865480765501236, 0.9975703569875822, 0.9900187004051793, 0.989920972881277, 0.9899178494013281, 0.9899660659885076, 0.9359490392551993, 0.7717444783571353, 0.9928571606890512, 0.9583152079663413, 0.9984215937737688]}, {\"categories\": [\"0\", \"1\", \"2\", \"3\", \"5\", \"7\", \"10\", \"12\", \"15\", \"17\", \"20\", \"21\", \"22\", \"23\", \"24\"], \"mode\": \"lines\", \"name\": \"explained_variance_max\", \"stepped\": true, \"type\": \"scatter\", \"data\": [-1.0636274983726104, -0.9944611827952273, 0.011888994432423639, 0.011888994432423639, 0.9865480765501236, 0.9975703569875822, 0.9975703569875822, 0.9975703569875822, 0.9975703569875822, 0.9975703569875822, 0.9975703569875822, 0.9975703569875822, 0.9975703569875822, 0.9975703569875822, 0.9984215937737688]}], \"median_absolute_error\": [{\"categories\": [\"0\", \"1\", \"2\", \"3\", \"5\", \"7\", \"10\", \"12\", \"15\", \"17\", \"20\", \"21\", \"22\", \"23\", \"24\"], \"mode\": \"markers\", \"name\": \"median_absolute_error\", \"stepped\": false, \"type\": \"scatter\", \"data\": [3086.0, 3089.6666666666665, 2221.56595136681, 2509.125, 185.64622470303706, 90.68576995499764, 137.63617187637828, 137.54093098804393, 137.64962244295293, 133.66216092010836, 498.7788825300513, 1075.617480453996, 179.5305555555551, 449.26531006014346, 67.23059403149061]}, {\"categories\": [\"0\", \"1\", \"2\", \"3\", \"5\", \"7\", \"10\", \"12\", \"15\", \"17\", \"20\", \"21\", \"22\", \"23\", \"24\"], \"mode\": \"lines\", \"name\": \"median_absolute_error_min\", \"stepped\": true, \"type\": \"scatter\", \"data\": [3086.0, 3086.0, 2221.56595136681, 2221.56595136681, 185.64622470303706, 90.68576995499764, 90.68576995499764, 90.68576995499764, 90.68576995499764, 90.68576995499764, 90.68576995499764, 90.68576995499764, 90.68576995499764, 90.68576995499764, 67.23059403149061]}], \"normalized_root_mean_squared_error\": [{\"categories\": [\"0\", \"1\", \"2\", \"3\", \"5\", \"7\", \"10\", \"12\", \"15\", \"17\", \"20\", \"21\", \"22\", \"23\", \"24\"], \"mode\": \"markers\", \"name\": \"normalized_root_mean_squared_error\", \"stepped\": false, \"type\": \"scatter\", \"data\": [0.37489282911353355, 0.3663046718923, 0.2645993284135286, 0.2860624594941457, 0.028009260734134383, 0.012711579545480446, 0.024105411461618483, 0.02421837192926381, 0.024221762808970797, 0.0241623306377875, 0.06615208535795426, 0.12664724466183133, 0.022132493519567517, 0.05667015704105314, 0.010359287863449708]}, {\"categories\": [\"0\", \"1\", \"2\", \"3\", \"5\", \"7\", \"10\", \"12\", \"15\", \"17\", \"20\", \"21\", \"22\", \"23\", \"24\"], \"mode\": \"lines\", \"name\": \"normalized_root_mean_squared_error_min\", \"stepped\": true, \"type\": \"scatter\", \"data\": [0.37489282911353355, 0.3663046718923, 0.2645993284135286, 0.2645993284135286, 0.028009260734134383, 0.012711579545480446, 0.012711579545480446, 0.012711579545480446, 0.012711579545480446, 0.012711579545480446, 0.012711579545480446, 0.012711579545480446, 0.012711579545480446, 0.012711579545480446, 0.010359287863449708]}], \"normalized_mean_absolute_error\": [{\"categories\": [\"0\", \"1\", \"2\", \"3\", \"5\", \"7\", \"10\", \"12\", \"15\", \"17\", \"20\", \"21\", \"22\", \"23\", \"24\"], \"mode\": \"markers\", \"name\": \"normalized_mean_absolute_error\", \"stepped\": false, \"type\": \"scatter\", \"data\": [0.31911188503384963, 0.3132443794771103, 0.22605142292895022, 0.2435792480232685, 0.023405231931967724, 0.010377287383803073, 0.018911857044465716, 0.018875870260599874, 0.018871771223092044, 0.0188801376742623, 0.05579416988888713, 0.10810721888207508, 0.01870231467198989, 0.04863963043366327, 0.008225800223814084]}, {\"categories\": [\"0\", \"1\", \"2\", \"3\", \"5\", \"7\", \"10\", \"12\", \"15\", \"17\", \"20\", \"21\", \"22\", \"23\", \"24\"], \"mode\": \"lines\", \"name\": \"normalized_mean_absolute_error_min\", \"stepped\": true, \"type\": \"scatter\", \"data\": [0.31911188503384963, 0.3132443794771103, 0.22605142292895022, 0.22605142292895022, 0.023405231931967724, 0.010377287383803073, 0.010377287383803073, 0.010377287383803073, 0.010377287383803073, 0.010377287383803073, 0.010377287383803073, 0.010377287383803073, 0.010377287383803073, 0.010377287383803073, 0.008225800223814084]}], \"root_mean_squared_log_error\": [{\"categories\": [\"0\", \"1\", \"2\", \"3\", \"5\", \"7\", \"10\", \"12\", \"15\", \"17\", \"20\", \"21\", \"22\", \"23\", \"24\"], \"mode\": \"markers\", \"name\": \"root_mean_squared_log_error\", \"stepped\": false, \"type\": \"scatter\", \"data\": [0.3129642008928257, 0.3041271479797374, 0.2150814932213353, 0.22979611639873118, 0.028384079412667615, 0.010172945433815065, 0.0230799594269822, 0.02382034409220386, 0.023833547919921743, 0.023565944623166562, 0.05686250271393481, 0.10652906976106852, 0.01885426495770312, 0.046283629421666826, 0.008293035584071079]}, {\"categories\": [\"0\", \"1\", \"2\", \"3\", \"5\", \"7\", \"10\", \"12\", \"15\", \"17\", \"20\", \"21\", \"22\", \"23\", \"24\"], \"mode\": \"lines\", \"name\": \"root_mean_squared_log_error_min\", \"stepped\": true, \"type\": \"scatter\", \"data\": [0.3129642008928257, 0.3041271479797374, 0.2150814932213353, 0.2150814932213353, 0.028384079412667615, 0.010172945433815065, 0.010172945433815065, 0.010172945433815065, 0.010172945433815065, 0.010172945433815065, 0.010172945433815065, 0.010172945433815065, 0.010172945433815065, 0.010172945433815065, 0.008293035584071079]}], \"normalized_median_absolute_error\": [{\"categories\": [\"0\", \"1\", \"2\", \"3\", \"5\", \"7\", \"10\", \"12\", \"15\", \"17\", \"20\", \"21\", \"22\", \"23\", \"24\"], \"mode\": \"markers\", \"name\": \"normalized_median_absolute_error\", \"stepped\": false, \"type\": \"scatter\", \"data\": [0.30159285965047206, 0.29384524501108855, 0.22842502454574307, 0.2431013116807784, 0.02028673660768258, 0.008739531661813663, 0.016201453266149832, 0.016265686865196635, 0.016254702225962914, 0.016223634195216784, 0.04969698783477564, 0.10090484562254572, 0.016903105464910712, 0.04421217527601142, 0.0065251589280356835]}, {\"categories\": [\"0\", \"1\", \"2\", \"3\", \"5\", \"7\", \"10\", \"12\", \"15\", \"17\", \"20\", \"21\", \"22\", \"23\", \"24\"], \"mode\": \"lines\", \"name\": \"normalized_median_absolute_error_min\", \"stepped\": true, \"type\": \"scatter\", \"data\": [0.30159285965047206, 0.29384524501108855, 0.22842502454574307, 0.22842502454574307, 0.02028673660768258, 0.008739531661813663, 0.008739531661813663, 0.008739531661813663, 0.008739531661813663, 0.008739531661813663, 0.008739531661813663, 0.008739531661813663, 0.008739531661813663, 0.008739531661813663, 0.0065251589280356835]}], \"mean_absolute_error\": [{\"categories\": [\"0\", \"1\", \"2\", \"3\", \"5\", \"7\", \"10\", \"12\", \"15\", \"17\", \"20\", \"21\", \"22\", \"23\", \"24\"], \"mode\": \"markers\", \"name\": \"mean_absolute_error\", \"stepped\": false, \"type\": \"scatter\", \"data\": [3451.7444444444445, 3391.6222222222223, 2447.6763279848974, 2637.2944444444443, 253.84680329498158, 112.23185368803007, 205.06425373462045, 204.66693125238768, 204.62274794201963, 204.71530539007867, 604.1556148558889, 1170.3732593314937, 202.7344100529099, 526.2809529082903, 89.12620669385528]}, {\"categories\": [\"0\", \"1\", \"2\", \"3\", \"5\", \"7\", \"10\", \"12\", \"15\", \"17\", \"20\", \"21\", \"22\", \"23\", \"24\"], \"mode\": \"lines\", \"name\": \"mean_absolute_error_min\", \"stepped\": true, \"type\": \"scatter\", \"data\": [3451.7444444444445, 3391.6222222222223, 2447.6763279848974, 2447.6763279848974, 253.84680329498158, 112.23185368803007, 112.23185368803007, 112.23185368803007, 112.23185368803007, 112.23185368803007, 112.23185368803007, 112.23185368803007, 112.23185368803007, 112.23185368803007, 89.12620669385528]}], \"normalized_root_mean_squared_log_error\": [{\"categories\": [\"0\", \"1\", \"2\", \"3\", \"5\", \"7\", \"10\", \"12\", \"15\", \"17\", \"20\", \"21\", \"22\", \"23\", \"24\"], \"mode\": \"markers\", \"name\": \"normalized_root_mean_squared_log_error\", \"stepped\": false, \"type\": \"scatter\", \"data\": [0.37761278109268526, 0.3736351860410938, 0.2675575825840692, 0.28709467506966474, 0.03129979272785999, 0.012161962088025632, 0.02597254694811087, 0.026748027185988458, 0.026762949387311302, 0.026478147980944482, 0.06952839892321938, 0.132232735803525, 0.022731329405547313, 0.05538161274176986, 0.009890852170296411]}, {\"categories\": [\"0\", \"1\", \"2\", \"3\", \"5\", \"7\", \"10\", \"12\", \"15\", \"17\", \"20\", \"21\", \"22\", \"23\", \"24\"], \"mode\": \"lines\", \"name\": \"normalized_root_mean_squared_log_error_min\", \"stepped\": true, \"type\": \"scatter\", \"data\": [0.37761278109268526, 0.3736351860410938, 0.2675575825840692, 0.2675575825840692, 0.03129979272785999, 0.012161962088025632, 0.012161962088025632, 0.012161962088025632, 0.012161962088025632, 0.012161962088025632, 0.012161962088025632, 0.012161962088025632, 0.012161962088025632, 0.012161962088025632, 0.009890852170296411]}], \"r2_score\": [{\"categories\": [\"0\", \"1\", \"2\", \"3\", \"5\", \"7\", \"10\", \"12\", \"15\", \"17\", \"20\", \"21\", \"22\", \"23\", \"24\"], \"mode\": \"markers\", \"name\": \"r2_score\", \"stepped\": false, \"type\": \"scatter\", \"data\": [-0.9841388354872015, -0.8986440953561251, -0.007136356263701386, -0.1732668309572678, 0.9861138235942906, 0.997553420060345, 0.9899531951727529, 0.9898667301134302, 0.9898636007501261, 0.9899082938494154, 0.9353148271841025, 0.7690851872429327, 0.9925321405988283, 0.9519103837483335, 0.9983797658994374]}, {\"categories\": [\"0\", \"1\", \"2\", \"3\", \"5\", \"7\", \"10\", \"12\", \"15\", \"17\", \"20\", \"21\", \"22\", \"23\", \"24\"], \"mode\": \"lines\", \"name\": \"r2_score_max\", \"stepped\": true, \"type\": \"scatter\", \"data\": [-0.9841388354872015, -0.8986440953561251, -0.007136356263701386, -0.007136356263701386, 0.9861138235942906, 0.997553420060345, 0.997553420060345, 0.997553420060345, 0.997553420060345, 0.997553420060345, 0.997553420060345, 0.997553420060345, 0.997553420060345, 0.997553420060345, 0.9983797658994374]}]}, \"metricName\": null, \"primaryMetricName\": \"normalized_root_mean_squared_error\", \"showLegend\": false}, \"run_metrics\": [{\"name\": \"experiment_status\", \"run_id\": \"AutoML_acf40396-ac33-482f-a70c-ccdd015e4ccc\", \"categories\": [0, 1, 2, 3, 4, 5, 6, 7, 8, 9, 10, 11, 12, 13, 14, 15, 16, 17], \"series\": [{\"data\": [\"DatasetFeaturization\", \"DatasetFeaturizationCompleted\", \"DatasetCrossValidationSplit\", \"DatasetFeaturization\", \"DatasetFeaturizationCompleted\", \"DatasetFeaturization\", \"DatasetFeaturizationCompleted\", \"DatasetFeaturization\", \"DatasetFeaturizationCompleted\", \"ModelSelection\", \"BestRunExplainModel\", \"ModelExplanationDataSetSetup\", \"PickSurrogateModel\", \"EngineeredFeatureExplanations\", \"EngineeredFeatureExplanations\", \"RawFeaturesExplanations\", \"RawFeaturesExplanations\", \"BestRunExplainModel\"]}]}, {\"name\": \"experiment_status_description\", \"run_id\": \"AutoML_acf40396-ac33-482f-a70c-ccdd015e4ccc\", \"categories\": [0, 1, 2, 3, 4, 5, 6, 7, 8, 9, 10, 11, 12, 13, 14, 15, 16, 17], \"series\": [{\"data\": [\"Beginning to featurize the dataset.\", \"Completed featurizing the dataset.\", \"Generating individually featurized CV splits.\", \"Beginning to featurize the CV split.\", \"Completed featurizing the CV split.\", \"Beginning to featurize the CV split.\", \"Completed featurizing the CV split.\", \"Beginning to featurize the CV split.\", \"Completed featurizing the CV split.\", \"Beginning model selection.\", \"Best run model explanations started\", \"Model explanations data setup completed\", \"Choosing LightGBM as the surrogate model for explanations\", \"Computation of engineered features started\", \"Computation of engineered features completed\", \"Computation of raw features started\", \"Computation of raw features completed\", \"Best run model explanations completed\"]}]}, {\"name\": \"mean_absolute_percentage_error\", \"run_id\": \"AutoML_acf40396-ac33-482f-a70c-ccdd015e4ccc\", \"categories\": [0], \"series\": [{\"data\": [0.6254206967242933]}]}, {\"name\": \"normalized_root_mean_squared_log_error\", \"run_id\": \"AutoML_acf40396-ac33-482f-a70c-ccdd015e4ccc\", \"categories\": [0], \"series\": [{\"data\": [0.009890852170296411]}]}, {\"name\": \"normalized_mean_absolute_error\", \"run_id\": \"AutoML_acf40396-ac33-482f-a70c-ccdd015e4ccc\", \"categories\": [0], \"series\": [{\"data\": [0.008225800223814084]}]}, {\"name\": \"root_mean_squared_error\", \"run_id\": \"AutoML_acf40396-ac33-482f-a70c-ccdd015e4ccc\", \"categories\": [0], \"series\": [{\"data\": [116.73236698515286]}]}, {\"name\": \"root_mean_squared_log_error\", \"run_id\": \"AutoML_acf40396-ac33-482f-a70c-ccdd015e4ccc\", \"categories\": [0], \"series\": [{\"data\": [0.008293035584071079]}]}, {\"name\": \"normalized_root_mean_squared_error\", \"run_id\": \"AutoML_acf40396-ac33-482f-a70c-ccdd015e4ccc\", \"categories\": [0], \"series\": [{\"data\": [0.010359287863449708]}]}, {\"name\": \"median_absolute_error\", \"run_id\": \"AutoML_acf40396-ac33-482f-a70c-ccdd015e4ccc\", \"categories\": [0], \"series\": [{\"data\": [67.23059403149061]}]}, {\"name\": \"normalized_median_absolute_error\", \"run_id\": \"AutoML_acf40396-ac33-482f-a70c-ccdd015e4ccc\", \"categories\": [0], \"series\": [{\"data\": [0.0065251589280356835]}]}, {\"name\": \"mean_absolute_error\", \"run_id\": \"AutoML_acf40396-ac33-482f-a70c-ccdd015e4ccc\", \"categories\": [0], \"series\": [{\"data\": [89.12620669385528]}]}, {\"name\": \"explained_variance\", \"run_id\": \"AutoML_acf40396-ac33-482f-a70c-ccdd015e4ccc\", \"categories\": [0], \"series\": [{\"data\": [0.9984215937737688]}]}, {\"name\": \"spearman_correlation\", \"run_id\": \"AutoML_acf40396-ac33-482f-a70c-ccdd015e4ccc\", \"categories\": [0], \"series\": [{\"data\": [0.9983652807024828]}]}, {\"name\": \"r2_score\", \"run_id\": \"AutoML_acf40396-ac33-482f-a70c-ccdd015e4ccc\", \"categories\": [0], \"series\": [{\"data\": [0.9983797658994374]}]}], \"run_logs\": \"\\nRun is completed.\", \"graph\": {}, \"widget_settings\": {\"childWidgetDisplay\": \"popup\", \"send_telemetry\": false, \"log_level\": \"INFO\", \"sdk_version\": \"1.37.0\"}, \"loading\": false}"
          },
          "metadata": {},
          "output_type": "display_data"
        }
      ],
      "source": [
        "# Train your AutoML model to forecast OJ Sales using Prophet and ARIMA\n",
        "AutoML_Prophet_ARIMA_run = exp.submit(config2, show_output = True)\n",
        "RunDetails(AutoML_Prophet_ARIMA_run).show()"
      ]
    },
    {
      "cell_type": "code",
      "execution_count": null,
      "id": "f2ae6c2c",
      "metadata": {
        "id": "f2ae6c2c"
      },
      "outputs": [],
      "source": [
        "# Set model description, tags, and give it a name\n",
        "description = 'Best AutoML Forecasting Run using OJ Sales Sample Data.' \n",
        "tags = {'project' : \"OJ Sales\", \"creator\" : \"your name\"} \n",
        "model_name = 'OJ-Sales-Sample-Forecasting-AutoML' "
      ]
    },
    {
      "cell_type": "code",
      "execution_count": null,
      "id": "afcaa5c5",
      "metadata": {
        "id": "afcaa5c5",
        "outputId": "12751d42-14d5-4d7b-b31b-27fa3a19504d"
      },
      "outputs": [
        {
          "data": {
            "text/plain": [
              "Model(workspace=Workspace.create(name='automl-example-workspace', subscription_id='0aad4149-65b5-42c8-9b25-ce17f2fed264', resource_group='auto-ml-example-resource-group'), name=OJ-Sales-Sample-Forecasting-AutoML, id=OJ-Sales-Sample-Forecasting-AutoML:1, version=1, tags={'project': 'OJ Sales', 'creator': 'your name'}, properties={})"
            ]
          },
          "execution_count": 26,
          "metadata": {},
          "output_type": "execute_result"
        }
      ],
      "source": [
        "# Register your model\n",
        "AutoML_run.register_model(model_name=model_name, description=description, tags=tags)"
      ]
    },
    {
      "cell_type": "code",
      "execution_count": null,
      "id": "5b4dc499",
      "metadata": {
        "id": "5b4dc499",
        "outputId": "7d7fcc0e-b7b0-4549-ac9a-649986f3d8c7"
      },
      "outputs": [
        {
          "data": {
            "text/plain": [
              "Model(workspace=Workspace.create(name='automl-example-workspace', subscription_id='0aad4149-65b5-42c8-9b25-ce17f2fed264', resource_group='auto-ml-example-resource-group'), name=OJ-Sales-Sample-Forecasting-AutoML-R2, id=OJ-Sales-Sample-Forecasting-AutoML-R2:1, version=1, tags={'project': 'OJ Sales', 'creator': 'your name', 'metric': 'R2 Score'}, properties={})"
            ]
          },
          "execution_count": 27,
          "metadata": {},
          "output_type": "execute_result"
        }
      ],
      "source": [
        "# Reregister your model using a different metric\n",
        "description = 'Best AutoML Forecasting Run using OJ Sales Sample Data.'\n",
        "tags = {'project' : \"OJ Sales\", \"creator\" : \"your name\", \"metric\" : \"R2 Score\"} \n",
        "model_name = 'OJ-Sales-Sample-Forecasting-AutoML-R2'\n",
        "AutoML_run.register_model(model_name=model_name, description=description, tags=tags, metric = 'r2_score')"
      ]
    },
    {
      "cell_type": "code",
      "execution_count": null,
      "id": "148e3697",
      "metadata": {
        "id": "148e3697",
        "outputId": "adf4f806-b796-46ef-c716-6da5ec92ed8a"
      },
      "outputs": [
        {
          "data": {
            "text/plain": [
              "Model(workspace=Workspace.create(name='automl-example-workspace', subscription_id='0aad4149-65b5-42c8-9b25-ce17f2fed264', resource_group='auto-ml-example-resource-group'), name=OJ-Sales-Sample-Forecasting-AutoML-ARIMA, id=OJ-Sales-Sample-Forecasting-AutoML-ARIMA:1, version=1, tags={'project': 'OJ Sales', 'creator': 'your name'}, properties={})"
            ]
          },
          "execution_count": 30,
          "metadata": {},
          "output_type": "execute_result"
        }
      ],
      "source": [
        "# Retrieve and register your second training run\n",
        "experiment_name = 'OJ-Sales-Forecasting'\n",
        "exp = Experiment(workspace=ws, name=experiment_name) \n",
        "AutoML_run = AutoMLRun(experiment = exp, run_id = 'AutoML_acf40396-ac33-482f-a70c-ccdd015e4ccc')  \n",
        "description = 'AutoML Forecasting Run for OJ Sales Data with Prophet/ARIMA.'\n",
        "tags = {'project' : \"OJ Sales\", \"creator\" : \"your name\"} \n",
        "model_name = 'OJ-Sales-Sample-Forecasting-AutoML-ARIMA'\n",
        "AutoML_run.register_model(model_name=model_name, description=description, tags=tags)"
      ]
    }
  ],
  "metadata": {
    "kernelspec": {
      "display_name": "Python 3.8 - AzureML",
      "language": "python",
      "name": "python38-azureml"
    },
    "language_info": {
      "codemirror_mode": {
        "name": "ipython",
        "version": 3
      },
      "file_extension": ".py",
      "mimetype": "text/x-python",
      "name": "python",
      "nbconvert_exporter": "python",
      "pygments_lexer": "ipython3",
      "version": "3.8.1"
    },
    "colab": {
      "name": "Forecasting_AutoML.ipynb",
      "provenance": [],
      "include_colab_link": true
    }
  },
  "nbformat": 4,
  "nbformat_minor": 5
}