{
  "cells": [
    {
      "cell_type": "markdown",
      "metadata": {
        "id": "view-in-github",
        "colab_type": "text"
      },
      "source": [
        "<a href=\"https://colab.research.google.com/github/Jushef/Azure-AutoML/blob/main/AutoML%20Jupyter%20Notebook/Titanic_Classification_AutoML.ipynb\" target=\"_parent\"><img src=\"https://colab.research.google.com/assets/colab-badge.svg\" alt=\"Open In Colab\"/></a>"
      ]
    },
    {
      "cell_type": "code",
      "execution_count": null,
      "id": "bbad492c",
      "metadata": {
        "id": "bbad492c"
      },
      "outputs": [],
      "source": [
        "# Cargar librerías Azure\n",
        "from azureml.core import Workspace, Dataset, Datastore, Experiment\n",
        "from azureml.core.compute import ComputeTarget\n",
        "from azureml.train.automl import AutoMLConfig\n",
        "from azureml.train.automl.run import AutoMLRun\n",
        "from azureml.widgets import RunDetails\n",
        "\n",
        "# Cargar bibliotecas que no son de Azure\n",
        "import pandas as pd\n",
        "import numpy as np"
      ]
    },
    {
      "cell_type": "code",
      "execution_count": null,
      "id": "e7f59169",
      "metadata": {
        "id": "e7f59169",
        "outputId": "684ff270-93c6-48c9-dab6-314e24198b9d"
      },
      "outputs": [
        {
          "name": "stdout",
          "output_type": "stream",
          "text": [
            "You are currently using version 1.37.0 of the Azure ML SDK\n"
          ]
        }
      ],
      "source": [
        "# Compruebe la versión base de AzureMl\n",
        "import azureml.core\n",
        "print(\"You are currently using version \" + azureml.core.VERSION + \" of the Azure ML SDK\")"
      ]
    },
    {
      "cell_type": "code",
      "execution_count": null,
      "id": "0be73442",
      "metadata": {
        "id": "0be73442"
      },
      "outputs": [],
      "source": [
        "# Recupere su espacio de trabajo \n",
        "ws = Workspace.from_config()"
      ]
    },
    {
      "cell_type": "code",
      "execution_count": null,
      "id": "e570b1f7",
      "metadata": {
        "id": "e570b1f7"
      },
      "outputs": [],
      "source": [
        "# Recuperar el objetivo informático para ejecutar AutoML de forma remota\n",
        "compute_name = 'automl-compute'\n",
        "compute_target = ComputeTarget(ws, compute_name)"
      ]
    },
    {
      "cell_type": "code",
      "execution_count": null,
      "id": "4ecb59eb",
      "metadata": {
        "id": "4ecb59eb"
      },
      "outputs": [],
      "source": [
        "# Recupere su Datastore por nombre rellenando los valores en minúsculas entre comillas dobles\n",
        "datastore = Datastore.get_default(ws)\n",
        "my_datastore_name = 'workspaceblobstore'\n",
        "my_datastore = Datastore.get(ws, my_datastore_name)"
      ]
    },
    {
      "cell_type": "code",
      "execution_count": null,
      "id": "280e609b",
      "metadata": {
        "id": "280e609b"
      },
      "outputs": [],
      "source": [
        "# Si ya ha registrado su conjunto de datos, recupérelo\n",
        "dataset_name = \"Titanic Training Data\"\n",
        "dataset = Dataset.get_by_name(ws, dataset_name, version='latest')"
      ]
    },
    {
      "cell_type": "code",
      "execution_count": null,
      "id": "026776ca",
      "metadata": {
        "id": "026776ca",
        "outputId": "3a9a0647-52ee-4f0e-dbb7-a914512e885f"
      },
      "outputs": [
        {
          "data": {
            "text/html": [
              "<div>\n",
              "<style scoped>\n",
              "    .dataframe tbody tr th:only-of-type {\n",
              "        vertical-align: middle;\n",
              "    }\n",
              "\n",
              "    .dataframe tbody tr th {\n",
              "        vertical-align: top;\n",
              "    }\n",
              "\n",
              "    .dataframe thead th {\n",
              "        text-align: right;\n",
              "    }\n",
              "</style>\n",
              "<table border=\"1\" class=\"dataframe\">\n",
              "  <thead>\n",
              "    <tr style=\"text-align: right;\">\n",
              "      <th></th>\n",
              "      <th>Survived</th>\n",
              "      <th>Pclass</th>\n",
              "      <th>Sex</th>\n",
              "      <th>Age</th>\n",
              "      <th>SibSp</th>\n",
              "      <th>Parch</th>\n",
              "      <th>Ticket</th>\n",
              "      <th>Fare</th>\n",
              "      <th>Embarked</th>\n",
              "    </tr>\n",
              "  </thead>\n",
              "  <tbody>\n",
              "    <tr>\n",
              "      <th>0</th>\n",
              "      <td>False</td>\n",
              "      <td>3</td>\n",
              "      <td>male</td>\n",
              "      <td>22.0</td>\n",
              "      <td>1</td>\n",
              "      <td>0</td>\n",
              "      <td>A/5 21171</td>\n",
              "      <td>7.2500</td>\n",
              "      <td>S</td>\n",
              "    </tr>\n",
              "    <tr>\n",
              "      <th>1</th>\n",
              "      <td>True</td>\n",
              "      <td>1</td>\n",
              "      <td>female</td>\n",
              "      <td>38.0</td>\n",
              "      <td>1</td>\n",
              "      <td>0</td>\n",
              "      <td>PC 17599</td>\n",
              "      <td>71.2833</td>\n",
              "      <td>C</td>\n",
              "    </tr>\n",
              "    <tr>\n",
              "      <th>2</th>\n",
              "      <td>True</td>\n",
              "      <td>3</td>\n",
              "      <td>female</td>\n",
              "      <td>26.0</td>\n",
              "      <td>0</td>\n",
              "      <td>0</td>\n",
              "      <td>STON/O2. 3101282</td>\n",
              "      <td>7.9250</td>\n",
              "      <td>S</td>\n",
              "    </tr>\n",
              "    <tr>\n",
              "      <th>3</th>\n",
              "      <td>True</td>\n",
              "      <td>1</td>\n",
              "      <td>female</td>\n",
              "      <td>35.0</td>\n",
              "      <td>1</td>\n",
              "      <td>0</td>\n",
              "      <td>113803</td>\n",
              "      <td>53.1000</td>\n",
              "      <td>S</td>\n",
              "    </tr>\n",
              "    <tr>\n",
              "      <th>4</th>\n",
              "      <td>False</td>\n",
              "      <td>3</td>\n",
              "      <td>male</td>\n",
              "      <td>35.0</td>\n",
              "      <td>0</td>\n",
              "      <td>0</td>\n",
              "      <td>373450</td>\n",
              "      <td>8.0500</td>\n",
              "      <td>S</td>\n",
              "    </tr>\n",
              "    <tr>\n",
              "      <th>5</th>\n",
              "      <td>False</td>\n",
              "      <td>3</td>\n",
              "      <td>male</td>\n",
              "      <td>NaN</td>\n",
              "      <td>0</td>\n",
              "      <td>0</td>\n",
              "      <td>330877</td>\n",
              "      <td>8.4583</td>\n",
              "      <td>Q</td>\n",
              "    </tr>\n",
              "    <tr>\n",
              "      <th>6</th>\n",
              "      <td>False</td>\n",
              "      <td>1</td>\n",
              "      <td>male</td>\n",
              "      <td>54.0</td>\n",
              "      <td>0</td>\n",
              "      <td>0</td>\n",
              "      <td>17463</td>\n",
              "      <td>51.8625</td>\n",
              "      <td>S</td>\n",
              "    </tr>\n",
              "    <tr>\n",
              "      <th>7</th>\n",
              "      <td>False</td>\n",
              "      <td>3</td>\n",
              "      <td>male</td>\n",
              "      <td>2.0</td>\n",
              "      <td>3</td>\n",
              "      <td>1</td>\n",
              "      <td>349909</td>\n",
              "      <td>21.0750</td>\n",
              "      <td>S</td>\n",
              "    </tr>\n",
              "    <tr>\n",
              "      <th>8</th>\n",
              "      <td>True</td>\n",
              "      <td>3</td>\n",
              "      <td>female</td>\n",
              "      <td>27.0</td>\n",
              "      <td>0</td>\n",
              "      <td>2</td>\n",
              "      <td>347742</td>\n",
              "      <td>11.1333</td>\n",
              "      <td>S</td>\n",
              "    </tr>\n",
              "    <tr>\n",
              "      <th>9</th>\n",
              "      <td>True</td>\n",
              "      <td>2</td>\n",
              "      <td>female</td>\n",
              "      <td>14.0</td>\n",
              "      <td>1</td>\n",
              "      <td>0</td>\n",
              "      <td>237736</td>\n",
              "      <td>30.0708</td>\n",
              "      <td>C</td>\n",
              "    </tr>\n",
              "  </tbody>\n",
              "</table>\n",
              "</div>"
            ],
            "text/plain": [
              "   Survived  Pclass     Sex   Age  SibSp  Parch            Ticket     Fare  \\\n",
              "0     False       3    male  22.0      1      0         A/5 21171   7.2500   \n",
              "1      True       1  female  38.0      1      0          PC 17599  71.2833   \n",
              "2      True       3  female  26.0      0      0  STON/O2. 3101282   7.9250   \n",
              "3      True       1  female  35.0      1      0            113803  53.1000   \n",
              "4     False       3    male  35.0      0      0            373450   8.0500   \n",
              "5     False       3    male   NaN      0      0            330877   8.4583   \n",
              "6     False       1    male  54.0      0      0             17463  51.8625   \n",
              "7     False       3    male   2.0      3      1            349909  21.0750   \n",
              "8      True       3  female  27.0      0      2            347742  11.1333   \n",
              "9      True       2  female  14.0      1      0            237736  30.0708   \n",
              "\n",
              "  Embarked  \n",
              "0        S  \n",
              "1        C  \n",
              "2        S  \n",
              "3        S  \n",
              "4        S  \n",
              "5        Q  \n",
              "6        S  \n",
              "7        S  \n",
              "8        S  \n",
              "9        C  "
            ]
          },
          "execution_count": 8,
          "metadata": {},
          "output_type": "execute_result"
        }
      ],
      "source": [
        "# Vea su conjunto de datos convirtiéndolo en pandas\n",
        "dataset.take(10).to_pandas_dataframe()"
      ]
    },
    {
      "cell_type": "code",
      "execution_count": null,
      "id": "2fc7cf34",
      "metadata": {
        "id": "2fc7cf34",
        "outputId": "b284933f-1bd3-4d27-b57d-e45e7acd32e7"
      },
      "outputs": [
        {
          "data": {
            "text/plain": [
              "Sex\n",
              "female    28.0\n",
              "male      31.0\n",
              "Name: Age, dtype: float64"
            ]
          },
          "execution_count": 9,
          "metadata": {},
          "output_type": "execute_result"
        }
      ],
      "source": [
        "# Descubra la edad media por género del pasajero\n",
        "dfRaw = dataset.to_pandas_dataframe()\n",
        "round(dfRaw.groupby(['Sex'])['Age'].mean())"
      ]
    },
    {
      "cell_type": "code",
      "execution_count": null,
      "id": "67ec2858",
      "metadata": {
        "id": "67ec2858"
      },
      "outputs": [],
      "source": [
        "# Sustituir los valores nulos por la media de la edad por género del pasajero\n",
        "dfRaw['Age'] = dfRaw.apply(\n",
        "    lambda row: 31 if np.isnan(row['Age'])\\\n",
        "    and row['Sex']=='male'\\\n",
        "    else (28 if np.isnan(row['Age'])\\\n",
        "          and row['Sex']=='female'\\\n",
        "    else row['Age']),axis=1)"
      ]
    },
    {
      "cell_type": "code",
      "execution_count": null,
      "id": "bcd480ea",
      "metadata": {
        "id": "bcd480ea"
      },
      "outputs": [],
      "source": [
        "# Colocar la columna de edad en 4 franjas de edad\n",
        "dfRaw['BinUnder15'] = np.where(dfRaw.Age < 15,1,0)\n",
        "dfRaw['Bin15to34'] = np.where((dfRaw.Age>14)\\\n",
        "                              & (dfRaw.Age < 35),1,0)\n",
        "dfRaw['Bin35to60'] = np.where((dfRaw.Age>34)\\\n",
        "                              & (dfRaw.Age < 61),1,0)\n",
        "dfRaw['BinOver60'] = np.where(dfRaw.Age > 60,1,0)"
      ]
    },
    {
      "cell_type": "code",
      "execution_count": null,
      "id": "81ff0c36",
      "metadata": {
        "id": "81ff0c36"
      },
      "outputs": [],
      "source": [
        "# Borra la columna de la edad después de haberla clasificado\n",
        "df = dfRaw.drop(['Age'],axis=1)"
      ]
    },
    {
      "cell_type": "code",
      "execution_count": null,
      "id": "07b44304",
      "metadata": {
        "id": "07b44304",
        "outputId": "69322006-2996-4a5d-cc6c-bbf53aaf9f09"
      },
      "outputs": [
        {
          "name": "stdout",
          "output_type": "stream",
          "text": [
            "Validating arguments.\n",
            "Arguments validated.\n",
            "Successfully obtained datastore reference and path.\n",
            "Uploading file to managed-dataset/d11c06a5-e00e-4820-8d58-1c8ba5571442/\n",
            "Successfully uploaded file to datastore.\n",
            "Creating and registering a new dataset.\n",
            "Successfully created and registered a new dataset.\n"
          ]
        },
        {
          "data": {
            "text/plain": [
              "{\n",
              "  \"source\": [\n",
              "    \"('workspaceblobstore', 'managed-dataset/d11c06a5-e00e-4820-8d58-1c8ba5571442/')\"\n",
              "  ],\n",
              "  \"definition\": [\n",
              "    \"GetDatastoreFiles\",\n",
              "    \"ReadParquetFile\",\n",
              "    \"DropColumns\"\n",
              "  ],\n",
              "  \"registration\": {\n",
              "    \"id\": \"efd849a2-b905-4b52-8495-0c62406f3c00\",\n",
              "    \"name\": \"Titanic Transformed\",\n",
              "    \"version\": 1,\n",
              "    \"workspace\": \"Workspace.create(name='automl-example-workspace', subscription_id='0aad4149-65b5-42c8-9b25-ce17f2fed264', resource_group='auto-ml-example-resource-group')\"\n",
              "  }\n",
              "}"
            ]
          },
          "execution_count": 13,
          "metadata": {},
          "output_type": "execute_result"
        }
      ],
      "source": [
        "# Registre los datos transformados de Titanic en su almacén de datos\n",
        "Dataset.Tabular.register_pandas_dataframe(df, datastore,\n",
        "                                          \"Titanic Transformed\")"
      ]
    },
    {
      "cell_type": "code",
      "execution_count": null,
      "id": "36070a5d",
      "metadata": {
        "id": "36070a5d"
      },
      "outputs": [],
      "source": [
        "#  Recuperar el conjunto de datos transformados de Titanic\n",
        "dataset_name = \"Titanic Transformed\"\n",
        "dataset = Dataset.get_by_name(ws, dataset_name, version='latest')"
      ]
    },
    {
      "cell_type": "code",
      "execution_count": null,
      "id": "44308781",
      "metadata": {
        "id": "44308781"
      },
      "outputs": [],
      "source": [
        "# Cree un nombre para su experimento AutoML de clasificación del Titanic\n",
        "experiment_name = 'Titanic-Transformed-Classification'\n",
        "\n",
        "# Establezca el experimento en su espacio de trabajo\n",
        "exp = Experiment(workspace=ws, name=experiment_name)"
      ]
    },
    {
      "cell_type": "code",
      "execution_count": null,
      "id": "65ee97af",
      "metadata": {
        "id": "65ee97af"
      },
      "outputs": [],
      "source": [
        "# Establezca las variables para su ejecución de AutoML\n",
        "target_column = 'Survived'\n",
        "task = 'classification'\n",
        "primary_metric = 'accuracy'\n",
        "featurization = 'auto'"
      ]
    },
    {
      "cell_type": "code",
      "execution_count": null,
      "id": "812cc1ca",
      "metadata": {
        "id": "812cc1ca"
      },
      "outputs": [],
      "source": [
        "# Establezca el número de clases únicas en su columna de destino\n",
        "num_classes = df[target_column].nunique() "
      ]
    },
    {
      "cell_type": "code",
      "execution_count": null,
      "id": "1bbf5403",
      "metadata": {
        "id": "1bbf5403"
      },
      "outputs": [],
      "source": [
        "# Establezca su configuración AutoML\n",
        "config = AutoMLConfig(task=task,\n",
        "                     primary_metric=primary_metric,\n",
        "                     num_classes=num_classes,\n",
        "                     featurization=featurization,\n",
        "                     compute_target=compute_target,\n",
        "                     training_data=dataset,\n",
        "                     label_column_name=target_column,\n",
        "                     experiment_timeout_minutes=15,\n",
        "                     enable_early_stopping=True,\n",
        "                     n_cross_validations=5,\n",
        "                     model_explainability=True,\n",
        "                     enable_stack_ensemble=True,\n",
        "                     enable_voting_ensemble=True)"
      ]
    },
    {
      "cell_type": "code",
      "execution_count": null,
      "id": "6140debb",
      "metadata": {
        "id": "6140debb",
        "outputId": "a4c2bba4-02fa-4081-bcc7-0ec1243a5470",
        "colab": {
          "referenced_widgets": [
            "08a670f3c1234aca97e24ba56f958d0e"
          ]
        }
      },
      "outputs": [
        {
          "name": "stdout",
          "output_type": "stream",
          "text": [
            "Submitting remote run.\n",
            "No run_configuration provided, running on automl-compute with default configuration\n",
            "Running on remote compute: automl-compute\n"
          ]
        },
        {
          "data": {
            "text/html": [
              "<table style=\"width:100%\"><tr><th>Experiment</th><th>Id</th><th>Type</th><th>Status</th><th>Details Page</th><th>Docs Page</th></tr><tr><td>Titanic-Transformed-Classification</td><td>AutoML_cc29e750-576b-419e-b29f-01ef0d30de52</td><td>automl</td><td>NotStarted</td><td><a href=\"https://ml.azure.com/runs/AutoML_cc29e750-576b-419e-b29f-01ef0d30de52?wsid=/subscriptions/0aad4149-65b5-42c8-9b25-ce17f2fed264/resourcegroups/auto-ml-example-resource-group/workspaces/automl-example-workspace&amp;tid=4ae54b05-b77e-4224-aef1-8661422e0816\" target=\"_blank\" rel=\"noopener\">Link to Azure Machine Learning studio</a></td><td><a href=\"https://docs.microsoft.com/en-us/python/api/overview/azure/ml/intro?view=azure-ml-py\" target=\"_blank\" rel=\"noopener\">Link to Documentation</a></td></tr></table>"
            ],
            "text/plain": [
              "<IPython.core.display.HTML object>"
            ]
          },
          "metadata": {},
          "output_type": "display_data"
        },
        {
          "name": "stdout",
          "output_type": "stream",
          "text": [
            "\n",
            "Current status: FeaturesGeneration. Generating features for the dataset.\n",
            "Current status: DatasetFeaturization. Beginning to fit featurizers and featurize the dataset.\n",
            "Current status: DatasetCrossValidationSplit. Generating individually featurized CV splits.\n",
            "Current status: ModelSelection. Beginning model selection.\n",
            "\n",
            "********************************************************************************************\n",
            "DATA GUARDRAILS: \n",
            "\n",
            "TYPE:         Class balancing detection\n",
            "STATUS:       PASSED\n",
            "DESCRIPTION:  Your inputs were analyzed, and all classes are balanced in your training data.\n",
            "              Learn more about imbalanced data: https://aka.ms/AutomatedMLImbalancedData\n",
            "\n",
            "********************************************************************************************\n",
            "\n",
            "TYPE:         Missing feature values imputation\n",
            "STATUS:       DONE\n",
            "DESCRIPTION:  If the missing values are expected, let the run complete. Otherwise cancel the current run and use a script to customize the handling of missing feature values that may be more appropriate based on the data type and business requirement.\n",
            "              Learn more about missing value imputation: https://aka.ms/AutomatedMLFeaturization\n",
            "DETAILS:      \n",
            "+------------------------------+------------------------------+\n",
            "|Column name                   |Missing value count           |\n",
            "+==============================+==============================+\n",
            "|Embarked                      |2                             |\n",
            "+------------------------------+------------------------------+\n",
            "\n",
            "********************************************************************************************\n",
            "\n",
            "TYPE:         High cardinality feature detection\n",
            "STATUS:       PASSED\n",
            "DESCRIPTION:  Your inputs were analyzed, and no high cardinality features were detected.\n",
            "              Learn more about high cardinality feature handling: https://aka.ms/AutomatedMLFeaturization\n",
            "\n",
            "********************************************************************************************\n",
            "\n",
            "********************************************************************************************\n",
            "ITER: The iteration being evaluated.\n",
            "PIPELINE: A summary description of the pipeline being evaluated.\n",
            "DURATION: Time taken for the current iteration.\n",
            "METRIC: The result of computing score on the fitted pipeline.\n",
            "BEST: The best observed score thus far.\n",
            "********************************************************************************************\n",
            "\n",
            " ITER   PIPELINE                                       DURATION            METRIC      BEST\n",
            "    0   MaxAbsScaler LightGBM                          0:00:08             0.8159    0.8159\n",
            "    1   MaxAbsScaler XGBoostClassifier                 0:00:08             0.8013    0.8159\n",
            "    2   MaxAbsScaler ExtremeRandomTrees                0:00:09             0.7497    0.8159\n",
            "    3   SparseNormalizer XGBoostClassifier             0:00:08             0.8103    0.8159\n",
            "    4   MaxAbsScaler LightGBM                          0:00:07             0.7946    0.8159\n",
            "    5   MaxAbsScaler LightGBM                          0:00:08             0.7957    0.8159\n",
            "    6   StandardScalerWrapper XGBoostClassifier        0:00:07             0.7867    0.8159\n",
            "    7   MaxAbsScaler LogisticRegression                0:00:08             0.8047    0.8159\n",
            "    8   StandardScalerWrapper ExtremeRandomTrees       0:00:08             0.6611    0.8159\n",
            "    9   StandardScalerWrapper XGBoostClassifier        0:00:08             0.8024    0.8159\n",
            "   10   SparseNormalizer LightGBM                      0:00:08             0.7890    0.8159\n",
            "   11   StandardScalerWrapper XGBoostClassifier        0:00:07             0.7991    0.8159\n",
            "   12   MaxAbsScaler LogisticRegression                0:00:08             0.8036    0.8159\n",
            "   13   MaxAbsScaler SGD                               0:00:07             0.7800    0.8159\n",
            "   14   StandardScalerWrapper XGBoostClassifier        0:00:08             0.8002    0.8159\n",
            "   15   SparseNormalizer RandomForest                  0:00:09             0.8047    0.8159\n",
            "   16   StandardScalerWrapper LogisticRegression       0:00:08             0.8002    0.8159\n",
            "   17   StandardScalerWrapper RandomForest             0:00:08             0.7654    0.8159\n",
            "   18   StandardScalerWrapper XGBoostClassifier        0:00:08             0.8070    0.8159\n",
            "   19   TruncatedSVDWrapper RandomForest               0:00:09             0.7722    0.8159\n",
            "   20   TruncatedSVDWrapper RandomForest               0:00:57             0.7957    0.8159\n",
            "   21   StandardScalerWrapper XGBoostClassifier        0:01:56             0.8058    0.8159\n",
            "   22   SparseNormalizer XGBoostClassifier             0:01:55             0.8103    0.8159\n",
            "   23   SparseNormalizer XGBoostClassifier             0:02:02             0.7957    0.8159\n",
            "   24   SparseNormalizer XGBoostClassifier             0:02:02             0.8036    0.8159\n",
            "   25   MaxAbsScaler LightGBM                          0:01:51             0.7845    0.8159\n",
            "   26    VotingEnsemble                                0:02:14             0.8238    0.8238\n",
            "   27    StackEnsemble                                 0:02:00             0.8092    0.8238\n"
          ]
        },
        {
          "data": {
            "application/vnd.jupyter.widget-view+json": {
              "model_id": "08a670f3c1234aca97e24ba56f958d0e",
              "version_major": 2,
              "version_minor": 0
            },
            "text/plain": [
              "_AutoMLWidget(widget_settings={'childWidgetDisplay': 'popup', 'send_telemetry': False, 'log_level': 'INFO', 's…"
            ]
          },
          "metadata": {},
          "output_type": "display_data"
        },
        {
          "data": {
            "application/aml.mini.widget.v1": "{\"status\": \"Completed\", \"workbench_run_details_uri\": \"https://ml.azure.com/runs/AutoML_cc29e750-576b-419e-b29f-01ef0d30de52?wsid=/subscriptions/0aad4149-65b5-42c8-9b25-ce17f2fed264/resourcegroups/auto-ml-example-resource-group/workspaces/automl-example-workspace&tid=4ae54b05-b77e-4224-aef1-8661422e0816\", \"run_id\": \"AutoML_cc29e750-576b-419e-b29f-01ef0d30de52\", \"run_properties\": {\"run_id\": \"AutoML_cc29e750-576b-419e-b29f-01ef0d30de52\", \"created_utc\": \"2022-02-05T20:25:48.388557Z\", \"properties\": {\"num_iterations\": \"1000\", \"training_type\": \"TrainFull\", \"acquisition_function\": \"EI\", \"primary_metric\": \"accuracy\", \"train_split\": \"0\", \"acquisition_parameter\": \"0\", \"num_cross_validation\": \"5\", \"target\": \"automl-compute\", \"AMLSettingsJsonString\": \"{\\\"path\\\":null,\\\"name\\\":\\\"Titanic-Transformed-Classification\\\",\\\"subscription_id\\\":\\\"0aad4149-65b5-42c8-9b25-ce17f2fed264\\\",\\\"resource_group\\\":\\\"auto-ml-example-resource-group\\\",\\\"workspace_name\\\":\\\"automl-example-workspace\\\",\\\"region\\\":\\\"eastus2\\\",\\\"compute_target\\\":\\\"automl-compute\\\",\\\"spark_service\\\":null,\\\"azure_service\\\":\\\"remote\\\",\\\"many_models\\\":false,\\\"pipeline_fetch_max_batch_size\\\":1,\\\"enable_batch_run\\\":true,\\\"enable_run_restructure\\\":false,\\\"start_auxiliary_runs_before_parent_complete\\\":false,\\\"enable_code_generation\\\":false,\\\"iterations\\\":1000,\\\"primary_metric\\\":\\\"accuracy\\\",\\\"task_type\\\":\\\"classification\\\",\\\"positive_label\\\":null,\\\"data_script\\\":null,\\\"test_size\\\":0.0,\\\"test_include_predictions_only\\\":false,\\\"validation_size\\\":0.0,\\\"n_cross_validations\\\":5,\\\"y_min\\\":null,\\\"y_max\\\":null,\\\"num_classes\\\":null,\\\"featurization\\\":\\\"auto\\\",\\\"_ignore_package_version_incompatibilities\\\":false,\\\"is_timeseries\\\":false,\\\"max_cores_per_iteration\\\":1,\\\"max_concurrent_iterations\\\":1,\\\"iteration_timeout_minutes\\\":null,\\\"mem_in_mb\\\":null,\\\"enforce_time_on_windows\\\":false,\\\"experiment_timeout_minutes\\\":15,\\\"experiment_exit_score\\\":null,\\\"whitelist_models\\\":null,\\\"blacklist_algos\\\":[\\\"TensorFlowLinearClassifier\\\",\\\"TensorFlowDNN\\\"],\\\"supported_models\\\":[\\\"ExtremeRandomTrees\\\",\\\"TensorFlowLinearClassifier\\\",\\\"SVM\\\",\\\"LogisticRegression\\\",\\\"TensorFlowDNN\\\",\\\"RandomForest\\\",\\\"BernoulliNaiveBayes\\\",\\\"SGD\\\",\\\"DecisionTree\\\",\\\"LightGBM\\\",\\\"AveragedPerceptronClassifier\\\",\\\"GradientBoosting\\\",\\\"LinearSVM\\\",\\\"MultinomialNaiveBayes\\\",\\\"KNN\\\",\\\"XGBoostClassifier\\\"],\\\"private_models\\\":[\\\"TabnetClassifier\\\"],\\\"auto_blacklist\\\":true,\\\"blacklist_samples_reached\\\":false,\\\"exclude_nan_labels\\\":true,\\\"verbosity\\\":20,\\\"_debug_log\\\":\\\"azureml_automl.log\\\",\\\"show_warnings\\\":false,\\\"model_explainability\\\":true,\\\"service_url\\\":null,\\\"sdk_url\\\":null,\\\"sdk_packages\\\":null,\\\"enable_onnx_compatible_models\\\":false,\\\"enable_split_onnx_featurizer_estimator_models\\\":false,\\\"vm_type\\\":\\\"STANDARD_DS11_V2\\\",\\\"telemetry_verbosity\\\":20,\\\"send_telemetry\\\":true,\\\"enable_dnn\\\":false,\\\"scenario\\\":\\\"SDK-1.13.0\\\",\\\"environment_label\\\":null,\\\"save_mlflow\\\":false,\\\"enable_categorical_indicators\\\":false,\\\"force_text_dnn\\\":false,\\\"enable_feature_sweeping\\\":true,\\\"enable_early_stopping\\\":true,\\\"early_stopping_n_iters\\\":10,\\\"arguments\\\":null,\\\"dataset_id\\\":null,\\\"hyperdrive_config\\\":null,\\\"validation_dataset_id\\\":null,\\\"run_source\\\":null,\\\"metrics\\\":null,\\\"enable_metric_confidence\\\":false,\\\"enable_ensembling\\\":true,\\\"enable_stack_ensembling\\\":true,\\\"ensemble_iterations\\\":15,\\\"enable_tf\\\":false,\\\"enable_subsampling\\\":null,\\\"subsample_seed\\\":null,\\\"enable_nimbusml\\\":false,\\\"enable_streaming\\\":false,\\\"force_streaming\\\":false,\\\"track_child_runs\\\":true,\\\"allowed_private_models\\\":[],\\\"label_column_name\\\":\\\"Survived\\\",\\\"weight_column_name\\\":null,\\\"cv_split_column_names\\\":null,\\\"enable_local_managed\\\":false,\\\"_local_managed_run_id\\\":null,\\\"cost_mode\\\":1,\\\"lag_length\\\":0,\\\"metric_operation\\\":\\\"maximize\\\",\\\"preprocess\\\":true}\", \"DataPrepJsonString\": \"{\\\\\\\"training_data\\\\\\\": {\\\\\\\"datasetId\\\\\\\": \\\\\\\"efd849a2-b905-4b52-8495-0c62406f3c00\\\\\\\"}, \\\\\\\"datasets\\\\\\\": 0}\", \"EnableSubsampling\": null, \"runTemplate\": \"AutoML\", \"azureml.runsource\": \"automl\", \"display_task_type\": \"classification\", \"dependencies_versions\": \"{\\\"azureml-widgets\\\": \\\"1.37.0\\\", \\\"azureml-train\\\": \\\"1.37.0\\\", \\\"azureml-train-restclients-hyperdrive\\\": \\\"1.37.0\\\", \\\"azureml-train-core\\\": \\\"1.37.0\\\", \\\"azureml-train-automl-client\\\": \\\"1.37.0\\\", \\\"azureml-tensorboard\\\": \\\"1.37.0\\\", \\\"azureml-telemetry\\\": \\\"1.37.0\\\", \\\"azureml-sdk\\\": \\\"1.37.0\\\", \\\"azureml-responsibleai\\\": \\\"1.37.0\\\", \\\"azureml-pipeline\\\": \\\"1.37.0\\\", \\\"azureml-pipeline-steps\\\": \\\"1.37.0\\\", \\\"azureml-pipeline-core\\\": \\\"1.37.0\\\", \\\"azureml-opendatasets\\\": \\\"1.37.0\\\", \\\"azureml-mlflow\\\": \\\"1.37.0\\\", \\\"azureml-interpret\\\": \\\"1.37.0\\\", \\\"azureml-inference-server-http\\\": \\\"0.4.2\\\", \\\"azureml-explain-model\\\": \\\"1.37.0\\\", \\\"azureml-defaults\\\": \\\"1.37.0\\\", \\\"azureml-dataset-runtime\\\": \\\"1.37.0\\\", \\\"azureml-dataprep\\\": \\\"2.25.0\\\", \\\"azureml-dataprep-rslex\\\": \\\"2.1.0\\\", \\\"azureml-dataprep-native\\\": \\\"38.0.0\\\", \\\"azureml-datadrift\\\": \\\"1.37.0\\\", \\\"azureml-core\\\": \\\"1.37.0\\\", \\\"azureml-contrib-services\\\": \\\"1.37.0\\\", \\\"azureml-contrib-server\\\": \\\"1.37.0\\\", \\\"azureml-contrib-reinforcementlearning\\\": \\\"1.37.0\\\", \\\"azureml-contrib-pipeline-steps\\\": \\\"1.37.0\\\", \\\"azureml-contrib-notebook\\\": \\\"1.37.0\\\", \\\"azureml-contrib-fairness\\\": \\\"1.37.0\\\", \\\"azureml-contrib-dataset\\\": \\\"1.37.0\\\", \\\"azureml-cli-common\\\": \\\"1.37.0\\\", \\\"azureml-automl-core\\\": \\\"1.37.0\\\", \\\"azureml-accel-models\\\": \\\"1.37.0\\\"}\", \"_aml_system_scenario_identification\": \"Remote.Parent\", \"ClientType\": \"SDK\", \"environment_cpu_name\": \"AzureML-AutoML\", \"environment_cpu_label\": \"py36\", \"environment_gpu_name\": \"AzureML-AutoML-GPU\", \"environment_gpu_label\": \"py36\", \"root_attribution\": \"automl\", \"attribution\": \"AutoML\", \"Orchestrator\": \"AutoML\", \"CancelUri\": \"https://eastus2.api.azureml.ms/jasmine/v1.0/subscriptions/0aad4149-65b5-42c8-9b25-ce17f2fed264/resourceGroups/auto-ml-example-resource-group/providers/Microsoft.MachineLearningServices/workspaces/automl-example-workspace/experimentids/cbf77dfa-ff49-4213-93ee-9ab41cc59aee/cancel/AutoML_cc29e750-576b-419e-b29f-01ef0d30de52\", \"ClientSdkVersion\": \"1.38.0\", \"snapshotId\": \"00000000-0000-0000-0000-000000000000\", \"SetupRunId\": \"AutoML_cc29e750-576b-419e-b29f-01ef0d30de52_setup\", \"SetupRunContainerId\": \"dcid.AutoML_cc29e750-576b-419e-b29f-01ef0d30de52_setup\", \"FeaturizationRunJsonPath\": \"featurizer_container.json\", \"FeaturizationRunId\": \"AutoML_cc29e750-576b-419e-b29f-01ef0d30de52_featurize\", \"ProblemInfoJsonString\": \"{\\\"dataset_num_categorical\\\": 0, \\\"is_sparse\\\": true, \\\"subsampling\\\": false, \\\"has_extra_col\\\": true, \\\"dataset_classes\\\": 2, \\\"dataset_features\\\": 27, \\\"dataset_samples\\\": 891, \\\"single_frequency_class_detected\\\": false}\", \"ModelExplainRunId\": \"AutoML_cc29e750-576b-419e-b29f-01ef0d30de52_ModelExplain\"}, \"tags\": {\"model_explain_run\": \"best_run\", \"_aml_system_azureml.automlComponent\": \"AutoML\", \"pipeline_id\": \"\", \"score\": \"\", \"predicted_cost\": \"\", \"fit_time\": \"\", \"training_percent\": \"\", \"iteration\": \"\", \"run_preprocessor\": \"\", \"run_algorithm\": \"\", \"dynamic_whitelisting_iterations\": \"<25>;\", \"_aml_system_azureml.automl_early_exit_message\": \"Experiment timeout reached, hence experiment stopped. Current experiment timeout: 0 hour(s) 15 minute(s)\", \"automl_best_child_run_id\": \"AutoML_cc29e750-576b-419e-b29f-01ef0d30de52_26\", \"model_explain_best_run_child_id\": \"AutoML_cc29e750-576b-419e-b29f-01ef0d30de52_26\"}, \"end_time_utc\": \"2022-02-05T20:51:01.310012Z\", \"status\": \"Completed\", \"log_files\": {}, \"log_groups\": [], \"run_duration\": \"0:25:12\", \"run_number\": \"1644092748\", \"run_queued_details\": {\"status\": \"Completed\", \"details\": null}}, \"child_runs\": [{\"run_id\": \"AutoML_cc29e750-576b-419e-b29f-01ef0d30de52_setup\", \"run_number\": 1644092761, \"metric\": null, \"status\": \"Completed\", \"run_type\": \"azureml.scriptrun\", \"training_percent\": null, \"start_time\": \"2022-02-05T20:28:14.434933Z\", \"end_time\": \"2022-02-05T20:29:38.154552Z\", \"created_time\": \"2022-02-05T20:26:01.274244Z\", \"created_time_dt\": \"2022-02-05T20:26:01.274244Z\", \"duration\": \"0:03:36\", \"iteration\": null, \"goal\": null, \"run_name\": \"Completed\", \"run_properties\": null}, {\"run_id\": \"AutoML_cc29e750-576b-419e-b29f-01ef0d30de52_featurize\", \"run_number\": 1644092978, \"metric\": null, \"status\": \"Completed\", \"run_type\": \"automl.featurization\", \"training_percent\": null, \"start_time\": \"2022-02-05T20:29:38.966331Z\", \"end_time\": \"2022-02-05T20:31:20.046769Z\", \"created_time\": \"2022-02-05T20:29:38.613472Z\", \"created_time_dt\": \"2022-02-05T20:29:38.613472Z\", \"duration\": \"0:01:41\", \"iteration\": null, \"goal\": null, \"run_name\": \"Completed\", \"run_properties\": null}, {\"run_id\": \"AutoML_cc29e750-576b-419e-b29f-01ef0d30de52_0\", \"run_number\": 1644093082, \"metric\": null, \"status\": \"Completed\", \"run_type\": null, \"training_percent\": \"100\", \"start_time\": \"2022-02-05T20:32:29.227265Z\", \"end_time\": \"2022-02-05T20:32:37.39447Z\", \"created_time\": \"2022-02-05T20:31:22.045456Z\", \"created_time_dt\": \"2022-02-05T20:31:22.045456Z\", \"duration\": \"0:01:15\", \"iteration\": \"0\", \"goal\": \"accuracy_max\", \"run_name\": \"MaxAbsScaler, LightGBM\", \"run_properties\": \"copy=True\", \"primary_metric\": 0.81591865, \"best_metric\": 0.81591865}, {\"run_id\": \"AutoML_cc29e750-576b-419e-b29f-01ef0d30de52_2\", \"run_number\": 1644093083, \"metric\": null, \"status\": \"Completed\", \"run_type\": null, \"training_percent\": \"100\", \"start_time\": \"2022-02-05T20:32:45.481221Z\", \"end_time\": \"2022-02-05T20:32:54.058287Z\", \"created_time\": \"2022-02-05T20:31:23.324499Z\", \"created_time_dt\": \"2022-02-05T20:31:23.324499Z\", \"duration\": \"0:01:30\", \"iteration\": \"2\", \"goal\": \"accuracy_max\", \"run_name\": \"MaxAbsScaler, ExtremeRandomTrees\", \"run_properties\": \"copy=True\", \"primary_metric\": 0.74973322, \"best_metric\": 0.81591865}, {\"run_id\": \"AutoML_cc29e750-576b-419e-b29f-01ef0d30de52_4\", \"run_number\": 1644093084, \"metric\": null, \"status\": \"Completed\", \"run_type\": null, \"training_percent\": \"100\", \"start_time\": \"2022-02-05T20:33:01.997166Z\", \"end_time\": \"2022-02-05T20:33:09.48912Z\", \"created_time\": \"2022-02-05T20:31:24.123639Z\", \"created_time_dt\": \"2022-02-05T20:31:24.123639Z\", \"duration\": \"0:01:45\", \"iteration\": \"4\", \"goal\": \"accuracy_max\", \"run_name\": \"MaxAbsScaler, LightGBM\", \"run_properties\": \"copy=True\", \"primary_metric\": 0.79457661, \"best_metric\": 0.81591865}, {\"run_id\": \"AutoML_cc29e750-576b-419e-b29f-01ef0d30de52_6\", \"run_number\": 1644093085, \"metric\": null, \"status\": \"Completed\", \"run_type\": null, \"training_percent\": \"100\", \"start_time\": \"2022-02-05T20:33:17.763026Z\", \"end_time\": \"2022-02-05T20:33:25.252019Z\", \"created_time\": \"2022-02-05T20:31:25.001771Z\", \"created_time_dt\": \"2022-02-05T20:31:25.001771Z\", \"duration\": \"0:02:00\", \"iteration\": \"6\", \"goal\": \"accuracy_max\", \"run_name\": \"StandardScalerWrapper, XGBoostClassifier\", \"run_properties\": \"\\n    copy=True,\\n    with_mean=False,\\n    with_std=False\\n\", \"primary_metric\": 0.78674911, \"best_metric\": 0.81591865}, {\"run_id\": \"AutoML_cc29e750-576b-419e-b29f-01ef0d30de52_9\", \"run_number\": 1644093086, \"metric\": null, \"status\": \"Completed\", \"run_type\": null, \"training_percent\": \"100\", \"start_time\": \"2022-02-05T20:33:41.153659Z\", \"end_time\": \"2022-02-05T20:33:48.870771Z\", \"created_time\": \"2022-02-05T20:31:26.385236Z\", \"created_time_dt\": \"2022-02-05T20:31:26.385236Z\", \"duration\": \"0:02:22\", \"iteration\": \"9\", \"goal\": \"accuracy_max\", \"run_name\": \"StandardScalerWrapper, XGBoostClassifier\", \"run_properties\": \"\\n    copy=True,\\n    with_mean=False,\\n    with_std=False\\n\", \"primary_metric\": 0.80244806, \"best_metric\": 0.81591865}, {\"run_id\": \"AutoML_cc29e750-576b-419e-b29f-01ef0d30de52_10\", \"run_number\": 1644093087, \"metric\": null, \"status\": \"Completed\", \"run_type\": null, \"training_percent\": \"100\", \"start_time\": \"2022-02-05T20:33:49.056771Z\", \"end_time\": \"2022-02-05T20:33:56.90013Z\", \"created_time\": \"2022-02-05T20:31:27.228791Z\", \"created_time_dt\": \"2022-02-05T20:31:27.228791Z\", \"duration\": \"0:02:29\", \"iteration\": \"10\", \"goal\": \"accuracy_max\", \"run_name\": \"SparseNormalizer, LightGBM\", \"run_properties\": \"copy=True, norm='l1'\", \"primary_metric\": 0.78900885, \"best_metric\": 0.81591865}, {\"run_id\": \"AutoML_cc29e750-576b-419e-b29f-01ef0d30de52_12\", \"run_number\": 1644093088, \"metric\": null, \"status\": \"Completed\", \"run_type\": null, \"training_percent\": \"100\", \"start_time\": \"2022-02-05T20:34:04.755194Z\", \"end_time\": \"2022-02-05T20:34:12.481259Z\", \"created_time\": \"2022-02-05T20:31:28.002172Z\", \"created_time_dt\": \"2022-02-05T20:31:28.002172Z\", \"duration\": \"0:02:44\", \"iteration\": \"12\", \"goal\": \"accuracy_max\", \"run_name\": \"MaxAbsScaler, LogisticRegression\", \"run_properties\": \"copy=True\", \"primary_metric\": 0.80357793, \"best_metric\": 0.81591865}, {\"run_id\": \"AutoML_cc29e750-576b-419e-b29f-01ef0d30de52_15\", \"run_number\": 1644093089, \"metric\": null, \"status\": \"Completed\", \"run_type\": null, \"training_percent\": \"100\", \"start_time\": \"2022-02-05T20:34:28.050675Z\", \"end_time\": \"2022-02-05T20:34:37.062831Z\", \"created_time\": \"2022-02-05T20:31:29.257096Z\", \"created_time_dt\": \"2022-02-05T20:31:29.257096Z\", \"duration\": \"0:03:07\", \"iteration\": \"15\", \"goal\": \"accuracy_max\", \"run_name\": \"SparseNormalizer, RandomForest\", \"run_properties\": \"copy=True, norm='l2'\", \"primary_metric\": 0.8047078, \"best_metric\": 0.81591865}, {\"run_id\": \"AutoML_cc29e750-576b-419e-b29f-01ef0d30de52_18\", \"run_number\": 1644093090, \"metric\": null, \"status\": \"Completed\", \"run_type\": null, \"training_percent\": \"100\", \"start_time\": \"2022-02-05T20:34:53.563442Z\", \"end_time\": \"2022-02-05T20:35:01.335207Z\", \"created_time\": \"2022-02-05T20:31:30.359712Z\", \"created_time_dt\": \"2022-02-05T20:31:30.359712Z\", \"duration\": \"0:03:30\", \"iteration\": \"18\", \"goal\": \"accuracy_max\", \"run_name\": \"StandardScalerWrapper, XGBoostClassifier\", \"run_properties\": \"\\n    copy=True,\\n    with_mean=False,\\n    with_std=False\\n\", \"primary_metric\": 0.80695499, \"best_metric\": 0.81591865}, {\"run_id\": \"AutoML_cc29e750-576b-419e-b29f-01ef0d30de52_worker_0\", \"run_number\": 1644093091, \"metric\": null, \"status\": \"Completed\", \"run_type\": \"azureml.scriptrun\", \"training_percent\": null, \"start_time\": \"2022-02-05T20:34:16.928097Z\", \"end_time\": \"2022-02-05T20:35:15.894738Z\", \"created_time\": \"2022-02-05T20:31:31.055561Z\", \"created_time_dt\": \"2022-02-05T20:31:31.055561Z\", \"duration\": \"0:03:44\", \"iteration\": null, \"goal\": null, \"run_name\": \"Completed\", \"run_properties\": null}, {\"run_id\": \"AutoML_cc29e750-576b-419e-b29f-01ef0d30de52_20\", \"run_number\": 1644093351, \"metric\": null, \"status\": \"Completed\", \"run_type\": \"azureml.scriptrun\", \"training_percent\": \"100\", \"start_time\": \"2022-02-05T20:35:51.380277Z\", \"end_time\": \"2022-02-05T20:36:48.603174Z\", \"created_time\": \"2022-02-05T20:35:51.380277Z\", \"created_time_dt\": \"2022-02-05T20:35:51.380277Z\", \"duration\": \"0:00:57\", \"iteration\": \"20\", \"goal\": \"accuracy_max\", \"run_name\": \"TruncatedSVDWrapper, RandomForest\", \"run_properties\": \"n_components=0.7026315789473684, random_state=None\", \"primary_metric\": 0.79573159, \"best_metric\": 0.81591865}, {\"run_id\": \"AutoML_cc29e750-576b-419e-b29f-01ef0d30de52_21\", \"run_number\": 1644093410, \"metric\": null, \"status\": \"Completed\", \"run_type\": \"azureml.scriptrun\", \"training_percent\": \"100\", \"start_time\": \"2022-02-05T20:36:50.463546Z\", \"end_time\": \"2022-02-05T20:38:46.271092Z\", \"created_time\": \"2022-02-05T20:36:50.463546Z\", \"created_time_dt\": \"2022-02-05T20:36:50.463546Z\", \"duration\": \"0:01:55\", \"iteration\": \"21\", \"goal\": \"accuracy_max\", \"run_name\": \"StandardScalerWrapper, XGBoostClassifier\", \"run_properties\": \"\\n    copy=True,\\n    with_mean=False,\\n    with_std=False\\n\", \"primary_metric\": 0.80583767, \"best_metric\": 0.81591865}, {\"run_id\": \"AutoML_cc29e750-576b-419e-b29f-01ef0d30de52_22\", \"run_number\": 1644093527, \"metric\": null, \"status\": \"Completed\", \"run_type\": \"azureml.scriptrun\", \"training_percent\": \"100\", \"start_time\": \"2022-02-05T20:38:47.687953Z\", \"end_time\": \"2022-02-05T20:40:42.79474Z\", \"created_time\": \"2022-02-05T20:38:47.687953Z\", \"created_time_dt\": \"2022-02-05T20:38:47.687953Z\", \"duration\": \"0:01:55\", \"iteration\": \"22\", \"goal\": \"accuracy_max\", \"run_name\": \"SparseNormalizer, XGBoostClassifier\", \"run_properties\": \"copy=True, norm='l2'\", \"primary_metric\": 0.81030695, \"best_metric\": 0.81591865}, {\"run_id\": \"AutoML_cc29e750-576b-419e-b29f-01ef0d30de52_23\", \"run_number\": 1644093644, \"metric\": null, \"status\": \"Completed\", \"run_type\": \"azureml.scriptrun\", \"training_percent\": \"100\", \"start_time\": \"2022-02-05T20:40:44.464411Z\", \"end_time\": \"2022-02-05T20:42:46.521504Z\", \"created_time\": \"2022-02-05T20:40:44.464411Z\", \"created_time_dt\": \"2022-02-05T20:40:44.464411Z\", \"duration\": \"0:02:02\", \"iteration\": \"23\", \"goal\": \"accuracy_max\", \"run_name\": \"SparseNormalizer, XGBoostClassifier\", \"run_properties\": \"copy=True, norm='l2'\", \"primary_metric\": 0.79572532, \"best_metric\": 0.81591865}, {\"run_id\": \"AutoML_cc29e750-576b-419e-b29f-01ef0d30de52_24\", \"run_number\": 1644093768, \"metric\": null, \"status\": \"Completed\", \"run_type\": \"azureml.scriptrun\", \"training_percent\": \"100\", \"start_time\": \"2022-02-05T20:42:48.334791Z\", \"end_time\": \"2022-02-05T20:44:50.227984Z\", \"created_time\": \"2022-02-05T20:42:48.334791Z\", \"created_time_dt\": \"2022-02-05T20:42:48.334791Z\", \"duration\": \"0:02:01\", \"iteration\": \"24\", \"goal\": \"accuracy_max\", \"run_name\": \"SparseNormalizer, XGBoostClassifier\", \"run_properties\": \"copy=True, norm='l1'\", \"primary_metric\": 0.80357793, \"best_metric\": 0.81591865}, {\"run_id\": \"AutoML_cc29e750-576b-419e-b29f-01ef0d30de52_25\", \"run_number\": 1644093893, \"metric\": null, \"status\": \"Completed\", \"run_type\": \"azureml.scriptrun\", \"training_percent\": \"100\", \"start_time\": \"2022-02-05T20:44:53.199016Z\", \"end_time\": \"2022-02-05T20:46:44.354669Z\", \"created_time\": \"2022-02-05T20:44:53.199016Z\", \"created_time_dt\": \"2022-02-05T20:44:53.199016Z\", \"duration\": \"0:01:51\", \"iteration\": \"25\", \"goal\": \"accuracy_max\", \"run_name\": \"MaxAbsScaler, LightGBM\", \"run_properties\": \"copy=True\", \"primary_metric\": 0.78448308, \"best_metric\": 0.81591865}, {\"run_id\": \"AutoML_cc29e750-576b-419e-b29f-01ef0d30de52_26\", \"run_number\": 1644094005, \"metric\": null, \"status\": \"Completed\", \"run_type\": \"azureml.scriptrun\", \"training_percent\": \"100\", \"start_time\": \"2022-02-05T20:46:45.280469Z\", \"end_time\": \"2022-02-05T20:48:59.068931Z\", \"created_time\": \"2022-02-05T20:46:45.280469Z\", \"created_time_dt\": \"2022-02-05T20:46:45.280469Z\", \"duration\": \"0:02:13\", \"iteration\": \"26\", \"goal\": \"accuracy_max\", \"run_name\": \"VotingEnsemble\", \"run_properties\": \"\\n    estimators=[('0', Pipeline(\\n        memory=None,\\n        steps=[('maxabsscaler', MaxAbsScaler(\\n            copy=True\\n        \", \"primary_metric\": 0.82379009, \"best_metric\": 0.82379009}, {\"run_id\": \"AutoML_cc29e750-576b-419e-b29f-01ef0d30de52_27\", \"run_number\": 1644094139, \"metric\": null, \"status\": \"Completed\", \"run_type\": \"azureml.scriptrun\", \"training_percent\": \"100\", \"start_time\": \"2022-02-05T20:48:59.755226Z\", \"end_time\": \"2022-02-05T20:50:59.897897Z\", \"created_time\": \"2022-02-05T20:48:59.755226Z\", \"created_time_dt\": \"2022-02-05T20:48:59.755226Z\", \"duration\": \"0:02:00\", \"iteration\": \"27\", \"goal\": \"accuracy_max\", \"run_name\": \"StackEnsemble\", \"run_properties\": \"\\n    base_learners=[('0', Pipeline(\\n        memory=None,\\n        steps=[('maxabsscaler', MaxAbsScaler(\\n            copy=True\\n        \", \"primary_metric\": 0.80918963, \"best_metric\": 0.82379009}], \"children_metrics\": {\"categories\": [0], \"series\": {\"recall_score_macro\": [{\"categories\": [\"0\", \"2\", \"4\", \"6\", \"9\", \"10\", \"12\", \"15\", \"18\", \"20\", \"21\", \"22\", \"23\", \"24\", \"25\", \"26\", \"27\"], \"mode\": \"markers\", \"name\": \"recall_score_macro\", \"stepped\": false, \"type\": \"scatter\", \"data\": [0.7958231349302846, 0.7623234282302177, 0.7579822559509436, 0.7614312189312052, 0.7714008093077656, 0.758644430761646, 0.7854767008713154, 0.7965524343007694, 0.7796505964147269, 0.788346994390164, 0.7861592225137775, 0.7865458370735621, 0.7673090046436994, 0.7800789082990353, 0.7616593348803093, 0.8024732567789303, 0.7880311897793169]}, {\"categories\": [\"0\", \"2\", \"4\", \"6\", \"9\", \"10\", \"12\", \"15\", \"18\", \"20\", \"21\", \"22\", \"23\", \"24\", \"25\", \"26\", \"27\"], \"mode\": \"lines\", \"name\": \"recall_score_macro_max\", \"stepped\": true, \"type\": \"scatter\", \"data\": [0.7958231349302846, 0.7958231349302846, 0.7958231349302846, 0.7958231349302846, 0.7958231349302846, 0.7958231349302846, 0.7958231349302846, 0.7965524343007694, 0.7965524343007694, 0.7965524343007694, 0.7965524343007694, 0.7965524343007694, 0.7965524343007694, 0.7965524343007694, 0.7965524343007694, 0.8024732567789303, 0.8024732567789303]}], \"precision_score_micro\": [{\"categories\": [\"0\", \"2\", \"4\", \"6\", \"9\", \"10\", \"12\", \"15\", \"18\", \"20\", \"21\", \"22\", \"23\", \"24\", \"25\", \"26\", \"27\"], \"mode\": \"markers\", \"name\": \"precision_score_micro\", \"stepped\": false, \"type\": \"scatter\", \"data\": [0.8159186491745652, 0.7497332245307889, 0.7945766116376876, 0.7867491055175444, 0.8024480572468772, 0.7890088506685079, 0.803577929822359, 0.8047078023978408, 0.8069549934090766, 0.7957315924926245, 0.8058376749733224, 0.8103069487163392, 0.7957253154227607, 0.803577929822359, 0.7844830832967171, 0.8237900947837551, 0.809189630280585]}, {\"categories\": [\"0\", \"2\", \"4\", \"6\", \"9\", \"10\", \"12\", \"15\", \"18\", \"20\", \"21\", \"22\", \"23\", \"24\", \"25\", \"26\", \"27\"], \"mode\": \"lines\", \"name\": \"precision_score_micro_max\", \"stepped\": true, \"type\": \"scatter\", \"data\": [0.8159186491745652, 0.8159186491745652, 0.8159186491745652, 0.8159186491745652, 0.8159186491745652, 0.8159186491745652, 0.8159186491745652, 0.8159186491745652, 0.8159186491745652, 0.8159186491745652, 0.8159186491745652, 0.8159186491745652, 0.8159186491745652, 0.8159186491745652, 0.8159186491745652, 0.8237900947837551, 0.8237900947837551]}], \"average_precision_score_macro\": [{\"categories\": [\"0\", \"2\", \"4\", \"6\", \"9\", \"10\", \"12\", \"15\", \"18\", \"20\", \"21\", \"22\", \"23\", \"24\", \"25\", \"26\", \"27\"], \"mode\": \"markers\", \"name\": \"average_precision_score_macro\", \"stepped\": false, \"type\": \"scatter\", \"data\": [0.855851958291165, 0.8407446362100213, 0.8437112864325831, 0.8399228094227856, 0.8422135408552034, 0.8396311870464481, 0.8359215922703136, 0.8511807642549598, 0.8510708412188951, 0.8219781899679394, 0.847939428696928, 0.8579206971354433, 0.8500059458709964, 0.8496767034992836, 0.8446347252228037, 0.8627893233149942, 0.8620559573588373]}, {\"categories\": [\"0\", \"2\", \"4\", \"6\", \"9\", \"10\", \"12\", \"15\", \"18\", \"20\", \"21\", \"22\", \"23\", \"24\", \"25\", \"26\", \"27\"], \"mode\": \"lines\", \"name\": \"average_precision_score_macro_max\", \"stepped\": true, \"type\": \"scatter\", \"data\": [0.855851958291165, 0.855851958291165, 0.855851958291165, 0.855851958291165, 0.855851958291165, 0.855851958291165, 0.855851958291165, 0.855851958291165, 0.855851958291165, 0.855851958291165, 0.855851958291165, 0.8579206971354433, 0.8579206971354433, 0.8579206971354433, 0.8579206971354433, 0.8627893233149942, 0.8627893233149942]}], \"norm_macro_recall\": [{\"categories\": [\"0\", \"2\", \"4\", \"6\", \"9\", \"10\", \"12\", \"15\", \"18\", \"20\", \"21\", \"22\", \"23\", \"24\", \"25\", \"26\", \"27\"], \"mode\": \"markers\", \"name\": \"norm_macro_recall\", \"stepped\": false, \"type\": \"scatter\", \"data\": [0.5916462698605691, 0.5246468564604354, 0.5159645119018872, 0.5228624378624106, 0.5428016186155311, 0.5172888615232919, 0.5709534017426308, 0.5931048686015388, 0.5593011928294536, 0.5766939887803281, 0.5723184450275547, 0.5730916741471243, 0.5346180092873988, 0.5601578165980705, 0.5233186697606185, 0.6049465135578609, 0.5760623795586337]}, {\"categories\": [\"0\", \"2\", \"4\", \"6\", \"9\", \"10\", \"12\", \"15\", \"18\", \"20\", \"21\", \"22\", \"23\", \"24\", \"25\", \"26\", \"27\"], \"mode\": \"lines\", \"name\": \"norm_macro_recall_max\", \"stepped\": true, \"type\": \"scatter\", \"data\": [0.5916462698605691, 0.5916462698605691, 0.5916462698605691, 0.5916462698605691, 0.5916462698605691, 0.5916462698605691, 0.5916462698605691, 0.5931048686015388, 0.5931048686015388, 0.5931048686015388, 0.5931048686015388, 0.5931048686015388, 0.5931048686015388, 0.5931048686015388, 0.5931048686015388, 0.6049465135578609, 0.6049465135578609]}], \"log_loss\": [{\"categories\": [\"0\", \"2\", \"4\", \"6\", \"9\", \"10\", \"12\", \"15\", \"18\", \"20\", \"21\", \"22\", \"23\", \"24\", \"25\", \"26\", \"27\"], \"mode\": \"markers\", \"name\": \"log_loss\", \"stepped\": false, \"type\": \"scatter\", \"data\": [0.46891450233883614, 0.5289702811922778, 0.4598300374217918, 0.5208494312325944, 0.5332170399552278, 0.45131944906013477, 0.46527909845573934, 0.4613886060129535, 0.436350827780463, 0.752036386942648, 0.45463922852407884, 0.4390428741219095, 0.5128493335642716, 0.439488617409182, 0.45212433667265406, 0.46674946588518973, 0.4302920212488993]}, {\"categories\": [\"0\", \"2\", \"4\", \"6\", \"9\", \"10\", \"12\", \"15\", \"18\", \"20\", \"21\", \"22\", \"23\", \"24\", \"25\", \"26\", \"27\"], \"mode\": \"lines\", \"name\": \"log_loss_min\", \"stepped\": true, \"type\": \"scatter\", \"data\": [0.46891450233883614, 0.46891450233883614, 0.4598300374217918, 0.4598300374217918, 0.4598300374217918, 0.45131944906013477, 0.45131944906013477, 0.45131944906013477, 0.436350827780463, 0.436350827780463, 0.436350827780463, 0.436350827780463, 0.436350827780463, 0.436350827780463, 0.436350827780463, 0.436350827780463, 0.4302920212488993]}], \"f1_score_weighted\": [{\"categories\": [\"0\", \"2\", \"4\", \"6\", \"9\", \"10\", \"12\", \"15\", \"18\", \"20\", \"21\", \"22\", \"23\", \"24\", \"25\", \"26\", \"27\"], \"mode\": \"markers\", \"name\": \"f1_score_weighted\", \"stepped\": false, \"type\": \"scatter\", \"data\": [0.8136939158969355, 0.7535205873602462, 0.7852321536686888, 0.7833477456466972, 0.7968784889685919, 0.7826861352918694, 0.802504532386793, 0.8056705554805553, 0.8026240789049984, 0.7971660143156198, 0.8040601909065426, 0.8074015480711909, 0.7908462437407711, 0.800179753648448, 0.7817565329725203, 0.8211715898486756, 0.8058102972872432]}, {\"categories\": [\"0\", \"2\", \"4\", \"6\", \"9\", \"10\", \"12\", \"15\", \"18\", \"20\", \"21\", \"22\", \"23\", \"24\", \"25\", \"26\", \"27\"], \"mode\": \"lines\", \"name\": \"f1_score_weighted_max\", \"stepped\": true, \"type\": \"scatter\", \"data\": [0.8136939158969355, 0.8136939158969355, 0.8136939158969355, 0.8136939158969355, 0.8136939158969355, 0.8136939158969355, 0.8136939158969355, 0.8136939158969355, 0.8136939158969355, 0.8136939158969355, 0.8136939158969355, 0.8136939158969355, 0.8136939158969355, 0.8136939158969355, 0.8136939158969355, 0.8211715898486756, 0.8211715898486756]}], \"AUC_weighted\": [{\"categories\": [\"0\", \"2\", \"4\", \"6\", \"9\", \"10\", \"12\", \"15\", \"18\", \"20\", \"21\", \"22\", \"23\", \"24\", \"25\", \"26\", \"27\"], \"mode\": \"markers\", \"name\": \"AUC_weighted\", \"stepped\": false, \"type\": \"scatter\", \"data\": [0.854491285437749, 0.8458405979005861, 0.8517741021414036, 0.8468249910514334, 0.8532836155157686, 0.8477486340313725, 0.8495996861892025, 0.855014935138764, 0.8581247229077655, 0.8402709069731404, 0.8553581023900898, 0.8596076540739054, 0.8561416172452121, 0.8556187161864166, 0.8503123848417532, 0.866035340548582, 0.8648269175861568]}, {\"categories\": [\"0\", \"2\", \"4\", \"6\", \"9\", \"10\", \"12\", \"15\", \"18\", \"20\", \"21\", \"22\", \"23\", \"24\", \"25\", \"26\", \"27\"], \"mode\": \"lines\", \"name\": \"AUC_weighted_max\", \"stepped\": true, \"type\": \"scatter\", \"data\": [0.854491285437749, 0.854491285437749, 0.854491285437749, 0.854491285437749, 0.854491285437749, 0.854491285437749, 0.854491285437749, 0.855014935138764, 0.8581247229077655, 0.8581247229077655, 0.8581247229077655, 0.8596076540739054, 0.8596076540739054, 0.8596076540739054, 0.8596076540739054, 0.866035340548582, 0.866035340548582]}], \"f1_score_micro\": [{\"categories\": [\"0\", \"2\", \"4\", \"6\", \"9\", \"10\", \"12\", \"15\", \"18\", \"20\", \"21\", \"22\", \"23\", \"24\", \"25\", \"26\", \"27\"], \"mode\": \"markers\", \"name\": \"f1_score_micro\", \"stepped\": false, \"type\": \"scatter\", \"data\": [0.8159186491745652, 0.7497332245307889, 0.7945766116376876, 0.7867491055175444, 0.8024480572468772, 0.7890088506685078, 0.803577929822359, 0.8047078023978408, 0.8069549934090766, 0.7957315924926245, 0.8058376749733224, 0.8103069487163392, 0.7957253154227606, 0.803577929822359, 0.7844830832967171, 0.8237900947837549, 0.809189630280585]}, {\"categories\": [\"0\", \"2\", \"4\", \"6\", \"9\", \"10\", \"12\", \"15\", \"18\", \"20\", \"21\", \"22\", \"23\", \"24\", \"25\", \"26\", \"27\"], \"mode\": \"lines\", \"name\": \"f1_score_micro_max\", \"stepped\": true, \"type\": \"scatter\", \"data\": [0.8159186491745652, 0.8159186491745652, 0.8159186491745652, 0.8159186491745652, 0.8159186491745652, 0.8159186491745652, 0.8159186491745652, 0.8159186491745652, 0.8159186491745652, 0.8159186491745652, 0.8159186491745652, 0.8159186491745652, 0.8159186491745652, 0.8159186491745652, 0.8159186491745652, 0.8237900947837549, 0.8237900947837549]}], \"average_precision_score_weighted\": [{\"categories\": [\"0\", \"2\", \"4\", \"6\", \"9\", \"10\", \"12\", \"15\", \"18\", \"20\", \"21\", \"22\", \"23\", \"24\", \"25\", \"26\", \"27\"], \"mode\": \"markers\", \"name\": \"average_precision_score_weighted\", \"stepped\": false, \"type\": \"scatter\", \"data\": [0.8638034806792728, 0.8482379221858855, 0.8514778120904157, 0.8492195658271298, 0.8511575688338521, 0.8465928205749051, 0.8463777666143251, 0.858897451314756, 0.8567504819239321, 0.8328735721441449, 0.8562473740252357, 0.8649706953046812, 0.8587758123985385, 0.8563304323338574, 0.850957636428182, 0.8692843740394622, 0.8684409293182007]}, {\"categories\": [\"0\", \"2\", \"4\", \"6\", \"9\", \"10\", \"12\", \"15\", \"18\", \"20\", \"21\", \"22\", \"23\", \"24\", \"25\", \"26\", \"27\"], \"mode\": \"lines\", \"name\": \"average_precision_score_weighted_max\", \"stepped\": true, \"type\": \"scatter\", \"data\": [0.8638034806792728, 0.8638034806792728, 0.8638034806792728, 0.8638034806792728, 0.8638034806792728, 0.8638034806792728, 0.8638034806792728, 0.8638034806792728, 0.8638034806792728, 0.8638034806792728, 0.8638034806792728, 0.8649706953046812, 0.8649706953046812, 0.8649706953046812, 0.8649706953046812, 0.8692843740394622, 0.8692843740394622]}], \"accuracy\": [{\"categories\": [\"0\", \"2\", \"4\", \"6\", \"9\", \"10\", \"12\", \"15\", \"18\", \"20\", \"21\", \"22\", \"23\", \"24\", \"25\", \"26\", \"27\"], \"mode\": \"markers\", \"name\": \"accuracy\", \"stepped\": false, \"type\": \"scatter\", \"data\": [0.8159186491745652, 0.7497332245307889, 0.7945766116376876, 0.7867491055175444, 0.8024480572468772, 0.7890088506685079, 0.803577929822359, 0.8047078023978408, 0.8069549934090766, 0.7957315924926245, 0.8058376749733224, 0.8103069487163392, 0.7957253154227607, 0.803577929822359, 0.7844830832967171, 0.8237900947837551, 0.809189630280585]}, {\"categories\": [\"0\", \"2\", \"4\", \"6\", \"9\", \"10\", \"12\", \"15\", \"18\", \"20\", \"21\", \"22\", \"23\", \"24\", \"25\", \"26\", \"27\"], \"mode\": \"lines\", \"name\": \"accuracy_max\", \"stepped\": true, \"type\": \"scatter\", \"data\": [0.8159186491745652, 0.8159186491745652, 0.8159186491745652, 0.8159186491745652, 0.8159186491745652, 0.8159186491745652, 0.8159186491745652, 0.8159186491745652, 0.8159186491745652, 0.8159186491745652, 0.8159186491745652, 0.8159186491745652, 0.8159186491745652, 0.8159186491745652, 0.8159186491745652, 0.8237900947837551, 0.8237900947837551]}], \"recall_score_weighted\": [{\"categories\": [\"0\", \"2\", \"4\", \"6\", \"9\", \"10\", \"12\", \"15\", \"18\", \"20\", \"21\", \"22\", \"23\", \"24\", \"25\", \"26\", \"27\"], \"mode\": \"markers\", \"name\": \"recall_score_weighted\", \"stepped\": false, \"type\": \"scatter\", \"data\": [0.8159186491745652, 0.7497332245307889, 0.7945766116376876, 0.7867491055175444, 0.8024480572468772, 0.7890088506685079, 0.803577929822359, 0.8047078023978408, 0.8069549934090766, 0.7957315924926245, 0.8058376749733224, 0.8103069487163392, 0.7957253154227607, 0.803577929822359, 0.7844830832967171, 0.8237900947837551, 0.809189630280585]}, {\"categories\": [\"0\", \"2\", \"4\", \"6\", \"9\", \"10\", \"12\", \"15\", \"18\", \"20\", \"21\", \"22\", \"23\", \"24\", \"25\", \"26\", \"27\"], \"mode\": \"lines\", \"name\": \"recall_score_weighted_max\", \"stepped\": true, \"type\": \"scatter\", \"data\": [0.8159186491745652, 0.8159186491745652, 0.8159186491745652, 0.8159186491745652, 0.8159186491745652, 0.8159186491745652, 0.8159186491745652, 0.8159186491745652, 0.8159186491745652, 0.8159186491745652, 0.8159186491745652, 0.8159186491745652, 0.8159186491745652, 0.8159186491745652, 0.8159186491745652, 0.8237900947837551, 0.8237900947837551]}], \"AUC_macro\": [{\"categories\": [\"0\", \"2\", \"4\", \"6\", \"9\", \"10\", \"12\", \"15\", \"18\", \"20\", \"21\", \"22\", \"23\", \"24\", \"25\", \"26\", \"27\"], \"mode\": \"markers\", \"name\": \"AUC_macro\", \"stepped\": false, \"type\": \"scatter\", \"data\": [0.8544912854377488, 0.8458405979005861, 0.8517741021414036, 0.8468249910514334, 0.8532836155157686, 0.8477486340313725, 0.8495996861892025, 0.855014935138764, 0.8581247229077654, 0.8402709069731404, 0.85535810239009, 0.8596076540739054, 0.856141617245212, 0.8556187161864166, 0.8503123848417531, 0.8660353405485821, 0.8648269175861568]}, {\"categories\": [\"0\", \"2\", \"4\", \"6\", \"9\", \"10\", \"12\", \"15\", \"18\", \"20\", \"21\", \"22\", \"23\", \"24\", \"25\", \"26\", \"27\"], \"mode\": \"lines\", \"name\": \"AUC_macro_max\", \"stepped\": true, \"type\": \"scatter\", \"data\": [0.8544912854377488, 0.8544912854377488, 0.8544912854377488, 0.8544912854377488, 0.8544912854377488, 0.8544912854377488, 0.8544912854377488, 0.855014935138764, 0.8581247229077654, 0.8581247229077654, 0.8581247229077654, 0.8596076540739054, 0.8596076540739054, 0.8596076540739054, 0.8596076540739054, 0.8660353405485821, 0.8660353405485821]}], \"average_precision_score_micro\": [{\"categories\": [\"0\", \"2\", \"4\", \"6\", \"9\", \"10\", \"12\", \"15\", \"18\", \"20\", \"21\", \"22\", \"23\", \"24\", \"25\", \"26\", \"27\"], \"mode\": \"markers\", \"name\": \"average_precision_score_micro\", \"stepped\": false, \"type\": \"scatter\", \"data\": [0.8687634210940024, 0.8262187570252891, 0.8492667003057276, 0.8510105420189641, 0.848765143879038, 0.847064661465182, 0.8492858926425539, 0.8598196095690598, 0.8617041773590545, 0.8270956093210486, 0.8583720179398057, 0.8720965162821857, 0.8555551560663852, 0.8596509027855644, 0.8503732364851162, 0.8715633089701498, 0.8657297222308185]}, {\"categories\": [\"0\", \"2\", \"4\", \"6\", \"9\", \"10\", \"12\", \"15\", \"18\", \"20\", \"21\", \"22\", \"23\", \"24\", \"25\", \"26\", \"27\"], \"mode\": \"lines\", \"name\": \"average_precision_score_micro_max\", \"stepped\": true, \"type\": \"scatter\", \"data\": [0.8687634210940024, 0.8687634210940024, 0.8687634210940024, 0.8687634210940024, 0.8687634210940024, 0.8687634210940024, 0.8687634210940024, 0.8687634210940024, 0.8687634210940024, 0.8687634210940024, 0.8687634210940024, 0.8720965162821857, 0.8720965162821857, 0.8720965162821857, 0.8720965162821857, 0.8720965162821857, 0.8720965162821857]}], \"balanced_accuracy\": [{\"categories\": [\"0\", \"2\", \"4\", \"6\", \"9\", \"10\", \"12\", \"15\", \"18\", \"20\", \"21\", \"22\", \"23\", \"24\", \"25\", \"26\", \"27\"], \"mode\": \"markers\", \"name\": \"balanced_accuracy\", \"stepped\": false, \"type\": \"scatter\", \"data\": [0.7958231349302846, 0.7623234282302177, 0.7579822559509436, 0.7614312189312052, 0.7714008093077656, 0.758644430761646, 0.7854767008713154, 0.7965524343007694, 0.7796505964147269, 0.788346994390164, 0.7861592225137775, 0.7865458370735621, 0.7673090046436994, 0.7800789082990353, 0.7616593348803093, 0.8024732567789303, 0.7880311897793169]}, {\"categories\": [\"0\", \"2\", \"4\", \"6\", \"9\", \"10\", \"12\", \"15\", \"18\", \"20\", \"21\", \"22\", \"23\", \"24\", \"25\", \"26\", \"27\"], \"mode\": \"lines\", \"name\": \"balanced_accuracy_max\", \"stepped\": true, \"type\": \"scatter\", \"data\": [0.7958231349302846, 0.7958231349302846, 0.7958231349302846, 0.7958231349302846, 0.7958231349302846, 0.7958231349302846, 0.7958231349302846, 0.7965524343007694, 0.7965524343007694, 0.7965524343007694, 0.7965524343007694, 0.7965524343007694, 0.7965524343007694, 0.7965524343007694, 0.7965524343007694, 0.8024732567789303, 0.8024732567789303]}], \"precision_score_macro\": [{\"categories\": [\"0\", \"2\", \"4\", \"6\", \"9\", \"10\", \"12\", \"15\", \"18\", \"20\", \"21\", \"22\", \"23\", \"24\", \"25\", \"26\", \"27\"], \"mode\": \"markers\", \"name\": \"precision_score_macro\", \"stepped\": false, \"type\": \"scatter\", \"data\": [0.8112464233858947, 0.7509943034363884, 0.8124341648040408, 0.7815229902856924, 0.8027468257089762, 0.7944926729981562, 0.7936359876720316, 0.7932050394658388, 0.806043701395938, 0.7830246686967268, 0.7985889023236369, 0.803914483890044, 0.792871584479171, 0.8005549187970941, 0.7805272882114268, 0.8207155397123624, 0.8088955317620694]}, {\"categories\": [\"0\", \"2\", \"4\", \"6\", \"9\", \"10\", \"12\", \"15\", \"18\", \"20\", \"21\", \"22\", \"23\", \"24\", \"25\", \"26\", \"27\"], \"mode\": \"lines\", \"name\": \"precision_score_macro_max\", \"stepped\": true, \"type\": \"scatter\", \"data\": [0.8112464233858947, 0.8112464233858947, 0.8124341648040408, 0.8124341648040408, 0.8124341648040408, 0.8124341648040408, 0.8124341648040408, 0.8124341648040408, 0.8124341648040408, 0.8124341648040408, 0.8124341648040408, 0.8124341648040408, 0.8124341648040408, 0.8124341648040408, 0.8124341648040408, 0.8207155397123624, 0.8207155397123624]}], \"precision_score_weighted\": [{\"categories\": [\"0\", \"2\", \"4\", \"6\", \"9\", \"10\", \"12\", \"15\", \"18\", \"20\", \"21\", \"22\", \"23\", \"24\", \"25\", \"26\", \"27\"], \"mode\": \"markers\", \"name\": \"precision_score_weighted\", \"stepped\": false, \"type\": \"scatter\", \"data\": [0.8193284894126263, 0.7810743505954486, 0.8106218977078653, 0.7907502138868026, 0.8060659978595035, 0.7989359350758068, 0.8049732481276319, 0.8104224355146419, 0.8110582697565997, 0.8019319661957163, 0.8086907232026551, 0.8110724338538173, 0.798508746574952, 0.8080462583517237, 0.7902595878868774, 0.8271121205643611, 0.8161653365178084]}, {\"categories\": [\"0\", \"2\", \"4\", \"6\", \"9\", \"10\", \"12\", \"15\", \"18\", \"20\", \"21\", \"22\", \"23\", \"24\", \"25\", \"26\", \"27\"], \"mode\": \"lines\", \"name\": \"precision_score_weighted_max\", \"stepped\": true, \"type\": \"scatter\", \"data\": [0.8193284894126263, 0.8193284894126263, 0.8193284894126263, 0.8193284894126263, 0.8193284894126263, 0.8193284894126263, 0.8193284894126263, 0.8193284894126263, 0.8193284894126263, 0.8193284894126263, 0.8193284894126263, 0.8193284894126263, 0.8193284894126263, 0.8193284894126263, 0.8193284894126263, 0.8271121205643611, 0.8271121205643611]}], \"weighted_accuracy\": [{\"categories\": [\"0\", \"2\", \"4\", \"6\", \"9\", \"10\", \"12\", \"15\", \"18\", \"20\", \"21\", \"22\", \"23\", \"24\", \"25\", \"26\", \"27\"], \"mode\": \"markers\", \"name\": \"weighted_accuracy\", \"stepped\": false, \"type\": \"scatter\", \"data\": [0.8333513436123736, 0.7391740291612631, 0.8265870356521514, 0.8086842180309578, 0.8290292839377811, 0.8156427924664609, 0.8192324823933397, 0.8118147801601238, 0.8305952744136134, 0.8019056845894742, 0.8228337293865696, 0.8304028009780952, 0.8198436798888649, 0.8241110196660724, 0.8046064202357911, 0.8421362457260425, 0.8277802430089288]}, {\"categories\": [\"0\", \"2\", \"4\", \"6\", \"9\", \"10\", \"12\", \"15\", \"18\", \"20\", \"21\", \"22\", \"23\", \"24\", \"25\", \"26\", \"27\"], \"mode\": \"lines\", \"name\": \"weighted_accuracy_max\", \"stepped\": true, \"type\": \"scatter\", \"data\": [0.8333513436123736, 0.8333513436123736, 0.8333513436123736, 0.8333513436123736, 0.8333513436123736, 0.8333513436123736, 0.8333513436123736, 0.8333513436123736, 0.8333513436123736, 0.8333513436123736, 0.8333513436123736, 0.8333513436123736, 0.8333513436123736, 0.8333513436123736, 0.8333513436123736, 0.8421362457260425, 0.8421362457260425]}], \"AUC_micro\": [{\"categories\": [\"0\", \"2\", \"4\", \"6\", \"9\", \"10\", \"12\", \"15\", \"18\", \"20\", \"21\", \"22\", \"23\", \"24\", \"25\", \"26\", \"27\"], \"mode\": \"markers\", \"name\": \"AUC_micro\", \"stepped\": false, \"type\": \"scatter\", \"data\": [0.8739025926733557, 0.8422577875215673, 0.8710371973580863, 0.8650518382699139, 0.8690511505385208, 0.8685411349674397, 0.8670555208543421, 0.8691520598247507, 0.8786297046162854, 0.8499545449281758, 0.873978727608742, 0.8801840863524653, 0.8721421724527051, 0.8758432925785054, 0.8680965814216991, 0.8830768234272304, 0.8784773120095097]}, {\"categories\": [\"0\", \"2\", \"4\", \"6\", \"9\", \"10\", \"12\", \"15\", \"18\", \"20\", \"21\", \"22\", \"23\", \"24\", \"25\", \"26\", \"27\"], \"mode\": \"lines\", \"name\": \"AUC_micro_max\", \"stepped\": true, \"type\": \"scatter\", \"data\": [0.8739025926733557, 0.8739025926733557, 0.8739025926733557, 0.8739025926733557, 0.8739025926733557, 0.8739025926733557, 0.8739025926733557, 0.8739025926733557, 0.8786297046162854, 0.8786297046162854, 0.8786297046162854, 0.8801840863524653, 0.8801840863524653, 0.8801840863524653, 0.8801840863524653, 0.8830768234272304, 0.8830768234272304]}], \"recall_score_micro\": [{\"categories\": [\"0\", \"2\", \"4\", \"6\", \"9\", \"10\", \"12\", \"15\", \"18\", \"20\", \"21\", \"22\", \"23\", \"24\", \"25\", \"26\", \"27\"], \"mode\": \"markers\", \"name\": \"recall_score_micro\", \"stepped\": false, \"type\": \"scatter\", \"data\": [0.8159186491745652, 0.7497332245307889, 0.7945766116376876, 0.7867491055175444, 0.8024480572468772, 0.7890088506685079, 0.803577929822359, 0.8047078023978408, 0.8069549934090766, 0.7957315924926245, 0.8058376749733224, 0.8103069487163392, 0.7957253154227607, 0.803577929822359, 0.7844830832967171, 0.8237900947837551, 0.809189630280585]}, {\"categories\": [\"0\", \"2\", \"4\", \"6\", \"9\", \"10\", \"12\", \"15\", \"18\", \"20\", \"21\", \"22\", \"23\", \"24\", \"25\", \"26\", \"27\"], \"mode\": \"lines\", \"name\": \"recall_score_micro_max\", \"stepped\": true, \"type\": \"scatter\", \"data\": [0.8159186491745652, 0.8159186491745652, 0.8159186491745652, 0.8159186491745652, 0.8159186491745652, 0.8159186491745652, 0.8159186491745652, 0.8159186491745652, 0.8159186491745652, 0.8159186491745652, 0.8159186491745652, 0.8159186491745652, 0.8159186491745652, 0.8159186491745652, 0.8159186491745652, 0.8237900947837551, 0.8237900947837551]}], \"matthews_correlation\": [{\"categories\": [\"0\", \"2\", \"4\", \"6\", \"9\", \"10\", \"12\", \"15\", \"18\", \"20\", \"21\", \"22\", \"23\", \"24\", \"25\", \"26\", \"27\"], \"mode\": \"markers\", \"name\": \"matthews_correlation\", \"stepped\": false, \"type\": \"scatter\", \"data\": [0.6066134641116734, 0.5130153863665835, 0.56716001569183, 0.5422847888107784, 0.5730482049386343, 0.5514598644382243, 0.5789343002224262, 0.5895541049060322, 0.5847814173063051, 0.5712295005422694, 0.5844248445405031, 0.5900944985466068, 0.5592123370400797, 0.5799595309627946, 0.5414840401094956, 0.6227086530175948, 0.5960166978322513]}, {\"categories\": [\"0\", \"2\", \"4\", \"6\", \"9\", \"10\", \"12\", \"15\", \"18\", \"20\", \"21\", \"22\", \"23\", \"24\", \"25\", \"26\", \"27\"], \"mode\": \"lines\", \"name\": \"matthews_correlation_max\", \"stepped\": true, \"type\": \"scatter\", \"data\": [0.6066134641116734, 0.6066134641116734, 0.6066134641116734, 0.6066134641116734, 0.6066134641116734, 0.6066134641116734, 0.6066134641116734, 0.6066134641116734, 0.6066134641116734, 0.6066134641116734, 0.6066134641116734, 0.6066134641116734, 0.6066134641116734, 0.6066134641116734, 0.6066134641116734, 0.6227086530175948, 0.6227086530175948]}], \"f1_score_macro\": [{\"categories\": [\"0\", \"2\", \"4\", \"6\", \"9\", \"10\", \"12\", \"15\", \"18\", \"20\", \"21\", \"22\", \"23\", \"24\", \"25\", \"26\", \"27\"], \"mode\": \"markers\", \"name\": \"f1_score_macro\", \"stepped\": false, \"type\": \"scatter\", \"data\": [0.7992884787171548, 0.7440033394690397, 0.7659210845919586, 0.7656291016847183, 0.7789171090587566, 0.7642791544408963, 0.7876167902018915, 0.7927467513049457, 0.7858418662290905, 0.7838318221248042, 0.7889454607653956, 0.7916501022574358, 0.7731450371690685, 0.7842386819381556, 0.7648498735501684, 0.8069842984006484, 0.7910344626790675]}, {\"categories\": [\"0\", \"2\", \"4\", \"6\", \"9\", \"10\", \"12\", \"15\", \"18\", \"20\", \"21\", \"22\", \"23\", \"24\", \"25\", \"26\", \"27\"], \"mode\": \"lines\", \"name\": \"f1_score_macro_max\", \"stepped\": true, \"type\": \"scatter\", \"data\": [0.7992884787171548, 0.7992884787171548, 0.7992884787171548, 0.7992884787171548, 0.7992884787171548, 0.7992884787171548, 0.7992884787171548, 0.7992884787171548, 0.7992884787171548, 0.7992884787171548, 0.7992884787171548, 0.7992884787171548, 0.7992884787171548, 0.7992884787171548, 0.7992884787171548, 0.8069842984006484, 0.8069842984006484]}]}, \"metricName\": null, \"primaryMetricName\": \"accuracy\", \"showLegend\": false}, \"run_metrics\": [{\"name\": \"experiment_status\", \"run_id\": \"AutoML_cc29e750-576b-419e-b29f-01ef0d30de52\", \"categories\": [0, 1, 2, 3, 4, 5, 6, 7, 8, 9, 10, 11, 12, 13], \"series\": [{\"data\": [\"DatasetEvaluation\", \"FeaturesGeneration\", \"DatasetFeaturization\", \"DatasetFeaturizationCompleted\", \"DatasetCrossValidationSplit\", \"ModelSelection\", \"BestRunExplainModel\", \"ModelExplanationDataSetSetup\", \"PickSurrogateModel\", \"EngineeredFeatureExplanations\", \"EngineeredFeatureExplanations\", \"RawFeaturesExplanations\", \"RawFeaturesExplanations\", \"BestRunExplainModel\"]}]}, {\"name\": \"experiment_status_description\", \"run_id\": \"AutoML_cc29e750-576b-419e-b29f-01ef0d30de52\", \"categories\": [0, 1, 2, 3, 4, 5, 6, 7, 8, 9, 10, 11, 12, 13], \"series\": [{\"data\": [\"Gathering dataset statistics.\", \"Generating features for the dataset.\", \"Beginning to fit featurizers and featurize the dataset.\", \"Completed fit featurizers and featurizing the dataset.\", \"Generating individually featurized CV splits.\", \"Beginning model selection.\", \"Best run model explanations started\", \"Model explanations data setup completed\", \"Choosing LightGBM as the surrogate model for explanations\", \"Computation of engineered features started\", \"Computation of engineered features completed\", \"Computation of raw features started\", \"Computation of raw features completed\", \"Best run model explanations completed\"]}]}, {\"name\": \"average_precision_score_macro\", \"run_id\": \"AutoML_cc29e750-576b-419e-b29f-01ef0d30de52\", \"categories\": [0], \"series\": [{\"data\": [0.8627893233149942]}]}, {\"name\": \"balanced_accuracy\", \"run_id\": \"AutoML_cc29e750-576b-419e-b29f-01ef0d30de52\", \"categories\": [0], \"series\": [{\"data\": [0.8024732567789303]}]}, {\"name\": \"accuracy\", \"run_id\": \"AutoML_cc29e750-576b-419e-b29f-01ef0d30de52\", \"categories\": [0], \"series\": [{\"data\": [0.8237900947837551]}]}, {\"name\": \"precision_score_micro\", \"run_id\": \"AutoML_cc29e750-576b-419e-b29f-01ef0d30de52\", \"categories\": [0], \"series\": [{\"data\": [0.8237900947837551]}]}, {\"name\": \"norm_macro_recall\", \"run_id\": \"AutoML_cc29e750-576b-419e-b29f-01ef0d30de52\", \"categories\": [0], \"series\": [{\"data\": [0.6049465135578609]}]}, {\"name\": \"f1_score_weighted\", \"run_id\": \"AutoML_cc29e750-576b-419e-b29f-01ef0d30de52\", \"categories\": [0], \"series\": [{\"data\": [0.8211715898486756]}]}, {\"name\": \"f1_score_micro\", \"run_id\": \"AutoML_cc29e750-576b-419e-b29f-01ef0d30de52\", \"categories\": [0], \"series\": [{\"data\": [0.8237900947837549]}]}, {\"name\": \"average_precision_score_weighted\", \"run_id\": \"AutoML_cc29e750-576b-419e-b29f-01ef0d30de52\", \"categories\": [0], \"series\": [{\"data\": [0.8692843740394622]}]}, {\"name\": \"AUC_micro\", \"run_id\": \"AutoML_cc29e750-576b-419e-b29f-01ef0d30de52\", \"categories\": [0], \"series\": [{\"data\": [0.8830768234272304]}]}, {\"name\": \"precision_score_weighted\", \"run_id\": \"AutoML_cc29e750-576b-419e-b29f-01ef0d30de52\", \"categories\": [0], \"series\": [{\"data\": [0.8271121205643611]}]}, {\"name\": \"recall_score_macro\", \"run_id\": \"AutoML_cc29e750-576b-419e-b29f-01ef0d30de52\", \"categories\": [0], \"series\": [{\"data\": [0.8024732567789303]}]}, {\"name\": \"matthews_correlation\", \"run_id\": \"AutoML_cc29e750-576b-419e-b29f-01ef0d30de52\", \"categories\": [0], \"series\": [{\"data\": [0.6227086530175948]}]}, {\"name\": \"AUC_macro\", \"run_id\": \"AutoML_cc29e750-576b-419e-b29f-01ef0d30de52\", \"categories\": [0], \"series\": [{\"data\": [0.8660353405485821]}]}, {\"name\": \"weighted_accuracy\", \"run_id\": \"AutoML_cc29e750-576b-419e-b29f-01ef0d30de52\", \"categories\": [0], \"series\": [{\"data\": [0.8421362457260425]}]}, {\"name\": \"recall_score_micro\", \"run_id\": \"AutoML_cc29e750-576b-419e-b29f-01ef0d30de52\", \"categories\": [0], \"series\": [{\"data\": [0.8237900947837551]}]}, {\"name\": \"AUC_weighted\", \"run_id\": \"AutoML_cc29e750-576b-419e-b29f-01ef0d30de52\", \"categories\": [0], \"series\": [{\"data\": [0.866035340548582]}]}, {\"name\": \"precision_score_macro\", \"run_id\": \"AutoML_cc29e750-576b-419e-b29f-01ef0d30de52\", \"categories\": [0], \"series\": [{\"data\": [0.8207155397123624]}]}, {\"name\": \"log_loss\", \"run_id\": \"AutoML_cc29e750-576b-419e-b29f-01ef0d30de52\", \"categories\": [0], \"series\": [{\"data\": [0.46674946588518973]}]}, {\"name\": \"average_precision_score_micro\", \"run_id\": \"AutoML_cc29e750-576b-419e-b29f-01ef0d30de52\", \"categories\": [0], \"series\": [{\"data\": [0.8715633089701498]}]}, {\"name\": \"recall_score_weighted\", \"run_id\": \"AutoML_cc29e750-576b-419e-b29f-01ef0d30de52\", \"categories\": [0], \"series\": [{\"data\": [0.8237900947837551]}]}, {\"name\": \"f1_score_macro\", \"run_id\": \"AutoML_cc29e750-576b-419e-b29f-01ef0d30de52\", \"categories\": [0], \"series\": [{\"data\": [0.8069842984006484]}]}], \"run_logs\": \"\\nRun is completed.\", \"graph\": {}, \"widget_settings\": {\"childWidgetDisplay\": \"popup\", \"send_telemetry\": false, \"log_level\": \"INFO\", \"sdk_version\": \"1.37.0\"}, \"loading\": false}"
          },
          "metadata": {},
          "output_type": "display_data"
        }
      ],
      "source": [
        "# Entrene su modelo de clasificación AutoML Titanic\n",
        "AutoML_run = exp.submit(config, show_output = True)\n",
        "RunDetails(AutoML_run).show()"
      ]
    },
    {
      "cell_type": "code",
      "execution_count": null,
      "id": "24699a71",
      "metadata": {
        "id": "24699a71",
        "outputId": "68f45b62-4766-40fe-92c4-f86fafe19b5c"
      },
      "outputs": [
        {
          "data": {
            "text/plain": [
              "Model(workspace=Workspace.create(name='automl-example-workspace', subscription_id='0aad4149-65b5-42c8-9b25-ce17f2fed264', resource_group='auto-ml-example-resource-group'), name=Titanic-Transformed-Classification-AutoML, id=Titanic-Transformed-Classification-AutoML:1, version=1, tags={'project': 'Titanic', 'creator': 'your name'}, properties={})"
            ]
          },
          "execution_count": 20,
          "metadata": {},
          "output_type": "execute_result"
        }
      ],
      "source": [
        "# Registre su modelo AutoML entrenado en su espacio de trabajo AMLS\n",
        "description = 'Best AutoML Classification Run using Transformed Titanic Data.' \n",
        "tags = {'project' : \"Titanic\", \"creator\" : \"your name\"} \n",
        "model_name = 'Titanic-Transformed-Classification-AutoML' \n",
        "\n",
        "AutoML_run.register_model(model_name=model_name,description=description,tags=tags)"
      ]
    },
    {
      "cell_type": "code",
      "execution_count": null,
      "id": "004c3f0c",
      "metadata": {
        "id": "004c3f0c",
        "outputId": "5146afc0-2786-4ef8-fc82-129e414292d8"
      },
      "outputs": [
        {
          "data": {
            "text/plain": [
              "Model(workspace=Workspace.create(name='automl-example-workspace', subscription_id='0aad4149-65b5-42c8-9b25-ce17f2fed264', resource_group='auto-ml-example-resource-group'), name=Titanic-Transformed-Classification-AutoML-NMR, id=Titanic-Transformed-Classification-AutoML-NMR:1, version=1, tags={'project': 'Titanic', 'creator': 'your name', 'metric': 'Norm Macro Recall'}, properties={})"
            ]
          },
          "execution_count": 21,
          "metadata": {},
          "output_type": "execute_result"
        }
      ],
      "source": [
        "# Registre su modelo AutoML entrenado en su espacio de trabajo AMLS utilizando una métrica diferente en lugar de la precisión\n",
        "description = 'Best AutoML Classification Run using Transformed Titanic Data.' \n",
        "tags = {'project' : \"Titanic\", \"creator\" : \"your name\", \"metric\" : \"Norm Macro Recall\"} \n",
        "model_name = 'Titanic-Transformed-Classification-AutoML-NMR' \n",
        "AutoML_run.register_model(model_name=model_name, description=description, tags=tags, metric = 'norm_macro_recall')"
      ]
    }
  ],
  "metadata": {
    "kernelspec": {
      "display_name": "Python 3.8 - AzureML",
      "language": "python",
      "name": "python38-azureml"
    },
    "language_info": {
      "codemirror_mode": {
        "name": "ipython",
        "version": 3
      },
      "file_extension": ".py",
      "mimetype": "text/x-python",
      "name": "python",
      "nbconvert_exporter": "python",
      "pygments_lexer": "ipython3",
      "version": "3.8.1"
    },
    "colab": {
      "name": "Titanic_Classification_AutoML.ipynb",
      "provenance": [],
      "include_colab_link": true
    }
  },
  "nbformat": 4,
  "nbformat_minor": 5
}