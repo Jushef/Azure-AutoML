{
  "cells": [
    {
      "cell_type": "markdown",
      "metadata": {
        "id": "view-in-github",
        "colab_type": "text"
      },
      "source": [
        "<a href=\"https://colab.research.google.com/github/Jushef/Azure-AutoML/blob/main/AutoML%20Jupyter%20Notebook/Iris_AutoML.ipynb\" target=\"_parent\"><img src=\"https://colab.research.google.com/assets/colab-badge.svg\" alt=\"Open In Colab\"/></a>"
      ]
    },
    {
      "cell_type": "code",
      "execution_count": null,
      "id": "b6c94f2d",
      "metadata": {
        "id": "b6c94f2d"
      },
      "outputs": [],
      "source": [
        "# Cargar librerías Azure\n",
        "from azureml.core import Workspace, Dataset, Datastore, Experiment\n",
        "from azureml.core.compute import ComputeTarget\n",
        "from azureml.train.automl import AutoMLConfig\n",
        "from azureml.train.automl.run import AutoMLRun\n",
        "from azureml.widgets import RunDetails\n",
        "\n",
        "# Cargar bibliotecas que no son de Azure\n",
        "import pandas as pd\n",
        "import numpy as np"
      ]
    },
    {
      "cell_type": "code",
      "execution_count": null,
      "id": "e63e7121",
      "metadata": {
        "id": "e63e7121",
        "outputId": "461323e9-96ed-4dfc-ad19-cb8cda99d6db"
      },
      "outputs": [
        {
          "name": "stdout",
          "output_type": "stream",
          "text": [
            "You are currently using version 1.37.0 of the Azure ML SDK\n"
          ]
        }
      ],
      "source": [
        "# Compruebe la versión base de AzureMl\n",
        "import azureml.core\n",
        "print(\"You are currently using version \" + azureml.core.VERSION + \" of the Azure ML SDK\")"
      ]
    },
    {
      "cell_type": "code",
      "execution_count": null,
      "id": "d45b0338",
      "metadata": {
        "id": "d45b0338"
      },
      "outputs": [],
      "source": [
        "# Recupere su espacio de trabajo \n",
        "ws = Workspace.from_config()"
      ]
    },
    {
      "cell_type": "code",
      "execution_count": null,
      "id": "14a4a236",
      "metadata": {
        "id": "14a4a236"
      },
      "outputs": [],
      "source": [
        "# Recuperar el objetivo informático para ejecutar AutoML de forma remota\n",
        "compute_name = 'automl-compute'\n",
        "compute_target = ComputeTarget(ws, compute_name)"
      ]
    },
    {
      "cell_type": "code",
      "execution_count": null,
      "id": "72a27508",
      "metadata": {
        "id": "72a27508"
      },
      "outputs": [],
      "source": [
        "# Recupere su Datastore por nombre rellenando los valores en minúsculas entre comillas dobles\n",
        "datastore = Datastore.get_default(ws)\n",
        "my_datastore_name = 'workspaceblobstore'\n",
        "my_datastore = Datastore.get(ws, my_datastore_name)"
      ]
    },
    {
      "cell_type": "code",
      "execution_count": null,
      "id": "9c7de6d3",
      "metadata": {
        "id": "9c7de6d3"
      },
      "outputs": [],
      "source": [
        "# Si ya ha registrado su conjunto de datos, recupérelo\n",
        "dataset_name = \"Iris\"\n",
        "dataset = Dataset.get_by_name(ws, dataset_name, version='latest')"
      ]
    },
    {
      "cell_type": "code",
      "execution_count": null,
      "id": "89ecd00f",
      "metadata": {
        "id": "89ecd00f",
        "outputId": "841f3412-5bf6-41fc-a368-1947e8cc27d5"
      },
      "outputs": [
        {
          "data": {
            "text/html": [
              "<div>\n",
              "<style scoped>\n",
              "    .dataframe tbody tr th:only-of-type {\n",
              "        vertical-align: middle;\n",
              "    }\n",
              "\n",
              "    .dataframe tbody tr th {\n",
              "        vertical-align: top;\n",
              "    }\n",
              "\n",
              "    .dataframe thead th {\n",
              "        text-align: right;\n",
              "    }\n",
              "</style>\n",
              "<table border=\"1\" class=\"dataframe\">\n",
              "  <thead>\n",
              "    <tr style=\"text-align: right;\">\n",
              "      <th></th>\n",
              "      <th>Id</th>\n",
              "      <th>SepalLengthCm</th>\n",
              "      <th>SepalWidthCm</th>\n",
              "      <th>PetalLengthCm</th>\n",
              "      <th>PetalWidthCm</th>\n",
              "      <th>Species</th>\n",
              "    </tr>\n",
              "  </thead>\n",
              "  <tbody>\n",
              "    <tr>\n",
              "      <th>0</th>\n",
              "      <td>1</td>\n",
              "      <td>5.1</td>\n",
              "      <td>3.5</td>\n",
              "      <td>1.4</td>\n",
              "      <td>0.2</td>\n",
              "      <td>Iris-setosa</td>\n",
              "    </tr>\n",
              "    <tr>\n",
              "      <th>1</th>\n",
              "      <td>2</td>\n",
              "      <td>4.9</td>\n",
              "      <td>3.0</td>\n",
              "      <td>1.4</td>\n",
              "      <td>0.2</td>\n",
              "      <td>Iris-setosa</td>\n",
              "    </tr>\n",
              "    <tr>\n",
              "      <th>2</th>\n",
              "      <td>3</td>\n",
              "      <td>4.7</td>\n",
              "      <td>3.2</td>\n",
              "      <td>1.3</td>\n",
              "      <td>0.2</td>\n",
              "      <td>Iris-setosa</td>\n",
              "    </tr>\n",
              "    <tr>\n",
              "      <th>3</th>\n",
              "      <td>4</td>\n",
              "      <td>4.6</td>\n",
              "      <td>3.1</td>\n",
              "      <td>1.5</td>\n",
              "      <td>0.2</td>\n",
              "      <td>Iris-setosa</td>\n",
              "    </tr>\n",
              "    <tr>\n",
              "      <th>4</th>\n",
              "      <td>5</td>\n",
              "      <td>5.0</td>\n",
              "      <td>3.6</td>\n",
              "      <td>1.4</td>\n",
              "      <td>0.2</td>\n",
              "      <td>Iris-setosa</td>\n",
              "    </tr>\n",
              "    <tr>\n",
              "      <th>5</th>\n",
              "      <td>6</td>\n",
              "      <td>5.4</td>\n",
              "      <td>3.9</td>\n",
              "      <td>1.7</td>\n",
              "      <td>0.4</td>\n",
              "      <td>Iris-setosa</td>\n",
              "    </tr>\n",
              "    <tr>\n",
              "      <th>6</th>\n",
              "      <td>7</td>\n",
              "      <td>4.6</td>\n",
              "      <td>3.4</td>\n",
              "      <td>1.4</td>\n",
              "      <td>0.3</td>\n",
              "      <td>Iris-setosa</td>\n",
              "    </tr>\n",
              "    <tr>\n",
              "      <th>7</th>\n",
              "      <td>8</td>\n",
              "      <td>5.0</td>\n",
              "      <td>3.4</td>\n",
              "      <td>1.5</td>\n",
              "      <td>0.2</td>\n",
              "      <td>Iris-setosa</td>\n",
              "    </tr>\n",
              "    <tr>\n",
              "      <th>8</th>\n",
              "      <td>9</td>\n",
              "      <td>4.4</td>\n",
              "      <td>2.9</td>\n",
              "      <td>1.4</td>\n",
              "      <td>0.2</td>\n",
              "      <td>Iris-setosa</td>\n",
              "    </tr>\n",
              "    <tr>\n",
              "      <th>9</th>\n",
              "      <td>10</td>\n",
              "      <td>4.9</td>\n",
              "      <td>3.1</td>\n",
              "      <td>1.5</td>\n",
              "      <td>0.1</td>\n",
              "      <td>Iris-setosa</td>\n",
              "    </tr>\n",
              "  </tbody>\n",
              "</table>\n",
              "</div>"
            ],
            "text/plain": [
              "   Id  SepalLengthCm  SepalWidthCm  PetalLengthCm  PetalWidthCm      Species\n",
              "0   1            5.1           3.5            1.4           0.2  Iris-setosa\n",
              "1   2            4.9           3.0            1.4           0.2  Iris-setosa\n",
              "2   3            4.7           3.2            1.3           0.2  Iris-setosa\n",
              "3   4            4.6           3.1            1.5           0.2  Iris-setosa\n",
              "4   5            5.0           3.6            1.4           0.2  Iris-setosa\n",
              "5   6            5.4           3.9            1.7           0.4  Iris-setosa\n",
              "6   7            4.6           3.4            1.4           0.3  Iris-setosa\n",
              "7   8            5.0           3.4            1.5           0.2  Iris-setosa\n",
              "8   9            4.4           2.9            1.4           0.2  Iris-setosa\n",
              "9  10            4.9           3.1            1.5           0.1  Iris-setosa"
            ]
          },
          "execution_count": 7,
          "metadata": {},
          "output_type": "execute_result"
        }
      ],
      "source": [
        "# Vea su conjunto de datos convirtiéndolo en pandas\n",
        "dataset.take(10).to_pandas_dataframe()"
      ]
    },
    {
      "cell_type": "code",
      "execution_count": null,
      "id": "f9d8c31d",
      "metadata": {
        "id": "f9d8c31d",
        "outputId": "25112560-6722-4ca5-d7f5-4203ca330fa7"
      },
      "outputs": [
        {
          "data": {
            "text/plain": [
              "array(['Iris-setosa', 'Iris-versicolor', 'Iris-virginica'], dtype=object)"
            ]
          },
          "execution_count": 10,
          "metadata": {},
          "output_type": "execute_result"
        }
      ],
      "source": [
        "dataset.to_pandas_dataframe().Species.unique()"
      ]
    },
    {
      "cell_type": "code",
      "execution_count": null,
      "id": "8bd93b07",
      "metadata": {
        "id": "8bd93b07"
      },
      "outputs": [],
      "source": [
        "# Cree un nombre para su experimento AutoML de clasificación del Titanic\n",
        "experiment_name = 'Iris-Multi-Classification'\n",
        "\n",
        "# Establezca el experimento en su espacio de trabajo\n",
        "exp = Experiment(workspace=ws, name=experiment_name)"
      ]
    },
    {
      "cell_type": "code",
      "execution_count": null,
      "id": "4f9fc2e5",
      "metadata": {
        "id": "4f9fc2e5"
      },
      "outputs": [],
      "source": [
        "# Establezca las variables para su ejecución de AutoML\n",
        "target_column = 'Species'\n",
        "task = 'classification'\n",
        "primary_metric = 'accuracy'\n",
        "featurization = 'auto'"
      ]
    },
    {
      "cell_type": "code",
      "execution_count": null,
      "id": "f835a129",
      "metadata": {
        "id": "f835a129"
      },
      "outputs": [],
      "source": [
        "# Establezca el número de clases únicas en su columna de destino\n",
        "num_classes = 3"
      ]
    },
    {
      "cell_type": "code",
      "execution_count": null,
      "id": "73ecfb3f",
      "metadata": {
        "id": "73ecfb3f"
      },
      "outputs": [],
      "source": [
        "# Establezca su configuración AutoML\n",
        "config = AutoMLConfig(task=task,\n",
        "                     primary_metric=primary_metric,\n",
        "                     num_classes=num_classes,\n",
        "                     featurization=featurization,\n",
        "                     compute_target=compute_target,\n",
        "                     training_data=dataset,\n",
        "                     label_column_name=target_column,\n",
        "                     experiment_timeout_minutes=15,\n",
        "                     enable_early_stopping=True,\n",
        "                     n_cross_validations=5,\n",
        "                     model_explainability=True,\n",
        "                     enable_stack_ensemble=True,\n",
        "                     enable_voting_ensemble=True)"
      ]
    },
    {
      "cell_type": "code",
      "execution_count": null,
      "id": "86162159",
      "metadata": {
        "id": "86162159",
        "outputId": "2a84eeb5-fe86-4e10-a6b8-ca89bfd927c4",
        "colab": {
          "referenced_widgets": [
            "8fa6b767fe294d2da14481a974512ea2"
          ]
        }
      },
      "outputs": [
        {
          "name": "stdout",
          "output_type": "stream",
          "text": [
            "Submitting remote run.\n",
            "No run_configuration provided, running on automl-compute with default configuration\n",
            "Running on remote compute: automl-compute\n"
          ]
        },
        {
          "data": {
            "text/html": [
              "<table style=\"width:100%\"><tr><th>Experiment</th><th>Id</th><th>Type</th><th>Status</th><th>Details Page</th><th>Docs Page</th></tr><tr><td>Iris-Multi-Classification</td><td>AutoML_bbf31a09-9397-4435-ab0e-38e924b59cde</td><td>automl</td><td>NotStarted</td><td><a href=\"https://ml.azure.com/runs/AutoML_bbf31a09-9397-4435-ab0e-38e924b59cde?wsid=/subscriptions/0aad4149-65b5-42c8-9b25-ce17f2fed264/resourcegroups/auto-ml-example-resource-group/workspaces/automl-example-workspace&amp;tid=4ae54b05-b77e-4224-aef1-8661422e0816\" target=\"_blank\" rel=\"noopener\">Link to Azure Machine Learning studio</a></td><td><a href=\"https://docs.microsoft.com/en-us/python/api/overview/azure/ml/intro?view=azure-ml-py\" target=\"_blank\" rel=\"noopener\">Link to Documentation</a></td></tr></table>"
            ],
            "text/plain": [
              "<IPython.core.display.HTML object>"
            ]
          },
          "metadata": {},
          "output_type": "display_data"
        },
        {
          "name": "stdout",
          "output_type": "stream",
          "text": [
            "\n",
            "Current status: FeaturesGeneration. Generating features for the dataset.\n",
            "Current status: DatasetCrossValidationSplit. Generating individually featurized CV splits.\n",
            "Current status: ModelSelection. Beginning model selection.\n",
            "\n",
            "********************************************************************************************\n",
            "DATA GUARDRAILS: \n",
            "\n",
            "TYPE:         Class balancing detection\n",
            "STATUS:       PASSED\n",
            "DESCRIPTION:  Your inputs were analyzed, and all classes are balanced in your training data.\n",
            "              Learn more about imbalanced data: https://aka.ms/AutomatedMLImbalancedData\n",
            "\n",
            "********************************************************************************************\n",
            "\n",
            "TYPE:         Missing feature values imputation\n",
            "STATUS:       PASSED\n",
            "DESCRIPTION:  No feature missing values were detected in the training data.\n",
            "              Learn more about missing value imputation: https://aka.ms/AutomatedMLFeaturization\n",
            "\n",
            "********************************************************************************************\n",
            "\n",
            "TYPE:         High cardinality feature detection\n",
            "STATUS:       PASSED\n",
            "DESCRIPTION:  Your inputs were analyzed, and no high cardinality features were detected.\n",
            "              Learn more about high cardinality feature handling: https://aka.ms/AutomatedMLFeaturization\n",
            "\n",
            "********************************************************************************************\n",
            "\n",
            "********************************************************************************************\n",
            "ITER: The iteration being evaluated.\n",
            "PIPELINE: A summary description of the pipeline being evaluated.\n",
            "DURATION: Time taken for the current iteration.\n",
            "METRIC: The result of computing score on the fitted pipeline.\n",
            "BEST: The best observed score thus far.\n",
            "********************************************************************************************\n",
            "\n",
            " ITER   PIPELINE                                       DURATION            METRIC      BEST\n",
            "    0   MaxAbsScaler LightGBM                          0:00:08             0.9933    0.9933\n",
            "    1   MaxAbsScaler XGBoostClassifier                 0:00:08             0.9933    0.9933\n",
            "    2   MaxAbsScaler ExtremeRandomTrees                0:00:09             0.9933    0.9933\n",
            "    3   SparseNormalizer XGBoostClassifier             0:00:08             0.8733    0.9933\n",
            "    4   StandardScalerWrapper KNN                      0:00:08             1.0000    1.0000\n",
            "    5   MaxAbsScaler LightGBM                          0:00:08             1.0000    1.0000\n",
            "    6   RobustScaler LogisticRegression                0:00:08             1.0000    1.0000\n",
            "    7   MaxAbsScaler LightGBM                          0:00:09             0.9800    1.0000\n",
            "    8   StandardScalerWrapper KNN                      0:00:08             1.0000    1.0000\n",
            "    9   StandardScalerWrapper SVM                      0:00:08             1.0000    1.0000\n",
            "   10   StandardScalerWrapper XGBoostClassifier        0:00:08             1.0000    1.0000\n",
            "   11   MinMaxScaler RandomForest                      0:00:10             1.0000    1.0000\n",
            "   12   StandardScalerWrapper LogisticRegression       0:00:08             1.0000    1.0000\n",
            "   13   StandardScalerWrapper KNN                      0:00:08             0.9933    1.0000\n",
            "   14   RobustScaler KNN                               0:00:08             0.9933    1.0000\n",
            "   15   MinMaxScaler KNN                               0:00:08             0.9933    1.0000\n",
            "   16   SparseNormalizer KNN                           0:00:09             0.9600    1.0000\n",
            "   17   MaxAbsScaler LogisticRegression                0:00:08             0.9933    1.0000\n",
            "   18   StandardScalerWrapper XGBoostClassifier        0:00:08             0.9933    1.0000\n",
            "   19   StandardScalerWrapper XGBoostClassifier        0:00:08             0.9933    1.0000\n",
            "   20   MaxAbsScaler LogisticRegression                0:00:29             1.0000    1.0000\n",
            "   21   StandardScalerWrapper XGBoostClassifier        0:02:06             1.0000    1.0000\n",
            "   22   RobustScaler SVM                               0:01:57             1.0000    1.0000\n",
            "   23   StandardScalerWrapper XGBoostClassifier        0:01:53             0.9933    1.0000\n",
            "   24   SparseNormalizer XGBoostClassifier             0:02:02             0.9267    1.0000\n",
            "   25    VotingEnsemble                                0:02:10             1.0000    1.0000\n",
            "   26    StackEnsemble                                 0:02:03             1.0000    1.0000\n"
          ]
        },
        {
          "data": {
            "application/vnd.jupyter.widget-view+json": {
              "model_id": "8fa6b767fe294d2da14481a974512ea2",
              "version_major": 2,
              "version_minor": 0
            },
            "text/plain": [
              "_AutoMLWidget(widget_settings={'childWidgetDisplay': 'popup', 'send_telemetry': False, 'log_level': 'INFO', 's…"
            ]
          },
          "metadata": {},
          "output_type": "display_data"
        },
        {
          "data": {
            "application/aml.mini.widget.v1": "{\"status\": \"Completed\", \"workbench_run_details_uri\": \"https://ml.azure.com/runs/AutoML_bbf31a09-9397-4435-ab0e-38e924b59cde?wsid=/subscriptions/0aad4149-65b5-42c8-9b25-ce17f2fed264/resourcegroups/auto-ml-example-resource-group/workspaces/automl-example-workspace&tid=4ae54b05-b77e-4224-aef1-8661422e0816\", \"run_id\": \"AutoML_bbf31a09-9397-4435-ab0e-38e924b59cde\", \"run_properties\": {\"run_id\": \"AutoML_bbf31a09-9397-4435-ab0e-38e924b59cde\", \"created_utc\": \"2022-02-06T00:32:57.811576Z\", \"properties\": {\"num_iterations\": \"1000\", \"training_type\": \"TrainFull\", \"acquisition_function\": \"EI\", \"primary_metric\": \"accuracy\", \"train_split\": \"0\", \"acquisition_parameter\": \"0\", \"num_cross_validation\": \"5\", \"target\": \"automl-compute\", \"AMLSettingsJsonString\": \"{\\\"path\\\":null,\\\"name\\\":\\\"Iris-Multi-Classification\\\",\\\"subscription_id\\\":\\\"0aad4149-65b5-42c8-9b25-ce17f2fed264\\\",\\\"resource_group\\\":\\\"auto-ml-example-resource-group\\\",\\\"workspace_name\\\":\\\"automl-example-workspace\\\",\\\"region\\\":\\\"eastus2\\\",\\\"compute_target\\\":\\\"automl-compute\\\",\\\"spark_service\\\":null,\\\"azure_service\\\":\\\"remote\\\",\\\"many_models\\\":false,\\\"pipeline_fetch_max_batch_size\\\":1,\\\"enable_batch_run\\\":true,\\\"enable_run_restructure\\\":false,\\\"start_auxiliary_runs_before_parent_complete\\\":false,\\\"enable_code_generation\\\":false,\\\"iterations\\\":1000,\\\"primary_metric\\\":\\\"accuracy\\\",\\\"task_type\\\":\\\"classification\\\",\\\"positive_label\\\":null,\\\"data_script\\\":null,\\\"test_size\\\":0.0,\\\"test_include_predictions_only\\\":false,\\\"validation_size\\\":0.0,\\\"n_cross_validations\\\":5,\\\"y_min\\\":null,\\\"y_max\\\":null,\\\"num_classes\\\":null,\\\"featurization\\\":\\\"auto\\\",\\\"_ignore_package_version_incompatibilities\\\":false,\\\"is_timeseries\\\":false,\\\"max_cores_per_iteration\\\":1,\\\"max_concurrent_iterations\\\":1,\\\"iteration_timeout_minutes\\\":null,\\\"mem_in_mb\\\":null,\\\"enforce_time_on_windows\\\":false,\\\"experiment_timeout_minutes\\\":15,\\\"experiment_exit_score\\\":null,\\\"whitelist_models\\\":null,\\\"blacklist_algos\\\":[\\\"TensorFlowLinearClassifier\\\",\\\"TensorFlowDNN\\\"],\\\"supported_models\\\":[\\\"TensorFlowLinearClassifier\\\",\\\"LinearSVM\\\",\\\"BernoulliNaiveBayes\\\",\\\"DecisionTree\\\",\\\"ExtremeRandomTrees\\\",\\\"XGBoostClassifier\\\",\\\"SVM\\\",\\\"RandomForest\\\",\\\"GradientBoosting\\\",\\\"MultinomialNaiveBayes\\\",\\\"SGD\\\",\\\"AveragedPerceptronClassifier\\\",\\\"KNN\\\",\\\"TensorFlowDNN\\\",\\\"LightGBM\\\",\\\"LogisticRegression\\\"],\\\"private_models\\\":[\\\"TabnetClassifier\\\"],\\\"auto_blacklist\\\":true,\\\"blacklist_samples_reached\\\":false,\\\"exclude_nan_labels\\\":true,\\\"verbosity\\\":20,\\\"_debug_log\\\":\\\"azureml_automl.log\\\",\\\"show_warnings\\\":false,\\\"model_explainability\\\":true,\\\"service_url\\\":null,\\\"sdk_url\\\":null,\\\"sdk_packages\\\":null,\\\"enable_onnx_compatible_models\\\":false,\\\"enable_split_onnx_featurizer_estimator_models\\\":false,\\\"vm_type\\\":\\\"STANDARD_DS11_V2\\\",\\\"telemetry_verbosity\\\":20,\\\"send_telemetry\\\":true,\\\"enable_dnn\\\":false,\\\"scenario\\\":\\\"SDK-1.13.0\\\",\\\"environment_label\\\":null,\\\"save_mlflow\\\":false,\\\"enable_categorical_indicators\\\":false,\\\"force_text_dnn\\\":false,\\\"enable_feature_sweeping\\\":true,\\\"enable_early_stopping\\\":true,\\\"early_stopping_n_iters\\\":10,\\\"arguments\\\":null,\\\"dataset_id\\\":null,\\\"hyperdrive_config\\\":null,\\\"validation_dataset_id\\\":null,\\\"run_source\\\":null,\\\"metrics\\\":null,\\\"enable_metric_confidence\\\":false,\\\"enable_ensembling\\\":true,\\\"enable_stack_ensembling\\\":true,\\\"ensemble_iterations\\\":15,\\\"enable_tf\\\":false,\\\"enable_subsampling\\\":null,\\\"subsample_seed\\\":null,\\\"enable_nimbusml\\\":false,\\\"enable_streaming\\\":false,\\\"force_streaming\\\":false,\\\"track_child_runs\\\":true,\\\"allowed_private_models\\\":[],\\\"label_column_name\\\":\\\"Species\\\",\\\"weight_column_name\\\":null,\\\"cv_split_column_names\\\":null,\\\"enable_local_managed\\\":false,\\\"_local_managed_run_id\\\":null,\\\"cost_mode\\\":1,\\\"lag_length\\\":0,\\\"metric_operation\\\":\\\"maximize\\\",\\\"preprocess\\\":true}\", \"DataPrepJsonString\": \"{\\\\\\\"training_data\\\\\\\": {\\\\\\\"datasetId\\\\\\\": \\\\\\\"b0d1c2f0-e3ee-49c7-a0b0-27a04a86ac46\\\\\\\"}, \\\\\\\"datasets\\\\\\\": 0}\", \"EnableSubsampling\": null, \"runTemplate\": \"AutoML\", \"azureml.runsource\": \"automl\", \"display_task_type\": \"classification\", \"dependencies_versions\": \"{\\\"azureml-widgets\\\": \\\"1.37.0\\\", \\\"azureml-train\\\": \\\"1.37.0\\\", \\\"azureml-train-restclients-hyperdrive\\\": \\\"1.37.0\\\", \\\"azureml-train-core\\\": \\\"1.37.0\\\", \\\"azureml-train-automl-client\\\": \\\"1.37.0\\\", \\\"azureml-tensorboard\\\": \\\"1.37.0\\\", \\\"azureml-telemetry\\\": \\\"1.37.0\\\", \\\"azureml-sdk\\\": \\\"1.37.0\\\", \\\"azureml-responsibleai\\\": \\\"1.37.0\\\", \\\"azureml-pipeline\\\": \\\"1.37.0\\\", \\\"azureml-pipeline-steps\\\": \\\"1.37.0\\\", \\\"azureml-pipeline-core\\\": \\\"1.37.0\\\", \\\"azureml-opendatasets\\\": \\\"1.37.0\\\", \\\"azureml-mlflow\\\": \\\"1.37.0\\\", \\\"azureml-interpret\\\": \\\"1.37.0\\\", \\\"azureml-inference-server-http\\\": \\\"0.4.2\\\", \\\"azureml-explain-model\\\": \\\"1.37.0\\\", \\\"azureml-defaults\\\": \\\"1.37.0\\\", \\\"azureml-dataset-runtime\\\": \\\"1.37.0\\\", \\\"azureml-dataprep\\\": \\\"2.25.0\\\", \\\"azureml-dataprep-rslex\\\": \\\"2.1.0\\\", \\\"azureml-dataprep-native\\\": \\\"38.0.0\\\", \\\"azureml-datadrift\\\": \\\"1.37.0\\\", \\\"azureml-core\\\": \\\"1.37.0\\\", \\\"azureml-contrib-services\\\": \\\"1.37.0\\\", \\\"azureml-contrib-server\\\": \\\"1.37.0\\\", \\\"azureml-contrib-reinforcementlearning\\\": \\\"1.37.0\\\", \\\"azureml-contrib-pipeline-steps\\\": \\\"1.37.0\\\", \\\"azureml-contrib-notebook\\\": \\\"1.37.0\\\", \\\"azureml-contrib-fairness\\\": \\\"1.37.0\\\", \\\"azureml-contrib-dataset\\\": \\\"1.37.0\\\", \\\"azureml-cli-common\\\": \\\"1.37.0\\\", \\\"azureml-automl-core\\\": \\\"1.37.0\\\", \\\"azureml-accel-models\\\": \\\"1.37.0\\\"}\", \"_aml_system_scenario_identification\": \"Remote.Parent\", \"ClientType\": \"SDK\", \"environment_cpu_name\": \"AzureML-AutoML\", \"environment_cpu_label\": \"py36\", \"environment_gpu_name\": \"AzureML-AutoML-GPU\", \"environment_gpu_label\": \"py36\", \"root_attribution\": \"automl\", \"attribution\": \"AutoML\", \"Orchestrator\": \"AutoML\", \"CancelUri\": \"https://eastus2.api.azureml.ms/jasmine/v1.0/subscriptions/0aad4149-65b5-42c8-9b25-ce17f2fed264/resourceGroups/auto-ml-example-resource-group/providers/Microsoft.MachineLearningServices/workspaces/automl-example-workspace/experimentids/1a36c567-ecdf-4e61-bf3a-4d4a518da78c/cancel/AutoML_bbf31a09-9397-4435-ab0e-38e924b59cde\", \"ClientSdkVersion\": \"1.38.0\", \"snapshotId\": \"00000000-0000-0000-0000-000000000000\", \"SetupRunId\": \"AutoML_bbf31a09-9397-4435-ab0e-38e924b59cde_setup\", \"SetupRunContainerId\": \"dcid.AutoML_bbf31a09-9397-4435-ab0e-38e924b59cde_setup\", \"FeaturizationRunJsonPath\": \"featurizer_container.json\", \"FeaturizationRunId\": \"AutoML_bbf31a09-9397-4435-ab0e-38e924b59cde_featurize\", \"ProblemInfoJsonString\": \"{\\\"dataset_num_categorical\\\": 0, \\\"is_sparse\\\": false, \\\"subsampling\\\": false, \\\"has_extra_col\\\": true, \\\"dataset_classes\\\": 3, \\\"dataset_features\\\": 5, \\\"dataset_samples\\\": 150, \\\"single_frequency_class_detected\\\": false}\", \"ModelExplainRunId\": \"AutoML_bbf31a09-9397-4435-ab0e-38e924b59cde_ModelExplain\"}, \"tags\": {\"model_explain_run\": \"best_run\", \"_aml_system_azureml.automlComponent\": \"AutoML\", \"pipeline_id\": \"\", \"score\": \"\", \"predicted_cost\": \"\", \"fit_time\": \"\", \"training_percent\": \"\", \"iteration\": \"\", \"run_preprocessor\": \"\", \"run_algorithm\": \"\", \"_aml_system_azureml.automl_early_exit_message\": \"Experiment timeout reached, hence experiment stopped. Current experiment timeout: 0 hour(s) 15 minute(s)\", \"automl_best_child_run_id\": \"AutoML_bbf31a09-9397-4435-ab0e-38e924b59cde_4\", \"model_explain_best_run_child_id\": \"AutoML_bbf31a09-9397-4435-ab0e-38e924b59cde_4\"}, \"end_time_utc\": \"2022-02-06T01:00:50.941993Z\", \"status\": \"Completed\", \"log_files\": {}, \"log_groups\": [], \"run_duration\": \"0:27:53\", \"run_number\": \"1644107577\", \"run_queued_details\": {\"status\": \"Completed\", \"details\": null}}, \"child_runs\": [{\"run_id\": \"AutoML_bbf31a09-9397-4435-ab0e-38e924b59cde_setup\", \"run_number\": 1644107590, \"metric\": null, \"status\": \"Completed\", \"run_type\": \"azureml.scriptrun\", \"training_percent\": null, \"start_time\": \"2022-02-06T00:37:14.948554Z\", \"end_time\": \"2022-02-06T00:37:56.360808Z\", \"created_time\": \"2022-02-06T00:33:10.614356Z\", \"created_time_dt\": \"2022-02-06T00:33:10.614356Z\", \"duration\": \"0:04:45\", \"iteration\": null, \"goal\": null, \"run_name\": \"Completed\", \"run_properties\": null}, {\"run_id\": \"AutoML_bbf31a09-9397-4435-ab0e-38e924b59cde_featurize\", \"run_number\": 1644107876, \"metric\": null, \"status\": \"Completed\", \"run_type\": \"automl.featurization\", \"training_percent\": null, \"start_time\": \"2022-02-06T00:37:57.05771Z\", \"end_time\": \"2022-02-06T00:39:52.973404Z\", \"created_time\": \"2022-02-06T00:37:56.734907Z\", \"created_time_dt\": \"2022-02-06T00:37:56.734907Z\", \"duration\": \"0:01:56\", \"iteration\": null, \"goal\": null, \"run_name\": \"Completed\", \"run_properties\": null}, {\"run_id\": \"AutoML_bbf31a09-9397-4435-ab0e-38e924b59cde_0\", \"run_number\": 1644107994, \"metric\": null, \"status\": \"Completed\", \"run_type\": null, \"training_percent\": \"100\", \"start_time\": \"2022-02-06T00:41:33.313246Z\", \"end_time\": \"2022-02-06T00:41:41.284148Z\", \"created_time\": \"2022-02-06T00:39:54.324433Z\", \"created_time_dt\": \"2022-02-06T00:39:54.324433Z\", \"duration\": \"0:01:46\", \"iteration\": \"0\", \"goal\": \"accuracy_max\", \"run_name\": \"MaxAbsScaler, LightGBM\", \"run_properties\": \"copy=True\", \"primary_metric\": 0.99333333, \"best_metric\": 0.99333333}, {\"run_id\": \"AutoML_bbf31a09-9397-4435-ab0e-38e924b59cde_2\", \"run_number\": 1644107995, \"metric\": null, \"status\": \"Completed\", \"run_type\": null, \"training_percent\": \"100\", \"start_time\": \"2022-02-06T00:41:49.663631Z\", \"end_time\": \"2022-02-06T00:41:58.754388Z\", \"created_time\": \"2022-02-06T00:39:55.327083Z\", \"created_time_dt\": \"2022-02-06T00:39:55.327083Z\", \"duration\": \"0:02:03\", \"iteration\": \"2\", \"goal\": \"accuracy_max\", \"run_name\": \"MaxAbsScaler, ExtremeRandomTrees\", \"run_properties\": \"copy=True\", \"primary_metric\": 0.99333333, \"best_metric\": 0.99333333}, {\"run_id\": \"AutoML_bbf31a09-9397-4435-ab0e-38e924b59cde_4\", \"run_number\": 1644107996, \"metric\": null, \"status\": \"Completed\", \"run_type\": null, \"training_percent\": \"100\", \"start_time\": \"2022-02-06T00:42:07.035587Z\", \"end_time\": \"2022-02-06T00:42:14.844915Z\", \"created_time\": \"2022-02-06T00:39:56.315154Z\", \"created_time_dt\": \"2022-02-06T00:39:56.315154Z\", \"duration\": \"0:02:18\", \"iteration\": \"4\", \"goal\": \"accuracy_max\", \"run_name\": \"StandardScalerWrapper, KNN\", \"run_properties\": \"\\n    copy=True,\\n    with_mean=False,\\n    with_std=False\\n\", \"primary_metric\": 1.0, \"best_metric\": 1.0}, {\"run_id\": \"AutoML_bbf31a09-9397-4435-ab0e-38e924b59cde_6\", \"run_number\": 1644107997, \"metric\": null, \"status\": \"Completed\", \"run_type\": null, \"training_percent\": \"100\", \"start_time\": \"2022-02-06T00:42:22.858968Z\", \"end_time\": \"2022-02-06T00:42:30.739713Z\", \"created_time\": \"2022-02-06T00:39:57.227417Z\", \"created_time_dt\": \"2022-02-06T00:39:57.227417Z\", \"duration\": \"0:02:33\", \"iteration\": \"6\", \"goal\": \"accuracy_max\", \"run_name\": \"RobustScaler, LogisticRegression\", \"run_properties\": \"copy=True, quantile_range=[10, 90], with_centering=True,\\n             with_scaling=True\", \"primary_metric\": 1.0, \"best_metric\": 1.0}, {\"run_id\": \"AutoML_bbf31a09-9397-4435-ab0e-38e924b59cde_8\", \"run_number\": 1644107998, \"metric\": null, \"status\": \"Completed\", \"run_type\": null, \"training_percent\": \"100\", \"start_time\": \"2022-02-06T00:42:39.789936Z\", \"end_time\": \"2022-02-06T00:42:47.932857Z\", \"created_time\": \"2022-02-06T00:39:58.022773Z\", \"created_time_dt\": \"2022-02-06T00:39:58.022773Z\", \"duration\": \"0:02:49\", \"iteration\": \"8\", \"goal\": \"accuracy_max\", \"run_name\": \"StandardScalerWrapper, KNN\", \"run_properties\": \"\\n    copy=True,\\n    with_mean=False,\\n    with_std=False\\n\", \"primary_metric\": 1.0, \"best_metric\": 1.0}, {\"run_id\": \"AutoML_bbf31a09-9397-4435-ab0e-38e924b59cde_10\", \"run_number\": 1644107999, \"metric\": null, \"status\": \"Completed\", \"run_type\": null, \"training_percent\": \"100\", \"start_time\": \"2022-02-06T00:42:56.187373Z\", \"end_time\": \"2022-02-06T00:43:04.185166Z\", \"created_time\": \"2022-02-06T00:39:59.112185Z\", \"created_time_dt\": \"2022-02-06T00:39:59.112185Z\", \"duration\": \"0:03:05\", \"iteration\": \"10\", \"goal\": \"accuracy_max\", \"run_name\": \"StandardScalerWrapper, XGBoostClassifier\", \"run_properties\": \"\\n    copy=True,\\n    with_mean=False,\\n    with_std=False\\n\", \"primary_metric\": 1.0, \"best_metric\": 1.0}, {\"run_id\": \"AutoML_bbf31a09-9397-4435-ab0e-38e924b59cde_13\", \"run_number\": 1644108000, \"metric\": null, \"status\": \"Completed\", \"run_type\": null, \"training_percent\": \"100\", \"start_time\": \"2022-02-06T00:43:22.721847Z\", \"end_time\": \"2022-02-06T00:43:30.552262Z\", \"created_time\": \"2022-02-06T00:40:00.336766Z\", \"created_time_dt\": \"2022-02-06T00:40:00.336766Z\", \"duration\": \"0:03:30\", \"iteration\": \"13\", \"goal\": \"accuracy_max\", \"run_name\": \"StandardScalerWrapper, KNN\", \"run_properties\": \"\\n    copy=True,\\n    with_mean=False,\\n    with_std=True\\n\", \"primary_metric\": 0.99333333, \"best_metric\": 1.0}, {\"run_id\": \"AutoML_bbf31a09-9397-4435-ab0e-38e924b59cde_15\", \"run_number\": 1644108001, \"metric\": null, \"status\": \"Completed\", \"run_type\": null, \"training_percent\": \"100\", \"start_time\": \"2022-02-06T00:43:38.874371Z\", \"end_time\": \"2022-02-06T00:43:46.659551Z\", \"created_time\": \"2022-02-06T00:40:01.211923Z\", \"created_time_dt\": \"2022-02-06T00:40:01.211923Z\", \"duration\": \"0:03:45\", \"iteration\": \"15\", \"goal\": \"accuracy_max\", \"run_name\": \"MinMaxScaler, KNN\", \"run_properties\": \"copy=True, feature_range=(0, 1\", \"primary_metric\": 0.99333333, \"best_metric\": 1.0}, {\"run_id\": \"AutoML_bbf31a09-9397-4435-ab0e-38e924b59cde_18\", \"run_number\": 1644108002, \"metric\": null, \"status\": \"Completed\", \"run_type\": null, \"training_percent\": \"100\", \"start_time\": \"2022-02-06T00:44:04.016918Z\", \"end_time\": \"2022-02-06T00:44:11.734894Z\", \"created_time\": \"2022-02-06T00:40:02.444337Z\", \"created_time_dt\": \"2022-02-06T00:40:02.444337Z\", \"duration\": \"0:04:09\", \"iteration\": \"18\", \"goal\": \"accuracy_max\", \"run_name\": \"StandardScalerWrapper, XGBoostClassifier\", \"run_properties\": \"\\n    copy=True,\\n    with_mean=False,\\n    with_std=False\\n\", \"primary_metric\": 0.99333333, \"best_metric\": 1.0}, {\"run_id\": \"AutoML_bbf31a09-9397-4435-ab0e-38e924b59cde_worker_0\", \"run_number\": 1644108003, \"metric\": null, \"status\": \"Completed\", \"run_type\": \"azureml.scriptrun\", \"training_percent\": null, \"start_time\": \"2022-02-06T00:43:16.769247Z\", \"end_time\": \"2022-02-06T00:44:25.405955Z\", \"created_time\": \"2022-02-06T00:40:03.14057Z\", \"created_time_dt\": \"2022-02-06T00:40:03.14057Z\", \"duration\": \"0:04:22\", \"iteration\": null, \"goal\": null, \"run_name\": \"Completed\", \"run_properties\": null}, {\"run_id\": \"AutoML_bbf31a09-9397-4435-ab0e-38e924b59cde_20\", \"run_number\": 1644108481, \"metric\": null, \"status\": \"Completed\", \"run_type\": \"azureml.scriptrun\", \"training_percent\": \"100\", \"start_time\": \"2022-02-06T00:48:01.76828Z\", \"end_time\": \"2022-02-06T00:48:31.043223Z\", \"created_time\": \"2022-02-06T00:48:01.76828Z\", \"created_time_dt\": \"2022-02-06T00:48:01.76828Z\", \"duration\": \"0:00:29\", \"iteration\": \"20\", \"goal\": \"accuracy_max\", \"run_name\": \"MaxAbsScaler, LogisticRegression\", \"run_properties\": \"copy=True\", \"primary_metric\": 1.0, \"best_metric\": 1.0}, {\"run_id\": \"AutoML_bbf31a09-9397-4435-ab0e-38e924b59cde_21\", \"run_number\": 1644108512, \"metric\": null, \"status\": \"Completed\", \"run_type\": \"azureml.scriptrun\", \"training_percent\": \"100\", \"start_time\": \"2022-02-06T00:48:32.694664Z\", \"end_time\": \"2022-02-06T00:50:38.755015Z\", \"created_time\": \"2022-02-06T00:48:32.694664Z\", \"created_time_dt\": \"2022-02-06T00:48:32.694664Z\", \"duration\": \"0:02:06\", \"iteration\": \"21\", \"goal\": \"accuracy_max\", \"run_name\": \"StandardScalerWrapper, XGBoostClassifier\", \"run_properties\": \"\\n    copy=True,\\n    with_mean=False,\\n    with_std=False\\n\", \"primary_metric\": 1.0, \"best_metric\": 1.0}, {\"run_id\": \"AutoML_bbf31a09-9397-4435-ab0e-38e924b59cde_22\", \"run_number\": 1644108640, \"metric\": null, \"status\": \"Completed\", \"run_type\": \"azureml.scriptrun\", \"training_percent\": \"100\", \"start_time\": \"2022-02-06T00:50:40.363701Z\", \"end_time\": \"2022-02-06T00:52:37.393527Z\", \"created_time\": \"2022-02-06T00:50:40.363701Z\", \"created_time_dt\": \"2022-02-06T00:50:40.363701Z\", \"duration\": \"0:01:57\", \"iteration\": \"22\", \"goal\": \"accuracy_max\", \"run_name\": \"RobustScaler, SVM\", \"run_properties\": \"copy=True, quantile_range=[10, 90], with_centering=True,\\n             with_scaling=True\", \"primary_metric\": 1.0, \"best_metric\": 1.0}, {\"run_id\": \"AutoML_bbf31a09-9397-4435-ab0e-38e924b59cde_23\", \"run_number\": 1644108759, \"metric\": null, \"status\": \"Completed\", \"run_type\": \"azureml.scriptrun\", \"training_percent\": \"100\", \"start_time\": \"2022-02-06T00:52:39.132381Z\", \"end_time\": \"2022-02-06T00:54:31.652191Z\", \"created_time\": \"2022-02-06T00:52:39.132381Z\", \"created_time_dt\": \"2022-02-06T00:52:39.132381Z\", \"duration\": \"0:01:52\", \"iteration\": \"23\", \"goal\": \"accuracy_max\", \"run_name\": \"StandardScalerWrapper, XGBoostClassifier\", \"run_properties\": \"\\n    copy=True,\\n    with_mean=False,\\n    with_std=False\\n\", \"primary_metric\": 0.99333333, \"best_metric\": 1.0}, {\"run_id\": \"AutoML_bbf31a09-9397-4435-ab0e-38e924b59cde_24\", \"run_number\": 1644108873, \"metric\": null, \"status\": \"Completed\", \"run_type\": \"azureml.scriptrun\", \"training_percent\": \"100\", \"start_time\": \"2022-02-06T00:54:33.106661Z\", \"end_time\": \"2022-02-06T00:56:35.58364Z\", \"created_time\": \"2022-02-06T00:54:33.106661Z\", \"created_time_dt\": \"2022-02-06T00:54:33.106661Z\", \"duration\": \"0:02:02\", \"iteration\": \"24\", \"goal\": \"accuracy_max\", \"run_name\": \"SparseNormalizer, XGBoostClassifier\", \"run_properties\": \"copy=True, norm='l2'\", \"primary_metric\": 0.92666667, \"best_metric\": 1.0}, {\"run_id\": \"AutoML_bbf31a09-9397-4435-ab0e-38e924b59cde_25\", \"run_number\": 1644108996, \"metric\": null, \"status\": \"Completed\", \"run_type\": \"azureml.scriptrun\", \"training_percent\": \"100\", \"start_time\": \"2022-02-06T00:56:36.345625Z\", \"end_time\": \"2022-02-06T00:58:46.412743Z\", \"created_time\": \"2022-02-06T00:56:36.345625Z\", \"created_time_dt\": \"2022-02-06T00:56:36.345625Z\", \"duration\": \"0:02:10\", \"iteration\": \"25\", \"goal\": \"accuracy_max\", \"run_name\": \"VotingEnsemble\", \"run_properties\": \"\\n    estimators=[('22', Pipeline(\\n        memory=None,\\n        steps=[('robustscaler', RobustScaler(\\n            copy=True,\\n            quantile_range=[10, 90],\\n            with_centering=True,\\n            with_scaling=True\\n        \", \"primary_metric\": 1.0, \"best_metric\": 1.0}, {\"run_id\": \"AutoML_bbf31a09-9397-4435-ab0e-38e924b59cde_26\", \"run_number\": 1644109127, \"metric\": null, \"status\": \"Completed\", \"run_type\": \"azureml.scriptrun\", \"training_percent\": \"100\", \"start_time\": \"2022-02-06T00:58:47.051853Z\", \"end_time\": \"2022-02-06T01:00:49.653721Z\", \"created_time\": \"2022-02-06T00:58:47.051853Z\", \"created_time_dt\": \"2022-02-06T00:58:47.051853Z\", \"duration\": \"0:02:02\", \"iteration\": \"26\", \"goal\": \"accuracy_max\", \"run_name\": \"StackEnsemble\", \"run_properties\": \"\\n    base_learners=[('22', Pipeline(\\n        memory=None,\\n        steps=[('robustscaler', RobustScaler(\\n            copy=True,\\n            quantile_range=[10, 90],\\n            with_centering=True,\\n            with_scaling=True\\n        \", \"primary_metric\": 1.0, \"best_metric\": 1.0}], \"children_metrics\": {\"categories\": [0], \"series\": {\"recall_score_weighted\": [{\"categories\": [\"0\", \"2\", \"4\", \"6\", \"8\", \"10\", \"13\", \"15\", \"18\", \"20\", \"21\", \"22\", \"23\", \"24\", \"25\", \"26\"], \"mode\": \"markers\", \"name\": \"recall_score_weighted\", \"stepped\": false, \"type\": \"scatter\", \"data\": [0.9933333333333334, 0.9933333333333334, 1.0, 1.0, 1.0, 1.0, 0.9933333333333334, 0.9933333333333334, 0.9933333333333334, 1.0, 1.0, 1.0, 0.9933333333333334, 0.9266666666666667, 1.0, 1.0]}, {\"categories\": [\"0\", \"2\", \"4\", \"6\", \"8\", \"10\", \"13\", \"15\", \"18\", \"20\", \"21\", \"22\", \"23\", \"24\", \"25\", \"26\"], \"mode\": \"lines\", \"name\": \"recall_score_weighted_max\", \"stepped\": true, \"type\": \"scatter\", \"data\": [0.9933333333333334, 0.9933333333333334, 1.0, 1.0, 1.0, 1.0, 1.0, 1.0, 1.0, 1.0, 1.0, 1.0, 1.0, 1.0, 1.0, 1.0]}], \"f1_score_weighted\": [{\"categories\": [\"0\", \"2\", \"4\", \"6\", \"8\", \"10\", \"13\", \"15\", \"18\", \"20\", \"21\", \"22\", \"23\", \"24\", \"25\", \"26\"], \"mode\": \"markers\", \"name\": \"f1_score_weighted\", \"stepped\": false, \"type\": \"scatter\", \"data\": [0.9931918656056589, 0.9933638443935926, 1.0, 1.0, 1.0, 1.0, 0.9933638443935926, 0.9933638443935926, 0.9933166248955722, 1.0, 1.0, 1.0, 0.9933166248955722, 0.9275567959398355, 1.0, 1.0]}, {\"categories\": [\"0\", \"2\", \"4\", \"6\", \"8\", \"10\", \"13\", \"15\", \"18\", \"20\", \"21\", \"22\", \"23\", \"24\", \"25\", \"26\"], \"mode\": \"lines\", \"name\": \"f1_score_weighted_max\", \"stepped\": true, \"type\": \"scatter\", \"data\": [0.9931918656056589, 0.9933638443935926, 1.0, 1.0, 1.0, 1.0, 1.0, 1.0, 1.0, 1.0, 1.0, 1.0, 1.0, 1.0, 1.0, 1.0]}], \"AUC_micro\": [{\"categories\": [\"0\", \"2\", \"4\", \"6\", \"8\", \"10\", \"13\", \"15\", \"18\", \"20\", \"21\", \"22\", \"23\", \"24\", \"25\", \"26\"], \"mode\": \"markers\", \"name\": \"AUC_micro\", \"stepped\": false, \"type\": \"scatter\", \"data\": [0.9998888888888888, 0.9998888888888888, 1.0, 1.0, 1.0, 1.0, 0.9998888888888888, 0.9998888888888888, 0.9998888888888888, 1.0, 1.0, 1.0, 0.9998888888888888, 0.9915555555555556, 1.0, 1.0]}, {\"categories\": [\"0\", \"2\", \"4\", \"6\", \"8\", \"10\", \"13\", \"15\", \"18\", \"20\", \"21\", \"22\", \"23\", \"24\", \"25\", \"26\"], \"mode\": \"lines\", \"name\": \"AUC_micro_max\", \"stepped\": true, \"type\": \"scatter\", \"data\": [0.9998888888888888, 0.9998888888888888, 1.0, 1.0, 1.0, 1.0, 1.0, 1.0, 1.0, 1.0, 1.0, 1.0, 1.0, 1.0, 1.0, 1.0]}], \"log_loss\": [{\"categories\": [\"0\", \"2\", \"4\", \"6\", \"8\", \"10\", \"13\", \"15\", \"18\", \"20\", \"21\", \"22\", \"23\", \"24\", \"25\", \"26\"], \"mode\": \"markers\", \"name\": \"log_loss\", \"stepped\": false, \"type\": \"scatter\", \"data\": [0.013047889258825721, 0.1427684325646014, 0.008783999876262119, 0.0050278153508168015, 0.016936751115264152, 0.39725287837929973, 0.08454153737360708, 0.011941043941982135, 0.4644228073159793, 0.0064631120857708835, 0.4655507184580269, 0.05386289108459634, 0.0349035865581936, 0.18664092579195543, 0.10987723656408972, 0.8746834469265735]}, {\"categories\": [\"0\", \"2\", \"4\", \"6\", \"8\", \"10\", \"13\", \"15\", \"18\", \"20\", \"21\", \"22\", \"23\", \"24\", \"25\", \"26\"], \"mode\": \"lines\", \"name\": \"log_loss_min\", \"stepped\": true, \"type\": \"scatter\", \"data\": [0.013047889258825721, 0.013047889258825721, 0.008783999876262119, 0.0050278153508168015, 0.0050278153508168015, 0.0050278153508168015, 0.0050278153508168015, 0.0050278153508168015, 0.0050278153508168015, 0.0050278153508168015, 0.0050278153508168015, 0.0050278153508168015, 0.0050278153508168015, 0.0050278153508168015, 0.0050278153508168015, 0.0050278153508168015]}], \"average_precision_score_weighted\": [{\"categories\": [\"0\", \"2\", \"4\", \"6\", \"8\", \"10\", \"13\", \"15\", \"18\", \"20\", \"21\", \"22\", \"23\", \"24\", \"25\", \"26\"], \"mode\": \"markers\", \"name\": \"average_precision_score_weighted\", \"stepped\": false, \"type\": \"scatter\", \"data\": [1.0, 1.0, 1.0, 1.0, 1.0, 1.0, 1.0, 1.0, 1.0, 1.0, 1.0, 1.0, 1.0, 0.9869436304436304, 1.0, 1.0]}, {\"categories\": [\"0\", \"2\", \"4\", \"6\", \"8\", \"10\", \"13\", \"15\", \"18\", \"20\", \"21\", \"22\", \"23\", \"24\", \"25\", \"26\"], \"mode\": \"lines\", \"name\": \"average_precision_score_weighted_max\", \"stepped\": true, \"type\": \"scatter\", \"data\": [1.0, 1.0, 1.0, 1.0, 1.0, 1.0, 1.0, 1.0, 1.0, 1.0, 1.0, 1.0, 1.0, 1.0, 1.0, 1.0]}], \"balanced_accuracy\": [{\"categories\": [\"0\", \"2\", \"4\", \"6\", \"8\", \"10\", \"13\", \"15\", \"18\", \"20\", \"21\", \"22\", \"23\", \"24\", \"25\", \"26\"], \"mode\": \"markers\", \"name\": \"balanced_accuracy\", \"stepped\": false, \"type\": \"scatter\", \"data\": [0.9904761904761905, 0.9944444444444445, 1.0, 1.0, 1.0, 1.0, 0.9944444444444445, 0.9944444444444445, 0.9933333333333334, 1.0, 1.0, 1.0, 0.9933333333333334, 0.9291534391534391, 1.0, 1.0]}, {\"categories\": [\"0\", \"2\", \"4\", \"6\", \"8\", \"10\", \"13\", \"15\", \"18\", \"20\", \"21\", \"22\", \"23\", \"24\", \"25\", \"26\"], \"mode\": \"lines\", \"name\": \"balanced_accuracy_max\", \"stepped\": true, \"type\": \"scatter\", \"data\": [0.9904761904761905, 0.9944444444444445, 1.0, 1.0, 1.0, 1.0, 1.0, 1.0, 1.0, 1.0, 1.0, 1.0, 1.0, 1.0, 1.0, 1.0]}], \"norm_macro_recall\": [{\"categories\": [\"0\", \"2\", \"4\", \"6\", \"8\", \"10\", \"13\", \"15\", \"18\", \"20\", \"21\", \"22\", \"23\", \"24\", \"25\", \"26\"], \"mode\": \"markers\", \"name\": \"norm_macro_recall\", \"stepped\": false, \"type\": \"scatter\", \"data\": [0.9857142857142858, 0.9916666666666666, 1.0, 1.0, 1.0, 1.0, 0.9916666666666666, 0.9916666666666666, 0.9899999999999999, 1.0, 1.0, 1.0, 0.9899999999999999, 0.8937301587301585, 1.0, 1.0]}, {\"categories\": [\"0\", \"2\", \"4\", \"6\", \"8\", \"10\", \"13\", \"15\", \"18\", \"20\", \"21\", \"22\", \"23\", \"24\", \"25\", \"26\"], \"mode\": \"lines\", \"name\": \"norm_macro_recall_max\", \"stepped\": true, \"type\": \"scatter\", \"data\": [0.9857142857142858, 0.9916666666666666, 1.0, 1.0, 1.0, 1.0, 1.0, 1.0, 1.0, 1.0, 1.0, 1.0, 1.0, 1.0, 1.0, 1.0]}], \"recall_score_macro\": [{\"categories\": [\"0\", \"2\", \"4\", \"6\", \"8\", \"10\", \"13\", \"15\", \"18\", \"20\", \"21\", \"22\", \"23\", \"24\", \"25\", \"26\"], \"mode\": \"markers\", \"name\": \"recall_score_macro\", \"stepped\": false, \"type\": \"scatter\", \"data\": [0.9904761904761905, 0.9944444444444445, 1.0, 1.0, 1.0, 1.0, 0.9944444444444445, 0.9944444444444445, 0.9933333333333334, 1.0, 1.0, 1.0, 0.9933333333333334, 0.9291534391534391, 1.0, 1.0]}, {\"categories\": [\"0\", \"2\", \"4\", \"6\", \"8\", \"10\", \"13\", \"15\", \"18\", \"20\", \"21\", \"22\", \"23\", \"24\", \"25\", \"26\"], \"mode\": \"lines\", \"name\": \"recall_score_macro_max\", \"stepped\": true, \"type\": \"scatter\", \"data\": [0.9904761904761905, 0.9944444444444445, 1.0, 1.0, 1.0, 1.0, 1.0, 1.0, 1.0, 1.0, 1.0, 1.0, 1.0, 1.0, 1.0, 1.0]}], \"AUC_weighted\": [{\"categories\": [\"0\", \"2\", \"4\", \"6\", \"8\", \"10\", \"13\", \"15\", \"18\", \"20\", \"21\", \"22\", \"23\", \"24\", \"25\", \"26\"], \"mode\": \"markers\", \"name\": \"AUC_weighted\", \"stepped\": false, \"type\": \"scatter\", \"data\": [1.0, 1.0, 1.0, 1.0, 1.0, 1.0, 1.0, 1.0, 1.0, 1.0, 1.0, 1.0, 1.0, 0.9931039797561537, 1.0, 1.0]}, {\"categories\": [\"0\", \"2\", \"4\", \"6\", \"8\", \"10\", \"13\", \"15\", \"18\", \"20\", \"21\", \"22\", \"23\", \"24\", \"25\", \"26\"], \"mode\": \"lines\", \"name\": \"AUC_weighted_max\", \"stepped\": true, \"type\": \"scatter\", \"data\": [1.0, 1.0, 1.0, 1.0, 1.0, 1.0, 1.0, 1.0, 1.0, 1.0, 1.0, 1.0, 1.0, 1.0, 1.0, 1.0]}], \"average_precision_score_macro\": [{\"categories\": [\"0\", \"2\", \"4\", \"6\", \"8\", \"10\", \"13\", \"15\", \"18\", \"20\", \"21\", \"22\", \"23\", \"24\", \"25\", \"26\"], \"mode\": \"markers\", \"name\": \"average_precision_score_macro\", \"stepped\": false, \"type\": \"scatter\", \"data\": [1.0, 1.0, 1.0, 1.0, 1.0, 1.0, 1.0, 1.0, 1.0, 1.0, 1.0, 1.0, 1.0, 0.9858410340394468, 1.0, 1.0]}, {\"categories\": [\"0\", \"2\", \"4\", \"6\", \"8\", \"10\", \"13\", \"15\", \"18\", \"20\", \"21\", \"22\", \"23\", \"24\", \"25\", \"26\"], \"mode\": \"lines\", \"name\": \"average_precision_score_macro_max\", \"stepped\": true, \"type\": \"scatter\", \"data\": [1.0, 1.0, 1.0, 1.0, 1.0, 1.0, 1.0, 1.0, 1.0, 1.0, 1.0, 1.0, 1.0, 1.0, 1.0, 1.0]}], \"AUC_macro\": [{\"categories\": [\"0\", \"2\", \"4\", \"6\", \"8\", \"10\", \"13\", \"15\", \"18\", \"20\", \"21\", \"22\", \"23\", \"24\", \"25\", \"26\"], \"mode\": \"markers\", \"name\": \"AUC_macro\", \"stepped\": false, \"type\": \"scatter\", \"data\": [1.0, 1.0, 1.0, 1.0, 1.0, 1.0, 1.0, 1.0, 1.0, 1.0, 1.0, 1.0, 1.0, 0.9927489456330034, 1.0, 1.0]}, {\"categories\": [\"0\", \"2\", \"4\", \"6\", \"8\", \"10\", \"13\", \"15\", \"18\", \"20\", \"21\", \"22\", \"23\", \"24\", \"25\", \"26\"], \"mode\": \"lines\", \"name\": \"AUC_macro_max\", \"stepped\": true, \"type\": \"scatter\", \"data\": [1.0, 1.0, 1.0, 1.0, 1.0, 1.0, 1.0, 1.0, 1.0, 1.0, 1.0, 1.0, 1.0, 1.0, 1.0, 1.0]}], \"accuracy\": [{\"categories\": [\"0\", \"2\", \"4\", \"6\", \"8\", \"10\", \"13\", \"15\", \"18\", \"20\", \"21\", \"22\", \"23\", \"24\", \"25\", \"26\"], \"mode\": \"markers\", \"name\": \"accuracy\", \"stepped\": false, \"type\": \"scatter\", \"data\": [0.9933333333333334, 0.9933333333333334, 1.0, 1.0, 1.0, 1.0, 0.9933333333333334, 0.9933333333333334, 0.9933333333333334, 1.0, 1.0, 1.0, 0.9933333333333334, 0.9266666666666667, 1.0, 1.0]}, {\"categories\": [\"0\", \"2\", \"4\", \"6\", \"8\", \"10\", \"13\", \"15\", \"18\", \"20\", \"21\", \"22\", \"23\", \"24\", \"25\", \"26\"], \"mode\": \"lines\", \"name\": \"accuracy_max\", \"stepped\": true, \"type\": \"scatter\", \"data\": [0.9933333333333334, 0.9933333333333334, 1.0, 1.0, 1.0, 1.0, 1.0, 1.0, 1.0, 1.0, 1.0, 1.0, 1.0, 1.0, 1.0, 1.0]}], \"recall_score_micro\": [{\"categories\": [\"0\", \"2\", \"4\", \"6\", \"8\", \"10\", \"13\", \"15\", \"18\", \"20\", \"21\", \"22\", \"23\", \"24\", \"25\", \"26\"], \"mode\": \"markers\", \"name\": \"recall_score_micro\", \"stepped\": false, \"type\": \"scatter\", \"data\": [0.9933333333333334, 0.9933333333333334, 1.0, 1.0, 1.0, 1.0, 0.9933333333333334, 0.9933333333333334, 0.9933333333333334, 1.0, 1.0, 1.0, 0.9933333333333334, 0.9266666666666667, 1.0, 1.0]}, {\"categories\": [\"0\", \"2\", \"4\", \"6\", \"8\", \"10\", \"13\", \"15\", \"18\", \"20\", \"21\", \"22\", \"23\", \"24\", \"25\", \"26\"], \"mode\": \"lines\", \"name\": \"recall_score_micro_max\", \"stepped\": true, \"type\": \"scatter\", \"data\": [0.9933333333333334, 0.9933333333333334, 1.0, 1.0, 1.0, 1.0, 1.0, 1.0, 1.0, 1.0, 1.0, 1.0, 1.0, 1.0, 1.0, 1.0]}], \"precision_score_weighted\": [{\"categories\": [\"0\", \"2\", \"4\", \"6\", \"8\", \"10\", \"13\", \"15\", \"18\", \"20\", \"21\", \"22\", \"23\", \"24\", \"25\", \"26\"], \"mode\": \"markers\", \"name\": \"precision_score_weighted\", \"stepped\": false, \"type\": \"scatter\", \"data\": [0.9937777777777779, 0.994, 1.0, 1.0, 1.0, 1.0, 0.994, 0.994, 0.9939393939393939, 1.0, 1.0, 1.0, 0.9939393939393939, 0.9383504273504274, 1.0, 1.0]}, {\"categories\": [\"0\", \"2\", \"4\", \"6\", \"8\", \"10\", \"13\", \"15\", \"18\", \"20\", \"21\", \"22\", \"23\", \"24\", \"25\", \"26\"], \"mode\": \"lines\", \"name\": \"precision_score_weighted_max\", \"stepped\": true, \"type\": \"scatter\", \"data\": [0.9937777777777779, 0.994, 1.0, 1.0, 1.0, 1.0, 1.0, 1.0, 1.0, 1.0, 1.0, 1.0, 1.0, 1.0, 1.0, 1.0]}], \"f1_score_macro\": [{\"categories\": [\"0\", \"2\", \"4\", \"6\", \"8\", \"10\", \"13\", \"15\", \"18\", \"20\", \"21\", \"22\", \"23\", \"24\", \"25\", \"26\"], \"mode\": \"markers\", \"name\": \"f1_score_macro\", \"stepped\": false, \"type\": \"scatter\", \"data\": [0.9925729442970823, 0.9935926773455378, 1.0, 1.0, 1.0, 1.0, 0.9935926773455378, 0.9935926773455378, 0.9933166248955722, 1.0, 1.0, 1.0, 0.9933166248955722, 0.9246402422652255, 1.0, 1.0]}, {\"categories\": [\"0\", \"2\", \"4\", \"6\", \"8\", \"10\", \"13\", \"15\", \"18\", \"20\", \"21\", \"22\", \"23\", \"24\", \"25\", \"26\"], \"mode\": \"lines\", \"name\": \"f1_score_macro_max\", \"stepped\": true, \"type\": \"scatter\", \"data\": [0.9925729442970823, 0.9935926773455378, 1.0, 1.0, 1.0, 1.0, 1.0, 1.0, 1.0, 1.0, 1.0, 1.0, 1.0, 1.0, 1.0, 1.0]}], \"precision_score_macro\": [{\"categories\": [\"0\", \"2\", \"4\", \"6\", \"8\", \"10\", \"13\", \"15\", \"18\", \"20\", \"21\", \"22\", \"23\", \"24\", \"25\", \"26\"], \"mode\": \"markers\", \"name\": \"precision_score_macro\", \"stepped\": false, \"type\": \"scatter\", \"data\": [0.9955555555555555, 0.9933333333333334, 1.0, 1.0, 1.0, 1.0, 0.9933333333333334, 0.9933333333333334, 0.9939393939393939, 1.0, 1.0, 1.0, 0.9939393939393939, 0.9303337403337404, 1.0, 1.0]}, {\"categories\": [\"0\", \"2\", \"4\", \"6\", \"8\", \"10\", \"13\", \"15\", \"18\", \"20\", \"21\", \"22\", \"23\", \"24\", \"25\", \"26\"], \"mode\": \"lines\", \"name\": \"precision_score_macro_max\", \"stepped\": true, \"type\": \"scatter\", \"data\": [0.9955555555555555, 0.9955555555555555, 1.0, 1.0, 1.0, 1.0, 1.0, 1.0, 1.0, 1.0, 1.0, 1.0, 1.0, 1.0, 1.0, 1.0]}], \"average_precision_score_micro\": [{\"categories\": [\"0\", \"2\", \"4\", \"6\", \"8\", \"10\", \"13\", \"15\", \"18\", \"20\", \"21\", \"22\", \"23\", \"24\", \"25\", \"26\"], \"mode\": \"markers\", \"name\": \"average_precision_score_micro\", \"stepped\": false, \"type\": \"scatter\", \"data\": [0.9997849462365591, 0.9997849462365591, 1.0, 1.0, 1.0, 1.0, 0.9997849462365591, 0.9997849462365591, 0.9997849462365591, 1.0, 1.0, 1.0, 0.9997849462365591, 0.984289814911973, 1.0, 1.0]}, {\"categories\": [\"0\", \"2\", \"4\", \"6\", \"8\", \"10\", \"13\", \"15\", \"18\", \"20\", \"21\", \"22\", \"23\", \"24\", \"25\", \"26\"], \"mode\": \"lines\", \"name\": \"average_precision_score_micro_max\", \"stepped\": true, \"type\": \"scatter\", \"data\": [0.9997849462365591, 0.9997849462365591, 1.0, 1.0, 1.0, 1.0, 1.0, 1.0, 1.0, 1.0, 1.0, 1.0, 1.0, 1.0, 1.0, 1.0]}], \"precision_score_micro\": [{\"categories\": [\"0\", \"2\", \"4\", \"6\", \"8\", \"10\", \"13\", \"15\", \"18\", \"20\", \"21\", \"22\", \"23\", \"24\", \"25\", \"26\"], \"mode\": \"markers\", \"name\": \"precision_score_micro\", \"stepped\": false, \"type\": \"scatter\", \"data\": [0.9933333333333334, 0.9933333333333334, 1.0, 1.0, 1.0, 1.0, 0.9933333333333334, 0.9933333333333334, 0.9933333333333334, 1.0, 1.0, 1.0, 0.9933333333333334, 0.9266666666666667, 1.0, 1.0]}, {\"categories\": [\"0\", \"2\", \"4\", \"6\", \"8\", \"10\", \"13\", \"15\", \"18\", \"20\", \"21\", \"22\", \"23\", \"24\", \"25\", \"26\"], \"mode\": \"lines\", \"name\": \"precision_score_micro_max\", \"stepped\": true, \"type\": \"scatter\", \"data\": [0.9933333333333334, 0.9933333333333334, 1.0, 1.0, 1.0, 1.0, 1.0, 1.0, 1.0, 1.0, 1.0, 1.0, 1.0, 1.0, 1.0, 1.0]}], \"f1_score_micro\": [{\"categories\": [\"0\", \"2\", \"4\", \"6\", \"8\", \"10\", \"13\", \"15\", \"18\", \"20\", \"21\", \"22\", \"23\", \"24\", \"25\", \"26\"], \"mode\": \"markers\", \"name\": \"f1_score_micro\", \"stepped\": false, \"type\": \"scatter\", \"data\": [0.9933333333333334, 0.9933333333333334, 1.0, 1.0, 1.0, 1.0, 0.9933333333333334, 0.9933333333333334, 0.9933333333333334, 1.0, 1.0, 1.0, 0.9933333333333334, 0.9266666666666667, 1.0, 1.0]}, {\"categories\": [\"0\", \"2\", \"4\", \"6\", \"8\", \"10\", \"13\", \"15\", \"18\", \"20\", \"21\", \"22\", \"23\", \"24\", \"25\", \"26\"], \"mode\": \"lines\", \"name\": \"f1_score_micro_max\", \"stepped\": true, \"type\": \"scatter\", \"data\": [0.9933333333333334, 0.9933333333333334, 1.0, 1.0, 1.0, 1.0, 1.0, 1.0, 1.0, 1.0, 1.0, 1.0, 1.0, 1.0, 1.0, 1.0]}], \"weighted_accuracy\": [{\"categories\": [\"0\", \"2\", \"4\", \"6\", \"8\", \"10\", \"13\", \"15\", \"18\", \"20\", \"21\", \"22\", \"23\", \"24\", \"25\", \"26\"], \"mode\": \"markers\", \"name\": \"weighted_accuracy\", \"stepped\": false, \"type\": \"scatter\", \"data\": [0.9957055214723927, 0.9921568627450981, 1.0, 1.0, 1.0, 1.0, 0.9921568627450981, 0.9921568627450981, 0.9933333333333334, 1.0, 1.0, 1.0, 0.9933333333333334, 0.9236660836082, 1.0, 1.0]}, {\"categories\": [\"0\", \"2\", \"4\", \"6\", \"8\", \"10\", \"13\", \"15\", \"18\", \"20\", \"21\", \"22\", \"23\", \"24\", \"25\", \"26\"], \"mode\": \"lines\", \"name\": \"weighted_accuracy_max\", \"stepped\": true, \"type\": \"scatter\", \"data\": [0.9957055214723927, 0.9957055214723927, 1.0, 1.0, 1.0, 1.0, 1.0, 1.0, 1.0, 1.0, 1.0, 1.0, 1.0, 1.0, 1.0, 1.0]}], \"matthews_correlation\": [{\"categories\": [\"0\", \"2\", \"4\", \"6\", \"8\", \"10\", \"13\", \"15\", \"18\", \"20\", \"21\", \"22\", \"23\", \"24\", \"25\", \"26\"], \"mode\": \"markers\", \"name\": \"matthews_correlation\", \"stepped\": false, \"type\": \"scatter\", \"data\": [0.9897716071956127, 0.9902695276680291, 1.0, 1.0, 1.0, 1.0, 0.9902695276680291, 0.9902695276680291, 0.9903174605388407, 1.0, 1.0, 1.0, 0.9903174605388407, 0.8943802822724433, 1.0, 1.0]}, {\"categories\": [\"0\", \"2\", \"4\", \"6\", \"8\", \"10\", \"13\", \"15\", \"18\", \"20\", \"21\", \"22\", \"23\", \"24\", \"25\", \"26\"], \"mode\": \"lines\", \"name\": \"matthews_correlation_max\", \"stepped\": true, \"type\": \"scatter\", \"data\": [0.9897716071956127, 0.9902695276680291, 1.0, 1.0, 1.0, 1.0, 1.0, 1.0, 1.0, 1.0, 1.0, 1.0, 1.0, 1.0, 1.0, 1.0]}]}, \"metricName\": null, \"primaryMetricName\": \"accuracy\", \"showLegend\": false}, \"run_metrics\": [{\"name\": \"experiment_status\", \"run_id\": \"AutoML_bbf31a09-9397-4435-ab0e-38e924b59cde\", \"categories\": [0, 1, 2, 3, 4, 5, 6, 7, 8, 9, 10, 11, 12, 13], \"series\": [{\"data\": [\"DatasetEvaluation\", \"FeaturesGeneration\", \"DatasetFeaturization\", \"DatasetFeaturizationCompleted\", \"DatasetCrossValidationSplit\", \"ModelSelection\", \"BestRunExplainModel\", \"ModelExplanationDataSetSetup\", \"PickSurrogateModel\", \"EngineeredFeatureExplanations\", \"EngineeredFeatureExplanations\", \"RawFeaturesExplanations\", \"RawFeaturesExplanations\", \"BestRunExplainModel\"]}]}, {\"name\": \"experiment_status_description\", \"run_id\": \"AutoML_bbf31a09-9397-4435-ab0e-38e924b59cde\", \"categories\": [0, 1, 2, 3, 4, 5, 6, 7, 8, 9, 10, 11, 12, 13], \"series\": [{\"data\": [\"Gathering dataset statistics.\", \"Generating features for the dataset.\", \"Beginning to fit featurizers and featurize the dataset.\", \"Completed fit featurizers and featurizing the dataset.\", \"Generating individually featurized CV splits.\", \"Beginning model selection.\", \"Best run model explanations started\", \"Model explanations data setup completed\", \"Choosing LightGBM as the surrogate model for explanations\", \"Computation of engineered features started\", \"Computation of engineered features completed\", \"Computation of raw features started\", \"Computation of raw features completed\", \"Best run model explanations completed\"]}]}, {\"name\": \"recall_score_weighted\", \"run_id\": \"AutoML_bbf31a09-9397-4435-ab0e-38e924b59cde\", \"categories\": [0], \"series\": [{\"data\": [1.0]}]}, {\"name\": \"f1_score_micro\", \"run_id\": \"AutoML_bbf31a09-9397-4435-ab0e-38e924b59cde\", \"categories\": [0], \"series\": [{\"data\": [1.0]}]}, {\"name\": \"weighted_accuracy\", \"run_id\": \"AutoML_bbf31a09-9397-4435-ab0e-38e924b59cde\", \"categories\": [0], \"series\": [{\"data\": [1.0]}]}, {\"name\": \"precision_score_micro\", \"run_id\": \"AutoML_bbf31a09-9397-4435-ab0e-38e924b59cde\", \"categories\": [0], \"series\": [{\"data\": [1.0]}]}, {\"name\": \"average_precision_score_macro\", \"run_id\": \"AutoML_bbf31a09-9397-4435-ab0e-38e924b59cde\", \"categories\": [0], \"series\": [{\"data\": [1.0]}]}, {\"name\": \"recall_score_macro\", \"run_id\": \"AutoML_bbf31a09-9397-4435-ab0e-38e924b59cde\", \"categories\": [0], \"series\": [{\"data\": [1.0]}]}, {\"name\": \"average_precision_score_micro\", \"run_id\": \"AutoML_bbf31a09-9397-4435-ab0e-38e924b59cde\", \"categories\": [0], \"series\": [{\"data\": [1.0]}]}, {\"name\": \"AUC_weighted\", \"run_id\": \"AutoML_bbf31a09-9397-4435-ab0e-38e924b59cde\", \"categories\": [0], \"series\": [{\"data\": [1.0]}]}, {\"name\": \"precision_score_macro\", \"run_id\": \"AutoML_bbf31a09-9397-4435-ab0e-38e924b59cde\", \"categories\": [0], \"series\": [{\"data\": [1.0]}]}, {\"name\": \"accuracy\", \"run_id\": \"AutoML_bbf31a09-9397-4435-ab0e-38e924b59cde\", \"categories\": [0], \"series\": [{\"data\": [1.0]}]}, {\"name\": \"norm_macro_recall\", \"run_id\": \"AutoML_bbf31a09-9397-4435-ab0e-38e924b59cde\", \"categories\": [0], \"series\": [{\"data\": [1.0]}]}, {\"name\": \"balanced_accuracy\", \"run_id\": \"AutoML_bbf31a09-9397-4435-ab0e-38e924b59cde\", \"categories\": [0], \"series\": [{\"data\": [1.0]}]}, {\"name\": \"precision_score_weighted\", \"run_id\": \"AutoML_bbf31a09-9397-4435-ab0e-38e924b59cde\", \"categories\": [0], \"series\": [{\"data\": [1.0]}]}, {\"name\": \"recall_score_micro\", \"run_id\": \"AutoML_bbf31a09-9397-4435-ab0e-38e924b59cde\", \"categories\": [0], \"series\": [{\"data\": [1.0]}]}, {\"name\": \"average_precision_score_weighted\", \"run_id\": \"AutoML_bbf31a09-9397-4435-ab0e-38e924b59cde\", \"categories\": [0], \"series\": [{\"data\": [1.0]}]}, {\"name\": \"f1_score_weighted\", \"run_id\": \"AutoML_bbf31a09-9397-4435-ab0e-38e924b59cde\", \"categories\": [0], \"series\": [{\"data\": [1.0]}]}, {\"name\": \"f1_score_macro\", \"run_id\": \"AutoML_bbf31a09-9397-4435-ab0e-38e924b59cde\", \"categories\": [0], \"series\": [{\"data\": [1.0]}]}, {\"name\": \"matthews_correlation\", \"run_id\": \"AutoML_bbf31a09-9397-4435-ab0e-38e924b59cde\", \"categories\": [0], \"series\": [{\"data\": [1.0]}]}, {\"name\": \"AUC_macro\", \"run_id\": \"AutoML_bbf31a09-9397-4435-ab0e-38e924b59cde\", \"categories\": [0], \"series\": [{\"data\": [1.0]}]}, {\"name\": \"AUC_micro\", \"run_id\": \"AutoML_bbf31a09-9397-4435-ab0e-38e924b59cde\", \"categories\": [0], \"series\": [{\"data\": [1.0]}]}, {\"name\": \"log_loss\", \"run_id\": \"AutoML_bbf31a09-9397-4435-ab0e-38e924b59cde\", \"categories\": [0], \"series\": [{\"data\": [0.008783999876262119]}]}], \"run_logs\": \"\\nRun is completed.\", \"graph\": {}, \"widget_settings\": {\"childWidgetDisplay\": \"popup\", \"send_telemetry\": false, \"log_level\": \"INFO\", \"sdk_version\": \"1.37.0\"}, \"loading\": false}"
          },
          "metadata": {},
          "output_type": "display_data"
        }
      ],
      "source": [
        "# Entrene su modelo de clasificación AutoML Titanic\n",
        "AutoML_run = exp.submit(config, show_output = True)\n",
        "RunDetails(AutoML_run).show()"
      ]
    },
    {
      "cell_type": "code",
      "execution_count": null,
      "id": "5b5608e3",
      "metadata": {
        "id": "5b5608e3",
        "outputId": "9d1f34eb-48fb-48f3-8d16-b9e55374a8c3"
      },
      "outputs": [
        {
          "data": {
            "text/plain": [
              "Model(workspace=Workspace.create(name='automl-example-workspace', subscription_id='0aad4149-65b5-42c8-9b25-ce17f2fed264', resource_group='auto-ml-example-resource-group'), name=Iris-Classification-AutoML, id=Iris-Classification-AutoML:1, version=1, tags={'project': 'Iris', 'creator': 'your name'}, properties={})"
            ]
          },
          "execution_count": 16,
          "metadata": {},
          "output_type": "execute_result"
        }
      ],
      "source": [
        "# Registre su modelo AutoML entrenado en su espacio de trabajo AMLS\n",
        "description = 'AutoML Classification Run using Iris Data.' \n",
        "tags = {'project' : \"Iris\", \"creator\" : \"your name\"} \n",
        "model_name = 'Iris-Classification-AutoML' \n",
        "\n",
        "AutoML_run.register_model(model_name=model_name,description=description,tags=tags)"
      ]
    }
  ],
  "metadata": {
    "kernelspec": {
      "display_name": "Python 3.8 - AzureML",
      "language": "python",
      "name": "python38-azureml"
    },
    "language_info": {
      "codemirror_mode": {
        "name": "ipython",
        "version": 3
      },
      "file_extension": ".py",
      "mimetype": "text/x-python",
      "name": "python",
      "nbconvert_exporter": "python",
      "pygments_lexer": "ipython3",
      "version": "3.8.1"
    },
    "colab": {
      "name": "Iris AutoML.ipynb",
      "provenance": [],
      "include_colab_link": true
    }
  },
  "nbformat": 4,
  "nbformat_minor": 5
}