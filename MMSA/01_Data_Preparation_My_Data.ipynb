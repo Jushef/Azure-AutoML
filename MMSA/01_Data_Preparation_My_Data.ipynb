{
  "cells": [
    {
      "cell_type": "markdown",
      "metadata": {
        "id": "view-in-github",
        "colab_type": "text"
      },
      "source": [
        "<a href=\"https://colab.research.google.com/github/Jushef/Azure-AutoML/blob/main/MMSA/01_Data_Preparation_My_Data.ipynb\" target=\"_parent\"><img src=\"https://colab.research.google.com/assets/colab-badge.svg\" alt=\"Open In Colab\"/></a>"
      ]
    },
    {
      "cell_type": "code",
      "execution_count": null,
      "metadata": {
        "id": "wW5didXDo8kw"
      },
      "outputs": [],
      "source": [
        "import pandas as pd\n",
        "import numpy as np\n",
        "import datetime as dt\n",
        "from azureml.core import Workspace\n",
        "from scripts.helper import split_data"
      ]
    },
    {
      "cell_type": "code",
      "execution_count": null,
      "metadata": {
        "id": "q0RR5z0Bo8k4"
      },
      "outputs": [],
      "source": [
        "ManyModelsSample = pd.read_csv('ManyModelsSampleData.csv', header = 0) "
      ]
    },
    {
      "cell_type": "code",
      "execution_count": null,
      "metadata": {
        "id": "5Ma5_ZFVo8k6"
      },
      "outputs": [],
      "source": [
        "target_path = 'MMSA_Sample_Folder' \n",
        "os.makedirs(target_path, exist_ok=True)"
      ]
    },
    {
      "cell_type": "code",
      "execution_count": null,
      "metadata": {
        "id": "Er3oUIYLo8k8"
      },
      "outputs": [],
      "source": [
        "ManyModelsSample"
      ]
    },
    {
      "cell_type": "code",
      "execution_count": null,
      "metadata": {
        "id": "NGSRMbOxo8k9"
      },
      "outputs": [],
      "source": [
        "ManyModelsSample['Date'] = ManyModelsSample['Date'].apply(lambda x: dt.datetime.strptime(x, '%m/%d/%Y'))"
      ]
    },
    {
      "cell_type": "code",
      "execution_count": null,
      "metadata": {
        "id": "edFx58TIo8k_"
      },
      "outputs": [],
      "source": [
        "for x, y in ManyModelsSample.groupby('Store'):\n",
        "    y.to_csv('MMSA_Sample_Folder/{}.csv'.format(x), header=True, index_label=False)"
      ]
    },
    {
      "cell_type": "markdown",
      "metadata": {
        "id": "933aOjPdo8lA"
      },
      "source": [
        "## 2.0 Split data in two sets\n",
        "\n",
        "Ahora dividiremos cada conjunto de datos en dos partes: una se utilizará para la formación y la otra para la simulación de la previsión por lotes. Los archivos de formación contendrán los registros de datos anteriores a \"1992-5-28\" y la última parte de cada serie se almacenará en los archivos de inferencia.\n"
      ]
    },
    {
      "cell_type": "code",
      "execution_count": null,
      "metadata": {
        "id": "H_zZfcNso8lH"
      },
      "outputs": [],
      "source": [
        "# Proporcione el nombre de la columna de la marca de tiempo en los datos y la fecha a partir de la cual se va a dividir en el conjunto de datos de inferencia\n",
        "timestamp_column = 'Date'\n",
        "split_date = '2021-03-01'\n",
        "\n",
        "# Dividir cada archivo y almacenarlo en el directorio correspondiente\n",
        "train_path, inference_path = split_data(target_path, timestamp_column, split_date)"
      ]
    },
    {
      "cell_type": "markdown",
      "metadata": {
        "id": "4ev4vOf-o8lJ"
      },
      "source": [
        "## 3.0 Upload data to Datastore in AML Workspace\n"
      ]
    },
    {
      "cell_type": "code",
      "execution_count": null,
      "metadata": {
        "id": "PRRXozHmo8lM"
      },
      "outputs": [],
      "source": [
        "ws = Workspace.from_config()"
      ]
    },
    {
      "cell_type": "code",
      "execution_count": null,
      "metadata": {
        "id": "Q22uwSXeo8lP"
      },
      "outputs": [],
      "source": [
        "#  Conectar con el almacén de datos por defecto\n",
        "datastore = ws.get_default_datastore()\n",
        "\n",
        "# Cargar los datos del entrenamiento\n",
        "ds_train_path = target_path + '_train'\n",
        "datastore.upload(src_dir=train_path, target_path=ds_train_path, overwrite=True)\n",
        "\n",
        "# Cargar datos de inferencia\n",
        "ds_inference_path = target_path + '_inference'\n",
        "datastore.upload(src_dir=inference_path, target_path=ds_inference_path, overwrite=True)"
      ]
    },
    {
      "cell_type": "code",
      "execution_count": null,
      "metadata": {
        "id": "7LBdGD9Io8lR"
      },
      "outputs": [],
      "source": [
        "from azureml.core.dataset import Dataset\n",
        "\n",
        "# Crear conjuntos de datos de archivos\n",
        "ds_train = Dataset.File.from_files(path=datastore.path(ds_train_path), validate=False)\n",
        "ds_inference = Dataset.File.from_files(path=datastore.path(ds_inference_path), validate=False)\n",
        "\n",
        "# Registrar los conjuntos de datos de los archivos\n",
        "dataset_name = 'MMSA_Sample'\n",
        "train_dataset_name = dataset_name + '_train'\n",
        "inference_dataset_name = dataset_name + '_inference'\n",
        "ds_train.register(ws, train_dataset_name, create_new_version=True)\n",
        "ds_inference.register(ws, inference_dataset_name, create_new_version=True)"
      ]
    }
  ],
  "metadata": {
    "authors": [
      {
        "name": "roastala"
      }
    ],
    "kernelspec": {
      "display_name": "Python 3",
      "language": "python",
      "name": "python3"
    },
    "language_info": {
      "codemirror_mode": {
        "name": "ipython",
        "version": 3
      },
      "file_extension": ".py",
      "mimetype": "text/x-python",
      "name": "python",
      "nbconvert_exporter": "python",
      "pygments_lexer": "ipython3",
      "version": "3.6.9"
    },
    "colab": {
      "name": "01_Data_Preparation-My-Data.ipynb",
      "provenance": [],
      "include_colab_link": true
    }
  },
  "nbformat": 4,
  "nbformat_minor": 0
}