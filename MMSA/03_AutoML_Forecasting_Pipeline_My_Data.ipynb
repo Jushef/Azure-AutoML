{
  "cells": [
    {
      "cell_type": "markdown",
      "metadata": {
        "id": "view-in-github",
        "colab_type": "text"
      },
      "source": [
        "<a href=\"https://colab.research.google.com/github/Jushef/Azure-AutoML/blob/main/MMSA/03_AutoML_Forecasting_Pipeline_My_Data.ipynb\" target=\"_parent\"><img src=\"https://colab.research.google.com/assets/colab-badge.svg\" alt=\"Open In Colab\"/></a>"
      ]
    },
    {
      "cell_type": "code",
      "execution_count": null,
      "metadata": {
        "id": "KvvysqxwqyGh"
      },
      "outputs": [],
      "source": [
        "from azureml.core import Workspace, Datastore, Dataset\n",
        "from azureml.core import Experiment\n",
        "import pandas as pd\n",
        "import os\n",
        "from azureml.core.compute import ComputeTarget\n",
        "from azureml.contrib.automl.pipeline.steps import AutoMLPipelineBuilder\n",
        "from azureml.pipeline.core import Pipeline"
      ]
    },
    {
      "cell_type": "code",
      "execution_count": null,
      "metadata": {
        "id": "ihXJB7pyqyGt"
      },
      "outputs": [],
      "source": [
        "import shutil\n",
        "import sys \n",
        "from scripts.helper import get_forecasting_output"
      ]
    },
    {
      "cell_type": "code",
      "execution_count": null,
      "metadata": {
        "id": "Az-fQCZ4qyGv"
      },
      "outputs": [],
      "source": [
        "ws= Workspace.from_config()"
      ]
    },
    {
      "cell_type": "code",
      "execution_count": null,
      "metadata": {
        "id": "LtHm5t5GqyGw"
      },
      "outputs": [],
      "source": [
        "dstore = ws.get_default_datastore()"
      ]
    },
    {
      "cell_type": "code",
      "execution_count": null,
      "metadata": {
        "id": "Id6WeYO4qyGy"
      },
      "outputs": [],
      "source": [
        "experiment = Experiment(ws, 'manymodels-forecasting-pipeline-pandas-data')"
      ]
    },
    {
      "cell_type": "code",
      "execution_count": null,
      "metadata": {
        "id": "2Lw8n-yUqyGz"
      },
      "outputs": [],
      "source": [
        "filedst_10_models = Dataset.get_by_name(ws, name='MMSA_Sample_inference')\n",
        "filedst_10_models_input = filedst_10_models.as_named_input('MMSA_Sample_inference')"
      ]
    },
    {
      "cell_type": "code",
      "execution_count": null,
      "metadata": {
        "id": "SnHUs7RnqyG1"
      },
      "outputs": [],
      "source": [
        "compute = ComputeTarget(ws, 'compute-cluster')"
      ]
    },
    {
      "cell_type": "code",
      "execution_count": null,
      "metadata": {
        "id": "VMvSG0OIqyG3"
      },
      "outputs": [],
      "source": [
        "training_experiment_name = \"manymodels-training-pipeline-pandas-data\"\n",
        "training_pipeline_run_id = \"your-run-id\""
      ]
    },
    {
      "cell_type": "code",
      "execution_count": null,
      "metadata": {
        "id": "JB6CocXrqyG4"
      },
      "outputs": [],
      "source": [
        "partition_column_names = ['Store']"
      ]
    },
    {
      "cell_type": "code",
      "execution_count": null,
      "metadata": {
        "id": "R113r6vdqyG6"
      },
      "outputs": [],
      "source": [
        "inference_steps = AutoMLPipelineBuilder.get_many_models_batch_inference_steps(experiment=experiment,\n",
        "                                                                              inference_data=filedst_10_models_input,\n",
        "                                                                              compute_target=compute,\n",
        "                                                                              node_count=4,\n",
        "                                                                              process_count_per_node=4,\n",
        "                                                                              run_invocation_timeout=300,\n",
        "                                                                              output_datastore=dstore,\n",
        "                                                                              train_experiment_name=training_experiment_name,\n",
        "                                                                              train_run_id=training_pipeline_run_id,\n",
        "                                                                              partition_column_names=partition_column_names,\n",
        "                                                                              time_column_name=\"Date\",\n",
        "                                                                              target_column_name=\"Sales\")"
      ]
    },
    {
      "cell_type": "code",
      "execution_count": null,
      "metadata": {
        "id": "Mp25HW-SqyG9"
      },
      "outputs": [],
      "source": [
        "pipeline = Pipeline(workspace = ws, steps=inference_steps)\n",
        "run = experiment.submit(pipeline)"
      ]
    },
    {
      "cell_type": "code",
      "execution_count": null,
      "metadata": {
        "id": "nXLxjJ2xqyG-"
      },
      "outputs": [],
      "source": [
        "run.wait_for_completion(show_output=True)"
      ]
    },
    {
      "cell_type": "code",
      "execution_count": null,
      "metadata": {
        "id": "ypGP51eyqyG_"
      },
      "outputs": [],
      "source": [
        "published_pipeline = pipeline.publish(name = 'automl_score_many_models_pandas',\n",
        "                                      description = 'MMSA Solution using x data',\n",
        "                                      version = '1',\n",
        "                                      continue_on_step_failure = False)"
      ]
    },
    {
      "cell_type": "code",
      "execution_count": null,
      "metadata": {
        "id": "Y7fewMFpqyHA"
      },
      "outputs": [],
      "source": [
        "forecasting_results_name = \"forecasting_results\"\n",
        "forecasting_output_name = \"many_models_inference_output\"\n",
        "\n",
        "forecast_file = get_forecasting_output(run, forecasting_results_name, forecasting_output_name)\n",
        "df = pd.read_csv(forecast_file, delimiter=\" \", header=None)\n",
        "df.columns = [\"Date\", \"Store\", \"Sales\", \"Predicted\" ]\n",
        "print(\"Prediction has \", df.shape[0], \" rows. Here the first 10.\")\n",
        "df.head(10)"
      ]
    },
    {
      "cell_type": "code",
      "execution_count": null,
      "metadata": {
        "id": "hRTJAqM8qyHC"
      },
      "outputs": [],
      "source": [
        "# from azureml.pipeline.core import Schedule, ScheduleRecurrence\n",
        "    \n",
        "# forecasting_pipeline_id = published_pipeline.id\n",
        "\n",
        "# recurrence = ScheduleRecurrence(frequency=\"Month\", interval=1, start_time=\"2020-01-01T09:00:00\")\n",
        "# recurring_schedule = Schedule.create(ws, name=\"automl_forecasting_recurring_schedule\", \n",
        "#                             description=\"Schedule Forecasting Pipeline to run on the first day of every week\",\n",
        "#                             pipeline_id=forecasting_pipeline_id, \n",
        "#                             experiment_name=experiment.name, \n",
        "#                             recurrence=recurrence)"
      ]
    }
  ],
  "metadata": {
    "kernelspec": {
      "display_name": "Python 3.6 - AzureML",
      "language": "python",
      "name": "python3-azureml"
    },
    "language_info": {
      "codemirror_mode": {
        "name": "ipython",
        "version": 3
      },
      "file_extension": ".py",
      "mimetype": "text/x-python",
      "name": "python",
      "nbconvert_exporter": "python",
      "pygments_lexer": "ipython3",
      "version": "3.6.9"
    },
    "colab": {
      "name": "03_AutoML_Forecasting_Pipeline-My-Data.ipynb",
      "provenance": [],
      "include_colab_link": true
    }
  },
  "nbformat": 4,
  "nbformat_minor": 0
}