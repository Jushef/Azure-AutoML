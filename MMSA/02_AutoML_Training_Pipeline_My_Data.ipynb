{
  "cells": [
    {
      "cell_type": "markdown",
      "metadata": {
        "id": "view-in-github",
        "colab_type": "text"
      },
      "source": [
        "<a href=\"https://colab.research.google.com/github/Jushef/Azure-AutoML/blob/main/MMSA/02_AutoML_Training_Pipeline_My_Data.ipynb\" target=\"_parent\"><img src=\"https://colab.research.google.com/assets/colab-badge.svg\" alt=\"Open In Colab\"/></a>"
      ]
    },
    {
      "cell_type": "code",
      "execution_count": null,
      "metadata": {
        "id": "LgMjqLD4qAtm"
      },
      "outputs": [],
      "source": [
        "from azureml.core import Workspace, Datastore, Dataset\n",
        "from azureml.core import Experiment\n",
        "from azureml.core.compute import ComputeTarget\n",
        "import pandas as pd\n",
        "import os\n",
        "\n",
        "from azureml.contrib.automl.pipeline.steps import AutoMLPipelineBuilder\n",
        "from azureml.pipeline.core import Pipeline\n",
        "from scripts.helper import get_training_output\n",
        "import logging\n"
      ]
    },
    {
      "cell_type": "code",
      "execution_count": null,
      "metadata": {
        "id": "xlu96sHLqAtw"
      },
      "outputs": [],
      "source": [
        "#!pip install azureml.contrib.automl.pipeline.steps"
      ]
    },
    {
      "cell_type": "code",
      "execution_count": null,
      "metadata": {
        "id": "2rQLYcLAqAtz"
      },
      "outputs": [],
      "source": [
        "ws= Workspace.from_config()"
      ]
    },
    {
      "cell_type": "code",
      "execution_count": null,
      "metadata": {
        "id": "sxXZU0P_qAt0"
      },
      "outputs": [],
      "source": [
        "dstore = ws.get_default_datastore()"
      ]
    },
    {
      "cell_type": "code",
      "execution_count": null,
      "metadata": {
        "id": "eZS31NBQqAt2"
      },
      "outputs": [],
      "source": [
        "experiment = Experiment(ws, 'manymodels-training-pipeline-pandas-data')"
      ]
    },
    {
      "cell_type": "code",
      "execution_count": null,
      "metadata": {
        "id": "T88v8-z0qAt5"
      },
      "outputs": [],
      "source": [
        "filedst_10_models = Dataset.get_by_name(ws, name='MMSA_Sample_train')\n",
        "filedst_10_models_input = filedst_10_models.as_named_input('MMSA_Sample_train')"
      ]
    },
    {
      "cell_type": "code",
      "execution_count": null,
      "metadata": {
        "id": "fwBDTa-RqAt7"
      },
      "outputs": [],
      "source": [
        "compute = ComputeTarget(ws, 'compute-cluster')"
      ]
    },
    {
      "cell_type": "code",
      "execution_count": null,
      "metadata": {
        "id": "mH5Ud37JqAt-"
      },
      "outputs": [],
      "source": [
        "partition_column_names = ['Store']"
      ]
    },
    {
      "cell_type": "code",
      "execution_count": null,
      "metadata": {
        "id": "9yS2aMI-qAuB"
      },
      "outputs": [],
      "source": [
        "automl_settings = {\n",
        "    \"task\" : 'forecasting',\n",
        "    \"primary_metric\" : 'normalized_root_mean_squared_error',\n",
        "    \"iteration_timeout_minutes\" : 10, \n",
        "    \"iterations\" : 15,\n",
        "    \"experiment_timeout_hours\" : 1,\n",
        "    \"label_column_name\" : 'Sales',\n",
        "    \"n_cross_validations\" : 3,\n",
        "    \"verbosity\" : logging.INFO, \n",
        "    \"debug_log\": 'automl_pandas_debug.txt',\n",
        "    \"time_column_name\": 'Date',\n",
        "    \"max_horizon\" : 31,\n",
        "    \"track_child_runs\": False,\n",
        "    \"partition_column_names\": partition_column_names,\n",
        "    \"grain_column_names\": ['Store'],\n",
        "    \"pipeline_fetch_max_batch_size\": 15\n",
        "}"
      ]
    },
    {
      "cell_type": "code",
      "execution_count": null,
      "metadata": {
        "id": "A8x4KJIEqAuD"
      },
      "outputs": [],
      "source": [
        "train_steps = AutoMLPipelineBuilder.get_many_models_train_steps(experiment=experiment,\n",
        "                                                                automl_settings=automl_settings,\n",
        "                                                                train_data=filedst_10_models_input,\n",
        "                                                                compute_target=compute,\n",
        "                                                                partition_column_names=partition_column_names,\n",
        "                                                                node_count=4,\n",
        "                                                                process_count_per_node=4,\n",
        "                                                                run_invocation_timeout=3700,\n",
        "                                                                output_datastore=dstore)"
      ]
    },
    {
      "cell_type": "code",
      "execution_count": null,
      "metadata": {
        "id": "NCNg1k8PqAuF"
      },
      "outputs": [],
      "source": [
        "pipeline = Pipeline(workspace=ws, steps=train_steps)\n",
        "run = experiment.submit(pipeline)"
      ]
    },
    {
      "cell_type": "code",
      "execution_count": null,
      "metadata": {
        "id": "Vp6fidBcqAuG"
      },
      "outputs": [],
      "source": [
        "run.wait_for_completion(show_output=True)"
      ]
    },
    {
      "cell_type": "code",
      "execution_count": null,
      "metadata": {
        "id": "qJlQWfabqAuH"
      },
      "outputs": [],
      "source": [
        "published_pipeline = pipeline.publish(name = 'automl_train_many_models_pandas',\n",
        "                                      description = 'MMSA Solution using x data',\n",
        "                                      version = '1',\n",
        "                                      continue_on_step_failure = False)"
      ]
    },
    {
      "cell_type": "code",
      "execution_count": null,
      "metadata": {
        "id": "Wx_rHJZRqAuJ"
      },
      "outputs": [],
      "source": [
        "training_results_name = \"training_results\"\n",
        "training_output_name = \"many_models_training_output\"\n",
        "\n",
        "training_file = get_training_output(run, training_results_name, training_output_name)\n",
        "all_columns = [\"Framework\", \"Dataset\", \"Run\", \"Status\", \"Model\", \"Tags\", \"StartTime\", \"EndTime\" , \"ErrorType\", \"ErrorCode\", \"ErrorMessage\" ]\n",
        "df = pd.read_csv(training_file, delimiter=\" \", header=None, names=all_columns)\n",
        "training_csv_file = \"training.csv\"\n",
        "df.to_csv(training_csv_file)\n",
        "print(\"Training output has\", df.shape[0], \"rows. Please open\", os.path.abspath(training_csv_file), \"to browse through all the output.\")"
      ]
    },
    {
      "cell_type": "code",
      "execution_count": null,
      "metadata": {
        "id": "_YfDL4y7qAuK"
      },
      "outputs": [],
      "source": [
        "# from azureml.pipeline.core import Schedule, ScheduleRecurrence\n",
        "    \n",
        "# training_pipeline_id = published_pipeline.id\n",
        "\n",
        "# recurrence = ScheduleRecurrence(frequency=\"Month\", interval=1, start_time=\"2020-01-01T09:00:00\")\n",
        "# recurring_schedule = Schedule.create(ws, name=\"automl_training_recurring_schedule\", \n",
        "#                             description=\"Schedule Training Pipeline to run on the first day of every month\",\n",
        "#                             pipeline_id=training_pipeline_id, \n",
        "#                             experiment_name=experiment.name, \n",
        "#                             recurrence=recurrence)"
      ]
    }
  ],
  "metadata": {
    "authors": [
      {
        "name": "deeptim"
      }
    ],
    "kernelspec": {
      "display_name": "Python 3.6 - AzureML",
      "language": "python",
      "name": "python3-azureml"
    },
    "language_info": {
      "codemirror_mode": {
        "name": "ipython",
        "version": 3
      },
      "file_extension": ".py",
      "mimetype": "text/x-python",
      "name": "python",
      "nbconvert_exporter": "python",
      "pygments_lexer": "ipython3",
      "version": "3.6.9"
    },
    "nteract": {
      "version": "nteract-front-end@1.0.0"
    },
    "colab": {
      "name": "02_AutoML_Training_Pipeline-My-Data.ipynb",
      "provenance": [],
      "include_colab_link": true
    }
  },
  "nbformat": 4,
  "nbformat_minor": 0
}